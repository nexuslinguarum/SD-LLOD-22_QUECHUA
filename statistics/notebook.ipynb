{
 "cells": [
  {
   "cell_type": "code",
   "execution_count": 3,
   "metadata": {},
   "outputs": [],
   "source": [
    "import pandas as pd"
   ]
  },
  {
   "cell_type": "code",
   "execution_count": 2,
   "metadata": {},
   "outputs": [],
   "source": [
    "#Source configuration\n",
    "\n",
    "pd.set_option('display.max_rows', None) \n",
    "pd.set_option('display.max_columns', None) \n",
    "pd.set_option('display.width', None)  # more options can be specified also\n",
    "\n"
   ]
  },
  {
   "cell_type": "markdown",
   "metadata": {},
   "source": [
    "### Data loading"
   ]
  },
  {
   "cell_type": "code",
   "execution_count": 4,
   "metadata": {},
   "outputs": [],
   "source": [
    "#original_data= pd.read_excel('runasimi._original_with_id.ods', engine='odf')\n",
    "data= pd.read_excel('MASTER_runasimi_original_with_id.ods', engine='odf', sheet_name=\"RunDESF\")\n",
    "\n",
    "#original_data= pd.read_excel('runasimi._original_with_id.ods', engine='odf')\n",
    "original_data= data\n",
    "\n",
    "#Remove phonems\n",
    "original_data.drop(original_data[original_data[\"Ima simi\"].str.contains('fon')].index, inplace=True)\n",
    "\n",
    "#Remove suffixes\n",
    "original_data.drop(original_data[original_data[\"ID\"].isna()].index, inplace=True)\n"
   ]
  },
  {
   "cell_type": "code",
   "execution_count": 45,
   "metadata": {},
   "outputs": [
    {
     "data": {
      "text/plain": [
       "(0, 53)"
      ]
     },
     "execution_count": 45,
     "metadata": {},
     "output_type": "execute_result"
    }
   ],
   "source": [
    "data[data[\"Ima simi\"].str.contains('fon')]"
   ]
  },
  {
   "cell_type": "markdown",
   "metadata": {},
   "source": [
    "### Removing suffixes"
   ]
  },
  {
   "cell_type": "markdown",
   "metadata": {},
   "source": [
    "### Getting the translations"
   ]
  },
  {
   "cell_type": "code",
   "execution_count": null,
   "metadata": {},
   "outputs": [],
   "source": [
    "#Deutsch\tEnglish     Español \tItaliano\tFrançais"
   ]
  },
  {
   "cell_type": "code",
   "execution_count": 5,
   "metadata": {},
   "outputs": [],
   "source": [
    "#Getting missing and existing english translations\n",
    "column_english_traslations= original_data[\"English\"]\n",
    "\n",
    "no_english_traslations= original_data[column_english_traslations.isna()]\n",
    "english_traslations= original_data[column_english_traslations.notna()]\n",
    "\n",
    "# Getting existing different cases\n",
    "multiple_translations= english_traslations[english_traslations['English'].str.contains('\\;')]\n",
    "\n",
    "remaining_data = english_traslations.drop(multiple_translations.index, inplace=False)\n",
    "\n",
    "explained_translations= pd.concat([remaining_data[remaining_data['English'].str.contains('\\(')], remaining_data[remaining_data['English'].str.contains('\\[')]])\n",
    "\n",
    "remaining_data.drop(explained_translations.index, inplace=True)\n",
    "\n",
    "\n",
    "only_explained_translations= remaining_data[remaining_data[\"English\"].str.split(pat=\" \").apply(len) > 2]\n",
    "\n",
    "remaining_data.drop(only_explained_translations.index, inplace=True)\n",
    "\n",
    "simple_traslations= remaining_data\n",
    "\n",
    "\n",
    "\n",
    "\n"
   ]
  },
  {
   "cell_type": "code",
   "execution_count": 5,
   "metadata": {},
   "outputs": [
    {
     "data": {
      "text/html": [
       "<div>\n",
       "<style scoped>\n",
       "    .dataframe tbody tr th:only-of-type {\n",
       "        vertical-align: middle;\n",
       "    }\n",
       "\n",
       "    .dataframe tbody tr th {\n",
       "        vertical-align: top;\n",
       "    }\n",
       "\n",
       "    .dataframe thead th {\n",
       "        text-align: right;\n",
       "    }\n",
       "</style>\n",
       "<table border=\"1\" class=\"dataframe\">\n",
       "  <thead>\n",
       "    <tr style=\"text-align: right;\">\n",
       "      <th></th>\n",
       "      <th>ID</th>\n",
       "      <th>Hanan Runasimi</th>\n",
       "      <th>Hanan Runasimi.1</th>\n",
       "      <th>POS</th>\n",
       "      <th>Ima simi</th>\n",
       "      <th>Sikllalla Runasimi</th>\n",
       "      <th>QUS-aiux</th>\n",
       "      <th>BuL-aiux</th>\n",
       "      <th>Tupah Yupanki (Qusqu)</th>\n",
       "      <th>Tukuman</th>\n",
       "      <th>Ayakuchu</th>\n",
       "      <th>Qhochapampa</th>\n",
       "      <th>Qullasuyu</th>\n",
       "      <th>QUS-BuL-aiu</th>\n",
       "      <th>Qusqu</th>\n",
       "      <th>Qosqo</th>\n",
       "      <th>Cajamarca (Coombs)</th>\n",
       "      <th>Qasamarka</th>\n",
       "      <th>Inkawasi</th>\n",
       "      <th>Laraos</th>\n",
       "      <th>Lamista</th>\n",
       "      <th>Imbabura (runashimi killkay)</th>\n",
       "      <th>Quichua (esp. quillcai)</th>\n",
       "      <th>Wanka</th>\n",
       "      <th>Jauja Wanka</th>\n",
       "      <th>Huánuco (Weber)</th>\n",
       "      <th>Wanuku</th>\n",
       "      <th>Ankash (ay, aw)</th>\n",
       "      <th>Ankash (ee, oo)</th>\n",
       "      <th>Kurunku</th>\n",
       "      <th>Deutsch</th>\n",
       "      <th>English</th>\n",
       "      <th>Español</th>\n",
       "      <th>Italiano</th>\n",
       "      <th>Français</th>\n",
       "      <th>Dansk/Norsk</th>\n",
       "      <th>Aymara</th>\n",
       "      <th>Avañee</th>\n",
       "      <th>Русский</th>\n",
       "      <th>Yurap uywap salqap amutaypaq sutin</th>\n",
       "      <th>Kaqlla simi</th>\n",
       "      <th>Sut'inchaku</th>\n",
       "      <th>Ima mallki</th>\n",
       "      <th>Explicación del uso de la planta</th>\n",
       "      <th>Gonçalez Holguin y Huaman Poma</th>\n",
       "      <th>Quechua clásico</th>\n",
       "      <th>Waruchiri</th>\n",
       "      <th>Guaro Cheri</th>\n",
       "      <th>Tarma</th>\n",
       "      <th>Pastasa</th>\n",
       "      <th>Napuruna</th>\n",
       "      <th>Runasimi C</th>\n",
       "      <th>Runasimi Nord</th>\n",
       "    </tr>\n",
       "  </thead>\n",
       "  <tbody>\n",
       "    <tr>\n",
       "      <th>59</th>\n",
       "      <td>60.0</td>\n",
       "      <td>achay</td>\n",
       "      <td>achay</td>\n",
       "      <td>s.</td>\n",
       "      <td>s.(2)</td>\n",
       "      <td>achay</td>\n",
       "      <td>achay</td>\n",
       "      <td>achay</td>\n",
       "      <td>achay</td>\n",
       "      <td>NaN</td>\n",
       "      <td>NaN</td>\n",
       "      <td>achay</td>\n",
       "      <td>NaN</td>\n",
       "      <td>achay</td>\n",
       "      <td>NaN</td>\n",
       "      <td>NaN</td>\n",
       "      <td>NaN</td>\n",
       "      <td>NaN</td>\n",
       "      <td>NaN</td>\n",
       "      <td>NaN</td>\n",
       "      <td>NaN</td>\n",
       "      <td>NaN</td>\n",
       "      <td>NaN</td>\n",
       "      <td>NaN</td>\n",
       "      <td>NaN</td>\n",
       "      <td>NaN</td>\n",
       "      <td>NaN</td>\n",
       "      <td>NaN</td>\n",
       "      <td>NaN</td>\n",
       "      <td>NaN</td>\n",
       "      <td>das (emphatisch)</td>\n",
       "      <td>that (emphatic)</td>\n",
       "      <td>eso (enfático)</td>\n",
       "      <td>quello [enfatico]</td>\n",
       "      <td>NaN</td>\n",
       "      <td>NaN</td>\n",
       "      <td>NaN</td>\n",
       "      <td>NaN</td>\n",
       "      <td>NaN</td>\n",
       "      <td>NaN</td>\n",
       "      <td>NaN</td>\n",
       "      <td>NaN</td>\n",
       "      <td>NaN</td>\n",
       "      <td>NaN</td>\n",
       "      <td>NaN</td>\n",
       "      <td>NaN</td>\n",
       "      <td>NaN</td>\n",
       "      <td>NaN</td>\n",
       "      <td>NaN</td>\n",
       "      <td>NaN</td>\n",
       "      <td>NaN</td>\n",
       "      <td>ačay</td>\n",
       "      <td>ačay</td>\n",
       "    </tr>\n",
       "    <tr>\n",
       "      <th>79</th>\n",
       "      <td>80.0</td>\n",
       "      <td>Achil Tayta</td>\n",
       "      <td>Achil Tayta</td>\n",
       "      <td>s.</td>\n",
       "      <td>s.(mit)(ecu)</td>\n",
       "      <td>Achil Tayta</td>\n",
       "      <td>NaN</td>\n",
       "      <td>NaN</td>\n",
       "      <td>NaN</td>\n",
       "      <td>NaN</td>\n",
       "      <td>NaN</td>\n",
       "      <td>NaN</td>\n",
       "      <td>NaN</td>\n",
       "      <td>NaN</td>\n",
       "      <td>NaN</td>\n",
       "      <td>NaN</td>\n",
       "      <td>NaN</td>\n",
       "      <td>NaN</td>\n",
       "      <td>NaN</td>\n",
       "      <td>NaN</td>\n",
       "      <td>NaN</td>\n",
       "      <td>Atsil Tayta</td>\n",
       "      <td>Atsil Taita</td>\n",
       "      <td>NaN</td>\n",
       "      <td>NaN</td>\n",
       "      <td>NaN</td>\n",
       "      <td>NaN</td>\n",
       "      <td>NaN</td>\n",
       "      <td>NaN</td>\n",
       "      <td>NaN</td>\n",
       "      <td>Vater Atsil (Gott)</td>\n",
       "      <td>Father Atsil (god)</td>\n",
       "      <td>Padre Atsil (dios)</td>\n",
       "      <td>Padre Atsil; dio</td>\n",
       "      <td>NaN</td>\n",
       "      <td>NaN</td>\n",
       "      <td>NaN</td>\n",
       "      <td>NaN</td>\n",
       "      <td>NaN</td>\n",
       "      <td>NaN</td>\n",
       "      <td>NaN</td>\n",
       "      <td>NaN</td>\n",
       "      <td>NaN</td>\n",
       "      <td>NaN</td>\n",
       "      <td>NaN</td>\n",
       "      <td>NaN</td>\n",
       "      <td>NaN</td>\n",
       "      <td>NaN</td>\n",
       "      <td>NaN</td>\n",
       "      <td>NaN</td>\n",
       "      <td>NaN</td>\n",
       "      <td>Atsil Tayta</td>\n",
       "      <td>Atsil Tayta</td>\n",
       "    </tr>\n",
       "    <tr>\n",
       "      <th>80</th>\n",
       "      <td>81.0</td>\n",
       "      <td>Achil Yaya</td>\n",
       "      <td>Achil Yaya</td>\n",
       "      <td>s.</td>\n",
       "      <td>s.(mit)(ecu)</td>\n",
       "      <td>Achil Yaya</td>\n",
       "      <td>NaN</td>\n",
       "      <td>NaN</td>\n",
       "      <td>NaN</td>\n",
       "      <td>NaN</td>\n",
       "      <td>NaN</td>\n",
       "      <td>NaN</td>\n",
       "      <td>NaN</td>\n",
       "      <td>NaN</td>\n",
       "      <td>NaN</td>\n",
       "      <td>NaN</td>\n",
       "      <td>NaN</td>\n",
       "      <td>NaN</td>\n",
       "      <td>NaN</td>\n",
       "      <td>NaN</td>\n",
       "      <td>NaN</td>\n",
       "      <td>Atsil Yaya</td>\n",
       "      <td>Atsil Yaya</td>\n",
       "      <td>NaN</td>\n",
       "      <td>NaN</td>\n",
       "      <td>NaN</td>\n",
       "      <td>NaN</td>\n",
       "      <td>NaN</td>\n",
       "      <td>NaN</td>\n",
       "      <td>NaN</td>\n",
       "      <td>Vater Atsil (Gott)</td>\n",
       "      <td>Father Atsil (god)</td>\n",
       "      <td>Padre Atsil (dios)</td>\n",
       "      <td>Padre Atsil; dio</td>\n",
       "      <td>NaN</td>\n",
       "      <td>NaN</td>\n",
       "      <td>NaN</td>\n",
       "      <td>NaN</td>\n",
       "      <td>NaN</td>\n",
       "      <td>NaN</td>\n",
       "      <td>NaN</td>\n",
       "      <td>NaN</td>\n",
       "      <td>NaN</td>\n",
       "      <td>NaN</td>\n",
       "      <td>NaN</td>\n",
       "      <td>NaN</td>\n",
       "      <td>NaN</td>\n",
       "      <td>NaN</td>\n",
       "      <td>NaN</td>\n",
       "      <td>NaN</td>\n",
       "      <td>NaN</td>\n",
       "      <td>Atsil Yaya</td>\n",
       "      <td>Atsil Yaya</td>\n",
       "    </tr>\n",
       "    <tr>\n",
       "      <th>104</th>\n",
       "      <td>105.0</td>\n",
       "      <td>achka qullqipaq rantisqa ñin</td>\n",
       "      <td>achka qullqipaq rantisqa ñin</td>\n",
       "      <td>expr.</td>\n",
       "      <td>expr.</td>\n",
       "      <td>achka qullqipaq rantisqa ñin</td>\n",
       "      <td>NaN</td>\n",
       "      <td>NaN</td>\n",
       "      <td>NaN</td>\n",
       "      <td>NaN</td>\n",
       "      <td>NaN</td>\n",
       "      <td>NaN</td>\n",
       "      <td>NaN</td>\n",
       "      <td>NaN</td>\n",
       "      <td>NaN</td>\n",
       "      <td>NaN</td>\n",
       "      <td>NaN</td>\n",
       "      <td>NaN</td>\n",
       "      <td>NaN</td>\n",
       "      <td>NaN</td>\n",
       "      <td>NaN</td>\n",
       "      <td>achka kullkipak rantishka nin</td>\n",
       "      <td>achca cullquipac rantishca nin</td>\n",
       "      <td>NaN</td>\n",
       "      <td>NaN</td>\n",
       "      <td>NaN</td>\n",
       "      <td>NaN</td>\n",
       "      <td>NaN</td>\n",
       "      <td>NaN</td>\n",
       "      <td>NaN</td>\n",
       "      <td>er (sie) sagt, dass (er (sie) für viel Geld ge...</td>\n",
       "      <td>he (she) says he (she) has bought for a lot of...</td>\n",
       "      <td>dice que ha comprado por mucha plata</td>\n",
       "      <td>dice che gli è costato molto comprarlo</td>\n",
       "      <td>NaN</td>\n",
       "      <td>NaN</td>\n",
       "      <td>NaN</td>\n",
       "      <td>NaN</td>\n",
       "      <td>NaN</td>\n",
       "      <td>NaN</td>\n",
       "      <td>NaN</td>\n",
       "      <td>NaN</td>\n",
       "      <td>NaN</td>\n",
       "      <td>NaN</td>\n",
       "      <td>NaN</td>\n",
       "      <td>NaN</td>\n",
       "      <td>NaN</td>\n",
       "      <td>NaN</td>\n",
       "      <td>NaN</td>\n",
       "      <td>NaN</td>\n",
       "      <td>NaN</td>\n",
       "      <td>ačka qullqipaq rantišqa ñin</td>\n",
       "      <td>ačka qullqipaq rantišqa ñin</td>\n",
       "    </tr>\n",
       "    <tr>\n",
       "      <th>134</th>\n",
       "      <td>135.0</td>\n",
       "      <td>achucha</td>\n",
       "      <td>achucha</td>\n",
       "      <td>s.</td>\n",
       "      <td>s.(tex)</td>\n",
       "      <td>achucha</td>\n",
       "      <td>achucha</td>\n",
       "      <td>achucha</td>\n",
       "      <td>achucha</td>\n",
       "      <td>NaN</td>\n",
       "      <td>NaN</td>\n",
       "      <td>achucha</td>\n",
       "      <td>NaN</td>\n",
       "      <td>achucha</td>\n",
       "      <td>NaN</td>\n",
       "      <td>NaN</td>\n",
       "      <td>NaN</td>\n",
       "      <td>NaN</td>\n",
       "      <td>NaN</td>\n",
       "      <td>NaN</td>\n",
       "      <td>NaN</td>\n",
       "      <td>NaN</td>\n",
       "      <td>NaN</td>\n",
       "      <td>NaN</td>\n",
       "      <td>NaN</td>\n",
       "      <td>NaN</td>\n",
       "      <td>NaN</td>\n",
       "      <td>NaN</td>\n",
       "      <td>NaN</td>\n",
       "      <td>NaN</td>\n",
       "      <td>Pallay-Motiv in Geweben (Bedeutung unklar)</td>\n",
       "      <td>pallay motif in weaving (Bolivia, meaning uncl...</td>\n",
       "      <td>motivo pallay en tejidos (significado no claro)</td>\n",
       "      <td>motivo pallay; [è un motivo usato nella decora...</td>\n",
       "      <td>NaN</td>\n",
       "      <td>NaN</td>\n",
       "      <td>NaN</td>\n",
       "      <td>NaN</td>\n",
       "      <td>NaN</td>\n",
       "      <td>NaN</td>\n",
       "      <td>NaN</td>\n",
       "      <td>NaN</td>\n",
       "      <td>NaN</td>\n",
       "      <td>NaN</td>\n",
       "      <td>NaN</td>\n",
       "      <td>NaN</td>\n",
       "      <td>NaN</td>\n",
       "      <td>NaN</td>\n",
       "      <td>NaN</td>\n",
       "      <td>NaN</td>\n",
       "      <td>NaN</td>\n",
       "      <td>NaN</td>\n",
       "      <td>NaN</td>\n",
       "    </tr>\n",
       "  </tbody>\n",
       "</table>\n",
       "</div>"
      ],
      "text/plain": [
       "        ID                Hanan Runasimi              Hanan Runasimi.1    POS  \\\n",
       "59    60.0                         achay                         achay     s.   \n",
       "79    80.0                   Achil Tayta                   Achil Tayta     s.   \n",
       "80    81.0                    Achil Yaya                    Achil Yaya     s.   \n",
       "104  105.0  achka qullqipaq rantisqa ñin  achka qullqipaq rantisqa ñin  expr.   \n",
       "134  135.0                       achucha                       achucha     s.   \n",
       "\n",
       "         Ima simi            Sikllalla Runasimi QUS-aiux BuL-aiux  \\\n",
       "59          s.(2)                         achay    achay    achay   \n",
       "79   s.(mit)(ecu)                   Achil Tayta      NaN      NaN   \n",
       "80   s.(mit)(ecu)                    Achil Yaya      NaN      NaN   \n",
       "104         expr.  achka qullqipaq rantisqa ñin      NaN      NaN   \n",
       "134       s.(tex)                       achucha  achucha  achucha   \n",
       "\n",
       "    Tupah Yupanki (Qusqu) Tukuman Ayakuchu Qhochapampa Qullasuyu QUS-BuL-aiu  \\\n",
       "59                  achay     NaN      NaN       achay       NaN       achay   \n",
       "79                    NaN     NaN      NaN         NaN       NaN         NaN   \n",
       "80                    NaN     NaN      NaN         NaN       NaN         NaN   \n",
       "104                   NaN     NaN      NaN         NaN       NaN         NaN   \n",
       "134               achucha     NaN      NaN     achucha       NaN     achucha   \n",
       "\n",
       "    Qusqu Qosqo Cajamarca (Coombs) Qasamarka Inkawasi Laraos Lamista  \\\n",
       "59    NaN   NaN                NaN       NaN      NaN    NaN     NaN   \n",
       "79    NaN   NaN                NaN       NaN      NaN    NaN     NaN   \n",
       "80    NaN   NaN                NaN       NaN      NaN    NaN     NaN   \n",
       "104   NaN   NaN                NaN       NaN      NaN    NaN     NaN   \n",
       "134   NaN   NaN                NaN       NaN      NaN    NaN     NaN   \n",
       "\n",
       "      Imbabura (runashimi killkay)         Quichua (esp. quillcai) Wanka  \\\n",
       "59                             NaN                             NaN   NaN   \n",
       "79                     Atsil Tayta                     Atsil Taita   NaN   \n",
       "80                      Atsil Yaya                      Atsil Yaya   NaN   \n",
       "104  achka kullkipak rantishka nin  achca cullquipac rantishca nin   NaN   \n",
       "134                            NaN                             NaN   NaN   \n",
       "\n",
       "    Jauja Wanka Huánuco (Weber) Wanuku Ankash (ay, aw) Ankash (ee, oo)  \\\n",
       "59          NaN             NaN    NaN             NaN             NaN   \n",
       "79          NaN             NaN    NaN             NaN             NaN   \n",
       "80          NaN             NaN    NaN             NaN             NaN   \n",
       "104         NaN             NaN    NaN             NaN             NaN   \n",
       "134         NaN             NaN    NaN             NaN             NaN   \n",
       "\n",
       "    Kurunku                                            Deutsch  \\\n",
       "59      NaN                                   das (emphatisch)   \n",
       "79      NaN                                 Vater Atsil (Gott)   \n",
       "80      NaN                                 Vater Atsil (Gott)   \n",
       "104     NaN  er (sie) sagt, dass (er (sie) für viel Geld ge...   \n",
       "134     NaN         Pallay-Motiv in Geweben (Bedeutung unklar)   \n",
       "\n",
       "                                               English  \\\n",
       "59                                     that (emphatic)   \n",
       "79                                  Father Atsil (god)   \n",
       "80                                  Father Atsil (god)   \n",
       "104  he (she) says he (she) has bought for a lot of...   \n",
       "134  pallay motif in weaving (Bolivia, meaning uncl...   \n",
       "\n",
       "                                             Español  \\\n",
       "59                                    eso (enfático)   \n",
       "79                                Padre Atsil (dios)   \n",
       "80                                Padre Atsil (dios)   \n",
       "104             dice que ha comprado por mucha plata   \n",
       "134  motivo pallay en tejidos (significado no claro)   \n",
       "\n",
       "                                              Italiano Français Dansk/Norsk  \\\n",
       "59                                   quello [enfatico]      NaN         NaN   \n",
       "79                                    Padre Atsil; dio      NaN         NaN   \n",
       "80                                    Padre Atsil; dio      NaN         NaN   \n",
       "104             dice che gli è costato molto comprarlo      NaN         NaN   \n",
       "134  motivo pallay; [è un motivo usato nella decora...      NaN         NaN   \n",
       "\n",
       "    Aymara Avañee Русский Yurap uywap salqap amutaypaq sutin Kaqlla simi  \\\n",
       "59     NaN    NaN     NaN                                NaN         NaN   \n",
       "79     NaN    NaN     NaN                                NaN         NaN   \n",
       "80     NaN    NaN     NaN                                NaN         NaN   \n",
       "104    NaN    NaN     NaN                                NaN         NaN   \n",
       "134    NaN    NaN     NaN                                NaN         NaN   \n",
       "\n",
       "    Sut'inchaku Ima mallki Explicación del uso de la planta  \\\n",
       "59          NaN        NaN                              NaN   \n",
       "79          NaN        NaN                              NaN   \n",
       "80          NaN        NaN                              NaN   \n",
       "104         NaN        NaN                              NaN   \n",
       "134         NaN        NaN                              NaN   \n",
       "\n",
       "    Gonçalez Holguin y Huaman Poma Quechua clásico Waruchiri Guaro Cheri  \\\n",
       "59                             NaN             NaN       NaN         NaN   \n",
       "79                             NaN             NaN       NaN         NaN   \n",
       "80                             NaN             NaN       NaN         NaN   \n",
       "104                            NaN             NaN       NaN         NaN   \n",
       "134                            NaN             NaN       NaN         NaN   \n",
       "\n",
       "    Tarma Pastasa Napuruna                   Runasimi C  \\\n",
       "59    NaN     NaN      NaN                         ačay   \n",
       "79    NaN     NaN      NaN                  Atsil Tayta   \n",
       "80    NaN     NaN      NaN                   Atsil Yaya   \n",
       "104   NaN     NaN      NaN  ačka qullqipaq rantišqa ñin   \n",
       "134   NaN     NaN      NaN                          NaN   \n",
       "\n",
       "                   Runasimi Nord  \n",
       "59                          ačay  \n",
       "79                   Atsil Tayta  \n",
       "80                    Atsil Yaya  \n",
       "104  ačka qullqipaq rantišqa ñin  \n",
       "134                          NaN  "
      ]
     },
     "execution_count": 5,
     "metadata": {},
     "output_type": "execute_result"
    }
   ],
   "source": [
    "explained_translations.head()"
   ]
  },
  {
   "cell_type": "code",
   "execution_count": 41,
   "metadata": {},
   "outputs": [
    {
     "data": {
      "application/vnd.plotly.v1+json": {
       "config": {
        "plotlyServerURL": "https://plot.ly"
       },
       "data": [
        {
         "domain": {
          "x": [
           0,
           1
          ],
          "y": [
           0,
           1
          ]
         },
         "hovertemplate": "POS=%{label}<br>value=%{value}<extra></extra>",
         "labels": [
          "adj.",
          "adj.adv.",
          "adj.p.",
          "adj.pers.",
          "adj.poses.",
          "adj.pron.",
          "adj.s.",
          "adv.",
          "adv.afirm.",
          "adv.c.",
          "adv.fin.",
          "adv.int.",
          "adv.l.",
          "adv.l.pron.",
          "adv.l.t.",
          "adv.m",
          "adv.m.",
          "adv.m., conj.",
          "adv.neg.",
          "adv.preadj.",
          "adv.preadj.pron.",
          "adv.t.",
          "art.def.",
          "conj.",
          "ej.",
          "expr.",
          "expr.adv.",
          "expr.v.",
          "f.v.aux.",
          "interj.",
          "interj.onom.",
          "num.c.",
          "num.fract.",
          "num.ind.",
          "num.indef.",
          "num.o.",
          "p.",
          "p.adj.",
          "p.p.",
          "p.p.p.",
          "p.pr.act.",
          "p.s.",
          "postpos.",
          "postpos., conj.",
          "postpos.adv.m.",
          "postpos.num.ord.",
          "prep.",
          "pron.",
          "pron.def.",
          "pron.dem.",
          "pron.impers.",
          "pron.indef.",
          "pron.int.",
          "pron.pers.",
          "pron.pok.",
          "pron.pos.",
          "pron.rel.",
          "s.",
          "s.a.",
          "s.adj.",
          "s.expr.",
          "s.onom.",
          "s.p.",
          "s.pr.",
          "s.tr.",
          "v.",
          "v.aux.",
          "v.cop.",
          "v.dic.",
          "v.impers.",
          "v.interr.",
          "v.intr.",
          "v.intr.onom.",
          "v.inty.",
          "v.mod.",
          "v.mod.pron.",
          "v.mov.",
          "v.pron.",
          "v.recip.",
          "v.refl.",
          "v.tr."
         ],
         "legendgroup": "",
         "name": "",
         "showlegend": true,
         "textposition": "inside",
         "type": "pie",
         "values": [
          2512,
          1,
          3,
          1,
          48,
          10,
          1,
          11,
          14,
          1,
          1,
          47,
          174,
          1,
          1,
          1,
          374,
          1,
          10,
          19,
          1,
          255,
          1,
          46,
          1,
          593,
          1,
          1,
          12,
          119,
          20,
          94,
          36,
          4,
          1,
          36,
          1,
          1,
          3,
          449,
          2,
          1,
          61,
          1,
          1,
          2,
          2,
          1,
          3,
          13,
          3,
          81,
          39,
          15,
          1,
          11,
          4,
          12981,
          435,
          5,
          1,
          1,
          106,
          106,
          1,
          21,
          2,
          43,
          133,
          87,
          2,
          1638,
          2,
          1,
          6,
          1,
          296,
          40,
          117,
          1,
          3981
         ]
        }
       ],
       "layout": {
        "height": 700,
        "legend": {
         "tracegroupgap": 0
        },
        "template": {
         "data": {
          "bar": [
           {
            "error_x": {
             "color": "#2a3f5f"
            },
            "error_y": {
             "color": "#2a3f5f"
            },
            "marker": {
             "line": {
              "color": "#E5ECF6",
              "width": 0.5
             },
             "pattern": {
              "fillmode": "overlay",
              "size": 10,
              "solidity": 0.2
             }
            },
            "type": "bar"
           }
          ],
          "barpolar": [
           {
            "marker": {
             "line": {
              "color": "#E5ECF6",
              "width": 0.5
             },
             "pattern": {
              "fillmode": "overlay",
              "size": 10,
              "solidity": 0.2
             }
            },
            "type": "barpolar"
           }
          ],
          "carpet": [
           {
            "aaxis": {
             "endlinecolor": "#2a3f5f",
             "gridcolor": "white",
             "linecolor": "white",
             "minorgridcolor": "white",
             "startlinecolor": "#2a3f5f"
            },
            "baxis": {
             "endlinecolor": "#2a3f5f",
             "gridcolor": "white",
             "linecolor": "white",
             "minorgridcolor": "white",
             "startlinecolor": "#2a3f5f"
            },
            "type": "carpet"
           }
          ],
          "choropleth": [
           {
            "colorbar": {
             "outlinewidth": 0,
             "ticks": ""
            },
            "type": "choropleth"
           }
          ],
          "contour": [
           {
            "colorbar": {
             "outlinewidth": 0,
             "ticks": ""
            },
            "colorscale": [
             [
              0,
              "#0d0887"
             ],
             [
              0.1111111111111111,
              "#46039f"
             ],
             [
              0.2222222222222222,
              "#7201a8"
             ],
             [
              0.3333333333333333,
              "#9c179e"
             ],
             [
              0.4444444444444444,
              "#bd3786"
             ],
             [
              0.5555555555555556,
              "#d8576b"
             ],
             [
              0.6666666666666666,
              "#ed7953"
             ],
             [
              0.7777777777777778,
              "#fb9f3a"
             ],
             [
              0.8888888888888888,
              "#fdca26"
             ],
             [
              1,
              "#f0f921"
             ]
            ],
            "type": "contour"
           }
          ],
          "contourcarpet": [
           {
            "colorbar": {
             "outlinewidth": 0,
             "ticks": ""
            },
            "type": "contourcarpet"
           }
          ],
          "heatmap": [
           {
            "colorbar": {
             "outlinewidth": 0,
             "ticks": ""
            },
            "colorscale": [
             [
              0,
              "#0d0887"
             ],
             [
              0.1111111111111111,
              "#46039f"
             ],
             [
              0.2222222222222222,
              "#7201a8"
             ],
             [
              0.3333333333333333,
              "#9c179e"
             ],
             [
              0.4444444444444444,
              "#bd3786"
             ],
             [
              0.5555555555555556,
              "#d8576b"
             ],
             [
              0.6666666666666666,
              "#ed7953"
             ],
             [
              0.7777777777777778,
              "#fb9f3a"
             ],
             [
              0.8888888888888888,
              "#fdca26"
             ],
             [
              1,
              "#f0f921"
             ]
            ],
            "type": "heatmap"
           }
          ],
          "heatmapgl": [
           {
            "colorbar": {
             "outlinewidth": 0,
             "ticks": ""
            },
            "colorscale": [
             [
              0,
              "#0d0887"
             ],
             [
              0.1111111111111111,
              "#46039f"
             ],
             [
              0.2222222222222222,
              "#7201a8"
             ],
             [
              0.3333333333333333,
              "#9c179e"
             ],
             [
              0.4444444444444444,
              "#bd3786"
             ],
             [
              0.5555555555555556,
              "#d8576b"
             ],
             [
              0.6666666666666666,
              "#ed7953"
             ],
             [
              0.7777777777777778,
              "#fb9f3a"
             ],
             [
              0.8888888888888888,
              "#fdca26"
             ],
             [
              1,
              "#f0f921"
             ]
            ],
            "type": "heatmapgl"
           }
          ],
          "histogram": [
           {
            "marker": {
             "pattern": {
              "fillmode": "overlay",
              "size": 10,
              "solidity": 0.2
             }
            },
            "type": "histogram"
           }
          ],
          "histogram2d": [
           {
            "colorbar": {
             "outlinewidth": 0,
             "ticks": ""
            },
            "colorscale": [
             [
              0,
              "#0d0887"
             ],
             [
              0.1111111111111111,
              "#46039f"
             ],
             [
              0.2222222222222222,
              "#7201a8"
             ],
             [
              0.3333333333333333,
              "#9c179e"
             ],
             [
              0.4444444444444444,
              "#bd3786"
             ],
             [
              0.5555555555555556,
              "#d8576b"
             ],
             [
              0.6666666666666666,
              "#ed7953"
             ],
             [
              0.7777777777777778,
              "#fb9f3a"
             ],
             [
              0.8888888888888888,
              "#fdca26"
             ],
             [
              1,
              "#f0f921"
             ]
            ],
            "type": "histogram2d"
           }
          ],
          "histogram2dcontour": [
           {
            "colorbar": {
             "outlinewidth": 0,
             "ticks": ""
            },
            "colorscale": [
             [
              0,
              "#0d0887"
             ],
             [
              0.1111111111111111,
              "#46039f"
             ],
             [
              0.2222222222222222,
              "#7201a8"
             ],
             [
              0.3333333333333333,
              "#9c179e"
             ],
             [
              0.4444444444444444,
              "#bd3786"
             ],
             [
              0.5555555555555556,
              "#d8576b"
             ],
             [
              0.6666666666666666,
              "#ed7953"
             ],
             [
              0.7777777777777778,
              "#fb9f3a"
             ],
             [
              0.8888888888888888,
              "#fdca26"
             ],
             [
              1,
              "#f0f921"
             ]
            ],
            "type": "histogram2dcontour"
           }
          ],
          "mesh3d": [
           {
            "colorbar": {
             "outlinewidth": 0,
             "ticks": ""
            },
            "type": "mesh3d"
           }
          ],
          "parcoords": [
           {
            "line": {
             "colorbar": {
              "outlinewidth": 0,
              "ticks": ""
             }
            },
            "type": "parcoords"
           }
          ],
          "pie": [
           {
            "automargin": true,
            "type": "pie"
           }
          ],
          "scatter": [
           {
            "fillpattern": {
             "fillmode": "overlay",
             "size": 10,
             "solidity": 0.2
            },
            "type": "scatter"
           }
          ],
          "scatter3d": [
           {
            "line": {
             "colorbar": {
              "outlinewidth": 0,
              "ticks": ""
             }
            },
            "marker": {
             "colorbar": {
              "outlinewidth": 0,
              "ticks": ""
             }
            },
            "type": "scatter3d"
           }
          ],
          "scattercarpet": [
           {
            "marker": {
             "colorbar": {
              "outlinewidth": 0,
              "ticks": ""
             }
            },
            "type": "scattercarpet"
           }
          ],
          "scattergeo": [
           {
            "marker": {
             "colorbar": {
              "outlinewidth": 0,
              "ticks": ""
             }
            },
            "type": "scattergeo"
           }
          ],
          "scattergl": [
           {
            "marker": {
             "colorbar": {
              "outlinewidth": 0,
              "ticks": ""
             }
            },
            "type": "scattergl"
           }
          ],
          "scattermapbox": [
           {
            "marker": {
             "colorbar": {
              "outlinewidth": 0,
              "ticks": ""
             }
            },
            "type": "scattermapbox"
           }
          ],
          "scatterpolar": [
           {
            "marker": {
             "colorbar": {
              "outlinewidth": 0,
              "ticks": ""
             }
            },
            "type": "scatterpolar"
           }
          ],
          "scatterpolargl": [
           {
            "marker": {
             "colorbar": {
              "outlinewidth": 0,
              "ticks": ""
             }
            },
            "type": "scatterpolargl"
           }
          ],
          "scatterternary": [
           {
            "marker": {
             "colorbar": {
              "outlinewidth": 0,
              "ticks": ""
             }
            },
            "type": "scatterternary"
           }
          ],
          "surface": [
           {
            "colorbar": {
             "outlinewidth": 0,
             "ticks": ""
            },
            "colorscale": [
             [
              0,
              "#0d0887"
             ],
             [
              0.1111111111111111,
              "#46039f"
             ],
             [
              0.2222222222222222,
              "#7201a8"
             ],
             [
              0.3333333333333333,
              "#9c179e"
             ],
             [
              0.4444444444444444,
              "#bd3786"
             ],
             [
              0.5555555555555556,
              "#d8576b"
             ],
             [
              0.6666666666666666,
              "#ed7953"
             ],
             [
              0.7777777777777778,
              "#fb9f3a"
             ],
             [
              0.8888888888888888,
              "#fdca26"
             ],
             [
              1,
              "#f0f921"
             ]
            ],
            "type": "surface"
           }
          ],
          "table": [
           {
            "cells": {
             "fill": {
              "color": "#EBF0F8"
             },
             "line": {
              "color": "white"
             }
            },
            "header": {
             "fill": {
              "color": "#C8D4E3"
             },
             "line": {
              "color": "white"
             }
            },
            "type": "table"
           }
          ]
         },
         "layout": {
          "annotationdefaults": {
           "arrowcolor": "#2a3f5f",
           "arrowhead": 0,
           "arrowwidth": 1
          },
          "autotypenumbers": "strict",
          "coloraxis": {
           "colorbar": {
            "outlinewidth": 0,
            "ticks": ""
           }
          },
          "colorscale": {
           "diverging": [
            [
             0,
             "#8e0152"
            ],
            [
             0.1,
             "#c51b7d"
            ],
            [
             0.2,
             "#de77ae"
            ],
            [
             0.3,
             "#f1b6da"
            ],
            [
             0.4,
             "#fde0ef"
            ],
            [
             0.5,
             "#f7f7f7"
            ],
            [
             0.6,
             "#e6f5d0"
            ],
            [
             0.7,
             "#b8e186"
            ],
            [
             0.8,
             "#7fbc41"
            ],
            [
             0.9,
             "#4d9221"
            ],
            [
             1,
             "#276419"
            ]
           ],
           "sequential": [
            [
             0,
             "#0d0887"
            ],
            [
             0.1111111111111111,
             "#46039f"
            ],
            [
             0.2222222222222222,
             "#7201a8"
            ],
            [
             0.3333333333333333,
             "#9c179e"
            ],
            [
             0.4444444444444444,
             "#bd3786"
            ],
            [
             0.5555555555555556,
             "#d8576b"
            ],
            [
             0.6666666666666666,
             "#ed7953"
            ],
            [
             0.7777777777777778,
             "#fb9f3a"
            ],
            [
             0.8888888888888888,
             "#fdca26"
            ],
            [
             1,
             "#f0f921"
            ]
           ],
           "sequentialminus": [
            [
             0,
             "#0d0887"
            ],
            [
             0.1111111111111111,
             "#46039f"
            ],
            [
             0.2222222222222222,
             "#7201a8"
            ],
            [
             0.3333333333333333,
             "#9c179e"
            ],
            [
             0.4444444444444444,
             "#bd3786"
            ],
            [
             0.5555555555555556,
             "#d8576b"
            ],
            [
             0.6666666666666666,
             "#ed7953"
            ],
            [
             0.7777777777777778,
             "#fb9f3a"
            ],
            [
             0.8888888888888888,
             "#fdca26"
            ],
            [
             1,
             "#f0f921"
            ]
           ]
          },
          "colorway": [
           "#636efa",
           "#EF553B",
           "#00cc96",
           "#ab63fa",
           "#FFA15A",
           "#19d3f3",
           "#FF6692",
           "#B6E880",
           "#FF97FF",
           "#FECB52"
          ],
          "font": {
           "color": "#2a3f5f"
          },
          "geo": {
           "bgcolor": "white",
           "lakecolor": "white",
           "landcolor": "#E5ECF6",
           "showlakes": true,
           "showland": true,
           "subunitcolor": "white"
          },
          "hoverlabel": {
           "align": "left"
          },
          "hovermode": "closest",
          "mapbox": {
           "style": "light"
          },
          "paper_bgcolor": "white",
          "plot_bgcolor": "#E5ECF6",
          "polar": {
           "angularaxis": {
            "gridcolor": "white",
            "linecolor": "white",
            "ticks": ""
           },
           "bgcolor": "#E5ECF6",
           "radialaxis": {
            "gridcolor": "white",
            "linecolor": "white",
            "ticks": ""
           }
          },
          "scene": {
           "xaxis": {
            "backgroundcolor": "#E5ECF6",
            "gridcolor": "white",
            "gridwidth": 2,
            "linecolor": "white",
            "showbackground": true,
            "ticks": "",
            "zerolinecolor": "white"
           },
           "yaxis": {
            "backgroundcolor": "#E5ECF6",
            "gridcolor": "white",
            "gridwidth": 2,
            "linecolor": "white",
            "showbackground": true,
            "ticks": "",
            "zerolinecolor": "white"
           },
           "zaxis": {
            "backgroundcolor": "#E5ECF6",
            "gridcolor": "white",
            "gridwidth": 2,
            "linecolor": "white",
            "showbackground": true,
            "ticks": "",
            "zerolinecolor": "white"
           }
          },
          "shapedefaults": {
           "line": {
            "color": "#2a3f5f"
           }
          },
          "ternary": {
           "aaxis": {
            "gridcolor": "white",
            "linecolor": "white",
            "ticks": ""
           },
           "baxis": {
            "gridcolor": "white",
            "linecolor": "white",
            "ticks": ""
           },
           "bgcolor": "#E5ECF6",
           "caxis": {
            "gridcolor": "white",
            "linecolor": "white",
            "ticks": ""
           }
          },
          "title": {
           "x": 0.05
          },
          "xaxis": {
           "automargin": true,
           "gridcolor": "white",
           "linecolor": "white",
           "ticks": "",
           "title": {
            "standoff": 15
           },
           "zerolinecolor": "white",
           "zerolinewidth": 2
          },
          "yaxis": {
           "automargin": true,
           "gridcolor": "white",
           "linecolor": "white",
           "ticks": "",
           "title": {
            "standoff": 15
           },
           "zerolinecolor": "white",
           "zerolinewidth": 2
          }
         }
        },
        "title": {
         "text": "Part of speech word frequency"
        },
        "uniformtext": {
         "minsize": 12,
         "mode": "hide"
        },
        "width": 800
       }
      }
     },
     "metadata": {},
     "output_type": "display_data"
    }
   ],
   "source": [
    "import plotly.express as px\n",
    "\n",
    "category= data.groupby(\"POS\").size()\n",
    "\n",
    "fig = px.pie(category, names=category.index, values=category , title='Part of speech word frequency', width=800, height=700)\n",
    "\n",
    "fig.update_traces(textposition='inside')\n",
    "fig.update_layout(uniformtext_minsize=12, uniformtext_mode='hide')\n",
    "fig.show()\n",
    "\n",
    "fig.write_html(\"file.html\")"
   ]
  },
  {
   "cell_type": "code",
   "execution_count": 5,
   "metadata": {},
   "outputs": [],
   "source": [
    "from xml.etree import cElementTree as ET\n",
    "\n",
    "tree= ET.parse(\"quwiki.xml\")\n",
    "root= tree.getroot()\n",
    "titles= []\n",
    "texts= []\n",
    "for page in list(root):\n",
    "    #print(page)\n",
    "    title= None\n",
    "    content= None\n",
    "    if page is not None:\n",
    "        if page.find('title') is not None:\n",
    "            title= page.find('title').text\n",
    "        content= page.findall('revision')[0].find('text').text\n",
    "    #print(\"Tittle: {} \\nText: {}\".format(title, content))\n",
    "    titles.append(title)\n",
    "    texts.append(content)"
   ]
  },
  {
   "cell_type": "code",
   "execution_count": 33,
   "metadata": {},
   "outputs": [],
   "source": [
    "with open(\"examples.txt\", \"w\") as file:\n",
    "    for element in range(len(texts)):\n",
    "        file.write(\"Tittle: {} \\nText: {} \\n\\######################\\n######################\\n\".format(titles[element], texts[element]))\n"
   ]
  },
  {
   "cell_type": "code",
   "execution_count": 16,
   "metadata": {},
   "outputs": [
    {
     "data": {
      "application/vnd.plotly.v1+json": {
       "config": {
        "plotlyServerURL": "https://plot.ly"
       },
       "data": [
        {
         "hovertemplate": "number=%{x}<br>stage=%{y}<extra></extra>",
         "legendgroup": "",
         "marker": {
          "color": "#636efa"
         },
         "name": "",
         "orientation": "h",
         "showlegend": false,
         "type": "funnel",
         "x": [
          10858,
          8801,
          4255
         ],
         "xaxis": "x",
         "y": [
          "Direct translation",
          "With multiple translations",
          "Translated by explanation"
         ],
         "yaxis": "y"
        }
       ],
       "layout": {
        "legend": {
         "tracegroupgap": 0
        },
        "margin": {
         "t": 60
        },
        "template": {
         "data": {
          "bar": [
           {
            "error_x": {
             "color": "#2a3f5f"
            },
            "error_y": {
             "color": "#2a3f5f"
            },
            "marker": {
             "line": {
              "color": "#E5ECF6",
              "width": 0.5
             },
             "pattern": {
              "fillmode": "overlay",
              "size": 10,
              "solidity": 0.2
             }
            },
            "type": "bar"
           }
          ],
          "barpolar": [
           {
            "marker": {
             "line": {
              "color": "#E5ECF6",
              "width": 0.5
             },
             "pattern": {
              "fillmode": "overlay",
              "size": 10,
              "solidity": 0.2
             }
            },
            "type": "barpolar"
           }
          ],
          "carpet": [
           {
            "aaxis": {
             "endlinecolor": "#2a3f5f",
             "gridcolor": "white",
             "linecolor": "white",
             "minorgridcolor": "white",
             "startlinecolor": "#2a3f5f"
            },
            "baxis": {
             "endlinecolor": "#2a3f5f",
             "gridcolor": "white",
             "linecolor": "white",
             "minorgridcolor": "white",
             "startlinecolor": "#2a3f5f"
            },
            "type": "carpet"
           }
          ],
          "choropleth": [
           {
            "colorbar": {
             "outlinewidth": 0,
             "ticks": ""
            },
            "type": "choropleth"
           }
          ],
          "contour": [
           {
            "colorbar": {
             "outlinewidth": 0,
             "ticks": ""
            },
            "colorscale": [
             [
              0,
              "#0d0887"
             ],
             [
              0.1111111111111111,
              "#46039f"
             ],
             [
              0.2222222222222222,
              "#7201a8"
             ],
             [
              0.3333333333333333,
              "#9c179e"
             ],
             [
              0.4444444444444444,
              "#bd3786"
             ],
             [
              0.5555555555555556,
              "#d8576b"
             ],
             [
              0.6666666666666666,
              "#ed7953"
             ],
             [
              0.7777777777777778,
              "#fb9f3a"
             ],
             [
              0.8888888888888888,
              "#fdca26"
             ],
             [
              1,
              "#f0f921"
             ]
            ],
            "type": "contour"
           }
          ],
          "contourcarpet": [
           {
            "colorbar": {
             "outlinewidth": 0,
             "ticks": ""
            },
            "type": "contourcarpet"
           }
          ],
          "heatmap": [
           {
            "colorbar": {
             "outlinewidth": 0,
             "ticks": ""
            },
            "colorscale": [
             [
              0,
              "#0d0887"
             ],
             [
              0.1111111111111111,
              "#46039f"
             ],
             [
              0.2222222222222222,
              "#7201a8"
             ],
             [
              0.3333333333333333,
              "#9c179e"
             ],
             [
              0.4444444444444444,
              "#bd3786"
             ],
             [
              0.5555555555555556,
              "#d8576b"
             ],
             [
              0.6666666666666666,
              "#ed7953"
             ],
             [
              0.7777777777777778,
              "#fb9f3a"
             ],
             [
              0.8888888888888888,
              "#fdca26"
             ],
             [
              1,
              "#f0f921"
             ]
            ],
            "type": "heatmap"
           }
          ],
          "heatmapgl": [
           {
            "colorbar": {
             "outlinewidth": 0,
             "ticks": ""
            },
            "colorscale": [
             [
              0,
              "#0d0887"
             ],
             [
              0.1111111111111111,
              "#46039f"
             ],
             [
              0.2222222222222222,
              "#7201a8"
             ],
             [
              0.3333333333333333,
              "#9c179e"
             ],
             [
              0.4444444444444444,
              "#bd3786"
             ],
             [
              0.5555555555555556,
              "#d8576b"
             ],
             [
              0.6666666666666666,
              "#ed7953"
             ],
             [
              0.7777777777777778,
              "#fb9f3a"
             ],
             [
              0.8888888888888888,
              "#fdca26"
             ],
             [
              1,
              "#f0f921"
             ]
            ],
            "type": "heatmapgl"
           }
          ],
          "histogram": [
           {
            "marker": {
             "pattern": {
              "fillmode": "overlay",
              "size": 10,
              "solidity": 0.2
             }
            },
            "type": "histogram"
           }
          ],
          "histogram2d": [
           {
            "colorbar": {
             "outlinewidth": 0,
             "ticks": ""
            },
            "colorscale": [
             [
              0,
              "#0d0887"
             ],
             [
              0.1111111111111111,
              "#46039f"
             ],
             [
              0.2222222222222222,
              "#7201a8"
             ],
             [
              0.3333333333333333,
              "#9c179e"
             ],
             [
              0.4444444444444444,
              "#bd3786"
             ],
             [
              0.5555555555555556,
              "#d8576b"
             ],
             [
              0.6666666666666666,
              "#ed7953"
             ],
             [
              0.7777777777777778,
              "#fb9f3a"
             ],
             [
              0.8888888888888888,
              "#fdca26"
             ],
             [
              1,
              "#f0f921"
             ]
            ],
            "type": "histogram2d"
           }
          ],
          "histogram2dcontour": [
           {
            "colorbar": {
             "outlinewidth": 0,
             "ticks": ""
            },
            "colorscale": [
             [
              0,
              "#0d0887"
             ],
             [
              0.1111111111111111,
              "#46039f"
             ],
             [
              0.2222222222222222,
              "#7201a8"
             ],
             [
              0.3333333333333333,
              "#9c179e"
             ],
             [
              0.4444444444444444,
              "#bd3786"
             ],
             [
              0.5555555555555556,
              "#d8576b"
             ],
             [
              0.6666666666666666,
              "#ed7953"
             ],
             [
              0.7777777777777778,
              "#fb9f3a"
             ],
             [
              0.8888888888888888,
              "#fdca26"
             ],
             [
              1,
              "#f0f921"
             ]
            ],
            "type": "histogram2dcontour"
           }
          ],
          "mesh3d": [
           {
            "colorbar": {
             "outlinewidth": 0,
             "ticks": ""
            },
            "type": "mesh3d"
           }
          ],
          "parcoords": [
           {
            "line": {
             "colorbar": {
              "outlinewidth": 0,
              "ticks": ""
             }
            },
            "type": "parcoords"
           }
          ],
          "pie": [
           {
            "automargin": true,
            "type": "pie"
           }
          ],
          "scatter": [
           {
            "fillpattern": {
             "fillmode": "overlay",
             "size": 10,
             "solidity": 0.2
            },
            "type": "scatter"
           }
          ],
          "scatter3d": [
           {
            "line": {
             "colorbar": {
              "outlinewidth": 0,
              "ticks": ""
             }
            },
            "marker": {
             "colorbar": {
              "outlinewidth": 0,
              "ticks": ""
             }
            },
            "type": "scatter3d"
           }
          ],
          "scattercarpet": [
           {
            "marker": {
             "colorbar": {
              "outlinewidth": 0,
              "ticks": ""
             }
            },
            "type": "scattercarpet"
           }
          ],
          "scattergeo": [
           {
            "marker": {
             "colorbar": {
              "outlinewidth": 0,
              "ticks": ""
             }
            },
            "type": "scattergeo"
           }
          ],
          "scattergl": [
           {
            "marker": {
             "colorbar": {
              "outlinewidth": 0,
              "ticks": ""
             }
            },
            "type": "scattergl"
           }
          ],
          "scattermapbox": [
           {
            "marker": {
             "colorbar": {
              "outlinewidth": 0,
              "ticks": ""
             }
            },
            "type": "scattermapbox"
           }
          ],
          "scatterpolar": [
           {
            "marker": {
             "colorbar": {
              "outlinewidth": 0,
              "ticks": ""
             }
            },
            "type": "scatterpolar"
           }
          ],
          "scatterpolargl": [
           {
            "marker": {
             "colorbar": {
              "outlinewidth": 0,
              "ticks": ""
             }
            },
            "type": "scatterpolargl"
           }
          ],
          "scatterternary": [
           {
            "marker": {
             "colorbar": {
              "outlinewidth": 0,
              "ticks": ""
             }
            },
            "type": "scatterternary"
           }
          ],
          "surface": [
           {
            "colorbar": {
             "outlinewidth": 0,
             "ticks": ""
            },
            "colorscale": [
             [
              0,
              "#0d0887"
             ],
             [
              0.1111111111111111,
              "#46039f"
             ],
             [
              0.2222222222222222,
              "#7201a8"
             ],
             [
              0.3333333333333333,
              "#9c179e"
             ],
             [
              0.4444444444444444,
              "#bd3786"
             ],
             [
              0.5555555555555556,
              "#d8576b"
             ],
             [
              0.6666666666666666,
              "#ed7953"
             ],
             [
              0.7777777777777778,
              "#fb9f3a"
             ],
             [
              0.8888888888888888,
              "#fdca26"
             ],
             [
              1,
              "#f0f921"
             ]
            ],
            "type": "surface"
           }
          ],
          "table": [
           {
            "cells": {
             "fill": {
              "color": "#EBF0F8"
             },
             "line": {
              "color": "white"
             }
            },
            "header": {
             "fill": {
              "color": "#C8D4E3"
             },
             "line": {
              "color": "white"
             }
            },
            "type": "table"
           }
          ]
         },
         "layout": {
          "annotationdefaults": {
           "arrowcolor": "#2a3f5f",
           "arrowhead": 0,
           "arrowwidth": 1
          },
          "autotypenumbers": "strict",
          "coloraxis": {
           "colorbar": {
            "outlinewidth": 0,
            "ticks": ""
           }
          },
          "colorscale": {
           "diverging": [
            [
             0,
             "#8e0152"
            ],
            [
             0.1,
             "#c51b7d"
            ],
            [
             0.2,
             "#de77ae"
            ],
            [
             0.3,
             "#f1b6da"
            ],
            [
             0.4,
             "#fde0ef"
            ],
            [
             0.5,
             "#f7f7f7"
            ],
            [
             0.6,
             "#e6f5d0"
            ],
            [
             0.7,
             "#b8e186"
            ],
            [
             0.8,
             "#7fbc41"
            ],
            [
             0.9,
             "#4d9221"
            ],
            [
             1,
             "#276419"
            ]
           ],
           "sequential": [
            [
             0,
             "#0d0887"
            ],
            [
             0.1111111111111111,
             "#46039f"
            ],
            [
             0.2222222222222222,
             "#7201a8"
            ],
            [
             0.3333333333333333,
             "#9c179e"
            ],
            [
             0.4444444444444444,
             "#bd3786"
            ],
            [
             0.5555555555555556,
             "#d8576b"
            ],
            [
             0.6666666666666666,
             "#ed7953"
            ],
            [
             0.7777777777777778,
             "#fb9f3a"
            ],
            [
             0.8888888888888888,
             "#fdca26"
            ],
            [
             1,
             "#f0f921"
            ]
           ],
           "sequentialminus": [
            [
             0,
             "#0d0887"
            ],
            [
             0.1111111111111111,
             "#46039f"
            ],
            [
             0.2222222222222222,
             "#7201a8"
            ],
            [
             0.3333333333333333,
             "#9c179e"
            ],
            [
             0.4444444444444444,
             "#bd3786"
            ],
            [
             0.5555555555555556,
             "#d8576b"
            ],
            [
             0.6666666666666666,
             "#ed7953"
            ],
            [
             0.7777777777777778,
             "#fb9f3a"
            ],
            [
             0.8888888888888888,
             "#fdca26"
            ],
            [
             1,
             "#f0f921"
            ]
           ]
          },
          "colorway": [
           "#636efa",
           "#EF553B",
           "#00cc96",
           "#ab63fa",
           "#FFA15A",
           "#19d3f3",
           "#FF6692",
           "#B6E880",
           "#FF97FF",
           "#FECB52"
          ],
          "font": {
           "color": "#2a3f5f"
          },
          "geo": {
           "bgcolor": "white",
           "lakecolor": "white",
           "landcolor": "#E5ECF6",
           "showlakes": true,
           "showland": true,
           "subunitcolor": "white"
          },
          "hoverlabel": {
           "align": "left"
          },
          "hovermode": "closest",
          "mapbox": {
           "style": "light"
          },
          "paper_bgcolor": "white",
          "plot_bgcolor": "#E5ECF6",
          "polar": {
           "angularaxis": {
            "gridcolor": "white",
            "linecolor": "white",
            "ticks": ""
           },
           "bgcolor": "#E5ECF6",
           "radialaxis": {
            "gridcolor": "white",
            "linecolor": "white",
            "ticks": ""
           }
          },
          "scene": {
           "xaxis": {
            "backgroundcolor": "#E5ECF6",
            "gridcolor": "white",
            "gridwidth": 2,
            "linecolor": "white",
            "showbackground": true,
            "ticks": "",
            "zerolinecolor": "white"
           },
           "yaxis": {
            "backgroundcolor": "#E5ECF6",
            "gridcolor": "white",
            "gridwidth": 2,
            "linecolor": "white",
            "showbackground": true,
            "ticks": "",
            "zerolinecolor": "white"
           },
           "zaxis": {
            "backgroundcolor": "#E5ECF6",
            "gridcolor": "white",
            "gridwidth": 2,
            "linecolor": "white",
            "showbackground": true,
            "ticks": "",
            "zerolinecolor": "white"
           }
          },
          "shapedefaults": {
           "line": {
            "color": "#2a3f5f"
           }
          },
          "ternary": {
           "aaxis": {
            "gridcolor": "white",
            "linecolor": "white",
            "ticks": ""
           },
           "baxis": {
            "gridcolor": "white",
            "linecolor": "white",
            "ticks": ""
           },
           "bgcolor": "#E5ECF6",
           "caxis": {
            "gridcolor": "white",
            "linecolor": "white",
            "ticks": ""
           }
          },
          "title": {
           "x": 0.05
          },
          "xaxis": {
           "automargin": true,
           "gridcolor": "white",
           "linecolor": "white",
           "ticks": "",
           "title": {
            "standoff": 15
           },
           "zerolinecolor": "white",
           "zerolinewidth": 2
          },
          "yaxis": {
           "automargin": true,
           "gridcolor": "white",
           "linecolor": "white",
           "ticks": "",
           "title": {
            "standoff": 15
           },
           "zerolinecolor": "white",
           "zerolinewidth": 2
          }
         }
        },
        "xaxis": {
         "anchor": "y",
         "domain": [
          0,
          1
         ],
         "title": {
          "text": "number"
         }
        },
        "yaxis": {
         "anchor": "x",
         "domain": [
          0,
          1
         ],
         "title": {
          "text": "stage"
         }
        }
       }
      }
     },
     "metadata": {},
     "output_type": "display_data"
    }
   ],
   "source": [
    "import plotly.express as px\n",
    "\n",
    "data = dict(\n",
    "    number=[simple_traslations.shape[0], multiple_translations.shape[0], only_explained_translations.shape[0]],\n",
    "    stage=[\"Direct translation\", \"With multiple translations\", \"Translated by explanation\"])\n",
    "fig = px.funnel(data, x='number', y='stage', )\n",
    "fig.show()\n",
    "\n",
    "fig.write_html(\"available_translations.html\")"
   ]
  },
  {
   "cell_type": "code",
   "execution_count": 6,
   "metadata": {},
   "outputs": [
    {
     "name": "stderr",
     "output_type": "stream",
     "text": [
      "/tmp/ipykernel_2843/3561466495.py:4: SettingWithCopyWarning: \n",
      "A value is trying to be set on a copy of a slice from a DataFrame.\n",
      "Try using .loc[row_indexer,col_indexer] = value instead\n",
      "\n",
      "See the caveats in the documentation: https://pandas.pydata.org/pandas-docs/stable/user_guide/indexing.html#returning-a-view-versus-a-copy\n",
      "  only_explained_translations[\"Number of words\"] =only_explained_translations[\"English\"].str.split(pat=\" \").apply(len)\n"
     ]
    },
    {
     "data": {
      "application/vnd.plotly.v1+json": {
       "config": {
        "plotlyServerURL": "https://plot.ly"
       },
       "data": [
        {
         "alignmentgroup": "True",
         "boxpoints": "all",
         "customdata": [
          [
           "abahiñu",
           "purple skinned potato"
          ],
          [
           "abas kuta; abas hak'u",
           "flour of broad beans"
          ],
          [
           "achachay",
           "to be hot"
          ],
          [
           "achakana",
           "kind of cactus"
          ],
          [
           "achakita churay",
           "call upon a pretext"
          ],
          [
           "achakiy",
           "to say one thing and do something else"
          ],
          [
           "achay",
           "to be hot"
          ],
          [
           "achay",
           "to crack an egg"
          ],
          [
           "achikay",
           "to ask for"
          ],
          [
           "Achil",
           "prekichwa name of god"
          ],
          [
           "achipsa",
           "thin, dry stalk used as wick"
          ],
          [
           "achita",
           "a grain or cereal similar to quinua"
          ],
          [
           "achiwa-achiwa",
           "kind of shrub whose leaves are used for blue dye"
          ],
          [
           "achkayachiq",
           "who makes increases"
          ],
          [
           "achku",
           "very fine firewood"
          ],
          [
           "achmiy",
           "to earth up a plant first time"
          ],
          [
           "achpaykachay",
           "to climb around"
          ],
          [
           "achqay",
           "to earth up a plant first time"
          ],
          [
           "achuchiy",
           "to make someone carry something between the teeth"
          ],
          [
           "achuma qhiwillu",
           "a type of cactus"
          ],
          [
           "achuni sananku",
           "kind of medicinal plant of the jungle"
          ],
          [
           "achuni ullu",
           "penis of achuni, used in popular medicine as aphrodisiac"
          ],
          [
           "achuray",
           "to deal out"
          ],
          [
           "achuy",
           "to carry between the teeth"
          ],
          [
           "admirasqa kay",
           "to be amazed"
          ],
          [
           "adubi",
           "a brick baked in the sun"
          ],
          [
           "afanakuy",
           "to torment oneself"
          ],
          [
           "ahiy",
           "to shout \"Aahi!\""
          ],
          [
           "ahumpay",
           "to shrink by cold or pain"
          ],
          [
           "ahus chiru",
           "kind of medicinal plant of the jungle"
          ],
          [
           "akakuy",
           "to shit in"
          ],
          [
           "akapakuy",
           "to get mouldy"
          ],
          [
           "akatuwawa",
           "kind of medicinal plant of the jungle"
          ],
          [
           "akayta mikuy supiyta pitay",
           "eat my shit and smoke my fart!"
          ],
          [
           "akllachiy",
           "to make choose"
          ],
          [
           "akllamuy",
           "to go to choose"
          ],
          [
           "akllapayay",
           "to choose repeatedly"
          ],
          [
           "akllapuy",
           "to choose for someone"
          ],
          [
           "aknupu ñañaka",
           "precious women's dress"
          ],
          [
           "akñichiy",
           "to make a child burp after nursing"
          ],
          [
           "aksullichiy",
           "to dress someone"
          ],
          [
           "aksullikuy",
           "to dress oneself"
          ],
          [
           "akukutinchiq",
           "multiple of gram"
          ],
          [
           "akulli",
           "portion of coca to chew"
          ],
          [
           "akulliy",
           "to chew coca"
          ],
          [
           "akuy",
           "to grow coca"
          ],
          [
           "alabaduy",
           "to sing the Alabado"
          ],
          [
           "alaw!",
           "what terribly pain!"
          ],
          [
           "alawniy",
           "to hurt terribly"
          ],
          [
           "alay",
           "to be hot"
          ],
          [
           "alay",
           "to be cold"
          ],
          [
           "alaymuska",
           "hard, green or blue stone used as grind stone"
          ],
          [
           "alchay",
           "to harvest corn or beans cutting the stalk"
          ],
          [
           "aligriyay",
           "to be happy"
          ],
          [
           "alimiski",
           "the bird's tail"
          ],
          [
           "alistakuy",
           "to prepare oneself"
          ],
          [
           "alkatakuy",
           "to raise the skirt"
          ],
          [
           "alkuy",
           "to heap maize"
          ],
          [
           "almasay",
           "to make a hotbed"
          ],
          [
           "almilla",
           "dress worn by Indian women"
          ],
          [
           "almusay",
           "to have lunch"
          ],
          [
           "alqa",
           "white of the eye"
          ],
          [
           "alqamari",
           "kind of falcon"
          ],
          [
           "Alqamayu",
           "river that springs from Machu Pikchu"
          ],
          [
           "alsa",
           "food that receives anyone who collaborates within a celebration"
          ],
          [
           "alsakuy",
           "to get food in return for helping in a celebration"
          ],
          [
           "altus",
           "second floor of a house"
          ],
          [
           "alunsillu",
           "medical plant used against internal irritations"
          ],
          [
           "alwiris",
           "person who is responsable for a celebration"
          ],
          [
           "allachikuy",
           "to make oneself dig"
          ],
          [
           "allachiy",
           "to make dig"
          ],
          [
           "allampasu",
           "kind of medicinal plant of the Ecuadorian jungle"
          ],
          [
           "allamuy",
           "to go to dig"
          ],
          [
           "allankachiy",
           "to lay on the back"
          ],
          [
           "allankay",
           "to lie down on the back"
          ],
          [
           "allapuy",
           "to dig for someone"
          ],
          [
           "allaq",
           "early morning, pre-breakfast work period, used especially during the broad bean harvest in May"
          ],
          [
           "allarpachiy!",
           "make him dig!"
          ],
          [
           "allarpariy",
           "to dig at once"
          ],
          [
           "allaysiy",
           "to help to dig"
          ],
          [
           "allichu?",
           "Is it OK?"
          ],
          [
           "alli kawsayta chariy",
           "to assume a good lifestyle"
          ],
          [
           "allikuta ñiy",
           "to be right"
          ],
          [
           "allillachu kanchik?",
           "are we fine?"
          ],
          [
           "allillachu kanki?",
           "are you fine?"
          ],
          [
           "allinchiq churay",
           "to put into order"
          ],
          [
           "allin hampiy ruraykuna",
           "public health administration"
          ],
          [
           "allin kawsay hayñi",
           "right of health"
          ],
          [
           "allin kawsay tarikuq wasi",
           "institute for social security"
          ],
          [
           "Allinlla Musuq Wata!",
           "Happy New Year!"
          ],
          [
           "allinllata ñiy",
           "to be right"
          ],
          [
           "allinpiraq",
           "in the early afternoon"
          ],
          [
           "allin rikch'ay",
           "to conduct oneself"
          ],
          [
           "allin rikch'ay",
           "to look good"
          ],
          [
           "allin simita chariq",
           "who speaks politely and without murmuring"
          ],
          [
           "allin tupay",
           "to make oneself better to get the thank"
          ],
          [
           "allin wasa tukuy",
           "to be lucky"
          ],
          [
           "allin yachay",
           "to be sure"
          ],
          [
           "allipuy",
           "to heal someone"
          ],
          [
           "alli ruk'isqa p'acha",
           "thick, closewoven cloth"
          ],
          [
           "alli wapa",
           "kind of medicinal plant of the Ecuadorian jungle"
          ],
          [
           "alliyay",
           "come to terms"
          ],
          [
           "allmiy",
           "to raise something stretched on the side"
          ],
          [
           "allpa amarun k'aspi",
           "kind of medicinal plant of the Ecuadorian jungle"
          ],
          [
           "allpachakuy",
           "to become dust"
          ],
          [
           "allpachay",
           "to turn to dust"
          ],
          [
           "allpampay",
           "surface of the Earth"
          ],
          [
           "allpañutuchiy",
           "to remove lumps of earth"
          ],
          [
           "allpapachapampa",
           "surface of the Earth"
          ],
          [
           "allpatiru",
           "person who eats soil"
          ],
          [
           "allpayay",
           "to become earth"
          ],
          [
           "allpayay",
           "to become earth"
          ],
          [
           "allqa quwikuna",
           "brown guinea pigs"
          ],
          [
           "allquchakuy",
           "to lose control over oneself"
          ],
          [
           "allquchanakuy",
           "to treat each other without respect"
          ],
          [
           "allqu p'anqa",
           "kind of medicinal plant of the Ecuadorian jungle"
          ],
          [
           "allquqa aychata achun",
           "the dog carries meat in its mouth"
          ],
          [
           "allqu sirwisyu",
           "task of a five-year-old girl to prepare food for dogs"
          ],
          [
           "allquta yalliq qillapuniq",
           "lazier than a dog"
          ],
          [
           "allqu tuna",
           "a type of cactus like qhewillu"
          ],
          [
           "allqu thaqu",
           "kind of thorny acacia tree"
          ],
          [
           "allqu uya",
           "ugly to make fear"
          ],
          [
           "allwi masi",
           "warping partners, often a master weaver and protegee"
          ],
          [
           "allwirayay",
           "to remain warped"
          ],
          [
           "allwirquy",
           "to finish warping"
          ],
          [
           "allwisqata aykaq illawa q'aytu",
           "threads that open the tissue"
          ],
          [
           "allwitamuy",
           "to keep warped"
          ],
          [
           "ama allillamantachu!",
           "not too slowly!"
          ],
          [
           "ama ch'ulla-ch'ulla kachunqa",
           "so that it is not unequal"
          ],
          [
           "Ama hina!",
           "Don't be that way!"
          ],
          [
           "ama kirpa",
           "earth capsules of certain worms"
          ],
          [
           "Ama llulla, ama qilla, ama suwa!",
           "Don't ly, don't be lazy, don't steal!"
          ],
          [
           "amansibasqa",
           "living in concubinage"
          ],
          [
           "amañay",
           "to adapt oneself"
          ],
          [
           "ama phiñakuspa!",
           "don't be angry!"
          ],
          [
           "amaru",
           "medical herb whose branches are similar to snakes"
          ],
          [
           "amarun uchu",
           "kind of medicinal plant of the Ecuadorian jungle"
          ],
          [
           "amasanka",
           "one of the main deities of the Lowland Kichwas"
          ],
          [
           "ama tiklla tukuchunqa",
           "so that it does not become dirty"
          ],
          [
           "amawtata napaykuni",
           "greetings to the teacher"
          ],
          [
           "amay",
           "to be accustomed"
          ],
          [
           "Ami",
           "deity in the tales of Waruchiri, a tutelary wak'a of the Chiqa people"
          ],
          [
           "amichikuy",
           "to be bored"
          ],
          [
           "amiy",
           "to be fed up"
          ],
          [
           "ampalaqwa",
           "kind of snake"
          ],
          [
           "amuqyay",
           "to become soft"
          ],
          [
           "amurayay",
           "to hold in one's mouth"
          ],
          [
           "anakuy",
           "to put a dress on"
          ],
          [
           "ana k'aspi",
           "kind of medicinal plant of the jungle"
          ],
          [
           "anata",
           "clarinet of wood"
          ],
          [
           "anay",
           "to be hard"
          ],
          [
           "anchapuni",
           "to a large extent"
          ],
          [
           "Anchata agradisiyki!",
           "Thank you very much!"
          ],
          [
           "anchay",
           "to spread the legs"
          ],
          [
           "anchu",
           "kind of bean"
          ],
          [
           "anchurapa",
           "plant, leaves used in orange dye"
          ],
          [
           "anchhuy",
           "to take away"
          ],
          [
           "ankallikuy",
           "to offer resistance"
          ],
          [
           "ankallu",
           "precious dress of women in old times"
          ],
          [
           "ankallu p'achayuq",
           "woman dressed with precious clothes"
          ],
          [
           "anku pahu",
           "kind of medicinal plant of the Ecuadorian jungle"
          ],
          [
           "ankupayay",
           "to have compassion"
          ],
          [
           "anku sach'a",
           "kind of medicinal plant of the rainforest"
          ],
          [
           "ankhari",
           "messenger spirits of the apus"
          ],
          [
           "anquchi",
           "kind of tree"
          ],
          [
           "ansaqiy",
           "to become exhausted"
          ],
          [
           "ansa waycha",
           "kind of herb"
          ],
          [
           "anta",
           "species of pachyderm of the Amazon"
          ],
          [
           "antaku",
           "plant used to dye reddish-yellow"
          ],
          [
           "antanka",
           "plant used to dye black or dark brown"
          ],
          [
           "antankap sapran",
           "lichen used to dye strong yellow"
          ],
          [
           "anta qullqi",
           "alloy of silver and copper"
          ],
          [
           "antarka",
           "lying on the back"
          ],
          [
           "antawara",
           "reddish clouds seen in morning and evening"
          ],
          [
           "antawaramuy",
           "to cloud over red"
          ],
          [
           "antigal",
           "place where are remains of pre-columbian buildings"
          ],
          [
           "anti llaqtachakuq",
           "inhabitants of the Andes"
          ],
          [
           "anti llaqtayuq",
           "inhabitants of the Andes"
          ],
          [
           "anukchi",
           "kind of maize with tiny grain"
          ],
          [
           "añapa",
           "dessert made out of white grinded carob dissolved in water"
          ],
          [
           "Añasi",
           "deity in the tales of Waruchiri, a tutelary wak'a of the Chiqa people"
          ],
          [
           "añawaya",
           "kind of spine plant with yellow flowers"
          ],
          [
           "apa",
           "very thick blanket"
          ],
          [
           "apachikuy",
           "to send something"
          ],
          [
           "apachimpuy",
           "to go to send something for someone"
          ],
          [
           "apachiqta",
           "an ancient prayer of thanks spoken upon arrival at the top of a mountain, meaning roughly, \"lord surely you must have carried me\""
          ],
          [
           "apakamuy",
           "to bring along"
          ],
          [
           "apaku",
           "person who takes things away without giving them back"
          ],
          [
           "apaku",
           "mythical kidnapper who steals children"
          ],
          [
           "apalli",
           "backstrap of backstrap loom"
          ],
          [
           "apapu suwapu",
           "who steals as much as he can"
          ],
          [
           "apaqachiy",
           "to make carry down"
          ],
          [
           "apaqamuy",
           "to go to carry down"
          ],
          [
           "apaqapuy",
           "to carry something down for someone"
          ],
          [
           "apaqay",
           "to carry down"
          ],
          [
           "apaqaysiy",
           "to help to carry down"
          ],
          [
           "apariy kancha",
           "means of transport"
          ],
          [
           "aparki",
           "thick blanket sewn together out of many cloths"
          ],
          [
           "aparquy",
           "to carry fast"
          ],
          [
           "apaysiy",
           "to help to carry"
          ],
          [
           "api wapa",
           "kind of medicinal plant of the Ecuadorian jungle"
          ],
          [
           "apiy",
           "to cook pudding"
          ],
          [
           "apiyay",
           "to be cooked soft"
          ],
          [
           "aprikuy",
           "to carry on one's back"
          ],
          [
           "aptapiy",
           "to put into a corner"
          ],
          [
           "aptirayay",
           "to hold in one's fist"
          ],
          [
           "apumpu",
           "kind of medicinal plant of the Ecuadorian jungle"
          ],
          [
           "Apunchik kawsarispa wichay",
           "Ascention of Christ"
          ],
          [
           "Apunchik manaraq hamuy wata",
           "year before Christ"
          ],
          [
           "apurayman yachay",
           "to learn fast"
          ],
          [
           "Apu Sinak'ara",
           "tutelary mountain spirit of the Qoyllor Rit'i festival"
          ],
          [
           "apuskachay",
           "to be proud of"
          ],
          [
           "apuy",
           "time to breast-feed the baby"
          ],
          [
           "apuyay",
           "to become the boss"
          ],
          [
           "aphata",
           "reciprocal \"gift\" given at weddings and other fiestas"
          ],
          [
           "aqarwitu",
           "small crop-destructive lizard"
          ],
          [
           "aqchaqaray",
           "to take someone violently by his hairs"
          ],
          [
           "aqchi",
           "bird of prey"
          ],
          [
           "aqi",
           "a woman's mother in law"
          ],
          [
           "aqnuy",
           "to chew partially"
          ],
          [
           "aqu",
           "mother-in-law of the man"
          ],
          [
           "aqhachiy",
           "to order to brew chicha"
          ],
          [
           "aqha llanthu",
           "flag of a chicha bar"
          ],
          [
           "arakuku",
           "kind of eagle owl"
          ],
          [
           "araq",
           "potato dug out before harvest"
          ],
          [
           "araray!",
           "what a heat!"
          ],
          [
           "arariwa",
           "guardian of fields and fruits"
          ],
          [
           "arariwa apu",
           "judge of the fields"
          ],
          [
           "arariway",
           "to watch or guard the fields"
          ],
          [
           "arayan",
           "kind of tree"
          ],
          [
           "ari, tiyanmi",
           "yes, there is"
          ],
          [
           "arisina",
           "it seems that yes"
          ],
          [
           "arkayuyu",
           "aromatic herb promoting digestion"
          ],
          [
           "arku",
           "heap of maize plants cut in harvest"
          ],
          [
           "armasqanilla",
           "I just bathed"
          ],
          [
           "arphayaykapuy",
           "to go blind"
          ],
          [
           "arrimay",
           "to lean against"
          ],
          [
           "arrindakuy",
           "to go into service"
          ],
          [
           "arrusillu",
           "very small maize"
          ],
          [
           "arwikakuy",
           "to be entangled"
          ],
          [
           "As!; Asá!",
           "So it's called!"
          ],
          [
           "asa kaskama",
           "see you soon"
          ],
          [
           "asata kaskama",
           "see you soon"
          ],
          [
           "asi",
           "yes, they say"
          ],
          [
           "asikita",
           "plaited mat of thin cane attached in the river to catch fish"
          ],
          [
           "askama",
           "in a moment"
          ],
          [
           "askama!",
           "see you later!"
          ],
          [
           "askamalla",
           "just a moment"
          ],
          [
           "as kikin",
           "almost the same"
          ],
          [
           "aslla machariy",
           "to get tipsy"
          ],
          [
           "asnakitu",
           "small woodpecker with unpleasant smell"
          ],
          [
           "asna p'anqa",
           "kind of medicinal plant of the rainforest"
          ],
          [
           "asnaq pinchi",
           "kind of jungle tree, 17-30 m high"
          ],
          [
           "aspiriy",
           "to scratch oneself"
          ],
          [
           "astachiy",
           "to make someone bring something"
          ],
          [
           "Asta kasqaman!",
           "See you later!"
          ],
          [
           "astana",
           "things that can be brought"
          ],
          [
           "astanakuy",
           "to change each other one's clothes"
          ],
          [
           "astana qallwa",
           "means of transport"
          ],
          [
           "astapuy",
           "to bring something for someone"
          ],
          [
           "astiy",
           "to dig out"
          ],
          [
           "asukar wayu",
           "kind of medicinal plant of the jungle"
          ],
          [
           "asuriy",
           "to move off"
          ],
          [
           "asuykamuy",
           "to approach hither"
          ],
          [
           "aswakuy",
           "to make chicha"
          ],
          [
           "aswan-aswan",
           "more and more"
          ],
          [
           "aswan huk chhika",
           "a little more"
          ],
          [
           "aswap ñawin",
           "first chicha taken from the porongo"
          ],
          [
           "asway",
           "to make chicha"
          ],
          [
           "ashaka",
           "with the mouth opened"
          ],
          [
           "asharita",
           "woman with her mouth opened"
          ],
          [
           "atamiski",
           "kind of tree"
          ],
          [
           "atara",
           "thick blanket sewn together out of many cloths"
          ],
          [
           "atawqay",
           "fortune in war and honor, renovation of the Inka empire"
          ],
          [
           "atillcha purantin; atillcha matintin",
           "two equal things"
          ],
          [
           "atindiy",
           "to pay attention to"
          ],
          [
           "atipachiy",
           "to make win"
          ],
          [
           "atipamuy",
           "to go to win"
          ],
          [
           "atiray",
           "to take one thing from off another"
          ],
          [
           "atiy rikch'ay",
           "awaking of power of movement"
          ],
          [
           "atuq waqachi",
           "kind of cactus used for hedges against foxes"
          ],
          [
           "awa",
           "kind of tree of the Ecuadorian jungle, up to 30 m tall, with light green, fragrant flowers, medicinal plant"
          ],
          [
           "awa amarun k'aspi",
           "kind of medicinal plant of the Ecuadorian jungle"
          ],
          [
           "awa aparina",
           "backstrap of backstrap loom"
          ],
          [
           "awachiy",
           "to make weave"
          ],
          [
           "awaki kasana unku",
           "shirt with chessboard design on the shoulders"
          ],
          [
           "awaki unku",
           "shirt with chessboard design from the shoulders to the chest"
          ],
          [
           "awaku",
           "kind of fish"
          ],
          [
           "awa k'aspikuna",
           "two roller bars holding warp taut on horizontal loom"
          ],
          [
           "awamuy",
           "to go to weave"
          ],
          [
           "awanakuna",
           "loom and weaving utilities"
          ],
          [
           "awana waska",
           "suspending rope for backstrap loom"
          ],
          [
           "awapuy",
           "to weave for someone"
          ],
          [
           "awarayay",
           "to keep weaving long time"
          ],
          [
           "awariy",
           "to start weaving"
          ],
          [
           "awatamuy",
           "to go leaving the woven thing"
          ],
          [
           "awaysiy",
           "to help to weave"
          ],
          [
           "awchay",
           "to cut potatoes when harvesting them"
          ],
          [
           "awispa bagri",
           "kind of catfish of the Amazon"
          ],
          [
           "awiwa",
           "green larva with two antennae destroying the leaves of plants"
          ],
          [
           "awki ruwal",
           "major spirit or deity living in the major mountains"
          ],
          [
           "awqay chapcha",
           "destructor of enemies"
          ],
          [
           "awru iru",
           "kind of medicinal plant of the Ecuadorian jungle"
          ],
          [
           "awru muyu",
           "kind of medicinal plant of the Ecuadorian jungle"
          ],
          [
           "awru p'anqa",
           "kind of medicinal plant of the Ecuadorian jungle"
          ],
          [
           "ayapana",
           "kind of eupatorium, plant leaves used to dye blue"
          ],
          [
           "aya p'achalliq",
           "who wraps the corpse"
          ],
          [
           "Ayar awqa",
           "present age of iron and war"
          ],
          [
           "ayariy",
           "to become embittered"
          ],
          [
           "aya uma",
           "person who has Pachamama's energy"
          ],
          [
           "ayay",
           "to open one's mouth"
          ],
          [
           "ayay",
           "to carry something on one's shoulder"
          ],
          [
           "aycha kanka",
           "roasted dry meat"
          ],
          [
           "aychasapa",
           "well in flesh"
          ],
          [
           "Aychata manam mikhunichu!",
           "I don't eat meat!"
          ],
          [
           "aychiy",
           "to move something to dilute it"
          ],
          [
           "ayka",
           "kind of diarrhoea children suffer from during dentition"
          ],
          [
           "aylampu",
           "kind of medicinal plant of the rainforest"
          ],
          [
           "ayllu apu",
           "a local tutelary mountain spirit who oversees a small village or community, related with the first level of the andean path"
          ],
          [
           "ayllu chariy",
           "to have family"
          ],
          [
           "aylluchay",
           "to marry into a family"
          ],
          [
           "ayllukunapaq hayñi",
           "the family's rights"
          ],
          [
           "ayllukuy",
           "to warm up"
          ],
          [
           "ayllumanta rimasun",
           "let's talk about the family"
          ],
          [
           "ayllunakuy",
           "to recognize kinship"
          ],
          [
           "ayllu ñiqiyasqa",
           "degree of relationship"
          ],
          [
           "Ayllupi Yachachiymanta Kunay",
           "Communal Education Council"
          ],
          [
           "ayllupura",
           "individuals from the same community"
          ],
          [
           "aylluyachiy",
           "to marry into a family"
          ],
          [
           "aynikutichiy",
           "to return help"
          ],
          [
           "aynikuy",
           "to help each other"
          ],
          [
           "ayni qupuy",
           "to return help"
          ],
          [
           "aynita kutichiy",
           "to return help"
          ],
          [
           "ayqichiy",
           "to chase away"
          ],
          [
           "ayriwaki",
           "big corn cob"
          ],
          [
           "ayru-ayru",
           "who staggers when walking"
          ],
          [
           "aysakuy",
           "to drink out of one's hand"
          ],
          [
           "aysay",
           "to carry with the hand"
          ],
          [
           "aysay",
           "to weigh on the scales"
          ],
          [
           "ayur sach'a",
           "kind of plant of the jungle used as medicine against bronchitis"
          ],
          [
           "ayusqa",
           "dishonored by adultery"
          ],
          [
           "ayuy",
           "to commit adultery"
          ],
          [
           "bagri k'aspi",
           "kind of medicinal plant of the Ecuadorian jungle"
          ],
          [
           "bankitu",
           "person who serves for fear to wizards and witches"
          ],
          [
           "Bartulu",
           "old name of Betanzos"
          ],
          [
           "batan raya",
           "kind of freshwater ray of the Amazon"
          ],
          [
           "bawtisakuy",
           "to be baptized"
          ],
          [
           "baya saqa",
           "plant used to dye brown purple whose color is not persistent"
          ],
          [
           "bayuka",
           "caterpillar with silky hairs causing swellings on one's skin"
          ],
          [
           "billaku isanka",
           "giant ant with spines causing painful swellings on the skin"
          ],
          [
           "billaku k'aspi",
           "kind of medicinal plant of the jungle"
          ],
          [
           "briya",
           "tree whose wounds a tar-like substance is won from"
          ],
          [
           "bulanchaw",
           "ball made out of paste of mistol fruits, covered with flour of toasted maize"
          ],
          [
           "bulita",
           "galls on plants caused by insects or mites"
          ],
          [
           "bumbulu",
           "of rounded shape"
          ],
          [
           "bumbuna",
           "kind of pidgeon"
          ],
          [
           "bunday",
           "to peel something"
          ],
          [
           "burru k'allampa",
           "type of wild honey"
          ],
          [
           "chachachinakuy",
           "to knock down each other"
          ],
          [
           "chachachiy",
           "to knock down"
          ],
          [
           "chachakuma",
           "kind of tree whose wood is used for furniture, healing plant"
          ],
          [
           "chachanayay",
           "to be ready to fall"
          ],
          [
           "chakachiy",
           "to choke on"
          ],
          [
           "chakakakay",
           "to make noise when breaking"
          ],
          [
           "chakatarayay",
           "to be crucified"
          ],
          [
           "chakay",
           "to draw with a ladle"
          ],
          [
           "chakin chakinta purikuy",
           "always go on foot"
          ],
          [
           "chakinllan",
           "with big feet"
          ],
          [
           "chakinta q'iwikuy",
           "to twist one's foot"
          ],
          [
           "chaki pampa",
           "sole of the foot"
          ],
          [
           "chaki p'allta",
           "sole of the foot"
          ],
          [
           "chakisituyuqña",
           "baby who is able to walk"
          ],
          [
           "chaki tawqay",
           "to cross one's legs"
          ],
          [
           "chakiyuqña wawa",
           "child who is already able to walk"
          ],
          [
           "chakmay",
           "to divide into three"
          ],
          [
           "chakpa",
           "of female gender or sex"
          ],
          [
           "chakrachay",
           "to work one's piece of land"
          ],
          [
           "chakray",
           "to know how to work on the field"
          ],
          [
           "chakra yapuy",
           "time of ploughing"
          ],
          [
           "chakuq",
           "kind of very aggressive ant"
          ],
          [
           "chakwa",
           "South American partridge"
          ],
          [
           "chak'u",
           "unequal not coming together"
          ],
          [
           "chala",
           "leaf covering the corn cob"
          ],
          [
           "chal-chal",
           "thornless small tree with thin bark and reddish eatable fruits"
          ],
          [
           "chalchaliru",
           "kind of bird that likes chal-chal fruits"
          ],
          [
           "challakiru",
           "with few teeth"
          ],
          [
           "challamanta hamuni",
           "I come from the coast"
          ],
          [
           "challchachiy",
           "to boil rapidly"
          ],
          [
           "challchay",
           "to boil rapidly"
          ],
          [
           "challi p'anqa",
           "kind of medicinal plant of the Ecuadorian jungle"
          ],
          [
           "Challkuchima",
           "Inka captain in the times of the Spanish conquest"
          ],
          [
           "challwa kanka",
           "roasted dry fish"
          ],
          [
           "chamañuway",
           "plant used to dye yellow"
          ],
          [
           "chamisal",
           "place in the forest where the trees have been cut down and only weeds grow"
          ],
          [
           "champa",
           "brick of earth and dried straw"
          ],
          [
           "champira",
           "kind of palm tree of the jungle"
          ],
          [
           "champirima",
           "kind of fish of the Amazon"
          ],
          [
           "chamqachiy",
           "to make throw"
          ],
          [
           "chankanpayay",
           "to pass above"
          ],
          [
           "chankay",
           "to take between the legs"
          ],
          [
           "chankunakuy",
           "to bind hands"
          ],
          [
           "chañár",
           "tree whith yellow bark and sweet, eatable fruits"
          ],
          [
           "Chapaku",
           "person from Tarija"
          ],
          [
           "chapaq kamaypaqtachi pusaq",
           "provincial police command"
          ],
          [
           "chapay",
           "to block one's escape"
          ],
          [
           "chapchay",
           "to eat without manners"
          ],
          [
           "chapi",
           "plant used in Huancayo to dye reddish yellow"
          ],
          [
           "chapi-chapi",
           "red dye source"
          ],
          [
           "chapu-chapu[spa] rimay",
           "to speak a mixed language"
          ],
          [
           "chaqakushqa",
           "already at night"
          ],
          [
           "chaqchay",
           "to chew coca"
          ],
          [
           "chaqlla",
           "branch used as pile for a roof"
          ],
          [
           "chaqnachiy",
           "to make load"
          ],
          [
           "chaqnana",
           "load carried by mules"
          ],
          [
           "chaqnaq",
           "person who loads"
          ],
          [
           "chaqrukipay",
           "to mix in"
          ],
          [
           "chaqruku",
           "kind of medicinal plant of the rainforest used in popular medicine against arthritis and cold, it is a powerful abortive"
          ],
          [
           "chaqru p'anqa",
           "kind of medicinal plant of the jungle"
          ],
          [
           "chaqu",
           "kind of very aggressive ant"
          ],
          [
           "chaquruy",
           "to stake out"
          ],
          [
           "chaquy",
           "to clear and burn a piece of land"
          ],
          [
           "charapa p'anqa",
           "kind of medicinal plant of the Ecuadorian jungle"
          ],
          [
           "charichiy",
           "to take in pawn"
          ],
          [
           "charikuy",
           "to be jealous"
          ],
          [
           "charinqapaqmi",
           "for to have"
          ],
          [
           "charisqata qillqakamachiy",
           "register of property"
          ],
          [
           "chariykanakuy",
           "to take each other by the hands"
          ],
          [
           "charki",
           "hot meal of potatoes and olluco"
          ],
          [
           "chaskiq hamuy!",
           "come to get!"
          ],
          [
           "chaskiyay",
           "to be wrong"
          ],
          [
           "chaski yuyu",
           "thornless, evergreen shrub with intensively green leaves"
          ],
          [
           "chatasqa",
           "meal prepared of dried meat and rice"
          ],
          [
           "chawata",
           "kind of terrestrial turtle of the jungle"
          ],
          [
           "chawata k'aspi",
           "kind of jungle tree, 6-10 m high"
          ],
          [
           "chawayay",
           "to get brutalized"
          ],
          [
           "chawchiyay",
           "to do any work to make money"
          ],
          [
           "chawchu",
           "shoot of tubers"
          ],
          [
           "chawk'a",
           "heaps, method of cultivation on plain land, where the crops are planted singularly, like maize, beans or potatoes, on small, conical heaps in small parcels"
          ],
          [
           "chawpi kuska",
           "half straight line"
          ],
          [
           "chawpinasqa",
           "by means of"
          ],
          [
           "chawpinnay",
           "to make off-centre"
          ],
          [
           "chawpirana",
           "main valley in the Andes"
          ],
          [
           "chawpirkachiy",
           "to put into the middle"
          ],
          [
           "chawpi wata",
           "half a year"
          ],
          [
           "chawpiy",
           "to divide in two"
          ],
          [
           "chawpiyaq chanikuna",
           "values around the mean value"
          ],
          [
           "chawpiyay",
           "to confine oneself to the half"
          ],
          [
           "chawpi yunka",
           "intermediate zone between cold and hot climate"
          ],
          [
           "chaya-chaya!",
           "Look, there they are!"
          ],
          [
           "chayachiy",
           "to make arrive"
          ],
          [
           "chayapu",
           "incurable chronic disease"
          ],
          [
           "chayay",
           "to accede to"
          ],
          [
           "chayay",
           "to cook one's meal"
          ],
          [
           "chayayninman simiyta chachichiy",
           "to say, do or think exactly what is necessary"
          ],
          [
           "chay hina chay hina",
           "more or less"
          ],
          [
           "chay hina kachun",
           "it should be like that"
          ],
          [
           "chaykama!",
           "See you then!"
          ],
          [
           "chaypitaq",
           "at this moment"
          ],
          [
           "Chayqa allinmi!",
           "That is good!"
          ],
          [
           "chay uramanta",
           "from that hour"
          ],
          [
           "chichi",
           "food ground up for small children"
          ],
          [
           "chichilla",
           "thin strip to decorate the scarf"
          ],
          [
           "chichiri",
           "kind of plant"
          ],
          [
           "chichuchiy",
           "to make pregnant"
          ],
          [
           "chichukuy",
           "to be pregnant"
          ],
          [
           "chichuña",
           "she is already pregnant"
          ],
          [
           "chichuriy",
           "to get pregnant"
          ],
          [
           "chichuy",
           "to be pregnant"
          ],
          [
           "chichuyachiy",
           "to make pregnant"
          ],
          [
           "chichuyay",
           "to become pregnant"
          ],
          [
           "chikama",
           "see you later"
          ],
          [
           "chikan rakiqniyuq p'aki yupaykuna",
           "fractions of different denominations"
          ],
          [
           "chikanyay",
           "to be different"
          ],
          [
           "chiki",
           "kind of small parrot"
          ],
          [
           "chikiray",
           "to seperate baby animals from their mother"
          ],
          [
           "chikllachiy",
           "to make choose"
          ],
          [
           "chikllapuy",
           "to select something for someone"
          ],
          [
           "chiklliy",
           "to sprout after being cut"
          ],
          [
           "chikrun",
           "animal with only one testicle"
          ],
          [
           "chikuru piri-piri",
           "kind of reed, medicinal plant of the jungle"
          ],
          [
           "chikuy",
           "to pen in"
          ],
          [
           "chilalu",
           "kind of bee"
          ],
          [
           "chilpa",
           "curing method for animals"
          ],
          [
           "chilpay",
           "to cure animals using a special method"
          ],
          [
           "chilqu",
           "kind of lizard"
          ],
          [
           "chiltichiy",
           "to make wet"
          ],
          [
           "chillaykuy",
           "to fill in"
          ],
          [
           "chillkiy",
           "to sprout again"
          ],
          [
           "chillpi",
           "kind of shrub"
          ],
          [
           "chillwar",
           "grass species of the puna region"
          ],
          [
           "chimaychi",
           "kind of jungle dance"
          ],
          [
           "chimillu",
           "kind of potato"
          ],
          [
           "chimpalu",
           "kind of tomato"
          ],
          [
           "chimpapura",
           "one opposite to the other"
          ],
          [
           "chimpay",
           "to start fighting"
          ],
          [
           "chimpayk'uchukuna",
           "angle opposite to the vertex"
          ],
          [
           "chimpiyuq",
           "kind of medicinal plant of the Ecuadorian jungle"
          ],
          [
           "Chimpu Uqllu",
           "sister of the Inka Wayna Qhapaq"
          ],
          [
           "chimsiy",
           "to close one's eyes"
          ],
          [
           "china hawaq'ullay",
           "kind of cactus with white flowers and yellow spines used to obtain water"
          ],
          [
           "china kalistu",
           "river red gum"
          ],
          [
           "china mulli",
           "kind of Peruvian mastic-tree"
          ],
          [
           "china t'ula",
           "kind of shrub"
          ],
          [
           "Chincha",
           "people in the north of Qosqo"
          ],
          [
           "chinchanku",
           "plant, leaves used to dye yellow"
          ],
          [
           "chinchi",
           "kind of chilly"
          ],
          [
           "chinchi pallaq",
           "kind of bug-eating bird with a very long beak"
          ],
          [
           "chinchi pila",
           "larva of a bug"
          ],
          [
           "chinchi putu",
           "kind of small monkey"
          ],
          [
           "chinchirkuma",
           "kind of shrub, used for heart diseases"
          ],
          [
           "chinchir wayta",
           "kind of bush having red or yellow flowers that are considered as the Peruvian national flowers"
          ],
          [
           "chini kuru",
           "caterpillar with stinging hairs"
          ],
          [
           "chini kuru pahu p'anqa",
           "kind of medicinal plant of the Ecuadorian jungle, whose young leaves are used against skin infections caused by stingy insect larvae"
          ],
          [
           "chinkariy",
           "to get lost"
          ],
          [
           "chinkay",
           "to be surprised"
          ],
          [
           "chinkaypaq",
           "what can be lost"
          ],
          [
           "chinku",
           "kind of palm tree of the jungle"
          ],
          [
           "chinruy",
           "to bend down"
          ],
          [
           "chipaku",
           "semolina bread with greaves"
          ],
          [
           "chipchi",
           "kind of pumpkin"
          ],
          [
           "chipka",
           "bushy plant growing at high altitudes"
          ],
          [
           "chipyay",
           "to clear up"
          ],
          [
           "chiqachakuy",
           "to justify oneself"
          ],
          [
           "chiqamanta llañu unuy",
           "very fine, thin and soft cloth"
          ],
          [
           "chiqchay",
           "to get rash"
          ],
          [
           "chiqchiy",
           "to smile hypocritically"
          ],
          [
           "chiqyaq qara",
           "agave of turf-green color growing in the puna and on the coast"
          ],
          [
           "chiqyaq waqta",
           "kind of snake with green back"
          ],
          [
           "chira",
           "seed of a red pepper species"
          ],
          [
           "chirapay",
           "to drizzle with sunshine"
          ],
          [
           "chiraq",
           "kind of stalking bird"
          ],
          [
           "chiraw timpu",
           "cold, dry season"
          ],
          [
           "chiri",
           "a \"cold\" temperature or essence in a food or in the environment that enters the body and causes illness"
          ],
          [
           "chirichikuy",
           "to catch a cold"
          ],
          [
           "chiri k'aspi chaqruku",
           "kind of medicinal plant of the rainforest used in popular medicine against arthritis and cold, it is a powerful abortive"
          ],
          [
           "chirimulli",
           "kind of shrub of the Rutaceae family"
          ],
          [
           "chiri mulli",
           "thorny tree with a rounded top with many branches"
          ],
          [
           "chiripaw",
           "kind of meal"
          ],
          [
           "chiriwachkanmi",
           "I am cold"
          ],
          [
           "chiriwanmi",
           "I am cold"
          ],
          [
           "Chiriwanu",
           "tribe of Eastern Bolivia"
          ],
          [
           "chiri wayusa",
           "kind of medicinal plant of the rainforest used in popular medicine against arthritis and cold, it is a powerful abortive"
          ],
          [
           "chirumpi",
           "itching, painful, inflammated boils"
          ],
          [
           "chitkin",
           "kind of bird"
          ],
          [
           "chiwil",
           "kind of shrub"
          ],
          [
           "chiwulsa",
           "woman pretending to be a young girl"
          ],
          [
           "chiyiq",
           "name of a plant"
          ],
          [
           "chiyiy",
           "to squeeze out"
          ],
          [
           "chiyllutuyay",
           "to become deaf"
          ],
          [
           "chuba",
           "white-bellied spider monkey"
          ],
          [
           "chucha",
           "kind of opossum"
          ],
          [
           "chuchichiy",
           "to make a woman nurse"
          ],
          [
           "chuchusapa",
           "with big breasts"
          ],
          [
           "chukcha ruthuy",
           "to clip hair"
          ],
          [
           "chukchay",
           "to tear one's hairs"
          ],
          [
           "chukchuq p'anqa",
           "kind of medicinal plant of the Ecuadorian jungle"
          ],
          [
           "chukchuyay",
           "to fall sick from malaria"
          ],
          [
           "chukchuyuq",
           "sick from malaria"
          ],
          [
           "chukisqa p'acha",
           "thick, closewoven cloth"
          ],
          [
           "chukiy",
           "to press together the threads in the tissue"
          ],
          [
           "chukuchiy",
           "to make sit down"
          ],
          [
           "chukukuy",
           "to put on a hat"
          ],
          [
           "chukuq",
           "who sits down to the ground"
          ],
          [
           "chulaqyay",
           "to get blisters"
          ],
          [
           "chulilla",
           "kind of swallow"
          ],
          [
           "chulunyay",
           "to be silent"
          ],
          [
           "chullchuy",
           "to lose strength"
          ],
          [
           "chullchuykuy",
           "to be without strength"
          ],
          [
           "chullpi",
           "sort of corn"
          ],
          [
           "chullqarayay",
           "to sit down with stretched legs"
          ],
          [
           "chullullulluy",
           "to make spout water from various places"
          ],
          [
           "chulluy",
           "to play in the mud"
          ],
          [
           "Chuma",
           "village north of La Paz"
          ],
          [
           "chumalichiy",
           "to set a dog"
          ],
          [
           "chumalulu",
           "kind of bee"
          ],
          [
           "chumay",
           "to get drunk"
          ],
          [
           "chumchiy",
           "to rinse one's mouth"
          ],
          [
           "chumpi away",
           "ceremony of opening the energy belts"
          ],
          [
           "chumpi paqu",
           "in andean mysticism this refers to a special designation of mystical priest initiated in the art of the chumpi's or opening the energy belts"
          ],
          [
           "chumpi qiru",
           "wooden cup painted in stripes"
          ],
          [
           "chumpiy",
           "to whip about in the wind"
          ],
          [
           "chumpiy",
           "to belt up someone"
          ],
          [
           "chumuku",
           "kind of water bird"
          ],
          [
           "chunkachina",
           "grouping of ten in ten"
          ],
          [
           "chunka kamachiykuna",
           "the ten commandments"
          ],
          [
           "chunkana",
           "game of chance"
          ],
          [
           "chunkawaranqa hunu ch'iqta chayri",
           "ten thousand millionth"
          ],
          [
           "chuntakuru pahu",
           "kind of medicinal plant of the Ecuadorian jungle"
          ],
          [
           "chunta k'aspi",
           "kind of medicinal plant of the Ecuadorian jungle"
          ],
          [
           "chunta paqpa",
           "kind of plant similar to the agave used to gain ropes"
          ],
          [
           "chunta qiru",
           "kind of medicinal plant of the jungle"
          ],
          [
           "chuntay k'aspi",
           "kind of medicinal plant of the jungle"
          ],
          [
           "chunu",
           "without external ear"
          ],
          [
           "chuña",
           "kind of stalking bird related to the crane"
          ],
          [
           "chupayay",
           "to stay behind the other"
          ],
          [
           "chupika qiwa",
           "kind of wild plant whose increasing presence on the filed shows the necessity of fallow"
          ],
          [
           "chupilliy",
           "to tie something round oneself"
          ],
          [
           "chupiy",
           "big tree thick with leaves bearing exquisite fruits very desired by monkeys as well as people"
          ],
          [
           "chuqana",
           "something to throw"
          ],
          [
           "chuqarayay",
           "to throw into all directions"
          ],
          [
           "chuqi",
           "bird of misfortune"
          ],
          [
           "chuqi runa",
           "praise of the worker who is tireless until old age"
          ],
          [
           "chuqniy",
           "to buzz in the ears"
          ],
          [
           "chuqrutu",
           "heavy wool yarn used to bind warp onto a loom for weaving"
          ],
          [
           "chuqyaq",
           "kind of bird"
          ],
          [
           "churachiy",
           "to dress somebody"
          ],
          [
           "churakuy",
           "to prepare oneself"
          ],
          [
           "churakuy",
           "to dare to"
          ],
          [
           "churakuy",
           "to put on clothes"
          ],
          [
           "churamuy",
           "to go to set something"
          ],
          [
           "churapuy",
           "to put back"
          ],
          [
           "churaykuy",
           "to put precisely"
          ],
          [
           "churaysiy",
           "to help to put"
          ],
          [
           "churichaq",
           "who adopts a child"
          ],
          [
           "churikuy",
           "to be rolled up"
          ],
          [
           "churintin",
           "father and sons"
          ],
          [
           "churiyuq",
           "man who has a son"
          ],
          [
           "churkachiy",
           "to make boil"
          ],
          [
           "churkay",
           "to put a bundle into a cloth and tie it onto another one"
          ],
          [
           "churki",
           "kind of thorny acacia tree"
          ],
          [
           "churpuy",
           "to put a pot on the oven"
          ],
          [
           "churu",
           "leather strap for tying the plough tip onto the plough"
          ],
          [
           "churuyay",
           "to stay that way"
          ],
          [
           "chuskiyay",
           "to show vanity"
          ],
          [
           "chuskulayamantam",
           "for four reasons"
          ],
          [
           "chusu",
           "cob or spike without grain"
          ],
          [
           "chusyay",
           "to stab to death"
          ],
          [
           "chuti",
           "kind of fish of the Amazon"
          ],
          [
           "chutu kaballu",
           "horse with blinkers"
          ],
          [
           "chutu kaballuhina puriy",
           "to go like a horse with blinkers"
          ],
          [
           "chutukuy unkuta",
           "to put off a shirt"
          ],
          [
           "chutuy",
           "to put off"
          ],
          [
           "chuwiy",
           "to play at skittles"
          ],
          [
           "chuyllur",
           "kind of tree"
          ],
          [
           "chuyllur",
           "kind of tree"
          ],
          [
           "chhallachiy",
           "to make dry"
          ],
          [
           "chhalla siki",
           "thin like a nail"
          ],
          [
           "chhapu",
           "pitu mixed with caldo"
          ],
          [
           "chhapu chhapitu",
           "very early in the morning"
          ],
          [
           "chhika!",
           "see you later this day"
          ],
          [
           "chhika karuy",
           "to be equidistant"
          ],
          [
           "chhikankamakuy",
           "to be equivalent"
          ],
          [
           "chhilchiy",
           "to fall dew"
          ],
          [
           "chhilkiwa",
           "type of thorn"
          ],
          [
           "chhilltu chilltu",
           "plant with lavender flowers"
          ],
          [
           "chhullankay",
           "to fall hoar-frost"
          ],
          [
           "chhullchu",
           "type of black bird"
          ],
          [
           "chhulli hap'iy",
           "to catch a cold"
          ],
          [
           "chhuqchuy",
           "to eat improperly"
          ],
          [
           "chhustay",
           "to be silent"
          ],
          [
           "chhusuchiy",
           "to make deflate"
          ],
          [
           "chhusuykukuy",
           "to fart silently"
          ],
          [
           "ch'ahayay",
           "to become hoarse"
          ],
          [
           "ch'akataya",
           "type of medicinal plant"
          ],
          [
           "ch'akayay",
           "to become hoarse"
          ],
          [
           "ch'allana",
           "instrument to sprinkle"
          ],
          [
           "ch'allasqa",
           "sprinkled with drinks"
          ],
          [
           "ch'allay",
           "to boil rapidly"
          ],
          [
           "ch'allayta hump'iy",
           "to sweat strongly"
          ],
          [
           "ch'allchay",
           "to rain constantly"
          ],
          [
           "ch'allpachiy",
           "to make splash"
          ],
          [
           "ch'ampay",
           "to plant turf"
          ],
          [
           "ch'anchay",
           "to chew noisily"
          ],
          [
           "ch'anqa",
           "soup of mashed potatoes"
          ],
          [
           "ch'anyita",
           "black and yellow bird used to draw lucks from a box"
          ],
          [
           "ch'aqchu",
           "meal made out of pig heads"
          ],
          [
           "ch'aqchuy",
           "to fall dew"
          ],
          [
           "ch'aqra",
           "kind of herb used for firewoof"
          ],
          [
           "ch'aranyay",
           "to become wet"
          ],
          [
           "ch'ataykuy",
           "to lock a door"
          ],
          [
           "ch'awana",
           "container in which to milk"
          ],
          [
           "ch'awar",
           "kind of plant growing on dry places"
          ],
          [
           "ch'awar mullaypa",
           "rope made out of three agave threads"
          ],
          [
           "ch'awar waska",
           "rope made out of agave fibres"
          ],
          [
           "ch'ichichay",
           "to make dirty"
          ],
          [
           "ch'ili papa",
           "small potato used for making chuño"
          ],
          [
           "ch'ilqiy",
           "to squash between the fingers"
          ],
          [
           "ch'illawi",
           "wheat or grass stock used to feed livestock"
          ],
          [
           "ch'illchimuy",
           "to sprout a new plant"
          ],
          [
           "ch'illka",
           "plant used to dye yellow"
          ],
          [
           "ch'illka rikch'ayjun",
           "plant used to dye light or medium green"
          ],
          [
           "ch'illmiq",
           "who blinks to someone"
          ],
          [
           "ch'illpuy",
           "to mark the cattle cutting small pieces out of the ears"
          ],
          [
           "ch'inniq llaqta",
           "unpopulated village or town"
          ],
          [
           "ch'iñi",
           "very small fish"
          ],
          [
           "ch'iñichallwa",
           "very small fish"
          ],
          [
           "ch'iñi papa",
           "small potato for animals"
          ],
          [
           "ch'ipachiy",
           "to make pack"
          ],
          [
           "ch'iqchi",
           "plant, root used to dye yellow"
          ],
          [
           "ch'iqmikuy",
           "to be bothered"
          ],
          [
           "ch'iru",
           "small, strong horse"
          ],
          [
           "ch'isikilla",
           "first moon phase"
          ],
          [
           "ch'isipi",
           "in the evening"
          ],
          [
           "ch'isita",
           "in the evening"
          ],
          [
           "ch'isiy",
           "to become evening"
          ],
          [
           "ch'isiyachiy",
           "to delay something until the evening"
          ],
          [
           "ch'itiripuy",
           "to be alert"
          ],
          [
           "ch'uchu",
           "kind of tree of the Sapindaceae familiy with black, round fruits with thick, soft skin, grows on the coast, the Andean valleys and the Amazon area"
          ],
          [
           "ch'uhu hap'iy",
           "to catch a cough"
          ],
          [
           "ch'ultichiy",
           "to make someone plunge something"
          ],
          [
           "ch'ulla chaki",
           "daemon of the forest with one normal leg and one resembling that of a goat, a deer, a dog or some other animal"
          ],
          [
           "ch'ulla chaki p'anqa",
           "kind of medicinal plant of the Ecuadorian jungle"
          ],
          [
           "ch'ullachisqa kutin-kutinchiqniyuq puchu",
           "difference of odd exponents"
          ],
          [
           "ch'ullayachiy",
           "to make unequal"
          ],
          [
           "ch'ullaychay",
           "to make unequal"
          ],
          [
           "ch'ullpa",
           "corner of cloth"
          ],
          [
           "ch'umakuy",
           "to be reduced"
          ],
          [
           "ch'umpi paqu",
           "brown like an alpaca"
          ],
          [
           "ch'umpi sara",
           "type of brown corn"
          ],
          [
           "Ch'unchulmayu",
           "river in the city of Qosqo"
          ],
          [
           "ch'unchu wayta",
           "kind of gentian of the high mountain region"
          ],
          [
           "ch'unkuy",
           "to crowd together"
          ],
          [
           "ch'unkuykuy",
           "to crowd together"
          ],
          [
           "ch'unqa",
           "kind of wild plant"
          ],
          [
           "ch'unqa ch'unqa",
           "plant with red velvet flowers"
          ],
          [
           "ch'unqaku",
           "kind of small lizard"
          ],
          [
           "ch'unqana",
           "sweet used for sucking"
          ],
          [
           "ch'uñuchay",
           "to make dried potatoes"
          ],
          [
           "ch'uñurpariy",
           "to be exposed to the cold too much"
          ],
          [
           "ch'uñu saruq",
           "who treads dried potatoes"
          ],
          [
           "ch'upuy",
           "to be infected"
          ],
          [
           "ch'upuyay",
           "to get a pimple"
          ],
          [
           "ch'uqñi ñawi",
           "who has dirty eyes"
          ],
          [
           "ch'uqrikuy",
           "to be wounded"
          ],
          [
           "ch'uqriy",
           "to be wounded"
          ],
          [
           "ch'uqri yuyu",
           "kind of medicinal plant of the Ecuadorian jungle"
          ],
          [
           "ch'usaqta kachiq",
           "God, who makes the not existing be"
          ],
          [
           "ch'usña",
           "small pitcher with narrow mouth"
          ],
          [
           "ch'uspisqa",
           "seed infested by insects"
          ],
          [
           "ch'usuyachiy",
           "to hollow out"
          ],
          [
           "ch'usuyay",
           "to become hollow"
          ],
          [
           "ch'uta",
           "inhabitant of the Altiplano"
          ],
          [
           "ch'utiy",
           "to remove the distaff from spun wool"
          ],
          [
           "ch'utuy",
           "to be never quick-witted"
          ],
          [
           "ch'uya-ch'uya",
           "who walks clean"
          ],
          [
           "ch'uya-ch'uyata away",
           "to weave loose or thin cloth"
          ],
          [
           "ch'uya p'acha",
           "very thin or light cloth"
          ],
          [
           "ch'uyaqllachiy",
           "to purify water"
          ],
          [
           "ch'uya sunqu",
           "heart of clear conscience"
          ],
          [
           "ch'uyayay",
           "to be diluted"
          ],
          [
           "ch'uyllur",
           "kind of tree"
          ],
          [
           "dakuy",
           "to recognize one's merits"
          ],
          [
           "daru",
           "kind of medicinal plant of the Ecuadorian jungle"
          ],
          [
           "dawa",
           "kind of cotinga bird"
          ],
          [
           "dirichuy",
           "to get the unborn child into the right position"
          ],
          [
           "diyantin",
           "all the day"
          ],
          [
           "dunduma",
           "kind of medicinal plant of the Ecuadorian jungle"
          ],
          [
           "dunduma",
           "kind of medicinal plant of the Ecuadorian jungle"
          ],
          [
           "durmi-durmi",
           "kind of bird"
          ],
          [
           "Dyuspi suyana",
           "confidence in God"
          ],
          [
           "Dyus yachan sinallatam yachanki",
           "you will know like God knows"
          ],
          [
           "fandankuy",
           "to dance fandango"
          ],
          [
           "fiymanta willana",
           "article of faith"
          ],
          [
           "fusfuru",
           "plant, leaves used to dye black"
          ],
          [
           "futu hurquy",
           "to take photos"
          ],
          [
           "gallu waqay",
           "the cock's singing"
          ],
          [
           "ganasniy tiyan",
           "I have the desire"
          ],
          [
           "gatyay",
           "to gain secretly a woman's trust in order to maintain a sexual relationship"
          ],
          [
           "Gindas Pampas",
           "plain just before arriving at Tecoya from Betanzos"
          ],
          [
           "glurya unquy",
           "lightning sickness, an illness attributed to being struck by lightning in the lowlands"
          ],
          [
           "Gringu simita rimankichu?",
           "Do you speak English?"
          ],
          [
           "hachay",
           "to cut with an axe"
          ],
          [
           "hach'a ch'illka",
           "plant, leaves used in green dye"
          ],
          [
           "hach'u simi",
           "habitual coca user"
          ],
          [
           "haku kipiy",
           "certain way of folding haku to carry heavy loads, where it is opened on the ground, loaded, two opposite corners tied around the load and the remaining corners tied across the chest after lifting onto the upper back"
          ],
          [
           "Haku mikumusunchik!",
           "let's go to eat"
          ],
          [
           "hakun illawasqa",
           "mode of wearing haku to carry goods where it is tied across the chest as in pikatash and the lower two corners tied around the hips"
          ],
          [
           "haku wallqa mich'akusqa",
           "mode of using haku as bundle to carry small things, knotted opposite ends on both diagonals, arm inserted between knots and bundle lifted onto shoulder"
          ],
          [
           "haku wallqasqa",
           "decorative mode of wearing haku over shoulder, knotted at chest, and under opposite arm"
          ],
          [
           "Haku wasita!",
           "let's go to the house"
          ],
          [
           "haku waska",
           "mode of wearing haku by men for support, doubled several times diagonally and tied around waist"
          ],
          [
           "hakuy",
           "to be empty"
          ],
          [
           "hakuy",
           "to wash clothes"
          ],
          [
           "Hakuychik!",
           "Let's go all!"
          ],
          [
           "hak'alawa",
           "soup of young corn cobs"
          ],
          [
           "hak'uchiy",
           "to make grind cereals in a mill"
          ],
          [
           "hak'uy",
           "to grind cereals in a mill"
          ],
          [
           "halki",
           "who eats too much"
          ],
          [
           "hallk'akuy",
           "to get frightened"
          ],
          [
           "hallmukiru",
           "who lost his or her teeth"
          ],
          [
           "hallpa",
           "gravy made of corn flour to eat with \"coles yano\""
          ],
          [
           "hallpay",
           "to chew coca"
          ],
          [
           "hallq'ay",
           "black and white colored animal"
          ],
          [
           "hamk'achiy",
           "to make toast cereal"
          ],
          [
           "hamk'akipay",
           "to toast slightly"
          ],
          [
           "hamk'a k'analla",
           "special pot to toast corn"
          ],
          [
           "hamk'amuy",
           "to go to toast cereal"
          ],
          [
           "hamk'apuy",
           "to toast cereal for someone"
          ],
          [
           "hampiripaq",
           "who can be healed"
          ],
          [
           "hampuy",
           "to come returning"
          ],
          [
           "hamullayki",
           "I come to visit you"
          ],
          [
           "hamupasaq",
           "Ok, I will come"
          ],
          [
           "hamuq hamuriy",
           "to visit frequently"
          ],
          [
           "hamuq punchawkuna",
           "the next days"
          ],
          [
           "hamuriy",
           "to visit frequently"
          ],
          [
           "hanak'achi",
           "thorn bush with shiny leaves"
          ],
          [
           "hanan pata",
           "upper part of a slope"
          ],
          [
           "hanaq kaq",
           "a bit above"
          ],
          [
           "Hanaqpacha, Kaypacha, Ukhupacha",
           "the three worlds"
          ],
          [
           "hanay",
           "to cover with nappies"
          ],
          [
           "hanch'i",
           "residue of chicha production"
          ],
          [
           "hank'ay",
           "to make instable"
          ],
          [
           "hañakuy",
           "to come along"
          ],
          [
           "hañasyay",
           "to be curious"
          ],
          [
           "hapa-hapa",
           "kind of shrub"
          ],
          [
           "hapaypa",
           "step by step"
          ],
          [
           "hapkay",
           "to breathe through the mouth"
          ],
          [
           "hapru",
           "hapru, kind of tree"
          ],
          [
           "hapuriy",
           "to mix the llajwa"
          ],
          [
           "hap'ikuy",
           "to hold on"
          ],
          [
           "hap'i ñunu",
           "ghosts who used to appear with two big breasts and violently carried off men, women, and children"
          ],
          [
           "haqay hina",
           "in that manner"
          ],
          [
           "haqayñiqpi",
           "by over there"
          ],
          [
           "haqaysitullapi",
           "by over there"
          ],
          [
           "Hararay!",
           "To hell with him!"
          ],
          [
           "harasyay",
           "to lose weight"
          ],
          [
           "harawiy",
           "to sing during work"
          ],
          [
           "hark'achiq",
           "who makes block"
          ],
          [
           "hark'achiy",
           "to make block"
          ],
          [
           "hark'akuy",
           "to protect oneself"
          ],
          [
           "hark'amuy",
           "to go to stop"
          ],
          [
           "hark'ana",
           "spiritual defense against bad forces"
          ],
          [
           "hark'apuy",
           "to stop something for someone"
          ],
          [
           "harwichiy",
           "to make warm up"
          ],
          [
           "harwimuy",
           "to go to warm up"
          ],
          [
           "harwipuy",
           "to warm up something for someone"
          ],
          [
           "hasi",
           "kind of mineral"
          ],
          [
           "hatarichikuy",
           "to raise something for oneself"
          ],
          [
           "hataykachay",
           "to try to stand up"
          ],
          [
           "hatunchakuy",
           "to build oneself up"
          ],
          [
           "hatun charapa",
           "kind of aquatic turtle of the jungle"
          ],
          [
           "hatun karpay",
           "the great or high initiation or transmission"
          ],
          [
           "Hatun Pachakamaq",
           "Great God Creator"
          ],
          [
           "hatun palanta",
           "kind of banana"
          ],
          [
           "hatun puquy",
           "time of great plant growth"
          ],
          [
           "Hatun Q'iru",
           "High Q'eros. This town serves as the ceremonial center, umbilicus or Qosqo of the Q'ero Nation"
          ],
          [
           "hatun rimanakuy suyu",
           "macro-regional space of dialogue and coordination"
          ],
          [
           "hatun rimanakuy wasi",
           "regional space of dialogue and coordination"
          ],
          [
           "hatun sach'a allqu",
           "big forest dog"
          ],
          [
           "hatun sisaq",
           "kind of aquatic plant of the Amazon region"
          ],
          [
           "hatun sullu-sullu",
           "kind of plant"
          ],
          [
           "hat'alliy",
           "to keep up, to sustain, to maintain"
          ],
          [
           "hat'upa",
           "corn cob attacked by carbon fungus"
          ],
          [
           "hawaman hatun hatarikuna!",
           "Long live the big uprisings!"
          ],
          [
           "hawanchay (qusanta, warminta)",
           "to commit adultery"
          ],
          [
           "hawanpi churay",
           "to put above"
          ],
          [
           "hawarikuy simi",
           "fabulous words of admiration"
          ],
          [
           "hawas phasi",
           "toasted and cooked fava bean"
          ],
          [
           "hawayachiy",
           "to rise something"
          ],
          [
           "hawchansu yura",
           "kind of medicinal plant of the Ecuadorian jungle"
          ],
          [
           "hawchay",
           "to make a sauce"
          ],
          [
           "hawichiy",
           "to make someone anoint"
          ],
          [
           "hawikuy",
           "to anoint oneself"
          ],
          [
           "hawipuy",
           "to smear something for someone"
          ],
          [
           "hawka kawsay",
           "to live in peace"
          ],
          [
           "Hawkaypata",
           "square in the city of Qosqo where celebrations took place"
          ],
          [
           "hayachikuy",
           "to burn one's tongue with spices"
          ],
          [
           "hayaq ch'illka",
           "plant, leaves used to dye black"
          ],
          [
           "hayaqin allinta rimay",
           "to talk admirable things"
          ],
          [
           "hayaq willk'u",
           "kind of radish-like plant used as food crop and medicinal plant"
          ],
          [
           "hayaski",
           "kind of shrub"
          ],
          [
           "hayk'akama?",
           "up to how many?"
          ],
          [
           "hayk'a kuti?",
           "how many times?"
          ],
          [
           "hayk'apmanta?",
           "yet how long?"
          ],
          [
           "hayk'ataq watayki?",
           "how old are you?"
          ],
          [
           "hayllikuq",
           "those who celebrate victory cheering and offending the defeated enemies"
          ],
          [
           "hayt'ana",
           "place of the bed where the feet are placed"
          ],
          [
           "hayt'anakuy",
           "to kick each other"
          ],
          [
           "haywachiy",
           "to make reach"
          ],
          [
           "haywamuy",
           "to go to deliver"
          ],
          [
           "haywaykachaq maki",
           "thief who steals everything"
          ],
          [
           "hichiy",
           "to card wool"
          ],
          [
           "hik'iy",
           "to have a hiccups"
          ],
          [
           "hillpuy",
           "to boil in dye"
          ],
          [
           "hillurina",
           "flower of the orchid"
          ],
          [
           "hilluy",
           "to eat sweets on the sly"
          ],
          [
           "hina hinalla",
           "more or less"
          ],
          [
           "hina huk hukmi",
           "one after the other"
          ],
          [
           "hina imallichiq",
           "adverb of manner"
          ],
          [
           "hinam kanqa ñiy",
           "to be right"
          ],
          [
           "hinapacha kay",
           "to be true"
          ],
          [
           "hinaspa hinaspataq",
           "in this way"
          ],
          [
           "hinataq",
           "in the same way"
          ],
          [
           "hink'iy",
           "to walk on tiptoe"
          ],
          [
           "hirgun sach'a",
           "kind of medicinal plant, main uses: snake bite prevention, anti-viral, anti-bacterial"
          ],
          [
           "huchalliy",
           "to commit a delict or crime"
          ],
          [
           "hucha mikhuy",
           "to eat and digest heavy energy with the spiritual stomach, this is the central spiritual practice of the andean priest"
          ],
          [
           "huchanayachiy",
           "to lead into temptation"
          ],
          [
           "huchanayay",
           "to be tempted to sin"
          ],
          [
           "huchata kamata allwiykachay",
           "to start negotiations with great zeal"
          ],
          [
           "huchata kamayta yachaq",
           "Secretary of the Inka"
          ],
          [
           "huchata pampachay",
           "to forgive sin"
          ],
          [
           "hucha yachaq",
           "Secretary of the Inka"
          ],
          [
           "huchayayta taripay",
           "investigation of a crime"
          ],
          [
           "huchayuqkunata wichq'ay",
           "to lock up criminals"
          ],
          [
           "huk hina qhawaykuypiqa - hukpitaq",
           "in one sense - in the other"
          ],
          [
           "huk hukwan ima",
           "one with the other"
          ],
          [
           "huk kaqnin",
           "one of them"
          ],
          [
           "huk kunkalla",
           "with one voice"
          ],
          [
           "huklaw",
           "the other side"
          ],
          [
           "hukllap",
           "one by one"
          ],
          [
           "hukllata",
           "with one blow"
          ],
          [
           "hukllay",
           "to be alone"
          ],
          [
           "huk ñiqin qallari yachay",
           "first level of elementary education"
          ],
          [
           "hukpa kuchunpi churay",
           "to put side by side"
          ],
          [
           "hukpas-hukpas",
           "one after the other"
          ],
          [
           "huk patay paqtachani",
           "first grade education"
          ],
          [
           "huk pillchiwa chayta ñuñuta qatuway",
           "sell me a glass of milk"
          ],
          [
           "huk p'unchawkama",
           "see you another day"
          ],
          [
           "hukqa hukqa",
           "the one ... the other"
          ],
          [
           "huk ratumantaraq",
           "a bit later"
          ],
          [
           "huk simita willachiway",
           "inform me of a curiosity"
          ],
          [
           "huktaq huktaq",
           "the one or the other"
          ],
          [
           "huktaqmi kan",
           "it is another thing"
          ],
          [
           "huk tinki p'acha",
           "a whole piece of male or female clothing"
          ],
          [
           "huk thatkim wañuypaq kawsaypaq kan",
           "it is a matter of life or death"
          ],
          [
           "hukwan kachkaq",
           "being with another"
          ],
          [
           "hulq'i",
           "meal of liver, pumpkin and chillies"
          ],
          [
           "hullut'uma",
           "a type of black and red snake"
          ],
          [
           "humi",
           "kind of shrub"
          ],
          [
           "humi",
           "kind of shrub"
          ],
          [
           "humi-hulli",
           "small humi shrub"
          ],
          [
           "humint'ay",
           "to make tamales"
          ],
          [
           "humisa unsa",
           "kind of palm tree used as carnival tree"
          ],
          [
           "humiwa",
           "small pitcher with narrow neck"
          ],
          [
           "hump'i ch'allayta",
           "to sweat large drops"
          ],
          [
           "hunaqpa",
           "during the day"
          ],
          [
           "hunt'a rimaypa t'aqankuna",
           "parts of speech"
          ],
          [
           "hunt'aykuy",
           "te be filled up"
          ],
          [
           "huñi rimaypa kaynin",
           "structure of speech"
          ],
          [
           "hupay",
           "to collect dry leaves"
          ],
          [
           "huptasqa churi",
           "son born out of wedlock"
          ],
          [
           "hupururu",
           "kind of medical plant of the rainforest used against infertility"
          ],
          [
           "huphupyay",
           "to eat noisily"
          ],
          [
           "huqarichiy",
           "to make raise"
          ],
          [
           "huqarimpuy",
           "to go to raise something for someone else"
          ],
          [
           "huqarimuy",
           "to go to raise"
          ],
          [
           "huqaripuy",
           "to raise something for someone else"
          ],
          [
           "huq'arayay",
           "to become deaf"
          ],
          [
           "huq'ukuy",
           "to become wet"
          ],
          [
           "huq'uri",
           "bird with grey plumage"
          ],
          [
           "huq'uy",
           "to become wet"
          ],
          [
           "huq'uyay",
           "to become wet"
          ],
          [
           "hura",
           "maize germinated for making chicha"
          ],
          [
           "hurquchikuy",
           "to have oneself stripped"
          ],
          [
           "hurquchiy",
           "to make pull out"
          ],
          [
           "hurqumuy",
           "to go to pull out"
          ],
          [
           "hurqupuy",
           "to pull out something distant for someone"
          ],
          [
           "huruchi",
           "bark of a tree"
          ],
          [
           "hutk'uchiy",
           "to make perforate"
          ],
          [
           "hutk'uñawi",
           "who has sunk eyes"
          ],
          [
           "hutk'upuy",
           "to pierce something for someone"
          ],
          [
           "hut'ukuy kamayuq",
           "master of hair dresses"
          ],
          [
           "huyra q'uwa",
           "aromatic plant tied to the baby and his/her mother"
          ],
          [
           "ichinpay",
           "to sit down straddling"
          ],
          [
           "ichiy",
           "to make small steps"
          ],
          [
           "ichiy",
           "to pass above"
          ],
          [
           "ichuy",
           "to mix with a liquid"
          ],
          [
           "ichhu",
           "esophagus of animals"
          ],
          [
           "ichhu-ichhu",
           "straw from the lofty region"
          ],
          [
           "idukakuy",
           "to educate oneself"
          ],
          [
           "ikanchu; ikaku",
           "kind of bird that builds nests of thorns"
          ],
          [
           "ikchuy",
           "to have a hiccups"
          ],
          [
           "ikuha",
           "kind of medicinal plant, main uses: arthritis, lung disorders, diarrhea, malaria, rheumatism"
          ],
          [
           "ilikatu",
           "kind of medicinal plant of the Ecuadorian jungle"
          ],
          [
           "iluli",
           "parasitic worm of the intestine"
          ],
          [
           "illa",
           "star plant, a wild plant associated to a cultivated plant, helps to predict the development of the crop"
          ],
          [
           "illakuna",
           "star plants, wild plants associated to cultivated plants, understood their spirits or souls, help to predict the development of the crops)"
          ],
          [
           "illasqa",
           "an illumined person"
          ],
          [
           "Illa Tupa",
           "Inka captain in the times of the Spanish conquest"
          ],
          [
           "illawanka lumu",
           "kind of medicinal plant of the Ecuadorian jungle"
          ],
          [
           "illpuy",
           "to wrap up a baby"
          ],
          [
           "illu",
           "fond of nibbling"
          ],
          [
           "illuy",
           "to fill with desire"
          ],
          [
           "illuy",
           "to peel something"
          ],
          [
           "imachá?",
           "What will be?"
          ],
          [
           "ima chayri?",
           "What is that?"
          ],
          [
           "imachus?",
           "What thing will be?"
          ],
          [
           "ima hayk'a",
           "every kind of"
          ],
          [
           "ima hina kriyisqata yachay",
           "to test the belief"
          ],
          [
           "Ima hinallataq kachkanki?",
           "how are you?"
          ],
          [
           "ima hinalla tukuyllawan",
           "greetings to everyone"
          ],
          [
           "ima hinamanta",
           "in some way"
          ],
          [
           "ima hina ñuqa ñisqata ...",
           "as I said"
          ],
          [
           "ima hinapi?",
           "for how much?"
          ],
          [
           "ima hinapitaq?",
           "for how much?"
          ],
          [
           "ima hinatachus",
           "in the same way"
          ],
          [
           "Ima hinataq kachkanki?",
           "how are you?"
          ],
          [
           "ima hina wachasqamanta",
           "about how she gave birth"
          ],
          [
           "imalla?",
           "What's the matter?"
          ],
          [
           "imallapi",
           "in a moment"
          ],
          [
           "imaman?",
           "to what thing?"
          ],
          [
           "Imamanta!",
           "You are welcome!"
          ],
          [
           "imamantapas karunchay",
           "to avoid something"
          ],
          [
           "ima munasqa tullputapas",
           "any colour desired"
          ],
          [
           "imanantaq?",
           "what does he/she do?"
          ],
          [
           "imanaymanta",
           "by which means?"
          ],
          [
           "imanqanpaq",
           "for any reason"
          ],
          [
           "ima ñinanmi?",
           "what does ...  mean?"
          ],
          [
           "ima ñintaq?",
           "what does he/she say?"
          ],
          [
           "imañiy",
           "to say what?"
          ],
          [
           "ima pacha mana waliq kasqata rikurayay",
           "to be looking for good bargains"
          ],
          [
           "ima pachapipas",
           "in any era"
          ],
          [
           "ima pachataq?",
           "What time is it?"
          ],
          [
           "imapas tiyanchu?",
           "are there any news?"
          ],
          [
           "imapunlla kaspapas",
           "as soon as"
          ],
          [
           "ima sumaq ruray yachay",
           "education in arts"
          ],
          [
           "ima suti",
           "that person whose name I do not know"
          ],
          [
           "imatas",
           "you are welcome!"
          ],
          [
           "imatataq yuyanki pay apamusqata",
           "what do you think he carried?"
          ],
          [
           "ima urapas",
           "at any time"
          ],
          [
           "imawampis yanapakuy",
           "to help oneself eith something"
          ],
          [
           "imaymana rikch'aq",
           "all kinds of"
          ],
          [
           "imaysi",
           "in any case"
          ],
          [
           "impa",
           "small, black fish"
          ],
          [
           "inka",
           "sheep with four horn"
          ],
          [
           "inka muhu",
           "the royal seeds"
          ],
          [
           "Inkap mich'usqan runa",
           "people mixed by the Inka"
          ],
          [
           "Inkap sapay churin",
           "crown-prince of the Inka"
          ],
          [
           "inka p'acha",
           "elegant men's dress"
          ],
          [
           "inka raymi",
           "fiest of the Inka"
          ],
          [
           "Inka Ruq'a",
           "the sixth Inka ruler"
          ],
          [
           "inkiri",
           "parboiled green banana"
          ],
          [
           "Inlista parlankichu?",
           "Do you speak English?"
          ],
          [
           "Inlista rimankichu?",
           "Do you speak English?"
          ],
          [
           "insikiyay",
           "to arch one's back"
          ],
          [
           "insira",
           "kind of medicinal plant of the rainforest"
          ],
          [
           "inta p'anqa",
           "kind of medicinal plant of the Ecuadorian jungle"
          ],
          [
           "inti",
           "Peruvian national currency in the eighties of the twentieth century"
          ],
          [
           "inti anka",
           "kind of eagle"
          ],
          [
           "inti chimpu",
           "shine around the sun"
          ],
          [
           "inti k'aspi",
           "kind of medicinal plant of the jungle"
          ],
          [
           "intimpa",
           "kind of coniferous tree"
          ],
          [
           "iñaka aksu",
           "elegant coloured women's dress"
          ],
          [
           "iñakas lliklla",
           "elegant coloured women's dress"
          ],
          [
           "iñichiy",
           "to make believe"
          ],
          [
           "iñiriy",
           "to begin to believe"
          ],
          [
           "iñu uchuylla suyukuna",
           "intercardinal points of the compass"
          ],
          [
           "ipu",
           "spine of an opuntia"
          ],
          [
           "iphalla",
           "bow decorated with flowers"
          ],
          [
           "iphi",
           "corn grain that has not reached ripeness"
          ],
          [
           "iphiña",
           "site where the cattle passes the night"
          ],
          [
           "iraqnay",
           "to tie tightly"
          ],
          [
           "irila",
           "ribbon for braids"
          ],
          [
           "irki p'anqa",
           "kind of medicinal plant of the Ecuadorian jungle"
          ],
          [
           "irqichakuy",
           "to adopt a child"
          ],
          [
           "irqichay",
           "to caress a child"
          ],
          [
           "irqita munay",
           "to caress a child"
          ],
          [
           "irqiyay",
           "to become weak"
          ],
          [
           "iru",
           "straw from the lofty region"
          ],
          [
           "iru ichhu",
           "kind of herb"
          ],
          [
           "isañu",
           "type of oca"
          ],
          [
           "ischil",
           "kind of shrub"
          ],
          [
           "iskaqllay",
           "to be only two"
          ],
          [
           "iskay chantayuq",
           "of two forms"
          ],
          [
           "iskaychisqa kutin-kutinchiqniyuq yapa",
           "sum of powers with even exponents"
          ],
          [
           "iskaychiy",
           "to make pairs"
          ],
          [
           "iskay kimsa patara",
           "two or three folds"
          ],
          [
           "iskaylayami tiyan",
           "there are two sorts, things, situations, ways"
          ],
          [
           "iskayman astawan",
           "more than two"
          ],
          [
           "iskay mit'a",
           "double in time"
          ],
          [
           "iskaynillan",
           "just the two of them"
          ],
          [
           "iskayninchik",
           "the two of us"
          ],
          [
           "iskay ñiqin qallari yachay",
           "second level of elementary education"
          ],
          [
           "iskay pachak waranqa",
           "two hundred thousand"
          ],
          [
           "iskay palawra",
           "a few words"
          ],
          [
           "iskay rikch'ayniyuq",
           "of two forms"
          ],
          [
           "iskay simipi iskay kawsaypi yachay",
           "intercultural bilingual education"
          ],
          [
           "Iskay Simipi Kawsaypurapi Yachachiy",
           "intercultural bilingual education"
          ],
          [
           "iskay simipi runapanakuy yachachina",
           "intercultural bilingual education"
          ],
          [
           "iskiy",
           "to unite two ends"
          ],
          [
           "iskuta chapuy",
           "to make mortar"
          ],
          [
           "ismanayay",
           "to have the desire to shit"
          ],
          [
           "ismapakuy",
           "to shit in"
          ],
          [
           "ismatiru",
           "who shits every time"
          ],
          [
           "ismaykukumuy",
           "to retire for defecation"
          ],
          [
           "isñiy",
           "to blow one's nose"
          ],
          [
           "ispachiy",
           "to make urinate"
          ],
          [
           "ispakuy",
           "to piss in"
          ],
          [
           "ispalla",
           "first harvest obtained in february in the time of the celebration of Virgen de la Candelaria in Puno"
          ],
          [
           "ispana",
           "place used as a toilet"
          ],
          [
           "ispa nanay",
           "to have diarrhoea"
          ],
          [
           "ispa nayay",
           "to feel the wish to urinate"
          ],
          [
           "ispatiru",
           "who pisses every time"
          ],
          [
           "ispay",
           "falling of drips from trees onto plants beneath"
          ],
          [
           "ispaykukuy",
           "to piss in"
          ],
          [
           "ispi",
           "kind of fish of lake Titicaca"
          ],
          [
           "ispinku",
           "kind of medicinal plant of the Ecuadorian jungle"
          ],
          [
           "isqay",
           "to be ready to sleep"
          ],
          [
           "isqun pachak waranqa",
           "nine hundred thousand"
          ],
          [
           "isuti!",
           "Go to hell dog!"
          ],
          [
           "isuy",
           "to earth up a plant first time"
          ],
          [
           "itu",
           "adoration of the sun"
          ],
          [
           "itu apu",
           "masculine spirit of one's place of birth, also known as the \"guiding star\" don benito spent hours scrying in a cosmic plate to communicate with his guiding star, it makes you part of a larger cosmic system"
          ],
          [
           "kachamuy",
           "to make come"
          ],
          [
           "kachan",
           "kind of plant with spicy fruits"
          ],
          [
           "kachapuy",
           "to send for someone"
          ],
          [
           "kacharikuy",
           "to release oneself"
          ],
          [
           "kachaykamuy",
           "to make come"
          ],
          [
           "kachilu",
           "kind of clearly singing bird"
          ],
          [
           "kachiy",
           "to make something be"
          ],
          [
           "kachka",
           "young corn cob"
          ],
          [
           "kachkay",
           "to be now"
          ],
          [
           "kachu",
           "cattle horn used for instrument"
          ],
          [
           "ka ka",
           "here, take this"
          ],
          [
           "kaka",
           "father-in-law of the man"
          ],
          [
           "kakay",
           "to cut the neck of a chicken just killed"
          ],
          [
           "kakchi",
           "small dog of no race"
          ],
          [
           "kakuy",
           "kind of night bird"
          ],
          [
           "kala",
           "kind of bird"
          ],
          [
           "kalastu",
           "kind of tree"
          ],
          [
           "kaliptuy",
           "to plant eucaliptus"
          ],
          [
           "kalun",
           "special stitch for joining panels"
          ],
          [
           "kalla",
           "kind of small parrot"
          ],
          [
           "kallapu",
           "beam for supporting soil on slopes in danger of slipping off to avoid landslips"
          ],
          [
           "Kallawaya",
           "renowned traveling healers from Bolivia"
          ],
          [
           "kallay",
           "to be alone"
          ],
          [
           "kallpamanay",
           "to lose strength"
          ],
          [
           "kallpawañuy",
           "loss of strength"
          ],
          [
           "kallu",
           "large piece of tissue"
          ],
          [
           "kamachi paqtay, mañaqkuna",
           "parties of a process"
          ],
          [
           "kamachipayay",
           "to order in an exaggerated and excessive way"
          ],
          [
           "kamalunka",
           "kind of medicinal plant of the jungle"
          ],
          [
           "kamariy",
           "to give a present"
          ],
          [
           "kamatala",
           "kind of tree"
          ],
          [
           "kamay",
           "voluntary fulfillment of a public obligation"
          ],
          [
           "kamaychay",
           "to assign a task"
          ],
          [
           "kamaykurina",
           "to evaluate oneself"
          ],
          [
           "kampana ayawaska",
           "kind of medicinal plant of the jungle"
          ],
          [
           "kampichana",
           "person who does it with everyone"
          ],
          [
           "kampuchay",
           "to clear a place"
          ],
          [
           "kamuy",
           "to stay at a place for some time"
          ],
          [
           "kanay",
           "power of becoming"
          ],
          [
           "kanichikuy",
           "to have oneself bitten"
          ],
          [
           "kanililla",
           "kind of medicinal plant of the jungle"
          ],
          [
           "kaninanay",
           "to gnash one's teeth"
          ],
          [
           "kankakuy",
           "to roast oneself"
          ],
          [
           "kantunqa",
           "braid with core"
          ],
          [
           "kantuta",
           "a bush having red or yellow flowers that are considered as the Peruvian national flowers"
          ],
          [
           "kanuwa hamp'atu p'anqa",
           "kind of medicinal plant of the Ecuwadorian jungle"
          ],
          [
           "kañakuy",
           "to make fire"
          ],
          [
           "kañay",
           "to warm up again"
          ],
          [
           "kapin kay",
           "to be the beginning of a lineage or another founded thing"
          ],
          [
           "kapiyay",
           "to fight a bull fight"
          ],
          [
           "kaptin; kaptu",
           "warp pickup technique"
          ],
          [
           "kapya",
           "sweet-filled maize fritter"
          ],
          [
           "kaq chhika",
           "all those who are present"
          ],
          [
           "kaqkakuy",
           "to be surprised"
          ],
          [
           "kara",
           "the only tree of the puna"
          ],
          [
           "karan laya",
           "all kinds of"
          ],
          [
           "karchay",
           "to harvest corn or beans cutting the stalk"
          ],
          [
           "karikuy",
           "to live in a light-hearted way"
          ],
          [
           "kariy",
           "to be tired"
          ],
          [
           "karpay ayni",
           "exchange of spiritual power"
          ],
          [
           "karqimpay",
           "to set a wedge"
          ],
          [
           "kartas",
           "cards to play"
          ],
          [
           "karuchakuy",
           "to move oneself away"
          ],
          [
           "karuchay",
           "to move something away"
          ],
          [
           "karu kay",
           "to be distant"
          ],
          [
           "karullapi",
           "at a distance"
          ],
          [
           "karuna",
           "cloth put on burro's back for protection"
          ],
          [
           "karunchachiy",
           "to make move away"
          ],
          [
           "karunchay",
           "to discriminate against"
          ],
          [
           "karupi",
           "at a distance"
          ],
          [
           "karupi tiyay",
           "to be distant"
          ],
          [
           "kasachiy",
           "to make a key fit a lock"
          ],
          [
           "kasarakunqaña kay sipascha",
           "this young girl is already old enough to marry"
          ],
          [
           "kasuyay",
           "to become thinner"
          ],
          [
           "kasha k'aspi",
           "kind of medicinal plant of the jungle"
          ],
          [
           "kashapuwa",
           "spine of the forest"
          ],
          [
           "kata",
           "kind of small parrot"
          ],
          [
           "kawallu qaracha",
           "kind of skin disease"
          ],
          [
           "kawka",
           "kind of plucked instrument with one single string"
          ],
          [
           "kawna",
           "rope of three threads"
          ],
          [
           "kawpanka",
           "kind of medicinal plant of the Ecuadorian jungle used to treat headache, as well as snakebites"
          ],
          [
           "kawpuri",
           "kind of medicinal plant of the jungle"
          ],
          [
           "kawpusqa",
           "rope of threads twisted two in two, three in three"
          ],
          [
           "kawpuy iskay pasqata, kimsa pasqata, tawa pasqata",
           "to twist threads two in two, three in three, four in four"
          ],
          [
           "kawri",
           "roots of various reed species"
          ],
          [
           "kawsanata manchay",
           "to be scared of living"
          ],
          [
           "kawsapankichu?",
           "how are you?"
          ],
          [
           "kawsaq mallki",
           "tree of the living"
          ],
          [
           "kawsaymanta, hampimanta punta rikuspa willaykuna",
           "primary health care"
          ],
          [
           "kawsay sach'a",
           "kind of Peruvian mastic-tree"
          ],
          [
           "kawuchay",
           "to attach a handle on a tool"
          ],
          [
           "kayakaman ñiy",
           "to say goodbye"
          ],
          [
           "kaychu?",
           "I it true?"
          ],
          [
           "kay hina p'unchawkama",
           "see you another day like this"
          ],
          [
           "kay hina watakama",
           "see you another year like this"
          ],
          [
           "kayllachiy",
           "to move closer"
          ],
          [
           "kaypitaq haqaypitaq",
           "here or there"
          ],
          [
           "kaypuy",
           "to twist a thread of wool"
          ],
          [
           "kaytaqá",
           "I am sad about that"
          ],
          [
           "kaywa",
           "kind of pumpkin"
          ],
          [
           "kicharayay",
           "to be open"
          ],
          [
           "kicharichikuy",
           "to have oneself freed"
          ],
          [
           "kichkachikuy",
           "to be wounded by spines"
          ],
          [
           "kichkarara",
           "full of spines"
          ],
          [
           "kichkasapa",
           "full of spines"
          ],
          [
           "kichkasqa",
           "stung by spines"
          ],
          [
           "kikillantaq",
           "in the same way"
          ],
          [
           "kikin kasqata chaskiy, qichuy, tariy",
           "to get back"
          ],
          [
           "kikin lluqsisqa wasita allikachini",
           "I like the house you have come from"
          ],
          [
           "kikin pachapi",
           "at the same time"
          ],
          [
           "kikinpi kachkaq; kikin pachapi kachkaq",
           "being in oneself"
          ],
          [
           "kikin tuyllapi",
           "at the same time"
          ],
          [
           "kikisitun",
           "exactly the same"
          ],
          [
           "kiku t'ika",
           "plant used to dye yellow"
          ],
          [
           "kilun-kilun",
           "kind of medicinal plant of the Ecuadorian jungle"
          ],
          [
           "killa chinkay",
           "moon on the wane"
          ],
          [
           "killangu",
           "wrap of fir"
          ],
          [
           "killapa ñiqi rakiri",
           "phases of the moon"
          ],
          [
           "killa wañuy mit'a",
           "period of new moon"
          ],
          [
           "killay",
           "kind of tree whose inner bark is used as soap"
          ],
          [
           "killi",
           "kind of jungle palm tree, 11-16 m high"
          ],
          [
           "killkiña",
           "spice of the llajwa"
          ],
          [
           "killu",
           "piece of wood burnt et the end"
          ],
          [
           "kimil",
           "kind of opuntia with long spines and with medical properties"
          ],
          [
           "kiminkuy",
           "to eat something to deceive the stomach"
          ],
          [
           "kimiy",
           "to crush between fingernails"
          ],
          [
           "kimpi",
           "kind of herb"
          ],
          [
           "kimsachisqapa tawa",
           "perfect square trinomial"
          ],
          [
           "kimsa inchu",
           "plant used to dye green"
          ],
          [
           "kimsakamachimuq",
           "compound rule of three"
          ],
          [
           "kimsakamachimuq",
           "inverse rule of three"
          ],
          [
           "kimsakamachiq",
           "rule of three"
          ],
          [
           "kimsakamachiyaq",
           "simple rule of three"
          ],
          [
           "kimsa k'uchu",
           "plant, leaves used to dye green"
          ],
          [
           "kimsaman patmay",
           "to divide into three"
          ],
          [
           "kimsamanta",
           "technique of warping design panel using tripled yarns"
          ],
          [
           "kimsa ñiqin qallariy yachay",
           "third level of elementary education"
          ],
          [
           "kimsa pachak waranqa",
           "three hundred thousand"
          ],
          [
           "kimsapim",
           "in three parts"
          ],
          [
           "kimsa p'aki",
           "tissue folded in three in form of a bag"
          ],
          [
           "kimsa p'unlla wachasqa qhipa",
           "three days after giving birth"
          ],
          [
           "kimsa wakra yalli (kimsa wakrata yallispa)",
           "more then three cows"
          ],
          [
           "kinranchay",
           "to bend down something"
          ],
          [
           "kinray",
           "to go alongside a slope"
          ],
          [
           "kinray",
           "to turn inside out"
          ],
          [
           "kinrayñan",
           "path on the hillside"
          ],
          [
           "kinrayta qhawani",
           "I see the hillside"
          ],
          [
           "kintamanta",
           "in place of"
          ],
          [
           "kiñay",
           "to accumulate things secretly"
          ],
          [
           "kiñay",
           "to press together"
          ],
          [
           "kiñukuy",
           "to carry under the arm"
          ],
          [
           "kiptay",
           "to raise something stretched on the side"
          ],
          [
           "kiri-kiri",
           "bad smell of body or clothes"
          ],
          [
           "kirunkunata pichay",
           "to brush one's teeth"
          ],
          [
           "kirunnay",
           "to extract teeth"
          ],
          [
           "kirusapa",
           "with big teeth"
          ],
          [
           "kisa kuru",
           "caterpillar with stinging hairs"
          ],
          [
           "Kiskis",
           "Inka captain in the times of the Spanish conquest"
          ],
          [
           "kiskis",
           "kind of bird living in the leaves of cane"
          ],
          [
           "Kiswarkancha",
           "Wiraqocha Inka's palace in Qosqo"
          ],
          [
           "kitilipi",
           "kind of eagle owl"
          ],
          [
           "kiwach",
           "mother-in-law of the woman"
          ],
          [
           "kruschakuy",
           "to make the sign of the cross"
          ],
          [
           "krus k'aspi",
           "kind of medicinal plant of the Ecuadorian jungle"
          ],
          [
           "kuchara k'aspi",
           "kind of medicinal plant of the jungle"
          ],
          [
           "kuchay",
           "to make a nest"
          ],
          [
           "kuchpachiy",
           "to make roll"
          ],
          [
           "kuchuchu",
           "kind of tree with big, conical thorns and with green-whitish flowers"
          ],
          [
           "kuka hachu",
           "cone of coca"
          ],
          [
           "kukuna",
           "kind of plant plant cultivated in the fields, its fruit is used against diabetes and high blood pressure, contains much vitamin c"
          ],
          [
           "kukupin q'iwi",
           "colic of the liver and biliar duct"
          ],
          [
           "kuliray",
           "to get angry"
          ],
          [
           "kulirina",
           "anger sickness, characterized by upset stomach and the vomiting of green bile"
          ],
          [
           "kulis",
           "skirt of the little chidren"
          ],
          [
           "kulis yanu",
           "cooked cabbage with pork meat"
          ],
          [
           "kullay",
           "to send a message"
          ],
          [
           "kulli runa",
           "person with purple skin"
          ],
          [
           "kulliyachiy",
           "to color purple"
          ],
          [
           "kulliyay",
           "to become purple"
          ],
          [
           "kumal muyu",
           "kind of medicinal plant of the Ecuadorian jungle"
          ],
          [
           "kumari",
           "godmother of one's children"
          ],
          [
           "kumba",
           "sheep without horns"
          ],
          [
           "kumpa",
           "stone thrown downhill in combat"
          ],
          [
           "kumpakuy",
           "to lie down"
          ],
          [
           "kumpari",
           "godfather of one's children"
          ],
          [
           "kumpasqa",
           "cross-knit loop stitch"
          ],
          [
           "kumpaykukuy",
           "to lie down"
          ],
          [
           "kumulgay",
           "to receive the Holy Communion"
          ],
          [
           "Kunchukanu",
           "people of Conchucos"
          ],
          [
           "kunkachay",
           "to put something around the neck"
          ],
          [
           "kunka unku",
           "very small poncho with warp stripes worn horizontally"
          ],
          [
           "Kuntisuyu",
           "Western territory of the Tawantinsuyu"
          ],
          [
           "kuntisyun p'anqa",
           "kind of medicinal plant of the Ecuadorian jungle"
          ],
          [
           "kunuwa",
           "kind of medicinal plant of the Ecuadorian jungle"
          ],
          [
           "kupaywa",
           "kind of medicinal plant, main uses: lung disorders, skin disorders, fungus, scars, std's"
          ],
          [
           "kurarina",
           "kind of medicinal plant of the Ecuadorian jungle"
          ],
          [
           "kuraw papa",
           "relatively dry potato species"
          ],
          [
           "kurikinka",
           "kind of falcon"
          ],
          [
           "kurkuwallaqllay",
           "to keep drinking until the last day of the fiesta"
          ],
          [
           "kuru",
           "kind of herb"
          ],
          [
           "kuru-kuru",
           "kind of black songbird of the mountains"
          ],
          [
           "kuruy",
           "to roll up a thread"
          ],
          [
           "kusikawsay",
           "peaceful and lucky life"
          ],
          [
           "kusikus tiyay",
           "to be happy"
          ],
          [
           "Kusipata",
           "square in the city of Qosqo where games and performances took place"
          ],
          [
           "kusiy",
           "to be happy"
          ],
          [
           "kuska imallichiq",
           "adverb of place"
          ],
          [
           "kuskanchay",
           "divide in two"
          ],
          [
           "kuskannay",
           "to make off-centre"
          ],
          [
           "kuskita yapuy",
           "to plough hard soil"
          ],
          [
           "kuskiymit'a",
           "time clearing or cultivation"
          ],
          [
           "kuskiypacha",
           "time clearing or cultivation"
          ],
          [
           "kusu",
           "recipient to store the sugar cane juice to ferment it before destillation to make brandy and alcohol"
          ],
          [
           "kusuru",
           "false banana peel used to wrap coca"
          ],
          [
           "kutakipay",
           "to grind slightly without squeezing"
          ],
          [
           "kutay",
           "to strike with the fist"
          ],
          [
           "kuti",
           "white with brown spots"
          ],
          [
           "kuti",
           "child's intelligence in a positive moral sense, with qualities like being rational, reflexive, creative, diligent and honest"
          ],
          [
           "kuti",
           "plants with regenerative effect on fallow fields"
          ],
          [
           "kuti",
           "fugitive dye on yarn"
          ],
          [
           "kutichikuy",
           "to defend oneself when attacked"
          ],
          [
           "kutichimuy",
           "to make a person or animal return"
          ],
          [
           "kutikuy",
           "to return there"
          ],
          [
           "kutikuy",
           "to defend a person or animal"
          ],
          [
           "kutimpuy",
           "to return definitively"
          ],
          [
           "kutimunaykama",
           "see you when I come back"
          ],
          [
           "Kutimuy atispaqa",
           "Come back if you can"
          ],
          [
           "kutin qunuchiy",
           "to warm up again"
          ],
          [
           "kutin rikurisun",
           "see you again"
          ],
          [
           "kutin tuparisun",
           "meet you again"
          ],
          [
           "kutipay",
           "to return to someone"
          ],
          [
           "kutiqta p'achallikunki",
           "you dressed yourself vice versa"
          ],
          [
           "kutirimpuy",
           "to be born again"
          ],
          [
           "kutiriq taripay",
           "search for the common factor"
          ],
          [
           "kuti t'ika",
           "bud of second flower after first has bloomed and died"
          ],
          [
           "kutulu",
           "kind of very tasty fish of the Amazon area"
          ],
          [
           "kutun",
           "white cotton or bayeta shirt"
          ],
          [
           "kutupalanta",
           "kind of banana"
          ],
          [
           "kututu",
           "male guinea pig"
          ],
          [
           "kuwan apyu",
           "kind of jungle tree, 11-16 m high"
          ],
          [
           "kuyayaykuy",
           "to become skinny"
          ],
          [
           "kuycha kay pachakuna",
           "when she was young"
          ],
          [
           "kuychiy",
           "to do magic"
          ],
          [
           "kuysu p'acha",
           "long dress with train"
          ],
          [
           "kuyuli",
           "kind of palm tree"
          ],
          [
           "kuyuy",
           "to twist ropes"
          ],
          [
           "kwilu",
           "kind of fish"
          ],
          [
           "kwirpu",
           "broad tissue section of one colour"
          ],
          [
           "khacha",
           "fatty, callous skin"
          ],
          [
           "khachayay",
           "to form callosities"
          ],
          [
           "khachi",
           "food mixed with soil"
          ],
          [
           "khachuray",
           "to chew fruits repeatedly"
          ],
          [
           "khachuykachay",
           "to chew repeatedly taking pieces"
          ],
          [
           "khakuyapuy",
           "to become a stammerer"
          ],
          [
           "khallapacha p'acha (unku, yaqulla)",
           "dress full of holes"
          ],
          [
           "khalla rinri",
           "person with slits in the ears"
          ],
          [
           "khallkiy",
           "to hew pave-stones"
          ],
          [
           "khallu",
           "united halves forming a blanket or a poncho"
          ],
          [
           "khallunchay",
           "divide in two"
          ],
          [
           "khallway",
           "to pass the shuttle with the thread"
          ],
          [
           "khamuna",
           "something to chew"
          ],
          [
           "khapakipay",
           "to make one single long step"
          ],
          [
           "khapay",
           "to walk by long steps"
          ],
          [
           "khapaykachay",
           "to walk by long steps"
          ],
          [
           "khaqmay awata",
           "to press tissue together"
          ],
          [
           "kharichikuy",
           "to have oneself operated"
          ],
          [
           "kharisiri",
           "kind of ghost that hypnotizes its victims to take them their fat"
          ],
          [
           "khariy",
           "to operate on"
          ],
          [
           "kharkachiy",
           "to make afraid"
          ],
          [
           "khayay",
           "to make dried oca"
          ],
          [
           "khaychuykachay p'achata (p'achanwan)",
           "to drag one's dress"
          ],
          [
           "khichkillichiy",
           "to cause tickle"
          ],
          [
           "khichkillikuy",
           "to be tickled"
          ],
          [
           "khipiy",
           "to have a toothache"
          ],
          [
           "khipu kamayuq",
           "expert for knot strings"
          ],
          [
           "khipuy",
           "to accumulate things secretly"
          ],
          [
           "khipuy",
           "to make accounts"
          ],
          [
           "khituchikuy",
           "to have oneself rubbed"
          ],
          [
           "khiwila",
           "kind of snake with yellowish skin"
          ],
          [
           "khiwiy",
           "to roll up a wire"
          ],
          [
           "khuchichakuy",
           "to make a pig of oneself"
          ],
          [
           "khuchichay",
           "to make dirty"
          ],
          [
           "khuchi-khuchi",
           "non-edible onion-like plant"
          ],
          [
           "khuchi runtuchi",
           "kind of dragonfly that likes to fly around the pigs' dregs"
          ],
          [
           "khuchi yuyu",
           "kind of medicinal plant of the rainforest"
          ],
          [
           "khuchuchikuy",
           "to have oneself cut"
          ],
          [
           "khuchukuy",
           "to cut oneself"
          ],
          [
           "khuchuy",
           "to cut meat"
          ],
          [
           "khullpi",
           "chips of firewood"
          ],
          [
           "khuru",
           "potato wart disease"
          ],
          [
           "khusku sara",
           "maize damaged by moths"
          ],
          [
           "khusmu",
           "eighth part of a whole"
          ],
          [
           "khutmu",
           "eight of a whole"
          ],
          [
           "khuyakuy",
           "to have compassion"
          ],
          [
           "khuyana",
           "worthy of love or understanding"
          ],
          [
           "khuyanapaq ranti",
           "instead of loving"
          ],
          [
           "khuyanata yachay",
           "to be accustomed to love"
          ],
          [
           "khuyapapay",
           "to be compassionate to another person"
          ],
          [
           "khuyapayaykuy",
           "to have compassion"
          ],
          [
           "khuya pillchi",
           "kind of medicinal plant of the Ecuadorian jungle"
          ],
          [
           "khuyaq kay",
           "to be accustomed to love"
          ],
          [
           "khuya rumi",
           "gift stone of teacher to disciple"
          ],
          [
           "khuyasqapaq ranti",
           "instead of having loved"
          ],
          [
           "khuyaypaq",
           "worthy to be loved"
          ],
          [
           "k'acha qillqa",
           "figure of speech"
          ],
          [
           "k'achay",
           "to remove soil superficially"
          ],
          [
           "k'akalli",
           "chappy, greasy skin"
          ],
          [
           "k'akilla wañuy",
           "to fall down dead"
          ],
          [
           "k'allmachakuy",
           "to branch out"
          ],
          [
           "k'allmay",
           "to branch out"
          ],
          [
           "k'anchaykuriy",
           "to arouse interest"
          ],
          [
           "k'anchilla",
           "luxuriously living woman"
          ],
          [
           "k'antisqa",
           "thread of two or more fibres spun together"
          ],
          [
           "k'antiy",
           "purr of a cat"
          ],
          [
           "k'apacha kumuy",
           "will to work more than the others"
          ],
          [
           "k'apa runa",
           "person happy at work"
          ],
          [
           "k'apkiy",
           "to clean off completely"
          ],
          [
           "k'arachi",
           "casting vote in case of draw or tie"
          ],
          [
           "k'arachiq",
           "which causes burnings"
          ],
          [
           "k'arachiy",
           "to make itch"
          ],
          [
           "k'ara simi",
           "offensive with one's words"
          ],
          [
           "k'arkuchay",
           "to make vinagry"
          ],
          [
           "k'arkuy",
           "to become vinegary"
          ],
          [
           "k'arkuyay",
           "to become embittered"
          ],
          [
           "k'arpa",
           "kind of fish living in rivers"
          ],
          [
           "k'aruy",
           "to chew cracking something"
          ],
          [
           "k'asa",
           "open space on a mountain"
          ],
          [
           "k'askaku",
           "who sticks easily to any interest"
          ],
          [
           "k'askallikuy",
           "to consecrate oneself"
          ],
          [
           "k'askaykuchikuy",
           "to be infected"
          ],
          [
           "k'aspi kampi",
           "kind of fruit"
          ],
          [
           "k'aspi kuchuq",
           "kind of insect"
          ],
          [
           "k'aspi muyu",
           "kind of medicinal plant of the Ecuadorian jungle"
          ],
          [
           "k'aspiyachikuy",
           "to get one's penis erected"
          ],
          [
           "k'aspiyay",
           "to harden like a stik"
          ],
          [
           "k'asuy",
           "to break up soil"
          ],
          [
           "k'awchiy",
           "to chew gum"
          ],
          [
           "k'awka",
           "bread roll containing little crumb"
          ],
          [
           "k'ichichikuy",
           "to make oneself pinch"
          ],
          [
           "k'ichikuy",
           "to pinch oneself"
          ],
          [
           "k'ichinakuy",
           "to pinch each other"
          ],
          [
           "k'ichkichikuy",
           "to provoke constipation"
          ],
          [
           "k'ichkichiy",
           "to make block"
          ],
          [
           "k'ichkitiru",
           "kind of bird"
          ],
          [
           "k'ichkiyachiy",
           "to make narrow"
          ],
          [
           "k'ichkiyay",
           "to get narrow"
          ],
          [
           "k'iku",
           "occurence of a woman's first menstruation"
          ],
          [
           "k'ikuchikuy",
           "to celebrate a young woman's first menstruation"
          ],
          [
           "k'ili wayta",
           "twill plain weave"
          ],
          [
           "k'illi-k'illi",
           "stripes sewn together"
          ],
          [
           "k'illi-k'illi",
           "design of small falcon"
          ],
          [
           "k'illi-k'illi p'acha",
           "dress of stripes sewn together"
          ],
          [
           "k'illi-k'illiyuq",
           "dress of stripes sewn together"
          ],
          [
           "k'illi wara; k'illa wara",
           "design of small falcon"
          ],
          [
           "k'illiy",
           "to sew together"
          ],
          [
           "k'intuy",
           "to make a bouquet of coca to divine"
          ],
          [
           "k'ipa papa",
           "potato that remains under the earth and germinates"
          ],
          [
           "k'irawchay",
           "to make a cradle"
          ],
          [
           "k'irawkuy",
           "to put the child into the cradle"
          ],
          [
           "k'iri hampi",
           "medicine for the wound"
          ],
          [
           "k'irincha",
           "delay in growth"
          ],
          [
           "k'irinchasqa",
           "delayed in growth"
          ],
          [
           "k'irinchay",
           "to delay growth or development"
          ],
          [
           "k'irusqa",
           "infant wrapped up tightly"
          ],
          [
           "k'iruy",
           "the manner of wrapping infants up tightly with only the face exposed, for approximately the first three months of life"
          ],
          [
           "k'isay",
           "to win a stare down"
          ],
          [
           "k'isay",
           "to expose the fruit to the sun to dry them"
          ],
          [
           "k'isñiy",
           "to fit in"
          ],
          [
           "k'ispiña",
           "small ball of quinua formed in the hand"
          ],
          [
           "k'ispiñay",
           "to close the hand to a fist"
          ],
          [
           "k'itilli apuq",
           "head of a parish"
          ],
          [
           "k'iti qhapachiq apuq",
           "national commissioner of police"
          ],
          [
           "k'uchi-k'uchi",
           "who acts most diligently in what is to be done"
          ],
          [
           "k'uchiykachay",
           "to move actively"
          ],
          [
           "k'uchuchiy",
           "to put into a corner"
          ],
          [
           "k'uchu inkhuña",
           "ritual unkhuña shirt divided vertically and horizontally into quarters of contrasting color"
          ],
          [
           "k'uchunchakuy",
           "to place oneself into a corner"
          ],
          [
           "k'uchurara",
           "with many corners"
          ],
          [
           "k'uchusapa",
           "with many corners"
          ],
          [
           "k'uchu unku",
           "elegant coloured shirt"
          ],
          [
           "k'ukiyay",
           "to eat green fruit"
          ],
          [
           "k'ullkuyay",
           "to get narrow"
          ],
          [
           "k'ulluyay",
           "to lose delicacy and shame"
          ],
          [
           "k'umpinakuna",
           "loom and utilities to weave fine cloth"
          ],
          [
           "k'umpi p'acha",
           "dress of fine cloth"
          ],
          [
           "k'umpiq",
           "weaver of fine cloth"
          ],
          [
           "k'umpi qullqa",
           "deposit of fine wools and precious cloths embroidered in the monasteries of the virgins of the sun"
          ],
          [
           "k'umpiy",
           "to weave fine cloth"
          ],
          [
           "k'umpiy kamayuq",
           "master of fine weaving"
          ],
          [
           "k'umukuy",
           "to bow down to"
          ],
          [
           "k'umurayay",
           "to humiliate oneself"
          ],
          [
           "k'umurayay",
           "to keep bent down"
          ],
          [
           "k'umuykuchiy",
           "to make bend down"
          ],
          [
           "k'unkuykuy",
           "to cuddle up"
          ],
          [
           "k'unuy",
           "to beat on the back"
          ],
          [
           "k'urpachay",
           "to make clods of earth"
          ],
          [
           "k'urpakuy",
           "to form heaps"
          ],
          [
           "k'urpa ñut'uchi",
           "crushing of clods"
          ],
          [
           "k'usillu",
           "grey wool monkey"
          ],
          [
           "k'usillu kambiya",
           "kind of medicinal plant of the Ecuadorian jungle"
          ],
          [
           "k'usillukuy",
           "to play tricks"
          ],
          [
           "k'uskikuy",
           "to examine one's own acts"
          ],
          [
           "k'utuchay",
           "to make small"
          ],
          [
           "k'utu chupa",
           "with a curtailed tail"
          ],
          [
           "k'utu chupa",
           "kind of fern"
          ],
          [
           "k'utupakuy",
           "to get angry"
          ],
          [
           "k'utuyachiy",
           "to make small"
          ],
          [
           "k'uyka kamay",
           "earth worm culture"
          ],
          [
           "k'uyka p'anqa",
           "kind of medicinal plant of the Ecuadorian jungle"
          ],
          [
           "k'uyka unquy",
           "illness cause by the tapeworm"
          ],
          [
           "k'uyuna",
           "susceptible to be twisted"
          ],
          [
           "k'uyuna",
           "round piece of the spindle to roll up the thread"
          ],
          [
           "k'uyuq",
           "kind of cactus"
          ],
          [
           "lachiwana misk'i",
           "a type of honey"
          ],
          [
           "lakawiti",
           "kind of pumpkin"
          ],
          [
           "laklay",
           "to drink something by licking it up"
          ],
          [
           "lambriadu",
           "rabbit in breadcrumbs"
          ],
          [
           "lancha",
           "piece of wood burnt et the end"
          ],
          [
           "lansanayay",
           "to feel the wish to vomit"
          ],
          [
           "lan wiqi",
           "kind of medicinal plant of the Ecuadorian jungle"
          ],
          [
           "laqaya",
           "house without a roof"
          ],
          [
           "laqhay",
           "to eat like a dog"
          ],
          [
           "laqhiy",
           "to tear off leaves"
          ],
          [
           "laq'akuy",
           "to fall to all one's length"
          ],
          [
           "lasti",
           "a corn dish"
          ],
          [
           "last'a",
           "flat, extended lamina"
          ],
          [
           "latachiy",
           "to catch fire"
          ],
          [
           "lata machu",
           "weak old man"
          ],
          [
           "latatay",
           "to flap one's wings"
          ],
          [
           "latiku",
           "rope to fix a yoke"
          ],
          [
           "lat'aqcha",
           "child beginning to crawl"
          ],
          [
           "lat'aq wawa",
           "child beginning to crawl"
          ],
          [
           "laway",
           "to cook thick soup"
          ],
          [
           "lawmay",
           "to become wet by tears"
          ],
          [
           "laya",
           "in that way"
          ],
          [
           "layu",
           "wild legume plant wich is believed in Qispillaqta to be the star plant of ice"
          ],
          [
           "lima-lima",
           "kind of tree"
          ],
          [
           "liqi-liqi",
           "kind of bird with greyish-white feathers"
          ],
          [
           "liqhupayay",
           "to look ascance at with an obscure intention"
          ],
          [
           "lisa nanya k'aspi",
           "kind of medicinal plant of the Ecuadorian jungle"
          ],
          [
           "lisinsiyaykimanta",
           "mit deiner Erlaubnis"
          ],
          [
           "lubu chupa",
           "kind of medicinal plant of the jungle"
          ],
          [
           "lubu sisu",
           "very severe scabbers"
          ],
          [
           "lukuyapuy",
           "to become insane"
          ],
          [
           "luma ch'illka",
           "dyed light yellow"
          ],
          [
           "luqru",
           "certain meal based on maize or wheat"
          ],
          [
           "luqyay",
           "to make noise"
          ],
          [
           "luqhu siki",
           "person with a flat buttock"
          ],
          [
           "luruy",
           "to take the white skin off of haba"
          ],
          [
           "lusiru ayawaska",
           "kind of medicinal plant of the jungle"
          ],
          [
           "lusiy",
           "to smash grains"
          ],
          [
           "luyu-luyu",
           "kind of American carob tree"
          ],
          [
           "llachaqkuna kamay",
           "administration of justice"
          ],
          [
           "llachu",
           "kind of water plant"
          ],
          [
           "llaka p'anqa",
           "kind of medicinal plant of the Ecuadorian jungle"
          ],
          [
           "llakichiq wallpariykuna",
           "ways of exploitation"
          ],
          [
           "llakipi kay",
           "to be in danger"
          ],
          [
           "llakun",
           "laze cord behind the lease stick"
          ],
          [
           "llama hina kunkasapa",
           "long-necked like a llama"
          ],
          [
           "llamakunata ipuruway",
           "to lasso many llamas"
          ],
          [
           "llama untu",
           "llama fat sold by llama herders"
          ],
          [
           "llami",
           "small ostrich egg"
          ],
          [
           "llamichiy",
           "to make someone tast something"
          ],
          [
           "llamipuy",
           "to taste something for someone"
          ],
          [
           "llamisu",
           "sort of ant"
          ],
          [
           "llamk'achipuy",
           "to make someone work for someone else"
          ],
          [
           "llamk'achisqakum",
           "they made them work"
          ],
          [
           "llamk'akuy",
           "to work for oneself"
          ],
          [
           "llamk'ampuy",
           "to go to work something for someone"
          ],
          [
           "llamk'asunchik",
           "wir werden arbeiten"
          ],
          [
           "llamk'ayman qayay",
           "call for action"
          ],
          [
           "llamk'ay sayachi hayñi",
           "right of strike"
          ],
          [
           "llamllay",
           "to beam with joy"
          ],
          [
           "llampuq hana",
           "plant, leaves used to dye yellow"
          ],
          [
           "llamp'uy",
           "to turn to fine dust"
          ],
          [
           "llamp'uyay",
           "to become soft"
          ],
          [
           "llanch'iy",
           "to take out of the pot with the hand"
          ],
          [
           "llanqa",
           "more intensive and vivid tone of the same colour"
          ],
          [
           "llanqa pata",
           "shirt of very fine and intensive colours"
          ],
          [
           "llantiyas",
           "kind of medicinal plant of the Ecuadorian jungle"
          ],
          [
           "llantu",
           "gifts or greetings to the wak'as and apachiqtas"
          ],
          [
           "llanthuchakuy",
           "to be shaded"
          ],
          [
           "llanthukuy",
           "to go into the shade"
          ],
          [
           "llanthuyay",
           "to cloud over"
          ],
          [
           "llant'akuy",
           "to make firewood"
          ],
          [
           "llant'ay",
           "to make fire wood"
          ],
          [
           "llanu haku",
           "fine yarn/weave shawl"
          ],
          [
           "llañu p'acha",
           "dress of very thin yarn"
          ],
          [
           "llapanchik",
           "all of us"
          ],
          [
           "llapankichik",
           "all of you"
          ],
          [
           "llapanku",
           "all of them"
          ],
          [
           "llapantin",
           "everyone without exception"
          ],
          [
           "llaphin",
           "muscle tissue that covers the ribs"
          ],
          [
           "llaqa chuki",
           "lance with feather tassels"
          ],
          [
           "llaqllakuy",
           "to get frightened"
          ],
          [
           "llaqpiy",
           "beginning of crawling"
          ],
          [
           "llaqta apu",
           "a medium-sized tutelary mountain spirit related with the second level of the andean path"
          ],
          [
           "llaqtachakuy",
           "to be nationalized"
          ],
          [
           "llaqtachasqa",
           "naturalized in a town or village"
          ],
          [
           "llaqtachay",
           "to found a town"
          ],
          [
           "llaqtariy",
           "to be nationalized"
          ],
          [
           "llaqta wasi",
           "house in the city"
          ],
          [
           "llaqtay",
           "to go to town"
          ],
          [
           "llaqtayuqkunata mits'aq",
           "defender of the people"
          ],
          [
           "llasachay",
           "to weigh down"
          ],
          [
           "llasachay",
           "to weigh something"
          ],
          [
           "llasaqta rimaq",
           "who talks in a complicated way"
          ],
          [
           "llasaykachiy",
           "to increase weight"
          ],
          [
           "llaslla",
           "snowfall without wind"
          ],
          [
           "Llata",
           "deity in the tales of Waruchiri, a tutelary wak'a of the Chiqa people"
          ],
          [
           "llat'anakuy",
           "to put off naked"
          ],
          [
           "llat'anakuy unkuta",
           "to put off one's shirt"
          ],
          [
           "llat'anay",
           "to put off naked"
          ],
          [
           "llawachay",
           "to mix in"
          ],
          [
           "llawch'iku",
           "who put secretly his/her hand into the pot or meal"
          ],
          [
           "llawch'iy",
           "to take food with the hand out of thw pot"
          ],
          [
           "llawlli",
           "kind of spiny shrub with red or white flowers"
          ],
          [
           "llawsa pinchi",
           "kind of jungle tree, 11-16 m high"
          ],
          [
           "llawsawaska",
           "kind of medicinal plant of the jungle"
          ],
          [
           "llawt'i",
           "lean, bad-looking meat"
          ],
          [
           "llawt'ullikuy",
           "to put on a headband"
          ],
          [
           "llika-llika p'acha",
           "dress of very loose, thin cloth"
          ],
          [
           "llika-llika p'acham",
           "the loose dress is transparent"
          ],
          [
           "llika-llikata away",
           "to weave loose or thin cloth"
          ],
          [
           "llikawaska",
           "kind of liana giving medicinal water against eruptions"
          ],
          [
           "llikllakuy",
           "to put on one's scarf"
          ],
          [
           "llikllallichiy",
           "to make someone put on a scarf"
          ],
          [
           "llikllallikuy",
           "to put on one's scarf"
          ],
          [
           "llikllay",
           "to put on one's scarf"
          ],
          [
           "llikt'a",
           "ash of cactus or kinua chewed with coca"
          ],
          [
           "llik'i-llik'i",
           "dress mended many times"
          ],
          [
           "llilliy",
           "to be inflamed in the mouth"
          ],
          [
           "llimphuyay",
           "to become clean"
          ],
          [
           "llipipipiqkama (llipiyaqkama) puriq",
           "person, dressed with new glittering clothes of silk with gold or silver"
          ],
          [
           "llip'iy",
           "to remove hairs from leather"
          ],
          [
           "lliwa",
           "kind of grass"
          ],
          [
           "lliwyay",
           "to clear up"
          ],
          [
           "llucha",
           "organ displacement caused by abrupt movements or vibrations"
          ],
          [
           "lluchk'a",
           "kind of eel"
          ],
          [
           "lluchk'achiy",
           "to make slip"
          ],
          [
           "lluchk'akuy",
           "to slip oneself"
          ],
          [
           "lluchk'amuy",
           "to go to slip"
          ],
          [
           "lluhuy",
           "to spit slime"
          ],
          [
           "llukllapara",
           "storm causing inundations"
          ],
          [
           "llukuy",
           "to catch viscachas, guinea pigs or rabbits with a net"
          ],
          [
           "llukhina urman",
           "it's time to leave"
          ],
          [
           "lluk'uy",
           "to carry something under the arm"
          ],
          [
           "llullakuy",
           "to cheat oneself"
          ],
          [
           "llullu mini",
           "temporary weft used in pallay weaving"
          ],
          [
           "llullu simi",
           "who speaks softly and tenderly"
          ],
          [
           "llulluyay",
           "to become tender"
          ],
          [
           "llunchu",
           "a man's daughter-in-law"
          ],
          [
           "lluqirikuq maki",
           "thief who steals everything"
          ],
          [
           "lluqsichiy",
           "to take out"
          ],
          [
           "lluqsimuy",
           "to appear here"
          ],
          [
           "lluqhiy",
           "to slip and fall"
          ],
          [
           "lluq'ana",
           "high place where people climb"
          ],
          [
           "lluq'i",
           "kind of tree"
          ],
          [
           "lluq'iman q'isway",
           "to spin left"
          ],
          [
           "lluq'iñiqman",
           "to the left"
          ],
          [
           "lluq'iñiqpi",
           "on the left side"
          ],
          [
           "Lluq'i Yupanki",
           "the third Inka ruler"
          ],
          [
           "lluq'u",
           "corn oil that accumulates on the surface during chicha production"
          ],
          [
           "llusikuy",
           "to anoint one's face with oil"
          ],
          [
           "llusp'ichi",
           "soup of green vegetables"
          ],
          [
           "llusp'ichiy",
           "to let escape"
          ],
          [
           "llusp'iy",
           "to slip out of the hands"
          ],
          [
           "llustikuy unkuta",
           "to put off a shirt"
          ],
          [
           "llustinta",
           "kind of medicinal plant of the Ecuadorian jungle"
          ],
          [
           "llust'akuy",
           "to slip oneself"
          ],
          [
           "llutki",
           "strand formed in the hand for weaving"
          ],
          [
           "llutha; lluthu",
           "kind of tree"
          ],
          [
           "lluthu-lluthu",
           "kind of eatable plant"
          ],
          [
           "llut'akuy",
           "to cover over for oneself"
          ],
          [
           "llut'apuy",
           "to cover over for someone else"
          ],
          [
           "llut'aykuy",
           "to wall in"
          ],
          [
           "machakuy yuyu",
           "kind of medicinal plant of the Ecuadorian jungle"
          ],
          [
           "macharichiy",
           "to make them get drunk"
          ],
          [
           "machay",
           "to get drunk"
          ],
          [
           "machin anka",
           "kind of eagle"
          ],
          [
           "machin palanta",
           "kind of banana"
          ],
          [
           "machitu",
           "little old man"
          ],
          [
           "machu minchha",
           "two days after tomorrow"
          ],
          [
           "mach'aqway iru",
           "kind of medicinal plant of the Ecuadorian jungle"
          ],
          [
           "mach'aqway manti",
           "kind of medicinal plant of the Ecuadorian jungle"
          ],
          [
           "mahikuy",
           "to be bored"
          ],
          [
           "mahu mansana",
           "kind of tree"
          ],
          [
           "maki kallapa",
           "birth of the fingers"
          ],
          [
           "makillina",
           "provisions given for work"
          ],
          [
           "maki lluk'iy",
           "to cross one's arms"
          ],
          [
           "maki-maki",
           "kind of shrub with hand-like leaves"
          ],
          [
           "makinkunata mayllakuy",
           "to wash one's hands"
          ],
          [
           "maki p'akichikuy",
           "corruption caused by money"
          ],
          [
           "maki qunakuy",
           "to give one's hand"
          ],
          [
           "makmak",
           "kind of tree with very hard wood"
          ],
          [
           "mak'unku",
           "little green fruit from the potato plant"
          ],
          [
           "mak'unkura",
           "little green fruit from the potato plant"
          ],
          [
           "malugrapuy",
           "to break down"
          ],
          [
           "mallaqnay",
           "to be hungry"
          ],
          [
           "malli",
           "sample to be tasted"
          ],
          [
           "mallichiy",
           "to make try"
          ],
          [
           "mallipuy",
           "to try something for oneself"
          ],
          [
           "mallquchiy",
           "to bring up chicken"
          ],
          [
           "mamachakuy",
           "to adopt a woman as mother"
          ],
          [
           "mama llaqtap apun",
           "president of the republic"
          ],
          [
           "maman chumpi",
           "short, wide, thick belt worn next to acsu, under chumpi"
          ],
          [
           "maman muquq quyllur",
           "star that watched and punished everyone committing the crime of incest with parents"
          ],
          [
           "mamaqa?",
           "and your mother?"
          ],
          [
           "mama qullqi kamachi",
           "rule of interest"
          ],
          [
           "mama qunqachiy",
           "to make lose the head"
          ],
          [
           "Mama Rawa Uqllu",
           "wife of Wayna Qhapaq and mother of Waskar"
          ],
          [
           "Mama Uqllu",
           "sister and wife of the first Inka ruler, Manqu Qhapaq"
          ],
          [
           "mamayay",
           "to become mother"
          ],
          [
           "mamay papata akllapayachkan",
           "My mother is selecting potatoes"
          ],
          [
           "mamurq'u",
           "little green fruit from the potato plant"
          ],
          [
           "mamuy",
           "to sort out the bad by hand"
          ],
          [
           "mana allin puriy",
           "to behave badly"
          ],
          [
           "manachay",
           "on the other hand"
          ],
          [
           "manachu ripunki?",
           "Shouldn't you go?"
          ],
          [
           "mana imamanta",
           "for no reason"
          ],
          [
           "mana kawsariq",
           "unrenewable natural resource"
          ],
          [
           "mana llullaspa ñiy",
           "to tell the truth"
          ],
          [
           "mana llullaspa willay",
           "to tell the truth"
          ],
          [
           "mana maymantapas",
           "from no side"
          ],
          [
           "Manam hap'inichu",
           "I do not understand"
          ],
          [
           "mana millayta rimaq",
           "who speaks politely and without murmuring"
          ],
          [
           "Manam intindinichu",
           "I do not understand"
          ],
          [
           "manam llamk'anchu",
           "it doesn't work"
          ],
          [
           "Manam umapi hap'inichu",
           "I do not understand"
          ],
          [
           "mana paqta kasqanman",
           "if it was not complete"
          ],
          [
           "manapas chaykamachu",
           "not at this point"
          ],
          [
           "manaqaraku",
           "kind of chicken-like bird of the Andes"
          ],
          [
           "mana qichuy tukunchu",
           "it cannot be taken away"
          ],
          [
           "mana samayniyuq",
           "out of breath"
          ],
          [
           "mana uqutiyuq",
           "daemon without anus living under the earth"
          ],
          [
           "mana waliy",
           "not to function"
          ],
          [
           "mana warayuq",
           "who wears no trousers"
          ],
          [
           "mana yachanichu",
           "I don't know"
          ],
          [
           "mana yalli",
           "just a little"
          ],
          [
           "mana yapa mancharinkuna",
           "they are not frightened too much"
          ],
          [
           "mana yuyaspalla",
           "without paying attention"
          ],
          [
           "manchachispa aqchata sayachiy",
           "to ruffle up"
          ],
          [
           "manchanayay nanawan",
           "I have terrible pain"
          ],
          [
           "manchay puytu",
           "jar with a flute introduced behind a hole"
          ],
          [
           "Manchaypuytu",
           "legend of a priest in Potosí who made a flute out of a bone of his dead beloved"
          ],
          [
           "Mandaq Tayta Dyus",
           "The Lord God"
          ],
          [
           "maninchu; maniki",
           "animal with natal deformation of feet"
          ],
          [
           "maniyay",
           "to bind the paws of an animal"
          ],
          [
           "mankañawi",
           "who has sunk eyes"
          ],
          [
           "manka p'aki",
           "who smashes pots"
          ],
          [
           "manka p'aki",
           "kind of boneset"
          ],
          [
           "mankay",
           "to make pots"
          ],
          [
           "manku",
           "kind of bird of the jungle"
          ],
          [
           "manthi",
           "cup made from a gourd"
          ],
          [
           "mant'ariy",
           "to unfold and spread out"
          ],
          [
           "manuchiy",
           "to make someone trust"
          ],
          [
           "manukamuy",
           "to go to contract debts"
          ],
          [
           "manuyakuy",
           "to contract debts"
          ],
          [
           "manyachiy",
           "to bend down something"
          ],
          [
           "manyaman tankay",
           "to bend down something"
          ],
          [
           "manyay",
           "to bind at the feet and hands"
          ],
          [
           "mañana hayñi",
           "right of petition"
          ],
          [
           "mañaqachiy",
           "to make lend"
          ],
          [
           "Mapas!",
           "You will see!"
          ],
          [
           "map'achakuy",
           "to get dirty"
          ],
          [
           "map'achu",
           "cigarette of pure tobacco"
          ],
          [
           "map'ayakuy",
           "to become corrupted"
          ],
          [
           "map'ayapuy",
           "to become corrupted"
          ],
          [
           "map'ayay",
           "to get dirty"
          ],
          [
           "maqachikuy",
           "to have oneself beaten"
          ],
          [
           "maqachiy",
           "to make someone beat"
          ],
          [
           "maqanakunapaq qullqikunata hap'iy",
           "to trade arms"
          ],
          [
           "maqanakuspa kallpachiy",
           "to put to flight"
          ],
          [
           "Maqawis",
           "deity of old Waruchiri recognized and venerated by the Inkas"
          ],
          [
           "maqchikuy",
           "to wash oneself"
          ],
          [
           "maqsiy",
           "to nod off"
          ],
          [
           "maqt'ayay",
           "to become adolescent"
          ],
          [
           "maran uña",
           "round rock used to grind"
          ],
          [
           "mariya p'anqa",
           "kind of medicinal plant of the Ecuadorian jungle"
          ],
          [
           "markhu",
           "kind of herb"
          ],
          [
           "marqu",
           "mythical animal living in lakes of the highland and coming out at night"
          ],
          [
           "marqhu",
           "kind of herb"
          ],
          [
           "marq'achikuy",
           "to be hugged"
          ],
          [
           "marq'achiy",
           "to make embrace"
          ],
          [
           "marq'apuy",
           "to carry a thing between the arms for somebody"
          ],
          [
           "masatu",
           "typical drink of parboiled yuca, ground to liquid or chewn and fermented"
          ],
          [
           "masay",
           "to warm up in the sun or at the fire"
          ],
          [
           "maskhachipuy",
           "to have someone sought"
          ],
          [
           "maskhachiy",
           "to make seek"
          ],
          [
           "maskhampuy",
           "to go to seek something for someone"
          ],
          [
           "maskhapaycha",
           "the inca's headband"
          ],
          [
           "maskharispa puriq",
           "hard-working person who fights his/her way through"
          ],
          [
           "maskhay wayk'uqta",
           "look for the cook"
          ],
          [
           "maskhay yanuqta",
           "look for the cook"
          ],
          [
           "masmapakuy",
           "to protect oneself against the rain"
          ],
          [
           "mastarayay",
           "to be stretched"
          ],
          [
           "mast'achipuy",
           "to have something stretched for someone"
          ],
          [
           "mast'achiy",
           "to make stretch"
          ],
          [
           "mast'akuy!",
           "stretch it for you!"
          ],
          [
           "mast'ampuy",
           "to go to stretch something for someone else"
          ],
          [
           "mast'ana",
           "circular straw mat used a seat when working on horizontal loom"
          ],
          [
           "mashan",
           "kind of medicinal plant of the rainforest"
          ],
          [
           "matara",
           "kind of grass"
          ],
          [
           "matarayay",
           "to be together"
          ],
          [
           "matiqllu",
           "kind of plant"
          ],
          [
           "matiri p'anqa",
           "kind of medicinal plant of the Ecuadorian jungle"
          ],
          [
           "matwastu",
           "kind of lizard"
          ],
          [
           "mat'ichiy",
           "to make press"
          ],
          [
           "mat'inakuy",
           "to press each other"
          ],
          [
           "mat'i ñawi",
           "person with small eyes"
          ],
          [
           "mat'iqllu",
           "kind of herb"
          ],
          [
           "mat'isqa p'acha",
           "thick, closewoven cloth"
          ],
          [
           "mat'iy awayta",
           "to compress tissue"
          ],
          [
           "mat'u simiyuq",
           "who speaks improperly"
          ],
          [
           "mat'uy",
           "to tell nonsense"
          ],
          [
           "mawk'achikuy",
           "to let others spoil something"
          ],
          [
           "mawk'ayay",
           "to wear out"
          ],
          [
           "maylawpi?",
           "on which side?"
          ],
          [
           "mayllachiy",
           "to make someone wash"
          ],
          [
           "mayllampuy",
           "to go to wash something for someone"
          ],
          [
           "mayllapuy",
           "to wash something for someone"
          ],
          [
           "Maymantaq rinki?",
           "Where are you going?"
          ],
          [
           "Maymantataq hamunki?",
           "Where do you come from?"
          ],
          [
           "mayna",
           "a moment ago"
          ],
          [
           "mayqa",
           "land suitable for agriculture"
          ],
          [
           "mayqinninpas",
           "anyone of them"
          ],
          [
           "mayqinniykichik",
           "who among you?"
          ],
          [
           "maytachus rinpas",
           "he has probably gone there"
          ],
          [
           "Mayta Qhapaq",
           "the fourth Inka ruler"
          ],
          [
           "mayt'u-mayt'u",
           "kind of bindweed"
          ],
          [
           "mayu atuq",
           "kind of dog-like carnivore similar to a fox"
          ],
          [
           "mayu chulla",
           "kind of diving bird"
          ],
          [
           "mayu ch'illka",
           "plant, leaves used to dye yellow"
          ],
          [
           "mayway",
           "to win the heart of"
          ],
          [
           "michi-michi",
           "kind of annual plant with lilac flowers"
          ],
          [
           "Michitu",
           "mountain that faces Tecoya"
          ],
          [
           "michka",
           "harvest of early-ripening crops watered"
          ],
          [
           "michka chuqllu",
           "early corn cob"
          ],
          [
           "mich'ariy",
           "to be sparing of"
          ],
          [
           "mikhuna puchu",
           "rests of yesterday's meal"
          ],
          [
           "mikhunaranti",
           "instead of eating"
          ],
          [
           "mikhunata quway",
           "give me something to eat"
          ],
          [
           "mikhuna wasiman yaykuy",
           "go inside the restaurant"
          ],
          [
           "mikhunayay",
           "to be hungry"
          ],
          [
           "mikhupukuq, upyapukuq, kaypi chaypi",
           "bum who invites himself everywhere to eat and comes in without inviting the other"
          ],
          [
           "mikhurayay",
           "to eat little"
          ],
          [
           "mikhuykuna",
           "grains to eat"
          ],
          [
           "mik'ilu",
           "bad mythical being who kidnaps children"
          ],
          [
           "mik'iyay",
           "to become moist"
          ],
          [
           "milqa",
           "section of twenty furrows of a field, between two irrigation furrows"
          ],
          [
           "millachikuy",
           "to suffer from repulsion"
          ],
          [
           "millayay",
           "to be angry"
          ],
          [
           "millay kawsay",
           "to live a bad life"
          ],
          [
           "millk'u",
           "kind of herb"
          ],
          [
           "millma ruthuy",
           "to clip hair"
          ],
          [
           "millmayuq",
           "the one who has wool"
          ],
          [
           "millp'uchiy",
           "to plunge into the water"
          ],
          [
           "millqay",
           "to carry something in the apron"
          ],
          [
           "millu",
           "rock of aluminum sulfate used by witch doctors to diagnose illnesses by its color change when thrown into a fire"
          ],
          [
           "millu",
           "wool rope used to tie the sandals to the foot"
          ],
          [
           "millusqa apa",
           "blanket made out of thick wool threads"
          ],
          [
           "millusqa waska",
           "rope made out of thick wool threads"
          ],
          [
           "milluy",
           "to use the millu to diagnose a sickness"
          ],
          [
           "milluy",
           "to make wool ropes for sandals or lassos"
          ],
          [
           "millwiy",
           "to twist wool roughly"
          ],
          [
           "minchantin",
           "the day after tomorrow"
          ],
          [
           "mincha wata",
           "within two years"
          ],
          [
           "minita allinchay",
           "to adjust tension with help of tenter after passing shuttle through shed space"
          ],
          [
           "minkachi hayñi",
           "right of asylum"
          ],
          [
           "mink'a simita rimaq",
           "who speaks a language mixed up with a foreign one"
          ],
          [
           "mink'aykunata ruray",
           "to make a contract"
          ],
          [
           "mink'ay tukuy",
           "to be in charge"
          ],
          [
           "mintal",
           "kind of medicinal plant of the Ecuadorian jungle"
          ],
          [
           "miñu akchunita",
           "shuttle used on horizontal loom"
          ],
          [
           "miqllay",
           "quantity for carrying in a poncho"
          ],
          [
           "miqllay",
           "to carry in one's poncho"
          ],
          [
           "mirari hayñi",
           "right of reproduction"
          ],
          [
           "miriy",
           "to render great services to"
          ],
          [
           "mirqa-mirqa",
           "mixed of several colours"
          ],
          [
           "mirqa-mirqa p'acha",
           "dress of various colours"
          ],
          [
           "misachikuy",
           "to make celebrate mass"
          ],
          [
           "misapu p'anqa",
           "kind of medicinal plant of the Ecuadorian jungle"
          ],
          [
           "misa ruray",
           "to celebrate mass"
          ],
          [
           "misay",
           "to offer a mass"
          ],
          [
           "misay",
           "to refuse because of greediness"
          ],
          [
           "Miskayani",
           "the mythical city inhabited by highly evolved and extremely beautiful spiritual women, revealed in Q'ero mythology, the female counterpart to the myth of Paytiti"
          ],
          [
           "Miski",
           "fertile valley of Qhochapampa, conquered by Inka Ruka"
          ],
          [
           "miskuy",
           "to spin for a rope"
          ],
          [
           "misk'i mikhuy",
           "appetizing, juicy, substantial meal"
          ],
          [
           "misk'ina",
           "tasty preparation of meal"
          ],
          [
           "misk'i p'anqa",
           "kind of medicinal plant of the jungle"
          ],
          [
           "misk'i rimaq",
           "who speaks using friendly and sweet words"
          ],
          [
           "mismi",
           "residue of fire"
          ],
          [
           "mismi",
           "thickly twisted wool, as in for plaiting ropes"
          ],
          [
           "mismina",
           "spindle for stick-spinning"
          ],
          [
           "Misminay",
           "Andean village near Qosqo said to be constructed directly beneath the Milky Way"
          ],
          [
           "mistul",
           "kind of thorny tree with red fruits"
          ],
          [
           "misu",
           "excrements of the new-born child"
          ],
          [
           "misuggu",
           "certain kind of cactus"
          ],
          [
           "misuka; misiku",
           "variety of panti plant that gives a yellow dye"
          ],
          [
           "misuma uchu",
           "chili less hot"
          ],
          [
           "mitay",
           "to isolate humidity"
          ],
          [
           "mitu",
           "kind of papaya"
          ],
          [
           "mitu wasi",
           "a house made of clay"
          ],
          [
           "miyu-miyu",
           "poisonous herb or shrub growing on river banks"
          ],
          [
           "muchhana",
           "tool to take grain off the corn cob"
          ],
          [
           "muchhu",
           "little lamb without horns"
          ],
          [
           "much'achiy",
           "to make kiss"
          ],
          [
           "much'akuy",
           "to kiss each other"
          ],
          [
           "much'anakuy",
           "to kiss each other"
          ],
          [
           "mudakuy",
           "to change clothing"
          ],
          [
           "mudapakuy",
           "to do oneself up"
          ],
          [
           "muhu chinchi",
           "kind of aphid"
          ],
          [
           "muhunchay",
           "to select the seed for sowing"
          ],
          [
           "muhu papa",
           "potato used for planting"
          ],
          [
           "muhu rikch'ay",
           "activation of seeds"
          ],
          [
           "muk'u",
           "fermented cone of cornmeal for production of corn beer"
          ],
          [
           "mulla",
           "a woman's nephew"
          ],
          [
           "mullaka",
           "plant used to dye blue"
          ],
          [
           "mullaypa waska",
           "rope made out of agave or hemp fibres"
          ],
          [
           "mulli pispitu",
           "kind of small thorny shrub"
          ],
          [
           "mulli sika",
           "caterpillar of molle, with urticating hairs"
          ],
          [
           "mullquchay",
           "to take out dents"
          ],
          [
           "mullu khuya",
           "a specific set of five stones, progressively carved with one to five humps, used to open the human energy belts, tools of the chumpi paqo"
          ],
          [
           "mumura k'aspi",
           "weaving sword used to open shed"
          ],
          [
           "munakuy",
           "to love oneself"
          ],
          [
           "munami pahu",
           "kind of medicinal plant of the Ecuadorian jungle"
          ],
          [
           "munaspaqa",
           "if you wish"
          ],
          [
           "munayay",
           "to win the heart of"
          ],
          [
           "munay kawsay",
           "to live a good life"
          ],
          [
           "munti hamanq'ay",
           "kind of orchid"
          ],
          [
           "munti kapuli",
           "kind of shrub"
          ],
          [
           "muntilu muyu",
           "kind of medicinal plant of the Ecuadorian jungle used to treat headache, as well as snakebites"
          ],
          [
           "munti papaya",
           "kind of fruit tree"
          ],
          [
           "muntira",
           "flat, black woolen hat with upturned brim worn by women"
          ],
          [
           "muqch'iy",
           "to fill one's mouth with water"
          ],
          [
           "muqllu",
           "coca and cotton seeds"
          ],
          [
           "muquchinchi",
           "drink made from dried peach and water"
          ],
          [
           "muquku",
           "top of the head"
          ],
          [
           "muquy",
           "to commit incest"
          ],
          [
           "muquyay",
           "to become hump-backed"
          ],
          [
           "murana",
           "homespun woolen blouse worn by women"
          ],
          [
           "muriti turu",
           "forest of morete trees, uto to 30 m high, with relatively dense undergrowth"
          ],
          [
           "murmuntu",
           "kind of shrub with small, round, eatable fruits"
          ],
          [
           "murmu papa",
           "potato de terre of second quality"
          ],
          [
           "murquwaska",
           "kind of medicinal plant of the jungle"
          ],
          [
           "murq'uyapuy",
           "to make numb"
          ],
          [
           "murtiñu",
           "kind of fruit plant"
          ],
          [
           "muru hunt'a",
           "full of grains"
          ],
          [
           "muru q'aytu",
           "bichrome plied yarn"
          ],
          [
           "mururiy",
           "kind of medicinal plant of the jungle"
          ],
          [
           "murusyay",
           "to get spotted"
          ],
          [
           "muskaykunap chikun",
           "signs of admiration"
          ],
          [
           "musk'a",
           "livestock feeding bowl made of stone or wood"
          ],
          [
           "musquchay",
           "to appear in another person's dream"
          ],
          [
           "musul",
           "kind of plant"
          ],
          [
           "musuq chichu warmi",
           "first time pregnant"
          ],
          [
           "musuq hamuy",
           "to come the first time"
          ],
          [
           "musuq ruray",
           "to do the first time"
          ],
          [
           "Musuq Watapi sumaq kawsay",
           "Happy New Year"
          ],
          [
           "muta",
           "kind of catfish of the Amazon"
          ],
          [
           "mutilun",
           "kind of fruit plant"
          ],
          [
           "muti-muti",
           "kind of plant"
          ],
          [
           "muti-muti",
           "kind of shrub"
          ],
          [
           "mutiya",
           "small bush with podded fruit"
          ],
          [
           "mutkhina",
           "sense of smell"
          ],
          [
           "muthuchay",
           "to make dull"
          ],
          [
           "muthuyay",
           "to become dull"
          ],
          [
           "mut'uy",
           "kind of tree"
          ],
          [
           "muwa-muwa",
           "kind of ant bird"
          ],
          [
           "muytiy",
           "to fall because of a blow"
          ],
          [
           "muyu",
           "natural seed used for the confection of collars"
          ],
          [
           "muyumupasunmi",
           "we will return"
          ],
          [
           "muyuntintupu",
           "measure of circle"
          ],
          [
           "muyuntin uchu",
           "chilly ground with ist seeds"
          ],
          [
           "muyuntin wasimuyuntin",
           "round the house"
          ],
          [
           "muyupayay",
           "to circle round something"
          ],
          [
           "muyuqta wiquchispa qhaquy",
           "to rub in circles"
          ],
          [
           "muyurkachiy",
           "to make someone or something circle"
          ],
          [
           "muyuykuy",
           "to turn one's head"
          ],
          [
           "muyuynin",
           "course of time"
          ],
          [
           "muyuyta",
           "in a circular way"
          ],
          [
           "muyuyta wiquspa",
           "in a circular way"
          ],
          [
           "nakarqayasqa",
           "new pierced dress"
          ],
          [
           "nanachiq",
           "who causes pain"
          ],
          [
           "nana pichana p'anqa",
           "kind of medicinal plant of the jungle used to treat herpes by applying the heated bark to infected areas, while the aromatic leaves are rubbed on the forehead and strongly aspirated to treat headache"
          ],
          [
           "nanasqa",
           "full of pain"
          ],
          [
           "napaykachay",
           "to greet repeatedly"
          ],
          [
           "napaykunakuy",
           "to greet each other"
          ],
          [
           "naru",
           "little yellow bell-shaped flower"
          ],
          [
           "nasa",
           "trap to catch fish"
          ],
          [
           "nasapu p'anqa",
           "kind of medicinal plant of the Ecuadorian jungle"
          ],
          [
           "nasikuy",
           "to be born"
          ],
          [
           "nasiy",
           "to be born"
          ],
          [
           "natasyay",
           "to become cream"
          ],
          [
           "nay",
           "to do something"
          ],
          [
           "nayay",
           "to become something"
          ],
          [
           "ni huk ni huk",
           "neither one neither the other"
          ],
          [
           "ni ima hinamanta",
           "in no way"
          ],
          [
           "ni ima hinata",
           "in no way"
          ],
          [
           "ni ima kaptin",
           "in no way"
          ],
          [
           "ni imamanta",
           "you are welcome"
          ],
          [
           "nina",
           "young beautiful girl"
          ],
          [
           "nina hap'iriq hina (hapirin hina)",
           "like fire spreads"
          ],
          [
           "nina kuru pahu p'anqa",
           "kind of medicinal plant of the Ecuadorian jungle"
          ],
          [
           "nina kuru pahu p'anqa",
           "kind of medicinal plant of the Ecuadorian jungle"
          ],
          [
           "ni nipas huk ni huk",
           "neither one nor the other"
          ],
          [
           "numya",
           "kind of bean"
          ],
          [
           "nunkuli",
           "one of the main deities of the Lowland Kichwas"
          ],
          [
           "nuqi",
           "kind of herb"
          ],
          [
           "nuq'ay",
           "kind of plant"
          ],
          [
           "nu si",
           "I don't know"
          ],
          [
           "nusphachiy",
           "to bid farewell"
          ],
          [
           "nuwa",
           "kind of plant"
          ],
          [
           "nuwilap kaynin",
           "structure of novel"
          ],
          [
           "nuwilap ñiqichaynin",
           "structure of novel"
          ],
          [
           "ñachari",
           "it will already be"
          ],
          [
           "ñachu?",
           "is it already?"
          ],
          [
           "ñakurutu",
           "little green grasshopper"
          ],
          [
           "ñak'achikuy",
           "to have oneself operated"
          ],
          [
           "ñak'a-ñak'ayta",
           "with great difficulty"
          ],
          [
           "ñak'arichiq",
           "who causes other people's suffering"
          ],
          [
           "ñak'ariq",
           "who suffers physically"
          ],
          [
           "ñak'ayta chayamuni",
           "I have barely arrived"
          ],
          [
           "ña lluqsisqa pachamanta (pacha)",
           "from the time"
          ],
          [
           "ñam",
           "it is already time"
          ],
          [
           "ñamuryay",
           "to cook to rags"
          ],
          [
           "ñan arkaq",
           "kind of bird"
          ],
          [
           "ñankamu",
           "pedagogical user guide"
          ],
          [
           "ñanmanta t'aqay",
           "to deviate someone"
          ],
          [
           "ñannintinpi",
           "on the way"
          ],
          [
           "ñanniykita mañachiway",
           "let me pass the small road"
          ],
          [
           "ñanta pantachiy",
           "to deviate someone"
          ],
          [
           "ñanta patachiy",
           "to deviate someone"
          ],
          [
           "ñañucha",
           "very fine-spun yarn"
          ],
          [
           "ñañuchiy",
           "to make thin"
          ],
          [
           "ñañuyay",
           "to become thin"
          ],
          [
           "ñaqch'a kiru",
           "tooth of a comb"
          ],
          [
           "ñaqch'apayakuqlla qapchi-qapchilla",
           "who combs oneself very carefully"
          ],
          [
           "ñaqch'a qiwa",
           "kind of plant used as comb"
          ],
          [
           "ñaqch'ita",
           "beef from the ribs"
          ],
          [
           "ñaqhachá",
           "using all one's strength"
          ],
          [
           "ñaqhamantaña",
           "for a good while"
          ],
          [
           "ñaqha ripurqa",
           "he has left just now"
          ],
          [
           "ñaqha unay",
           "short time ago"
          ],
          [
           "ñaqha urmani",
           "I have almost fallen"
          ],
          [
           "ñati-ñati",
           "well-cooked inguiri banana turning soft like liver"
          ],
          [
           "ñawi awapa",
           "eye design in tubular edging"
          ],
          [
           "ñawi kichay",
           "to open one's eyes or subtle perspective centers"
          ],
          [
           "ñawita sipuchisqallapi",
           "in a blink"
          ],
          [
           "ñawiyuq",
           "who is able to read"
          ],
          [
           "ñawpa",
           "past and future"
          ],
          [
           "Ñawpa Machu",
           "people of the world before the Inkas"
          ],
          [
           "ñawpamuy",
           "to advance hither"
          ],
          [
           "ñawpa pacha",
           "past and future"
          ],
          [
           "ñawpapi",
           "in front of"
          ],
          [
           "ñawpariy",
           "to advance oneself"
          ],
          [
           "ñawpa sunqup uyan",
           "auricle of the heart"
          ],
          [
           "ñawsayachiy",
           "to make blind"
          ],
          [
           "ñin",
           "it is said"
          ],
          [
           "ñina p'acha",
           "very fine, thin and soft cloth"
          ],
          [
           "ñiqta uyapasqani",
           "I heard them say"
          ],
          [
           "ñisqata hunt'ay",
           "to hold a promise"
          ],
          [
           "ñisqay hinallataq (ñuqa ñisqa hinallataq)",
           "as I said"
          ],
          [
           "ñisunman",
           "we should say"
          ],
          [
           "ñisyu kachisapa",
           "it is very salted"
          ],
          [
           "ñiykachay",
           "to send to tell"
          ],
          [
           "ñuchuy",
           "to become very fine"
          ],
          [
           "ñukiy",
           "to watch above"
          ],
          [
           "ñuk'uyay",
           "to lose an arm"
          ],
          [
           "ñuñuña",
           "berry plant with purple flowers"
          ],
          [
           "ñuñuqa",
           "beginning of suckling"
          ],
          [
           "ñuñuqachiy",
           "to make a calf start sucking milk"
          ],
          [
           "ñuñuqay",
           "to begin suckling"
          ],
          [
           "ñuñuy wawa",
           "child being suckled"
          ],
          [
           "ñuqamanqa pay kinkinmi rikch'an",
           "it seems to me ..."
          ],
          [
           "ñuqa mikhuchun mikhuna",
           "food so that I may eat"
          ],
          [
           "Ñuqanchikqa huk simim kanchik",
           "We have one opinion"
          ],
          [
           "ñuqapaq allinmi uyarin",
           "seems good to me"
          ],
          [
           "Ñuqapaqa ... sutiymi.",
           "My name is ..."
          ],
          [
           "ñuqap ... sutiymi",
           "My name is ..."
          ],
          [
           "ñuqaqa chunka watayuqmi kani",
           "I am ten years old"
          ],
          [
           "Ñuqaqa ... mi kani.",
           "I am ..."
          ],
          [
           "ñuqa qillqaqatisaq",
           "I will read"
          ],
          [
           "ñuqata ari ñiqpi pachaqa",
           "if you really accept me"
          ],
          [
           "ñusñuy",
           "to breathe noisily"
          ],
          [
           "ñust'a",
           "female or priestess of 5th level"
          ],
          [
           "ñusu",
           "who swallows nasal mucus"
          ],
          [
           "ñut'u",
           "sweet prepared on base of yuca starch, brandy, sugar, eggs, and fat, baked in an earth stove"
          ],
          [
           "pacha",
           "you will go yourself now"
          ],
          [
           "pacha illariy",
           "beginning of time"
          ],
          [
           "pacha imallichiq",
           "adverb of time"
          ],
          [
           "pachaka",
           "province with one hundred families"
          ],
          [
           "Pachakamaq",
           "temple outside of Lima where the philosophy of yanantin was born"
          ],
          [
           "pachakchay",
           "to divide into one hundred"
          ],
          [
           "pachakninchisqa",
           "one hundred percent"
          ],
          [
           "pachakpi patmasqa",
           "divided into one hundred"
          ],
          [
           "pachakuti",
           "plant with regenerative effect on fallow fields"
          ],
          [
           "Pachakutiq Inka Yupanki",
           "the ninth Inka ruler attributed with building most of the Inka Empire, governed approximately between 1438 and 1471"
          ],
          [
           "pachalluq'i",
           "plant used to dye yellow"
          ],
          [
           "pachamamapi kutiriq kaq",
           "renewable natural resource"
          ],
          [
           "pachamamapi mana kutiriq kaq",
           "unrenewable natural resource"
          ],
          [
           "pachamara",
           "plant used to dye orange"
          ],
          [
           "pachanachi",
           "plant used to dye yellow or greenish-yellow"
          ],
          [
           "pachapi kachkaq",
           "being in the world"
          ],
          [
           "pacha puquy",
           "maduration of fruit and grain"
          ],
          [
           "pacha qururumpa kaynin",
           "roundness of the earth"
          ],
          [
           "pachatupu",
           "measure of time"
          ],
          [
           "pachay",
           "to be accustomed"
          ],
          [
           "pachayachachi",
           "vivifyer of the world"
          ],
          [
           "pachiy",
           "to sow the seeds into the furrows"
          ],
          [
           "pachkachiy",
           "to make wet"
          ],
          [
           "pachkaykachay",
           "to hop around"
          ],
          [
           "pach'a hunt'ay",
           "last months of pregnancy"
          ],
          [
           "pagay (pimanpas imatapas pagay)",
           "to pay someone something"
          ],
          [
           "paka",
           "rocky under the ground"
          ],
          [
           "pakakuy",
           "to hide oneself"
          ],
          [
           "pakapuy",
           "to hide something for someone"
          ],
          [
           "pakará",
           "kind of tree with a large crown casting a large shadow"
          ],
          [
           "pakarakuy",
           "to keep hidden"
          ],
          [
           "pakaray",
           "to hide there"
          ],
          [
           "pakawi",
           "kind of multi-coloured bird"
          ],
          [
           "pakaykukuy",
           "to hide oneself"
          ],
          [
           "paki",
           "sixteen-strand braid with spiral pattern"
          ],
          [
           "paku",
           "ear decoration of Inka nobles"
          ],
          [
           "paku",
           "big und white mushroom"
          ],
          [
           "pakurma",
           "maize carbon fungus"
          ],
          [
           "pala",
           "something rough, thick or big"
          ],
          [
           "palanchu",
           "kind of medicinal plant"
          ],
          [
           "palán-palán",
           "kind of tobacco-like tree"
          ],
          [
           "Palawraykikunata manam hap'inichu",
           "I do not understand what you are talking about"
          ],
          [
           "pali papa",
           "type of potato"
          ],
          [
           "palpunayay",
           "to be ready to fall"
          ],
          [
           "palta",
           "supplementary load put on top of the main load"
          ],
          [
           "paltay-paltay",
           "kind of shrub"
          ],
          [
           "palumita",
           "kind of fish of the Amazon"
          ],
          [
           "pallachiy",
           "to make collect"
          ],
          [
           "pallaki",
           "cereal plant remaining in the sowing time"
          ],
          [
           "pallakuy",
           "to collect something for oneself"
          ],
          [
           "pallankyay",
           "to lasso an animal"
          ],
          [
           "pallapuy",
           "to collect things for someone"
          ],
          [
           "pallaq",
           "collector of small things"
          ],
          [
           "pallar",
           "kind of bean"
          ],
          [
           "pallariy",
           "to pick up"
          ],
          [
           "pallki",
           "kind of tree whose fruit is used as coffee substitute"
          ],
          [
           "pallqa chaki",
           "who has feet with six toes"
          ],
          [
           "pampa t'ika",
           "kind of minute plant with yellow flowers on the ground"
          ],
          [
           "pamuku",
           "kind of herb whose fruits are similar to pumpkins"
          ],
          [
           "panaka",
           "in Inka times this word refers to the twelve royal lineages of Inka families that competed in Wiraqocha temple to become the next Sapa Inka or ruler of the empire"
          ],
          [
           "pandilla",
           "kind of happy, dynamic dance around the humisha palm"
          ],
          [
           "pani turi",
           "sister and brother"
          ],
          [
           "panku",
           "meal cooked with salt, but without any spices"
          ],
          [
           "panriy",
           "to become wet"
          ],
          [
           "pantakuy",
           "to get confused"
          ],
          [
           "panta-panta",
           "kind of herbaceous plant of the high mountain region"
          ],
          [
           "pantaykacha",
           "to be confused"
          ],
          [
           "panta yuyay",
           "to be wrong"
          ],
          [
           "pañastay",
           "to dance without being member of a group"
          ],
          [
           "pañastay",
           "to hop around"
          ],
          [
           "pañup qayllan",
           "hem of cloth"
          ],
          [
           "papa allay",
           "harvest of potato"
          ],
          [
           "papa awki",
           "ball for playing"
          ],
          [
           "papa hiwara",
           "kind of potato"
          ],
          [
           "papa lisa",
           "type of potato"
          ],
          [
           "papanku",
           "kind of medicinal plant of the Ecuadorian jungle"
          ],
          [
           "papa phiña",
           "kind of wild plant, star plant of potato"
          ],
          [
           "papa qaqa",
           "fungus that effects frictions in potatoes"
          ],
          [
           "papuhu",
           "kind of bird with abundant, puffy plumage on head and neck"
          ],
          [
           "paqarichiq machu chawchu (hurutmi)",
           "beginning of lineage"
          ],
          [
           "paqarimuy",
           "to be born"
          ],
          [
           "paqarinnintin",
           "the next day"
          ],
          [
           "paqarisqa yachakuy kaq",
           "old, natural costum"
          ],
          [
           "paqkachay",
           "to hand over"
          ],
          [
           "paqtachanikuy",
           "to be equivalent"
          ],
          [
           "paqtachichiy",
           "to hold responsible"
          ],
          [
           "paqtamanya",
           "short leg of right triangle"
          ],
          [
           "paqtan urmawaq",
           "Be careful, don't fall!"
          ],
          [
           "paqta rakiqniyuq p'aki yupaykuna",
           "fractions with a common denominator"
          ],
          [
           "paqta rakiq yupay",
           "greatest common divisor"
          ],
          [
           "paqta rakiriq yupay",
           "least common multiple"
          ],
          [
           "paqta rakuy",
           "to be equidistant"
          ],
          [
           "Paqtaraq rikunkiman!",
           "Careful not to look!"
          ],
          [
           "Paqu Tinka; Paqu Tink'a",
           "religious celebration where all beneficial powers are asked for prospering and success of their efforts"
          ],
          [
           "parachkan",
           "it is raining"
          ],
          [
           "paramuy",
           "to rain here"
          ],
          [
           "paraqay",
           "white corn or oca"
          ],
          [
           "parawáy",
           "South American rooster"
          ],
          [
           "parichiy",
           "to warm up"
          ],
          [
           "pariyay",
           "to cool down"
          ],
          [
           "parluy",
           "to tell a story"
          ],
          [
           "parpanay",
           "to clip feathers"
          ],
          [
           "parqa chaki",
           "foot with six toes"
          ],
          [
           "paruyay",
           "to get burnt by a fire"
          ],
          [
           "parway",
           "maduration of maize"
          ],
          [
           "pasakana",
           "kind of cactus"
          ],
          [
           "pasay",
           "to have diarrhoea"
          ],
          [
           "pasin",
           "kind of fish of the Amazon"
          ],
          [
           "paskana",
           "place where animals are untied"
          ],
          [
           "paskarikusqa p'acha",
           "dress with unpicked seams"
          ],
          [
           "paskariy",
           "to clear up"
          ],
          [
           "paskasinqa",
           "person with an open nose"
          ],
          [
           "paskasqa makiwan waqtay",
           "to slap up the face"
          ],
          [
           "paspansu",
           "kind of cotinga bird"
          ],
          [
           "pasqay",
           "to twist a thread slightly"
          ],
          [
           "pasullu",
           "kind of bean"
          ],
          [
           "pasuyay",
           "to lose one's wife"
          ],
          [
           "pasu yura",
           "kind of medicinal plant of the Ecuadorian jungle"
          ],
          [
           "pasyay",
           "to go for a walk"
          ],
          [
           "Pasyun Krus",
           "Cross of the Passion"
          ],
          [
           "pashkil",
           "pad for carrying freight on the head"
          ],
          [
           "pata",
           "variety of maize"
          ],
          [
           "patalqayay",
           "to become embittered"
          ],
          [
           "pata patalla puñuy",
           "to sleep only with one eye"
          ],
          [
           "pataray",
           "to fold up"
          ],
          [
           "patariq",
           "the one who folds"
          ],
          [
           "patas",
           "kind of plant"
          ],
          [
           "patay",
           "tort of back carob flour"
          ],
          [
           "patayay",
           "to form an elevation"
          ],
          [
           "patiy",
           "to lift up the skirt"
          ],
          [
           "patpay",
           "to prepare a bird"
          ],
          [
           "pawa karunchi",
           "kind of wild turkey"
          ],
          [
           "pawchi",
           "there isn't any'"
          ],
          [
           "pawikuy",
           "to be confused"
          ],
          [
           "pawka",
           "kind of plant"
          ],
          [
           "pawqarkuna",
           "colour diversity of feathers, flowers or plumage"
          ],
          [
           "pawqar unku",
           "shirt with multicoloured design"
          ],
          [
           "pawqar waray",
           "ceremonial vestment in the Inka era"
          ],
          [
           "pawsi anka",
           "kind of eagle"
          ],
          [
           "pay rurakuktachari tapuna",
           "question, if he/she does"
          ],
          [
           "pichachiy",
           "to make sweep"
          ],
          [
           "pichampuy",
           "to go to sweep something for someone"
          ],
          [
           "pichamuy",
           "to go to sweep"
          ],
          [
           "pichana",
           "kind of leguminous plant"
          ],
          [
           "pichana rikch'ayuq",
           "plant used to dye light or medium green, or, by adding mushrooms, dark green"
          ],
          [
           "pichanilla",
           "kind of shrub used for making brooms"
          ],
          [
           "pichapuy",
           "to sweep something for someone"
          ],
          [
           "picharana",
           "rubbing of the ill body with clothes or other object, which are the thrown onto a road crossing"
          ],
          [
           "pichi",
           "spirit of a baby"
          ],
          [
           "pichqa",
           "five - rite of washing deceased's clothing five days after death"
          ],
          [
           "pichqa minutu purina kaqpi",
           "in five minutes"
          ],
          [
           "pichqa runallapas",
           "at least five men"
          ],
          [
           "pichunakuy",
           "to smear one another"
          ],
          [
           "pika",
           "soup of potatoes in small pieces"
          ],
          [
           "pika",
           "dry meal with chilli"
          ],
          [
           "pikaltultu",
           "little green frog"
          ],
          [
           "pika-pika",
           "plant, leaves used for yellow dye"
          ],
          [
           "pikchay",
           "to chew coca"
          ],
          [
           "piki chaki",
           "flea penetrating the skin between the toes"
          ],
          [
           "pikichu",
           "limping because of welts on the feet"
          ],
          [
           "piki hunt'a",
           "full of fleas"
          ],
          [
           "pikikunaman tikrasqas",
           "it is said they became fleas"
          ],
          [
           "pikillín",
           "kind of throny shrub"
          ],
          [
           "piki pichana",
           "kind of shrub"
          ],
          [
           "piki-piki",
           "canoe used on the lowland rivers, usually driven by an outside motor"
          ],
          [
           "pikitiyay",
           "to tear into pieces"
          ],
          [
           "piki uchu",
           "variety of small chili pepper"
          ],
          [
           "pikiy",
           "to take out the fleas"
          ],
          [
           "piksa",
           "bag for coca"
          ],
          [
           "pikuwa",
           "kind of purple-flowering herb"
          ],
          [
           "pilastay",
           "to fall on one's face"
          ],
          [
           "pilin",
           "a food plant for guinea pigs"
          ],
          [
           "pillachay",
           "to make unequal"
          ],
          [
           "pillchi",
           "bowl made out of a type of squash"
          ],
          [
           "pillchi waska",
           "kind of medicinal plant of the Ecuadorian jungle"
          ],
          [
           "pillulu",
           "certain kind of bird"
          ],
          [
           "pillurikuy",
           "to crown oneself"
          ],
          [
           "pilluy",
           "to cut oneself into the hand"
          ],
          [
           "pillwis",
           "kind of shrub"
          ],
          [
           "pimil",
           "alga living in water"
          ],
          [
           "pinchana qiwa",
           "kind of medicinal plant of the Ecuadorian jungle"
          ],
          [
           "pinchu",
           "kind of spurge tree whose milk sap is used against fungus"
          ],
          [
           "pinqaku",
           "certain kind of shrub"
          ],
          [
           "pintadillu",
           "kind of catfish of the Amazon"
          ],
          [
           "pintuq raya",
           "kind of freshwater ray of the Amazon"
          ],
          [
           "piñayta anchuchiy",
           "to cheer up"
          ],
          [
           "pipatapas sunqun aysakuy",
           "to suffer from melancholy"
          ],
          [
           "pipiluchiy",
           "to cut off ears"
          ],
          [
           "pipinu",
           "kind of plant of the yunca with spicy fruits"
          ],
          [
           "pipiti",
           "kind of bird piping screechily, accoding to the legend, it announced to Herodes's soldiers Jesus's flight"
          ],
          [
           "pipu",
           "tight or compressed tissue"
          ],
          [
           "pipuchay",
           "to comress tissue"
          ],
          [
           "pipu-pipu awasqa",
           "thick, closewoven cloth"
          ],
          [
           "pipu p'acha",
           "thick, closewoven cloth"
          ],
          [
           "pipuy",
           "to press together"
          ],
          [
           "piqay",
           "to chew coca"
          ],
          [
           "piqtu",
           "certain meal based on maize or wheat"
          ],
          [
           "piqtuchiy",
           "to make someone mix something"
          ],
          [
           "piqtukuy",
           "to be mixed"
          ],
          [
           "piqtumuy",
           "to go to mix"
          ],
          [
           "piqtuy",
           "to become wet"
          ],
          [
           "piratay",
           "to lie on the belly"
          ],
          [
           "pirqachiy",
           "to make someone build a wall"
          ],
          [
           "pirqakuy",
           "to build a wall for oneself"
          ],
          [
           "pirqamuy",
           "to go to build a wall"
          ],
          [
           "pirqapuy",
           "to build something for someone"
          ],
          [
           "pirqasqa",
           "made out of bricks"
          ],
          [
           "pirqa thuñiykamun",
           "the fence came down"
          ],
          [
           "pirqaysiy",
           "to help to build a wall"
          ],
          [
           "Piruw suyu qhawaq kamasqakuna",
           "national defense system of Peru"
          ],
          [
           "pisada",
           "one hundred kilos"
          ],
          [
           "pisay",
           "to weigh something"
          ],
          [
           "pisilinga",
           "kind of fox"
          ],
          [
           "pisillam waska",
           "there are only few ropes"
          ],
          [
           "pisi ñawiyuq",
           "not able to read well"
          ],
          [
           "pisi-pisimanta",
           "little by little"
          ],
          [
           "pisi p'achayuq",
           "who wears short dress"
          ],
          [
           "pisi rinriyuq",
           "hard of hearing"
          ],
          [
           "pisiykachachiy",
           "to pay off"
          ],
          [
           "pisiy-pisiy!",
           "Take it easy!"
          ],
          [
           "pisk'ay",
           "kind of plant"
          ],
          [
           "pispita",
           "lively, clever woman"
          ],
          [
           "pisqiyay",
           "to scare off birds"
          ],
          [
           "Pishtaq",
           "mythical murderer who sucks out the poor's fat"
          ],
          [
           "pitachiy",
           "to make smoke"
          ],
          [
           "pitahaya",
           "kind of cactus"
          ],
          [
           "pitamuy",
           "to go to smoke"
          ],
          [
           "pitapis imatapis tapuy",
           "ask someone something"
          ],
          [
           "pitapis iñiy",
           "to rely on somebody"
          ],
          [
           "pitay",
           "bundle wrapped in a blanket"
          ],
          [
           "pitu",
           "toasted and polverized grain"
          ],
          [
           "pituchakuy",
           "to hold one's palms together"
          ],
          [
           "pitumpa",
           "kind of medicinal plant of the rainforest"
          ],
          [
           "pituy",
           "to eat pitu"
          ],
          [
           "piwichu",
           "kind of small, very vivid parrot"
          ],
          [
           "plituy",
           "to hold bundles"
          ],
          [
           "puchkay",
           "first spinning given to yarn, leaving rough, irregular threads"
          ],
          [
           "puchuqlu",
           "young corn cob"
          ],
          [
           "puka chari",
           "kind of medicinal plant of the jungle"
          ],
          [
           "puka itana",
           "kind of herb"
          ],
          [
           "puka kampi",
           "kind of fruit"
          ],
          [
           "puka lalu",
           "kind of medicinal plant of the Ecuadorian jungle"
          ],
          [
           "puka lupuna",
           "kind of medicinal plant of the jungle"
          ],
          [
           "pukamakashka",
           "kind of gentian of the high mountain region"
          ],
          [
           "puka qiru",
           "kind of medicinal plant of the rainforest"
          ],
          [
           "pukara kamayuq",
           "commander of fortress"
          ],
          [
           "Pukina",
           "ancient people living in the region of Lake Titicaca, and their extinct language"
          ],
          [
           "pukllamuy",
           "to go to play"
          ],
          [
           "pukllanayay",
           "need to play"
          ],
          [
           "pukllay",
           "tassel marking ears of camelids, of special red wool"
          ],
          [
           "puku-puku",
           "kind of bird that announces dawn by its singing"
          ],
          [
           "pukutarayay",
           "to be cloudy"
          ],
          [
           "pukutayay",
           "to cloud over"
          ],
          [
           "pulu",
           "a dish made out of pumpkin"
          ],
          [
           "puluku",
           "corn cob full of grains"
          ],
          [
           "pulla-pulla",
           "kind of annual plant with lilac five-petaled flowers that sprouts without leaves"
          ],
          [
           "pullpullyay",
           "to sound boiling"
          ],
          [
           "pumachu",
           "grass species of the puna region"
          ],
          [
           "pumachuku",
           "kind of tree"
          ],
          [
           "puma raya",
           "kind of freshwater ray of the Amazon"
          ],
          [
           "puma sach'a",
           "kind of medicinal plant of the jungle"
          ],
          [
           "puna ichhu",
           "straw from the lofty region"
          ],
          [
           "puna runa",
           "people of the lofty region"
          ],
          [
           "punchuchiy",
           "to dress someone in a poncho"
          ],
          [
           "punchukuy",
           "to put on a poncho"
          ],
          [
           "punki",
           "dyed yellowish orange"
          ],
          [
           "punkichiy",
           "to make swell"
          ],
          [
           "punkimanay",
           "to swell excessively"
          ],
          [
           "punki p'anqa",
           "kind of medicinal plant of the Ecuadorian jungle"
          ],
          [
           "punku",
           "narrowing of a river"
          ],
          [
           "punkuta wichq'ay",
           "close the door"
          ],
          [
           "punqu",
           "compulsory service for the landlord"
          ],
          [
           "punquy",
           "to do compulsory service for the landlord"
          ],
          [
           "puntapi",
           "in front of"
          ],
          [
           "punta runapaq chaskina",
           "fundamental human right"
          ],
          [
           "punwa",
           "kind of plant species with soft wood"
          ],
          [
           "puñukapuy",
           "to fall asleep"
          ],
          [
           "puñukuy",
           "to fall asleep"
          ],
          [
           "puñumuy",
           "to go to sleep"
          ],
          [
           "puñuna",
           "hand-woven blanket of dyed yarn with stripes of colors and a narrow band of simple design on each edge"
          ],
          [
           "puñuna wasiman haykuy",
           "go to the dormitory"
          ],
          [
           "puñupakuy",
           "to sleep at a stranger's home"
          ],
          [
           "puñupayay",
           "to stay awake"
          ],
          [
           "puñuq hina ruray",
           "to pretend being asleep"
          ],
          [
           "puñuqllaraq",
           "baby still sleeping most time"
          ],
          [
           "puñuray",
           "to wake up"
          ],
          [
           "puñusay",
           "not to be able to sleep"
          ],
          [
           "puñuy atiwan",
           "I am sleepy"
          ],
          [
           "puñuy atiy",
           "to be sleepy"
          ],
          [
           "puñuy aysay",
           "to put to sleep"
          ],
          [
           "puñuykuy",
           "to lie down"
          ],
          [
           "puñuy siki p'asña",
           "inveterately sleeping girl"
          ],
          [
           "puñuyta atiy",
           "to be able to sleep"
          ],
          [
           "puñuyta ch'utuy",
           "to be never quick-witted"
          ],
          [
           "pupa",
           "kind of parasitic climbing plant"
          ],
          [
           "puqchiy",
           "to throw chuwi in a game"
          ],
          [
           "puqipay",
           "to sprinkle with water"
          ],
          [
           "puqriy",
           "to get overripe"
          ],
          [
           "Puquna",
           "people east of Qhochapampa, conquered by Ruka Inka"
          ],
          [
           "puqunaqi yura",
           "kind of medicinal plant of the Ecuadorian jungle"
          ],
          [
           "puqutu",
           "certain plant species"
          ],
          [
           "puquy uku",
           "rainy warm season when the crops grow"
          ],
          [
           "purapura",
           "medical plant used against partial paralysis"
          ],
          [
           "purina",
           "areas for subsidiary residence with isolated houses and fields"
          ],
          [
           "purinapaq rantiqa",
           "instead of going"
          ],
          [
           "puriysiy",
           "to help walk"
          ],
          [
           "puruma",
           "land fertilized by sowing legumes"
          ],
          [
           "purunku",
           "certain kind of pumpkin used as containers"
          ],
          [
           "purun pakiy",
           "to make land cultivable"
          ],
          [
           "purun quwi",
           "wild guinea pig"
          ],
          [
           "puru-puru",
           "kind of shrub"
          ],
          [
           "pururuka",
           "drink made out of ripe, parboiled and liquified inguiri banana"
          ],
          [
           "purus",
           "kind of granadilla"
          ],
          [
           "puruyay",
           "to make hollow"
          ],
          [
           "pusachimuy",
           "to make bring someone"
          ],
          [
           "pusachiy",
           "to make lead someone"
          ],
          [
           "pusakuy",
           "to lead someone in company"
          ],
          [
           "pusampuy",
           "to fetch someone"
          ],
          [
           "pusanakuy",
           "to flee each other"
          ],
          [
           "pusapuy",
           "to lead someone in favour of someone"
          ],
          [
           "pusaqmanta huknin",
           "eight of a whole"
          ],
          [
           "pusaysiy",
           "to help to lead"
          ],
          [
           "pusil pusil",
           "person or animal without spirit"
          ],
          [
           "putaqllanku",
           "kind of climbing herb"
          ],
          [
           "putiha",
           "short-necked, wide-bellied jug"
          ],
          [
           "pututu",
           "marine snail shell"
          ],
          [
           "puylluchay",
           "to make a tassel"
          ],
          [
           "puyllullichiy",
           "to attach a tassel"
          ],
          [
           "puylluy",
           "to mark an animal with a tassel"
          ],
          [
           "puyu",
           "type of short poncho"
          ],
          [
           "puyuqrusqa",
           "infested by moths"
          ],
          [
           "phalay",
           "to skin over the surface"
          ],
          [
           "phalicha",
           "skirt of the little chidren"
          ],
          [
           "phallpayay",
           "to lose one's teeth"
          ],
          [
           "phalluy",
           "to destroy by physical blows"
          ],
          [
           "phanka",
           "kind of tree"
          ],
          [
           "pharaqiy",
           "to flap one's wings"
          ],
          [
           "phasa",
           "white eatable clay"
          ],
          [
           "phasakana",
           "fruit of the ulala cactus"
          ],
          [
           "phasiy",
           "to parboil beans"
          ],
          [
           "phatasqa",
           "peeled and cooked cereal"
          ],
          [
           "phatkiy",
           "to dry in the sun or the air"
          ],
          [
           "phawachiy",
           "to let escape"
          ],
          [
           "phawariy",
           "to raise the wing"
          ],
          [
           "phawchi runa",
           "little nature deities inhabiting running water: streams, creeks, and waterfalls"
          ],
          [
           "phawka",
           "plant used to dye yellow"
          ],
          [
           "philli",
           "hair on the body"
          ],
          [
           "phinkichiy",
           "to make jump"
          ],
          [
           "phinkiykachaq",
           "who moves jumping all the time"
          ],
          [
           "phinkiykachay",
           "to jump in all directions"
          ],
          [
           "phiñanakuy",
           "to resent each other something"
          ],
          [
           "phiñapayay",
           "to show resentment against someone"
          ],
          [
           "phiñayakuy",
           "to be angry"
          ],
          [
           "phiruy",
           "to roll up"
          ],
          [
           "phisara",
           "food of quinua flour"
          ],
          [
           "phiskurana",
           "rubbing of the ill body with clothes or other object, which are the thrown onto a road crossing, so that the bad is taken over by someone else"
          ],
          [
           "phuchu",
           "toof of wool or matted hair"
          ],
          [
           "phukuchiy",
           "to make someone blow"
          ],
          [
           "phukuchu",
           "kind of bird singing very harmonically, relative of the pawkar"
          ],
          [
           "phukuna wapa",
           "kind of tree of the Ecuadorian jungle, up to 30 m tall, with brown flowers, medicinal plant"
          ],
          [
           "phukupuy",
           "to blow at someone"
          ],
          [
           "phullpuy",
           "to bubble up"
          ],
          [
           "phuña",
           "a white-flowering plant of the puna"
          ],
          [
           "phurmuy",
           "to overflow, to brim over while boiling"
          ],
          [
           "phurunakuy",
           "to lose feathers"
          ],
          [
           "phuru-phuru",
           "circular plume used as ornament"
          ],
          [
           "phusayachiy",
           "to become porous"
          ],
          [
           "phusmaykachay",
           "to be apostate"
          ],
          [
           "phuspu",
           "cooked broad beans"
          ],
          [
           "phutirayay",
           "to be melancholic"
          ],
          [
           "phutunku",
           "hole in the ground"
          ],
          [
           "phutuy",
           "flowering of a plant or of the spiritual seed of the initiate"
          ],
          [
           "phuyuchakuy",
           "to cloud over"
          ],
          [
           "phuyuhunt'ariy",
           "to cloud over"
          ],
          [
           "phuyunay",
           "to cloud over"
          ],
          [
           "phuyunayay",
           "to begin clouding over"
          ],
          [
           "phuyuray",
           "to clear up"
          ],
          [
           "phuyurquy",
           "to cloud over unexpectedly"
          ],
          [
           "phuyuy",
           "to cloud over"
          ],
          [
           "phuyuykuy",
           "to cloud over"
          ],
          [
           "p'achannaq",
           "who has no clothes"
          ],
          [
           "p'achata huñuykukuy",
           "to put on warm clothes"
          ],
          [
           "p'akichiy",
           "to make someone break something"
          ],
          [
           "p'akimpuy",
           "to go to break something for someone"
          ],
          [
           "p'akipuy",
           "to break something for someone"
          ],
          [
           "p'aktiy",
           "to cover with a lid"
          ],
          [
           "p'allchay",
           "to reverse the contents of a container"
          ],
          [
           "p'alltanmanta",
           "in tailor's seat"
          ],
          [
           "p'ampachiy",
           "to make bury"
          ],
          [
           "p'ampampuy",
           "to go to bury someone in favor of someone"
          ],
          [
           "p'anqa hunt'a",
           "rich of leaves"
          ],
          [
           "p'anqaray",
           "to remove the leaves vocering the corn cobs"
          ],
          [
           "p'anqa silkillu",
           "kind of jungle tree, 11-16 m high"
          ],
          [
           "p'apichay",
           "return of humidity"
          ],
          [
           "p'apichay",
           "to stop losing humidity"
          ],
          [
           "p'aqrayay",
           "to go bald"
          ],
          [
           "p'arqa maki",
           "who has hands with six fingers"
          ],
          [
           "p'atachiy",
           "to make bite up"
          ],
          [
           "p'atachu",
           "badly developed tooth"
          ],
          [
           "p'ata kichka",
           "kind of opuntia"
          ],
          [
           "p'ata kiru",
           "badly developed tooth"
          ],
          [
           "p'ichuk",
           "belt or wreath dyed with several colours"
          ],
          [
           "p'inqachikuy",
           "to be ashamed"
          ],
          [
           "p'inquyllu",
           "kind of cicade"
          ],
          [
           "p'intuykukuy p'achata",
           "to put on warm clothes"
          ],
          [
           "p'isaq",
           "South American partridge"
          ],
          [
           "p'isqi",
           "meal with kinwa"
          ],
          [
           "p'istu",
           "wraparound skirt made of homespun, brightly dyed or natural white wool, worn in layers by women"
          ],
          [
           "p'istukuy",
           "to cover oneself"
          ],
          [
           "p'itachiy",
           "to make knit"
          ],
          [
           "p'itakuy",
           "to knit for oneself"
          ],
          [
           "p'itapuy",
           "to knit for someone"
          ],
          [
           "p'itipuy",
           "to tear something for someone"
          ],
          [
           "p'iti-p'iti",
           "plant, used to dye blue"
          ],
          [
           "p'iti-p'iti waska",
           "rope torn or cut into pieces"
          ],
          [
           "p'itiqallu",
           "person with speach problems"
          ],
          [
           "p'uchqu api",
           "pulp of corn"
          ],
          [
           "p'uchquchiy",
           "to make rot"
          ],
          [
           "p'ukruyay",
           "to become hollow"
          ],
          [
           "p'uktuy",
           "to make a concave depression or shape"
          ],
          [
           "p'ulltiy",
           "to plunge into the water"
          ],
          [
           "p'unchawnintin",
           "the whole day"
          ],
          [
           "p'unchawpi pichqa kutin",
           "five times daily"
          ],
          [
           "p'unchaw p'unchaw tukukunchik",
           "we start very early in the morning"
          ],
          [
           "p'uqachiy",
           "to make burst"
          ],
          [
           "p'ururawqa",
           "stone balls thrown down from the castle"
          ],
          [
           "p'utupapa",
           "potato that remains under the earth and germinates"
          ],
          [
           "p'uytukun",
           "type of pitcher"
          ],
          [
           "qachil",
           "rope of straw"
          ],
          [
           "qachuyay",
           "to become thinner"
          ],
          [
           "qala",
           "kind of parrot"
          ],
          [
           "qalalu",
           "plant used to dye blue, hierba santa"
          ],
          [
           "qalankata",
           "kind of small parrot"
          ],
          [
           "qalaphari",
           "food baked by means of a hot stone"
          ],
          [
           "qalaphurka",
           "food baked by means of a hot stone"
          ],
          [
           "qalwinchu",
           "plant with yellow flowers used by the women of Inkawasi to dye yellow"
          ],
          [
           "qallananchikmanta",
           "from the beginning"
          ],
          [
           "qallaqchi",
           "harvest rests in the stubble field"
          ],
          [
           "qallaqchiy",
           "to recollect rests of the harvest"
          ],
          [
           "qallarichiy",
           "to make begin"
          ],
          [
           "qallarimuy",
           "to go to begin"
          ],
          [
           "qallari pacha",
           "time of beginning"
          ],
          [
           "qallaripuy",
           "to begin something for someone"
          ],
          [
           "qallariymanta",
           "from the beginning"
          ],
          [
           "qallariyniyuq",
           "whose beginning is known"
          ],
          [
           "qallcha",
           "mown cereal heaped up with ist stalks"
          ],
          [
           "qallchachiq",
           "who make mow cereal"
          ],
          [
           "qallchapuy",
           "to mow cereal for someone"
          ],
          [
           "qallchay",
           "to mow cereal"
          ],
          [
           "qallchaypacha",
           "cereal mowing season"
          ],
          [
           "qallmachay",
           "to develop young shoots"
          ],
          [
           "qallpa",
           "field after harvest or mowing"
          ],
          [
           "qallpachakra",
           "leached-out land, which needs fallow"
          ],
          [
           "qallpay",
           "to lie fallow"
          ],
          [
           "qallupayay",
           "to stick one's tongue out at somebody"
          ],
          [
           "qalluyuq",
           "who has a tongue"
          ],
          [
           "qallwachiy",
           "to make press together the threads in the tissue"
          ],
          [
           "qallwamuy",
           "to go to press together the threads in the tissue"
          ],
          [
           "qallwana",
           "instrument of wood or bone used by the weavers to press the threads of a tissue together"
          ],
          [
           "qallwapuy",
           "to press together the threads in the tissue for somebody else"
          ],
          [
           "qallwaraq",
           "who presses together the threads in the tissue"
          ],
          [
           "qallway",
           "to press together the threads in the tissue"
          ],
          [
           "qamamamaq",
           "turning green again"
          ],
          [
           "qamamamay",
           "to turn green again"
          ],
          [
           "qamayay",
           "to lose taste"
          ],
          [
           "qamkuna ruraq hina (ruranhina)",
           "like you all do"
          ],
          [
           "qam llullaypas ñuqam ari amataq",
           "Just tell your lies, I won't"
          ],
          [
           "qamñataq",
           "and now you"
          ],
          [
           "qampaq ñawpapi",
           "in front of you"
          ],
          [
           "Qampaqpas!",
           "The same to you!"
          ],
          [
           "Qampas hinallataq!",
           "The same to you!"
          ],
          [
           "qampuru",
           "fruit of potato plant"
          ],
          [
           "qam rurasqa hinallataq",
           "like you have done"
          ],
          [
           "qamuchuy",
           "to make edit"
          ],
          [
           "qanchischay",
           "to multiply with seven"
          ],
          [
           "qanchis mitruta yallispam; qanchis mitru yalli",
           "more than seven meters"
          ],
          [
           "qanchis ñawi",
           "the seven levels of the Inkas' holy spiritual path"
          ],
          [
           "qanchis pachak waranqa",
           "seven hundred thousand"
          ],
          [
           "qanqa",
           "heat of fire"
          ],
          [
           "qañawa",
           "cereal from the Chenopodiaceae family"
          ],
          [
           "qapari",
           "cry of joy"
          ],
          [
           "qaparichiq",
           "who makes scream"
          ],
          [
           "qaparichiy",
           "to make scream"
          ],
          [
           "qaparimpuy",
           "to go to call for someone"
          ],
          [
           "qaparipuy",
           "to call for someone"
          ],
          [
           "qaptakuy",
           "to collect in handful portions"
          ],
          [
           "qapuy",
           "to tear down"
          ],
          [
           "qapya",
           "sweet-filled maize fritter"
          ],
          [
           "qaqa pata",
           "top of the rock"
          ],
          [
           "qaqapay",
           "to throw down"
          ],
          [
           "qaqi",
           "kind of bird"
          ],
          [
           "qaqinqura",
           "kind of bird that lives in the valleys and in the East"
          ],
          [
           "qaracha",
           "bark of a tree"
          ],
          [
           "qarachay",
           "to get scabies"
          ],
          [
           "qaraku",
           "Andean ritual which consists of offering animal blood to Pachamama"
          ],
          [
           "qarakuq",
           "who helps oneself taking food"
          ],
          [
           "qarakuy",
           "to serve oneself"
          ],
          [
           "qara lluch'uy",
           "to skin an animal"
          ],
          [
           "qaramuy",
           "to go to deal out"
          ],
          [
           "qaranakuy",
           "to share food"
          ],
          [
           "qaranam kanchik",
           "we have to give something"
          ],
          [
           "qarantin papa",
           "potatoes with peel"
          ],
          [
           "qarapanki",
           "you will give it to him/her"
          ],
          [
           "Qararay!",
           "To hell with him!"
          ],
          [
           "qara simi",
           "dry, chapped lips"
          ],
          [
           "qara sip'u",
           "wrinkel of the skin"
          ],
          [
           "qaratu",
           "native tree with large leaves"
          ],
          [
           "qaraway",
           "give me to eat"
          ],
          [
           "qaray",
           "early morning, pre-breakfast work period, used especially during the broad bean harvest in May"
          ],
          [
           "qarayapuy",
           "to develop skin"
          ],
          [
           "qarayay",
           "to become unchaste"
          ],
          [
           "qarpachiy",
           "to make irrigate"
          ],
          [
           "qarpamuy",
           "to go to irrigate"
          ],
          [
           "qarpapuy",
           "to irrigate something for someone"
          ],
          [
           "qarpaysiy",
           "to help to irrigate"
          ],
          [
           "qarpuy",
           "to press downwards"
          ],
          [
           "qarqacha",
           "demon of incest"
          ],
          [
           "qarqanchu",
           "type of big scavenger bird"
          ],
          [
           "qarqupuy",
           "to throw something for someone"
          ],
          [
           "qarwa",
           "leaf worm, larva of a beetle"
          ],
          [
           "qarwayllu",
           "colouring of the sky at dawn or dusk"
          ],
          [
           "qasa phuyu",
           "major and minor Magellan cloud"
          ],
          [
           "qasay",
           "to be cold"
          ],
          [
           "qasi p'unchaw",
           "day of rest"
          ],
          [
           "qasiyay",
           "to calm down"
          ],
          [
           "qashay",
           "to rip from above downward"
          ],
          [
           "qatachiy",
           "to make cover"
          ],
          [
           "qatakuy",
           "to cover oneself"
          ],
          [
           "qatallikuy",
           "to cover oneself up"
          ],
          [
           "qata masi",
           "two people whose husbands or wives are brothers or sisters"
          ],
          [
           "Qatam sumaqcha!",
           "the roof looks nice"
          ],
          [
           "qatamuy",
           "to go to cover"
          ],
          [
           "qatapuy",
           "to cover something for someone else"
          ],
          [
           "qataykukuy",
           "to cover oneself"
          ],
          [
           "qataykuy",
           "to cover again"
          ],
          [
           "qatay masi",
           "two people whose husbands or wives are brothers or sisters"
          ],
          [
           "qatichiy",
           "to make follow"
          ],
          [
           "qatimuy",
           "to drive an animal or person for oneself"
          ],
          [
           "qatintin yupaykuna",
           "order of numbers"
          ],
          [
           "qatipuy",
           "to drive an animal or person for someone"
          ],
          [
           "qati-qatilla",
           "one after the other"
          ],
          [
           "qatiqay",
           "to drive to the other side"
          ],
          [
           "qatisun",
           "let's carry on"
          ],
          [
           "qatisuyu rikuchiq iñu",
           "intercardinal points of the compass"
          ],
          [
           "qawa",
           "sprout of a tuber"
          ],
          [
           "qaway",
           "to break the sprout of a tuber"
          ],
          [
           "qawi",
           "dried in the sun"
          ],
          [
           "qawi",
           "oca dried in the sun"
          ],
          [
           "qawichiy",
           "to have plants dried in the sun by ..."
          ],
          [
           "qawisqa",
           "dried in the sun"
          ],
          [
           "qawiy",
           "to dry plants in the sun"
          ],
          [
           "qawni",
           "maize stalk dried for fodder"
          ],
          [
           "qayamuy",
           "to go to call someone"
          ],
          [
           "qayara",
           "plant like Isabela but smaller"
          ],
          [
           "qaykuy",
           "to lock up in a corral"
          ],
          [
           "qayllanchay",
           "to move closer"
          ],
          [
           "qayllapuy",
           "to move something closer in favor of someone"
          ],
          [
           "qayllayachiy",
           "to move closer"
          ],
          [
           "qayninpas",
           "times of before"
          ],
          [
           "qaywimuy",
           "to go to stir"
          ],
          [
           "qaywina",
           "spoon or ladle for stirring"
          ],
          [
           "qaywipuy",
           "to stir for someone"
          ],
          [
           "qaywiysiy",
           "to help to stir"
          ],
          [
           "qichalita",
           "kind of pidgeon"
          ],
          [
           "qichqan",
           "on the side"
          ],
          [
           "qichuchikuy",
           "to have something taken away for oneself"
          ],
          [
           "qichuchiy",
           "to make take away"
          ],
          [
           "qichumuy",
           "to go to take something away"
          ],
          [
           "qichunakuy",
           "to fight over the possession of something"
          ],
          [
           "qichupuy",
           "to take something away for someone"
          ],
          [
           "qichuqay",
           "to take down"
          ],
          [
           "qilla",
           "kind of small bee"
          ],
          [
           "qillita",
           "kind of bird"
          ],
          [
           "qillmu",
           "kind of shrub"
          ],
          [
           "qillpuy",
           "to fill in liquid"
          ],
          [
           "qillqachiy",
           "to make write"
          ],
          [
           "qillqamuy",
           "to go to write"
          ],
          [
           "qillqanara",
           "sheet of paper"
          ],
          [
           "qillqapuy",
           "to write something for someone"
          ],
          [
           "qillqa unancha",
           "punctuation mark  "
          ],
          [
           "qillqayta munani",
           "I want to write"
          ],
          [
           "qillqayuq",
           "what has something written"
          ],
          [
           "qinturi",
           "plant, the root used for a brown or dark orange dye"
          ],
          [
           "qinthu",
           "plant, used in brown dye"
          ],
          [
           "qiñalu",
           "kind of water bird"
          ],
          [
           "qiqañu",
           "wind instrument leader"
          ],
          [
           "qiqi",
           "young corn cob"
          ],
          [
           "qiri",
           "wood used by a carpenter"
          ],
          [
           "qischay",
           "to make suffer"
          ],
          [
           "qisñachay",
           "to make a nest"
          ],
          [
           "qispichikuy",
           "to give birth"
          ],
          [
           "qispipuy",
           "to free someone to one's own favour"
          ],
          [
           "qishyarayay",
           "to be ill for a long time"
          ],
          [
           "qitupí",
           "kind of bird with brown back, yellow chest and yellow tail"
          ],
          [
           "qityachay",
           "to blacken with soot"
          ],
          [
           "qiwakuy",
           "to be very nervous"
          ],
          [
           "qiwayllu",
           "kind of herb, eatable when fresh and attaching to clothes when dry"
          ],
          [
           "qiwikachay",
           "to extract by sieving"
          ],
          [
           "qiwisu",
           "a meal made out of pumpkins"
          ],
          [
           "Quchapampa",
           "fertile valley of Cochabamba"
          ],
          [
           "qucha pulla",
           "kind of South American partridge"
          ],
          [
           "qucha turu",
           "kind of water bird"
          ],
          [
           "quchayay",
           "to become a lake"
          ],
          [
           "qulliy",
           "to cover glowing coals with ashes to keep the fire alive"
          ],
          [
           "qullpachiy",
           "to feed cattle with salt"
          ],
          [
           "qullpa-qullpa",
           "earth rich of salpetre"
          ],
          [
           "qullqichay; qullqichakuy",
           "to earn money"
          ],
          [
           "qullqi huñuy",
           "to save money"
          ],
          [
           "qullqi k'aha",
           "dross that separates from melted silver"
          ],
          [
           "qullqi mama",
           "land with silver deposits"
          ],
          [
           "qullqi papa",
           "potato of first quality used for sale"
          ],
          [
           "qullqi pata",
           "shirt with stripes with chessboard design of Qulla origin"
          ],
          [
           "qullqi q'aytuwan",
           "with silver thread"
          ],
          [
           "qullqirayku hatun tantanakuy",
           "great economic blocks"
          ],
          [
           "qullqita mirachiy",
           "to earn money"
          ],
          [
           "qullqi unku",
           "shirt with silver threads"
          ],
          [
           "qulluchiy",
           "to make flood"
          ],
          [
           "qullupuy",
           "to go bankrupt"
          ],
          [
           "qumay",
           "to struggle with the labour-pains"
          ],
          [
           "qumuy",
           "to go to give"
          ],
          [
           "qunqachipuy",
           "to make someone forget something in favor of someone"
          ],
          [
           "qunqachiq",
           "who makes forget"
          ],
          [
           "qunqarpariy",
           "to forget totally"
          ],
          [
           "qunqay",
           "act of forgetting"
          ],
          [
           "qunquraray",
           "to be kneeling down"
          ],
          [
           "qunqurayay",
           "to be kneeling down"
          ],
          [
           "qunqurchaki",
           "on one's knees"
          ],
          [
           "qunqurchakimanta",
           "on one's knees"
          ],
          [
           "qunqurmanta ismupuy",
           "to become corrupted"
          ],
          [
           "qunuchikuy",
           "to warm up"
          ],
          [
           "qupanakuy",
           "to rub clothes or flesh of each other"
          ],
          [
           "qupa p'anqa",
           "kind of medicinal plant of the Ecuadorian jungle, tree whose cooked leaves are eaten to relieve headaches"
          ],
          [
           "qupa yura; qupa p'anqa",
           "kind of medicinal plant of the Ecuadorian jungle"
          ],
          [
           "quqaray",
           "to get mouldy"
          ],
          [
           "ququ",
           "certain meal with meat"
          ],
          [
           "ququ",
           "warp beam on staked loom"
          ],
          [
           "ququ",
           "kind of eagle owl"
          ],
          [
           "ququtuwa",
           "bird with grey plumage"
          ],
          [
           "qurasqa",
           "freed of weeds"
          ],
          [
           "qurichay",
           "to give a present"
          ],
          [
           "quri kiru",
           "person with gold teeth"
          ],
          [
           "quri q'inti",
           "a species of hummingbird"
          ],
          [
           "quri runa",
           "praise of the worker who is tireless until old age"
          ],
          [
           "quri unku",
           "shirt embroidered with gold"
          ],
          [
           "quriwan chipiyaq chipipipiq p'acha",
           "cloth with gold"
          ],
          [
           "qurukuy",
           "to mutilate oneself"
          ],
          [
           "qusila",
           "woman with the clear eyes"
          ],
          [
           "qusilu",
           "man with clear eyes"
          ],
          [
           "qusi ñawi",
           "person with clear eyes"
          ],
          [
           "Qusqu hatun llaqta napaykuykim!",
           "Qosqo, grand city, I greet you!"
          ],
          [
           "Qusqupi kasqay kanmi",
           "I have been in Qosqo"
          ],
          [
           "Qusqu qhapaqpaq churaqllay yanapaway maypim kanki!",
           "Qosqo, who you only sustain the mighty, there where you are, help me!"
          ],
          [
           "qustal",
           "woven bag used to carry produce"
          ],
          [
           "qutu kiswar",
           "kind of tree"
          ],
          [
           "qutu qara k'aspi",
           "kind of jungle tree, 6-10 m high"
          ],
          [
           "quwi lulun papa",
           "kind of potato"
          ],
          [
           "quya raymi",
           "fiest of the queen in Inka times"
          ],
          [
           "quyllu papa",
           "cooked potato eaten without spices"
          ],
          [
           "quysuy",
           "to drag clothes"
          ],
          [
           "qhachina",
           "stick for stirring cereals when drying or toasting them"
          ],
          [
           "qhachiriy",
           "to scrape in the sand"
          ],
          [
           "qhachqachiy",
           "to cause unevenness"
          ],
          [
           "qhakaykukuy",
           "to stuff oneself"
          ],
          [
           "qhakuy",
           "to clean grains like kinua with the hands"
          ],
          [
           "qhakyawiri",
           "special potato used to make chuñu"
          ],
          [
           "qhallalla",
           "full of life"
          ],
          [
           "qhallallaq wayna",
           "young in abundance of youth"
          ],
          [
           "qhallay",
           "to throw out violently"
          ],
          [
           "qhanqayachiy",
           "to make increase"
          ],
          [
           "qhanrachakuy",
           "to get dirty"
          ],
          [
           "qhanra kawsay",
           "to live a bad life"
          ],
          [
           "qhapaq inti raymi",
           "fiest of the Lord Sun"
          ],
          [
           "Qhapaq Yupanki",
           "the fifth Inka ruler"
          ],
          [
           "qhaparqachaq",
           "who calls for help"
          ],
          [
           "qhaphtuy",
           "to rub something between the hands"
          ],
          [
           "qhaquchiy",
           "to make rub"
          ],
          [
           "qhaqukuy",
           "to rub oneself"
          ],
          [
           "qhaqumuy",
           "to go to rub"
          ],
          [
           "qhaqupuy",
           "to rub something for someone"
          ],
          [
           "qhaqya sara",
           "type of mixed color corn"
          ],
          [
           "Qharachipampa",
           "plain outside of Potosí / P'utuqsi where the airport is located"
          ],
          [
           "qhari-qhari purikuqta rikusunchik",
           "we will see him walk powerfully"
          ],
          [
           "qhari warmi",
           "man and wife"
          ],
          [
           "qhariyaruy",
           "to take courage"
          ],
          [
           "qharmin",
           "cartilage where the sternum ends in"
          ],
          [
           "qhasurqayasqa",
           "new pierced dress"
          ],
          [
           "qhasuykuy",
           "to tear cloth or leather"
          ],
          [
           "qhatay",
           "son in law"
          ],
          [
           "qhatqiy",
           "to become embittered"
          ],
          [
           "qhatuway",
           "sell me ..."
          ],
          [
           "qhawachikuy",
           "to show oneself"
          ],
          [
           "qhawachiq",
           "who makes look"
          ],
          [
           "qhawapay",
           "to watch again"
          ],
          [
           "qhawapuy",
           "to watch something for someone"
          ],
          [
           "qhawarikuy",
           "to pay attention"
          ],
          [
           "qhayqasqa",
           "evil air caused by the dead"
          ],
          [
           "qhichinchay",
           "to blacken with soot"
          ],
          [
           "qhilliyapuy",
           "to become corrupted"
          ],
          [
           "qhinchachakuy",
           "to commit adultery"
          ],
          [
           "qhipakana",
           "what has to be in future"
          ],
          [
           "qhipakunapi",
           "in the aftermath"
          ],
          [
           "qhipanchay",
           "to put backward"
          ],
          [
           "qhiparayay",
           "to stay behind"
          ],
          [
           "qhipu",
           "spine of cactus"
          ],
          [
           "qhiri",
           "very small fish"
          ],
          [
           "qhisi",
           "very small fish"
          ],
          [
           "qhitiy",
           "to boil with large bubbles"
          ],
          [
           "qhiwallu",
           "type of big cactus"
          ],
          [
           "qhuchpakuq",
           "who rolls over and over"
          ],
          [
           "qhuchpay",
           "to roll over and over"
          ],
          [
           "qhuchukuy",
           "to meet to pass the time"
          ],
          [
           "qhuchullay",
           "to come close to"
          ],
          [
           "qhuchu qhuchulla",
           "all together in a muddle"
          ],
          [
           "qhullulluy",
           "to be flatulent"
          ],
          [
           "qhulluqayayqhun",
           "the sound of thunder"
          ],
          [
           "qhunachiy",
           "to make grind"
          ],
          [
           "qhunamuy",
           "to go to grind"
          ],
          [
           "qhunapuy",
           "to grind something for someone"
          ],
          [
           "qhuñay",
           "to excrete mucus"
          ],
          [
           "qhuru qallu",
           "who talks badly and at random"
          ],
          [
           "qhusqu kunka",
           "who wears a dirty shirt"
          ],
          [
           "qhusqulli",
           "who wears a dirty shirt"
          ],
          [
           "Qhut'apata",
           "sanctuary of the Altiplano, pilgrims coming first of August"
          ],
          [
           "qhuysu",
           "long pollera like those worn by Aymara women"
          ],
          [
           "q'achan",
           "kind of plant with spicy fruits"
          ],
          [
           "q'achuy",
           "to cut pasture"
          ],
          [
           "q'ahachiy",
           "to cause fever"
          ],
          [
           "q'allpichiy",
           "to make squeeze out"
          ],
          [
           "q'allpikuy",
           "to squeeze oneself out"
          ],
          [
           "q'allpipuy",
           "to squeeze something out for someone"
          ],
          [
           "q'allpiy",
           "to squeeze out by hand"
          ],
          [
           "q'alltiy",
           "to shake a liquid in its vessel"
          ],
          [
           "q'allukuy",
           "to cut oneself"
          ],
          [
           "q'apchi",
           "elegant, haughty nobleman"
          ],
          [
           "q'apinakuy",
           "to shake hands"
          ],
          [
           "q'apiriy",
           "to shake hands"
          ],
          [
           "q'apñuy",
           "to crumple up"
          ],
          [
           "q'aqalu",
           "born out of wedlock"
          ],
          [
           "q'aqcha",
           "type of Carnaval dance"
          ],
          [
           "q'aqchu",
           "woman leading an unhampered life"
          ],
          [
           "q'ara llant'a",
           "type of rubbery stemmed plant"
          ],
          [
           "q'ara simi",
           "person who tells his or her facts to everyone"
          ],
          [
           "q'asampa",
           "kind of myriapod"
          ],
          [
           "q'asana",
           "four-square design in the lower part of some Inka shirts"
          ],
          [
           "q'asana unku",
           "shirt with chessboard design"
          ],
          [
           "q'aspachiy",
           "to make flakes"
          ],
          [
           "q'ayakama",
           "see you tomorrow"
          ],
          [
           "q'aymay",
           "to be in very bad condition"
          ],
          [
           "q'ayru",
           "underground potato deposit"
          ],
          [
           "q'aytuncha",
           "ornament of yarn put into the fabric"
          ],
          [
           "q'ichwakuy",
           "to have a festival"
          ],
          [
           "q'ila",
           "plant with blue flowers used for firewood"
          ],
          [
           "q'illinchu",
           "type of bird"
          ],
          [
           "q'illiy",
           "to shrug one's shoulders"
          ],
          [
           "q'illu ch'uru",
           "plant, root used to dye yellow"
          ],
          [
           "q'illu kampi",
           "kind of jungle tree, 6-10 m high"
          ],
          [
           "q'illu pisqu",
           "kind of bird"
          ],
          [
           "q'illu sisa",
           "kind of yellow blooming herb"
          ],
          [
           "q'illuyachiy",
           "to make yellow"
          ],
          [
           "q'imichiy",
           "to move closer"
          ],
          [
           "q'imirisqa yuyay",
           "subordinate clause  "
          ],
          [
           "q'imiy",
           "to move closer"
          ],
          [
           "q'intisu",
           "with ruffled hair"
          ],
          [
           "q'intisu",
           "bird with its feathers in disorder"
          ],
          [
           "q'ipichay",
           "to make a bundle"
          ],
          [
           "q'ipiri",
           "cartilaginous part of the cattle's chest"
          ],
          [
           "q'ipiriy",
           "to carry in a bundle"
          ],
          [
           "q'iririnka",
           "bird of the valley"
          ],
          [
           "q'isachay",
           "to build a nest"
          ],
          [
           "q'isipra aktuy, phukuy",
           "to offer one's eyebrows to the sun blowing them"
          ],
          [
           "q'isqintu",
           "kind of cicade"
          ],
          [
           "q'iswa",
           "rope of twisted straw"
          ],
          [
           "q'iwakuy",
           "to be frightened"
          ],
          [
           "q'iwirayay",
           "to remain twisted"
          ],
          [
           "q'iwirkayay",
           "to twist many things together"
          ],
          [
           "q'iwiwiy",
           "to have cramps"
          ],
          [
           "q'iwiykamayuq",
           "who is able to twist well"
          ],
          [
           "q'iyanayay",
           "to press out pus"
          ],
          [
           "q'iyay",
           "to press out pus"
          ],
          [
           "q'uchu",
           "minor end of a sling, braided after the more complex braid is completed, usually 5- or 7-strand braid of oblique interlacing with only one interlacement before changing direction, also 8- or 16-strand 4-sided zig-zag patterned braid"
          ],
          [
           "q'ullurikuy",
           "to lift up one's skirt"
          ],
          [
           "q'ulluriy",
           "to lift up the skirt"
          ],
          [
           "q'umirihu",
           "kind of lizard"
          ],
          [
           "q'uñi",
           "a \"hot\" temperature or essence in a food or in the environment that enters the body and causes illness"
          ],
          [
           "q'upayay",
           "to become waste"
          ],
          [
           "q'urpa",
           "clod of dirt"
          ],
          [
           "q'usñichi",
           "kind of bird with blue feathers"
          ],
          [
           "q'usñiyay",
           "to get smoky color"
          ],
          [
           "q'usu",
           "person who doesn't want to eat"
          ],
          [
           "q'utu chupa",
           "kind of medicinal plant of the rainforest used in popular medicine against gonorrhoea"
          ],
          [
           "q'utuyay",
           "to have a goitre"
          ],
          [
           "q'utuyuq",
           "someone with a goitre"
          ],
          [
           "q'uway",
           "to give a smoke offering to Pachamama"
          ],
          [
           "q'uyu",
           "potato that has become green in the sun"
          ],
          [
           "q'uyuyachiy",
           "to bruise by beating"
          ],
          [
           "rabiyay",
           "to be angry"
          ],
          [
           "rakap hatun wirp'an",
           "major labia of the vulva"
          ],
          [
           "rakap huch'uy wirp'an",
           "minor labia of the vulva"
          ],
          [
           "rakchikuy",
           "to scratch oneself"
          ],
          [
           "rakchipakuy",
           "to defend oneself scratching"
          ],
          [
           "raki",
           "part in the hair"
          ],
          [
           "raki-raki",
           "when two things are separate that should be together"
          ],
          [
           "rakiyawasqa kaq",
           "what we have shared among us"
          ],
          [
           "rakwa",
           "hoe to dig out potatoes"
          ],
          [
           "rakhu kunka",
           "too thick voice"
          ],
          [
           "rakhu khallwa",
           "wide weaving sword"
          ],
          [
           "rakhu purutu",
           "large poroto bean"
          ],
          [
           "rakhuta away",
           "to spin thick threads"
          ],
          [
           "ranqhachiy",
           "to make sell"
          ],
          [
           "ranqhakuy",
           "to sell oneself"
          ],
          [
           "ranra",
           "covered with small stones"
          ],
          [
           "rantikuy",
           "buy yourself ..."
          ],
          [
           "rantikuy",
           "to buy for something oneself"
          ],
          [
           "rantina",
           "things for sale"
          ],
          [
           "rantipuy",
           "to buy something for someone"
          ],
          [
           "rantisakuna p'acha",
           "dress to be put on afresh"
          ],
          [
           "rantisay; rantisakuy",
           "to change clothes again"
          ],
          [
           "rapchiy",
           "to pull out herbs without care"
          ],
          [
           "rapray",
           "to cut branches"
          ],
          [
           "raptay",
           "to eat with one's fingers"
          ],
          [
           "raqacha",
           "certain tuber plant"
          ],
          [
           "raqrayay",
           "to be cracked"
          ],
          [
           "raqu ayawaska",
           "kind of medicinal plant of the jungle"
          ],
          [
           "rarqay",
           "to dig irrigation ditches"
          ],
          [
           "rasgay",
           "to scratch oneself"
          ],
          [
           "rasmiy",
           "to scratch oneself slightly"
          ],
          [
           "rasmiy",
           "to scratch slightly"
          ],
          [
           "rata-rata",
           "kind of tree"
          ],
          [
           "ratitumanta",
           "within a moment"
          ],
          [
           "Ratukama!",
           "See you later!"
          ],
          [
           "ratukuy",
           "to grow fond of"
          ],
          [
           "ratulla",
           "just a moment"
          ],
          [
           "rawiy",
           "to get into disorder"
          ],
          [
           "rawrachiy",
           "to light fire"
          ],
          [
           "rawraq siki",
           "stinking like a skunk"
          ],
          [
           "Rayan Pampa",
           "plain where the elder grows"
          ],
          [
           "rayu",
           "lightning sickness, an illness attributed to being struck by lightning in the lowlands"
          ],
          [
           "richkay",
           "to wake up"
          ],
          [
           "rigalay",
           "to give as a gift"
          ],
          [
           "rikachakachiy",
           "to wake up"
          ],
          [
           "rikch'akuy",
           "to wake up"
          ],
          [
           "rikch'aqlla",
           "only similar, not identical"
          ],
          [
           "rikch'arichiy",
           "to wake up someone who is dreaming"
          ],
          [
           "rikch'ariy",
           "to wake up"
          ],
          [
           "rikch'ay",
           "to wake up"
          ],
          [
           "rikch'ayay",
           "not to be able to sleep"
          ],
          [
           "riki?",
           "is it OK?"
          ],
          [
           "rikrakuy",
           "to put onto one's sholder"
          ],
          [
           "rikukuy",
           "to see oneself"
          ],
          [
           "rikunakunqakama (kawsaspaqa)",
           "until we will see each other, if still alive"
          ],
          [
           "rikunakuy",
           "to see each other"
          ],
          [
           "rikunki",
           "you will see"
          ],
          [
           "rikurisun",
           "see you again"
          ],
          [
           "rikuriyay",
           "to take care of"
          ],
          [
           "rikusqamanta (rikusqarayku)",
           "because of having seen"
          ],
          [
           "rikuy",
           "to know a place"
          ],
          [
           "rikuymanta",
           "because of seeing"
          ],
          [
           "rikuy tukuy",
           "to become pleasant"
          ],
          [
           "Rimaqmayu",
           "the talking river"
          ],
          [
           "rimarichiy",
           "to make declare"
          ],
          [
           "rimi",
           "plant used to dye brown"
          ],
          [
           "rimu k'aspi",
           "kind of medicinal plant of the jungle"
          ],
          [
           "rinrichay",
           "to make a buttonhole"
          ],
          [
           "rinri t'uqu",
           "exterior opening of the auditory canal"
          ],
          [
           "Ripusaq!",
           "I will go!"
          ],
          [
           "riqsikuy",
           "to know oneself"
          ],
          [
           "riqsinachiy",
           "to make one or more persons know each other"
          ],
          [
           "riqsinakuy",
           "to know each other"
          ],
          [
           "riqsiriy",
           "to be known"
          ],
          [
           "rirpukuy",
           "to see oneself in the mirror"
          ],
          [
           "risaq!",
           "I am going!"
          ],
          [
           "risqinakuy",
           "to know each other"
          ],
          [
           "risunchik",
           "We will go"
          ],
          [
           "rit'ihina",
           "white as snow"
          ],
          [
           "rit'i pisqu",
           "kind of bird that is in Qispillaqta thought to be sign for the snow"
          ],
          [
           "riwakuy",
           "to wake up"
          ],
          [
           "riway",
           "to wake up"
          ],
          [
           "riyman rinapi",
           "in direction of"
          ],
          [
           "ruki p'anqa",
           "kind of medicinal plant of the Ecuadorian jungle"
          ],
          [
           "rukma",
           "kind of fruit tree"
          ],
          [
           "rukupakuy",
           "to be afflicted"
          ],
          [
           "rukutu uchu",
           "hot chili pepper"
          ],
          [
           "ruk'inka",
           "flat polished piece of wood used to propel woof on horizontal loom"
          ],
          [
           "ruk'i p'acha",
           "thick, closewoven cloth"
          ],
          [
           "ruk'isqa p'acha",
           "thick, closewoven cloth"
          ],
          [
           "ruk'iy",
           "to press together the threads in the tissue"
          ],
          [
           "ruk'uyay",
           "to become old"
          ],
          [
           "rumi kaspi",
           "kind of small thorny tree"
          ],
          [
           "rumikushma",
           "plant used to dye brown"
          ],
          [
           "rumi wasi",
           "a house made of stone"
          ],
          [
           "rumu paqu",
           "special condition of the women who sow maniok so there will be abundant production"
          ],
          [
           "runachakuy",
           "to become more mature"
          ],
          [
           "runachay",
           "to teach to be human"
          ],
          [
           "runakunap hayñinta wakilichiy",
           "human rights abuse, violation"
          ],
          [
           "runa llaqtakunap hayñin",
           "indigenous peoples' rights"
          ],
          [
           "runaman k'askay",
           "to tame down"
          ],
          [
           "runa pacha",
           "balance between man and nature"
          ],
          [
           "runa rikuchiq k'askaq",
           "personal verbal suffix"
          ],
          [
           "runayay pacha yuyay",
           "evolution of Man"
          ],
          [
           "runaykachay",
           "to be proud"
          ],
          [
           "runtuchu",
           "fried, mashed fruit"
          ],
          [
           "runtukuy",
           "to lay eggs"
          ],
          [
           "runtu pisqu",
           "kind of bird that is in Qispillaqta thought to be sign for hail"
          ],
          [
           "runtu-runtu",
           "kind of shrub"
          ],
          [
           "Runtuta bindikuway!",
           "sell me some eggs"
          ],
          [
           "ruphachikuy",
           "to be burnt"
          ],
          [
           "ruphapakuy",
           "to have fever"
          ],
          [
           "ruphariy",
           "to have fever"
          ],
          [
           "ruqu",
           "male guinea pig"
          ],
          [
           "ruqupay",
           "to sheave corn"
          ],
          [
           "ruq'a",
           "kind of cactus"
          ],
          [
           "rurachiq",
           "who makes do things"
          ],
          [
           "ruramuy",
           "to go to do something"
          ],
          [
           "ruranay tiyan",
           "I have to do"
          ],
          [
           "rurankichu ñispa tapuna",
           "question, if he/she does"
          ],
          [
           "rurapuy",
           "to do something for someone"
          ],
          [
           "ruraysiy",
           "to help to do"
          ],
          [
           "rurupakuy",
           "to be beset"
          ],
          [
           "rurusapa",
           "with big testicles"
          ],
          [
           "rusu",
           "land burnt down and cleared for sowing"
          ],
          [
           "rusuy",
           "to remove the leaves vocering the corn cobs"
          ],
          [
           "rutucha",
           "celebration where a child gets haircut"
          ],
          [
           "rutuna",
           "to be sheared"
          ],
          [
           "ruwa",
           "kind of brown bird"
          ],
          [
           "ruwal",
           "deity living in the major mountains"
          ],
          [
           "sach'a chuki",
           "lance of tropical wood"
          ],
          [
           "sach'a mama",
           "spirit mother of the jungle in form of a mythical huge eared boa believed to dwell in the same place for a very long time. Vegetation grows on its body and makes the snake easily be mistaken by a fallen tree. He may devour the unaware hunter who has accidentally stepped on its body"
          ],
          [
           "sach'aman",
           "to the forest"
          ],
          [
           "sach'a quwi",
           "wild guinea pig"
          ],
          [
           "sach'a q'ira",
           "kind of tree"
          ],
          [
           "sach'a rumu",
           "tuber plant of the pumpkin familiy"
          ],
          [
           "sach'a runa",
           "kind of medicinal plant of the jungle"
          ],
          [
           "sach'aruna",
           "daemon of the forest"
          ],
          [
           "sach'a sapallu p'anqa",
           "kind of medicinal plant of the Ecuadorian jungle"
          ],
          [
           "sach'a sinti qara",
           "kind of medicinal plant of the Ecuadorian jungle"
          ],
          [
           "sach'a sunkha",
           "beard-like epiphytic plants on tree trunks"
          ],
          [
           "sach'a t'ula",
           "kind of herb"
          ],
          [
           "sach'a uchan p'anqa",
           "kind of medicinal plant of the Ecuadorian jungle"
          ],
          [
           "saka",
           "practice piece woven by beginning weaver"
          ],
          [
           "sakapa",
           "seeds of wild plants used to make a music intrument"
          ],
          [
           "sakllu",
           "dried plant of bean or pea"
          ],
          [
           "sakta",
           "typical snack made out of corn bran, yuca, egg and anise"
          ],
          [
           "salchiy",
           "to cut vertically with one's hand"
          ],
          [
           "salinakuy",
           "to have sex"
          ],
          [
           "saliy",
           "to make sex with"
          ],
          [
           "salta qillqa",
           "figure of speech"
          ],
          [
           "saltaq ñawi",
           "head flower eyes"
          ],
          [
           "saltun bagri",
           "kind of catfish of the Amazon"
          ],
          [
           "sallallallay",
           "to make noise of stones and thunder"
          ],
          [
           "sallallay",
           "to win the love of"
          ],
          [
           "sallqa papa",
           "type of potato"
          ],
          [
           "samachiy",
           "to make someone rest"
          ],
          [
           "samana wasi",
           "lodge or hotel"
          ],
          [
           "samarikuy mit'a",
           "time of vacation"
          ],
          [
           "samariy mit'a",
           "time of vacation"
          ],
          [
           "samarquy",
           "to breathe one's last breath"
          ],
          [
           "samaykuy",
           "to breathe into one's face"
          ],
          [
           "samayta hap'iy",
           "to get one's breath back"
          ],
          [
           "samayta suyuyachiy",
           "to pollute air"
          ],
          [
           "samiruka",
           "kind of medicinal plant of the jungle, used together with ayawaska for a hallucinogenic beverage"
          ],
          [
           "samk'a wasi",
           "life-long prison where the most evil criminals were punished by throwing snakes and toads with them into the cell"
          ],
          [
           "samp'ata away",
           "to weave loose or thin cloth"
          ],
          [
           "sanchi",
           "kind of fruit plant"
          ],
          [
           "sanchu",
           "kind of parasitic plant used in popular medicin against fractures, hernias and lesions"
          ],
          [
           "sankatima",
           "kind of fish of the Amazon"
          ],
          [
           "sankay; sakay",
           "kind of column cactus of the lower qhichwa region"
          ],
          [
           "sankurachi",
           "plant used to dye yellow"
          ],
          [
           "sankhuy",
           "to make sanku"
          ],
          [
           "santilika",
           "kind of ant bird"
          ],
          [
           "sañiyay",
           "to become purple"
          ],
          [
           "sapalla rikch'a kutiriq",
           "common monomial factor"
          ],
          [
           "sapallu kaspi",
           "kind of tree with light wood"
          ],
          [
           "sapay",
           "I alone and no one else"
          ],
          [
           "sapa yanachakuy, sapa masichakuy",
           "creation of paired energy rings"
          ],
          [
           "sapay awki",
           "head of the noblesse"
          ],
          [
           "sapaychakuy",
           "to go off alone"
          ],
          [
           "sapta kakuy",
           "to become unadjusted"
          ],
          [
           "sapumpa",
           "big fern of the rain forest"
          ],
          [
           "Saphi",
           "river in Qosqo"
          ],
          [
           "saphi rikch'ay",
           "awaking the roots"
          ],
          [
           "saqikuy",
           "to leave something under someone else's custody"
          ],
          [
           "saqiripani",
           "I am staying"
          ],
          [
           "saqmana",
           "kind of knuckle-duster of metal"
          ],
          [
           "saqra",
           "old and ragged pumkin container"
          ],
          [
           "saqra kawsaywan",
           "of bad life"
          ],
          [
           "saqrakuy",
           "to be mean"
          ],
          [
           "saqsa",
           "scalloped edge of a shawl"
          ],
          [
           "saq'ampaya",
           "type of potato"
          ],
          [
           "saramama",
           "kind of burnable shrub"
          ],
          [
           "sara mut'i",
           "cooked dry corn"
          ],
          [
           "sara muyu",
           "kind of jungle tree, 11-16 m high"
          ],
          [
           "sara phiña",
           "kind of wild plant, star plant of maize"
          ],
          [
           "sara qiwa",
           "a weed similar to young maize plants"
          ],
          [
           "sara tipiy",
           "harvest of corn"
          ],
          [
           "sara t'ika",
           "type of red and yellow flowering plant"
          ],
          [
           "sarku",
           "white, blue-eyed person"
          ],
          [
           "saruchiy",
           "to make tread"
          ],
          [
           "sarun hamurqa",
           "he, she came previously"
          ],
          [
           "sarun kaq",
           "the other time"
          ],
          [
           "saruykachay",
           "to tread down"
          ],
          [
           "saruysiy",
           "to help to tread down"
          ],
          [
           "sasachakuy",
           "to have problems"
          ],
          [
           "sasachay",
           "to make difficult"
          ],
          [
           "sasachu?",
           "is it difficult?"
          ],
          [
           "sasa rurana",
           "difficult to do"
          ],
          [
           "sasay",
           "to bear fruits abundantly"
          ],
          [
           "sasayachiy",
           "to make difficult"
          ],
          [
           "sasayay",
           "to become difficult"
          ],
          [
           "sat'i",
           "indigenous living far from civilization"
          ],
          [
           "sat'ikuy",
           "to enter without permission"
          ],
          [
           "sawachiy",
           "to make marry"
          ],
          [
           "saway",
           "to carry in a blanket something with stalks"
          ],
          [
           "sawka-sawka hawarikuykuna",
           "fables for pastime"
          ],
          [
           "sayachikuy",
           "to be presented"
          ],
          [
           "sayachinakuy",
           "to support each other"
          ],
          [
           "saysi",
           "meat cut and spiced"
          ],
          [
           "sayt'u",
           "long, narrow and rectangular"
          ],
          [
           "sayway",
           "to plant hedges"
          ],
          [
           "sibil",
           "tree whose bark contains much tannin"
          ],
          [
           "sicha",
           "kind of tangara bird"
          ],
          [
           "sich'u",
           "disabled at the feet"
          ],
          [
           "sidrun",
           "kind of medicinal herb"
          ],
          [
           "sikitay phukuy",
           "fart, my arse!"
          ],
          [
           "siki wayllay",
           "to swing the hips"
          ],
          [
           "sikrakuy",
           "to brush the hair"
          ],
          [
           "sikrana",
           "rustic hair brush made of straw"
          ],
          [
           "sikuwaka",
           "kind of intestinal parasite"
          ],
          [
           "sikyay",
           "to smoke swallowing the smoke"
          ],
          [
           "sik'ichiy",
           "to make uproot"
          ],
          [
           "silakuy",
           "to be jealous"
          ],
          [
           "silkillu apa",
           "kind of jungle tree, 17-30 m high"
          ],
          [
           "silu ayawaska",
           "kind of medicinal plant of the jungle"
          ],
          [
           "sillay",
           "to sit on the saddle"
          ],
          [
           "sillkuy",
           "to tear cloth or meat"
          ],
          [
           "sillk'uchikuy",
           "to have oneself scratched"
          ],
          [
           "sillpiy",
           "to cut making tassels or fringes"
          ],
          [
           "silluchikuy",
           "to have oneself pinched"
          ],
          [
           "sillwi kuru",
           "species of noctuid larva"
          ],
          [
           "sillwi p'acha",
           "dress with broad, loose stripes"
          ],
          [
           "simbul",
           "kind of tree"
          ],
          [
           "simichaqpa t'ikrapayaynin",
           "conjugation del verbo"
          ],
          [
           "siminakuy",
           "to inveigh each other"
          ],
          [
           "simita mayllay",
           "to brush one's teeth"
          ],
          [
           "simi t'uqyachiy",
           "learning of speech"
          ],
          [
           "Simiykikunata manam hap'inichu",
           "I do not understand what you are talking about"
          ],
          [
           "simiykita kichay",
           "open your mouth"
          ],
          [
           "simiyuqña wawa",
           "child who is already able to speak"
          ],
          [
           "simpi muyu",
           "kind of palm tree of the primary rain forest"
          ],
          [
           "simp'akuy",
           "to do one's hair"
          ],
          [
           "simp'aq",
           "who makes braids"
          ],
          [
           "Sinak'ara",
           "the overlighting mountain deity of the Q'oyllor Rit'i festival"
          ],
          [
           "sinalla",
           "more or less"
          ],
          [
           "sinchichakuy",
           "to build oneself up"
          ],
          [
           "Sinchi Ruq'a",
           "the second Inka ruler"
          ],
          [
           "sinchiyakusqa",
           "it has been hardening"
          ],
          [
           "sinkachiy",
           "to make drunk"
          ],
          [
           "sinkakuy",
           "to get drunk"
          ],
          [
           "sinkay",
           "to get drunk"
          ],
          [
           "sinkay",
           "to break cane with the teeth"
          ],
          [
           "sinki",
           "kind of thorny plant"
          ],
          [
           "sinkra p'anqa",
           "kind of medicinal plant of the Ecuadorian jungle"
          ],
          [
           "sinkriy",
           "to walk in a row"
          ],
          [
           "sinkhan",
           "bark of a tree"
          ],
          [
           "sinqata phukuchina; sinqata pichay",
           "to blow one's nose"
          ],
          [
           "sinqay",
           "to breathe through the nose"
          ],
          [
           "sinrulla qhipanta",
           "in single file"
          ],
          [
           "sintachay",
           "to put ribbons to animals"
          ],
          [
           "sinti yura",
           "kind of medicinal plant of the Ecuadorian jungle"
          ],
          [
           "sintuq",
           "kind of opuntia"
          ],
          [
           "sipasña",
           "very young woman"
          ],
          [
           "sipasyay",
           "to become an adolescent girl"
          ],
          [
           "sipi",
           "feather collar for dances"
          ],
          [
           "sipichiy",
           "to make someone hang somebody"
          ],
          [
           "sipina k'aspipi warkuy",
           "to hang someone on the gallows"
          ],
          [
           "sipita",
           "type of sagebrush"
          ],
          [
           "sipit'ika",
           "feather collar for dances"
          ],
          [
           "sipriyay",
           "to roar with laughter"
          ],
          [
           "sipuy",
           "to be infested"
          ],
          [
           "siqachiy",
           "to make ascend"
          ],
          [
           "siqay",
           "to fall from above"
          ],
          [
           "siqiy",
           "to tear off branches or cobs"
          ],
          [
           "siqsichiy",
           "to make itch"
          ],
          [
           "siquy kutamata",
           "to tie up a bag folding it"
          ],
          [
           "siq'i",
           "part in the hair"
          ],
          [
           "siq'illa",
           "lined up in a row"
          ],
          [
           "siq'i-siq'i",
           "full of drawings"
          ],
          [
           "siq'ita yapay",
           "to add a suffix"
          ],
          [
           "sirachikuy",
           "to have something sewn"
          ],
          [
           "sirachiy",
           "to make sew"
          ],
          [
           "sira-sira",
           "kind of wasp"
          ],
          [
           "sirikaypi",
           "home-made cigarette of pure tobacco gnawed at"
          ],
          [
           "sirikuy",
           "to lie down"
          ],
          [
           "siriq punchaw",
           "the next days"
          ],
          [
           "sirk'achikuy",
           "to have oneself bleeded"
          ],
          [
           "sirp'a",
           "type of grasshopper"
          ],
          [
           "sisin",
           "kind of poisonous snake of the jungle"
          ],
          [
           "sispachay",
           "nearness, proximity, approximation"
          ],
          [
           "sispa ñaña",
           "a woman's female cousin"
          ],
          [
           "sispa pani",
           "a man's female cousin"
          ],
          [
           "sispa turi",
           "a woman's male cousin"
          ],
          [
           "sispa wawqi",
           "a man's male cousin"
          ],
          [
           "sitakay",
           "to carry on one's sholder or back"
          ],
          [
           "sitanqay",
           "to carry on one's sholder or back"
          ],
          [
           "sitari mama",
           "kind of eatable fish of the Amazon area"
          ],
          [
           "sitki",
           "kind of cactus"
          ],
          [
           "situli p'anqa",
           "kind of medicinal plant of the Ecuadorian jungle"
          ],
          [
           "situwa",
           "sunlight in spring"
          ],
          [
           "siwa",
           "wild ginea pig"
          ],
          [
           "siwichi",
           "Peruvian fish meal"
          ],
          [
           "siwka witu",
           "kind of tree of the jungle used in popular medicine to heal malign furuncles"
          ],
          [
           "siwna",
           "kind of jungle palm tree, 17-30 m high"
          ],
          [
           "siwñay",
           "to peel cane"
          ],
          [
           "siwulla k'ipay",
           "to cut onions"
          ],
          [
           "suchkay",
           "to slip on something not slippy"
          ],
          [
           "suchuchiy",
           "to make pass through"
          ],
          [
           "suchuriy",
           "to pass through"
          ],
          [
           "suchuy",
           "to sit down"
          ],
          [
           "suchuyay",
           "to become lame"
          ],
          [
           "suchuykachay",
           "to slip and fall"
          ],
          [
           "suchuykuy",
           "to slip and fall"
          ],
          [
           "suka qullu",
           "watering-places for cattle"
          ],
          [
           "sukcha",
           "small tube of reed carrying the thread in the shuttle"
          ],
          [
           "suk-suk",
           "kind of fish"
          ],
          [
           "sukuba",
           "kind of medicinal plant of the Ecuadorian jungle"
          ],
          [
           "sukupakuy",
           "to cover one's head"
          ],
          [
           "sukha",
           "in the afternoon"
          ],
          [
           "suk'a",
           "things put into order"
          ],
          [
           "suk'umpay",
           "to cover the head"
          ],
          [
           "sulay",
           "to ferment maize"
          ],
          [
           "sulumpi",
           "blood-sucking, flying insects"
          ],
          [
           "sulliy",
           "to fall dew"
          ],
          [
           "sulluchiy",
           "to make abort"
          ],
          [
           "sullu-sullu",
           "kind of plant"
          ],
          [
           "sumaq allpa",
           "fertile, productive land for crops"
          ],
          [
           "sumaqchakuy",
           "to become beautiful"
          ],
          [
           "sumaq kawsay",
           "to live in best relation with nature"
          ],
          [
           "Sumaq Pirla",
           "Pearl of Great Price"
          ],
          [
           "sumaq rikch'ayniyuq",
           "of beautiful appearance"
          ],
          [
           "sumaq uqi",
           "beautiful light blue"
          ],
          [
           "sumaqyachiq rimay",
           "figure of speech"
          ],
          [
           "sumaychasqa kay",
           "to be amazed"
          ],
          [
           "sumpay",
           "to dirt the floor with plant waste"
          ],
          [
           "sumpuña",
           "musical instrument like panpipes"
          ],
          [
           "sumpuy",
           "to be entangled"
          ],
          [
           "sump'u-sump'ulla unku",
           "very tight shirt"
          ],
          [
           "suni tupuna",
           "measure of length"
          ],
          [
           "sunkaru",
           "kind of big fish of the Amazon area"
          ],
          [
           "sunku",
           "cock with feathers in the ears"
          ],
          [
           "sunk'ayay",
           "to have stiff limbs"
          ],
          [
           "sunquchakuy",
           "to be enthusiastic"
          ],
          [
           "sunquchiq",
           "person who cures fright"
          ],
          [
           "sunqu nanay",
           "to feel sad"
          ],
          [
           "sunqunchay",
           "to animate the heart"
          ],
          [
           "sunqu pharariy",
           "to feel one's heart pound"
          ],
          [
           "sunquta harpuy",
           "to press shed rod down to separate sheds"
          ],
          [
           "sunqu t'ikrachiy",
           "to cause nausea"
          ],
          [
           "sunqu t'ikranahina ruray",
           "to pretend feel like"
          ],
          [
           "sunqu t'urpuy",
           "stitches in the heart"
          ],
          [
           "sunquy",
           "to have breakfast"
          ],
          [
           "sunquyakuy",
           "to be anxious"
          ],
          [
           "sunsira",
           "stupid, foolish action"
          ],
          [
           "sunt'ichiy",
           "to roll something over and over"
          ],
          [
           "sunt'iy",
           "to roll over and over"
          ],
          [
           "suñay",
           "to give as present"
          ],
          [
           "suñiki",
           "plant used to dye black"
          ],
          [
           "supayay",
           "to become devil"
          ],
          [
           "supay kasha k'aspi",
           "kind of medicinal plant of the jungle"
          ],
          [
           "Supaysupawa",
           "Inka captain in the times of the Spanish conquest"
          ],
          [
           "supay t'ika",
           "kind of annual plant with lilac flowers"
          ],
          [
           "supisiki",
           "someone who farts often or loudly"
          ],
          [
           "supitulu",
           "sack of farts"
          ],
          [
           "supiykukuy",
           "to fart a lot"
          ],
          [
           "suqsuy",
           "to eat greedily"
          ],
          [
           "suqta",
           "person or animal with a hand with six fingers or a foot with six toes"
          ],
          [
           "suqta watatallapasmi charina kan",
           "it will last at least six years"
          ],
          [
           "suqupuru",
           "kind of small cactus"
          ],
          [
           "suquyay",
           "to turn gray-haired"
          ],
          [
           "suq'a paya",
           "women of pagan times, whose bones van be found in old graves"
          ],
          [
           "suq'uyta quway",
           "give me something to drink"
          ],
          [
           "suruchiy",
           "to make drip"
          ],
          [
           "suruqchay",
           "to be sick of soroche"
          ],
          [
           "suskhuy",
           "to get under something"
          ],
          [
           "susuy",
           "to ripen after being harvested"
          ],
          [
           "Sutikuni ...",
           "My name is ..."
          ],
          [
           "sutiy",
           "to be called"
          ],
          [
           "sutiyachiy",
           "to make baptize"
          ],
          [
           "Sutiymi ....",
           "My name is ..."
          ],
          [
           "Sutiyqa ....",
           "My name is ..."
          ],
          [
           "sutkuy",
           "to slip and fall"
          ],
          [
           "sutuma",
           "an herb of the Compositae similar to valeriana"
          ],
          [
           "sut'ipi kay",
           "to be convinced"
          ],
          [
           "sut'ita rimay",
           "to tell the truth"
          ],
          [
           "suwachikuy",
           "to let someone rob oneself"
          ],
          [
           "suwa kaskaquq maki",
           "thief who steals everything"
          ],
          [
           "suwakusqa wawa",
           "illegitimate child of a married woman"
          ],
          [
           "suwanakuy",
           "mutual elopement of the girls"
          ],
          [
           "suway",
           "to ask for"
          ],
          [
           "suyachikuy",
           "to make someone wait for oneself"
          ],
          [
           "suya-suyata away",
           "to weave loose or thin cloth"
          ],
          [
           "suyru",
           "very long dress dragged after when worn"
          ],
          [
           "suyru taksa p'acha",
           "very short dress"
          ],
          [
           "suyruy; suyruykachay",
           "to drag a dress"
          ],
          [
           "suyt'u rumi",
           "stone erected by people"
          ],
          [
           "suyu",
           "what is included in one's part of work"
          ],
          [
           "suyu apu",
           "a large-sized tutelary mountain spirit overseeing an entire region, related with the third level of the andean path"
          ],
          [
           "Suyup Yachachiy Kunay",
           "National Education Council"
          ],
          [
           "suyu-suyu",
           "colour stripes in fabric"
          ],
          [
           "suyu-suyu p'acha",
           "striped man's dress"
          ],
          [
           "suyuta hurquchiy",
           "to take a photo"
          ],
          [
           "shakay",
           "to chew or suck something soft"
          ],
          [
           "shapaka",
           "kind of medicinal plant of the jungle"
          ],
          [
           "shaqyay",
           "to make noise"
          ],
          [
           "shiwawaku",
           "kind of medicinal plant of the jungle"
          ],
          [
           "shukshuta hunt'achiy",
           "to fill the spindle"
          ],
          [
           "shukuchiy",
           "to cover a dead's head"
          ],
          [
           "shukukuy",
           "to cover ones's head"
          ],
          [
           "shuntukay",
           "to meet up"
          ],
          [
           "shuqyay",
           "to be worried"
          ],
          [
           "tachikuy",
           "to sell at a fair"
          ],
          [
           "tachu",
           "container of metal or plastic"
          ],
          [
           "takachikuy",
           "to have oneself beaten"
          ],
          [
           "takachiy",
           "to make beat"
          ],
          [
           "takachiy",
           "to make sit down"
          ],
          [
           "takachu",
           "typical meal made out of green, baked and mashed banana"
          ],
          [
           "takakuy",
           "to beat oneself"
          ],
          [
           "takakuy",
           "to knock at a door"
          ],
          [
           "takamuy",
           "to go to knock at a door"
          ],
          [
           "takichiy",
           "to make someone sing"
          ],
          [
           "takiña",
           "step of the spade"
          ],
          [
           "takisa",
           "step of the spade"
          ],
          [
           "taki yachaq wakanki",
           "singers of fables and old chants"
          ],
          [
           "taksachay",
           "to make small"
          ],
          [
           "takta",
           "spot in the face that disappears"
          ],
          [
           "taku",
           "resistant against getting drunk"
          ],
          [
           "tala",
           "kind of thorny tree with hard wood and green-yellowish flowers"
          ],
          [
           "talak-talak",
           "kind of tree of the jungle with huge pods, when they dry the seeds jump inside making sounds of rumba balls when being waved by the wind"
          ],
          [
           "talankira",
           "small shack with a sleeping and a cooking level"
          ],
          [
           "tala pispa",
           "kind of tree"
          ],
          [
           "talu",
           "elastic and consistent"
          ],
          [
           "tallpachiy",
           "to let the mud in the water lie down"
          ],
          [
           "tamisi",
           "natural rope from the rainforest used to make diverse tissues"
          ],
          [
           "tampa",
           "almond-like fruit tree"
          ],
          [
           "tampiy",
           "to be bent over by pressure"
          ],
          [
           "tampu",
           "holder under the band to tie the hat"
          ],
          [
           "tamsi",
           "kind of plant used for rope or string"
          ],
          [
           "tamyanapaq kimsa p'unchaw illaqpi",
           "three days before raining"
          ],
          [
           "tamyasqamanta kimsa p'unchaw qhipa (tukuqpi)",
           "three days after raining"
          ],
          [
           "tanka ch'uru",
           "forked diagonal design - warp-faced"
          ],
          [
           "tankarana",
           "kind of tree of the jungle where the ants of the same name live, the pocochons' nest hang from their branches"
          ],
          [
           "tanla",
           "kind of fish of the Amazon"
          ],
          [
           "tanlinyay",
           "ringing of bells"
          ],
          [
           "tanqachikuy",
           "to have oneself pushed"
          ],
          [
           "tanqachiy",
           "to make push"
          ],
          [
           "tanqamuy",
           "to push something hither"
          ],
          [
           "tanqanakuy",
           "to push each other"
          ],
          [
           "tantachisqakunapa sami",
           "types of sets"
          ],
          [
           "tantachisqakunap kutinchin",
           "intersection of sets"
          ],
          [
           "tantachisqakunap rakin",
           "partition of sets"
          ],
          [
           "tantachisqamanta anchuchi",
           "difference of sets"
          ],
          [
           "tantachisqap yapaynin",
           "union of sets"
          ],
          [
           "tantamuy",
           "to go to gather"
          ],
          [
           "tantari yachaypa yupaynin",
           "number of didactic unit"
          ],
          [
           "tapa",
           "second spinning given to yarn, leaving plain, regular threads"
          ],
          [
           "taplay",
           "to bump someone"
          ],
          [
           "taplay",
           "to try to do something forbidden"
          ],
          [
           "tapuchikuy",
           "to have questions asked to oneself"
          ],
          [
           "tapuchiy",
           "to make ask questions"
          ],
          [
           "tapumuy",
           "to go to ask"
          ],
          [
           "tapuraq",
           "one and the other time"
          ],
          [
           "tapurinakuy",
           "to ask each other"
          ],
          [
           "taqanqa",
           "medium-sized pitcher for carrying water"
          ],
          [
           "taqllay",
           "to wash clothes"
          ],
          [
           "taqsu",
           "tall, thin man"
          ],
          [
           "taqtay",
           "to earth up potatoes second time"
          ],
          [
           "taquru",
           "lower loom bar"
          ],
          [
           "tara",
           "cradle of a herding sling"
          ],
          [
           "taraña",
           "central, wide part of the sling"
          ],
          [
           "taraputu",
           "kind of jungle palm tree, 11-16 m high"
          ],
          [
           "taraqchi",
           "bird with speckled, dark brown plumage, crop pest, brooding parasite"
          ],
          [
           "tarichiy",
           "to make find"
          ],
          [
           "tarikapuy",
           "to regain something lost"
          ],
          [
           "tarikaya",
           "kind of aquatic turtle of the jungle"
          ],
          [
           "tarikuy",
           "to find them"
          ],
          [
           "taripachikuy",
           "to let find oneself"
          ],
          [
           "tariypaq",
           "what can be found"
          ],
          [
           "tarpuchiq",
           "who makes sow"
          ],
          [
           "tarpuchiy",
           "to make sow"
          ],
          [
           "tarpukuy",
           "to sow something in one's own advantage"
          ],
          [
           "tarpuyninkumanhina",
           "in accordance with their cultural norms"
          ],
          [
           "tarqa",
           "clarinet of wood"
          ],
          [
           "tarqu",
           "kind of tree with blue-lilac flowers"
          ],
          [
           "tartay",
           "to secrete slime"
          ],
          [
           "taruka k'aspi",
           "kind of jungle tree, 6-10 m high"
          ],
          [
           "taruka rinri",
           "kind of herb"
          ],
          [
           "tasay",
           "to harvest in abundance"
          ],
          [
           "tasi",
           "kind of bindweed"
          ],
          [
           "tashnuy",
           "to touch with something burning"
          ],
          [
           "tawa chakilla puriy",
           "to crawl on all fours"
          ],
          [
           "tawa chakimanta thamaykachay",
           "to go with four legs"
          ],
          [
           "tawaku p'anqa",
           "kind of medicinal plant of the Ecuadorian jungle"
          ],
          [
           "tawantin",
           "four parts belonging together, a principle of Andean thinking"
          ],
          [
           "tawa pachata",
           "at four o'clock"
          ],
          [
           "tawari",
           "kind of medicinal plant of the jungle"
          ],
          [
           "tawa rikch'ayniyuq",
           "of four forms"
          ],
          [
           "tawa-tawa",
           "long, narrow scone sold on the street"
          ],
          [
           "tawa uya",
           "of four forms"
          ],
          [
           "tawnay",
           "to loan oneself against the walking-stick"
          ],
          [
           "tawnay",
           "to lean on"
          ],
          [
           "tawqa rikch'a kutiriq",
           "common binomial factor"
          ],
          [
           "tawqa-tawqa",
           "game where children throw oneselves on one another"
          ],
          [
           "tawriqaray",
           "kind of bird"
          ],
          [
           "tawsu",
           "kind of granadilla"
          ],
          [
           "taya",
           "plant used to dye yellow"
          ],
          [
           "tayanku",
           "kind of shrub"
          ],
          [
           "tayriyay",
           "to be late"
          ],
          [
           "taytitu!",
           "what a thing!"
          ],
          [
           "tayu",
           "kind of bird of the jungle"
          ],
          [
           "tihu",
           "wood chips for a toad game"
          ],
          [
           "tihun",
           "south american coati"
          ],
          [
           "tika kachi",
           "block of salt"
          ],
          [
           "tikira",
           "kind of quebracho tree"
          ],
          [
           "tiklla",
           "black and white tissue"
          ],
          [
           "tiklla inkhuña",
           "unkhuña divided vertically into two halves of contrasting color"
          ],
          [
           "tikllay",
           "to smudge clothes"
          ],
          [
           "tiksa",
           "kind of fish of the Amazon"
          ],
          [
           "tiksi muyu pacha",
           "whole roundness of earth"
          ],
          [
           "tiksin kay",
           "to be the beginning of a lineage or another founded thing"
          ],
          [
           "timuq",
           "kind of shrub"
          ],
          [
           "tinaha",
           "big earthen jar"
          ],
          [
           "tinka",
           "feeling of anxiety"
          ],
          [
           "tinka",
           "punch on the head"
          ],
          [
           "tinkay",
           "to punch one's head"
          ],
          [
           "tinkukuy",
           "to flow together"
          ],
          [
           "tinkunachiy",
           "to make people meet"
          ],
          [
           "Tinkuypacha chayamun!",
           "What a coincidence!"
          ],
          [
           "tipa",
           "kind of tree whose bark secretes a brown-reddish resin after being wounded"
          ],
          [
           "tipi",
           "shucking of corn"
          ],
          [
           "tipil",
           "small conical corn stack"
          ],
          [
           "tipina",
           "implement to shuck corn"
          ],
          [
           "tipiq",
           "instrument to prepare tissue similar to a rod"
          ],
          [
           "tiplli",
           "very thin thread"
          ],
          [
           "tiri",
           "plant used to dye green or yellow"
          ],
          [
           "tisay",
           "to lead ox and plough"
          ],
          [
           "tisi",
           "small stick that holds the kite"
          ],
          [
           "tisi",
           "small, unspinnable lumps of wool"
          ],
          [
           "tisña",
           "species of grass"
          ],
          [
           "tis-tis",
           "kind of bird"
          ],
          [
           "tiwti",
           "thin and fine thread"
          ],
          [
           "tiyakuy",
           "to sit down"
          ],
          [
           "tiyanapi tiyay",
           "take a seat"
          ],
          [
           "tiyanchu illanchu",
           "is there or not?"
          ],
          [
           "tiyaq",
           "living together stage of marriage, when a couple lives in the man's natal home before a formal wedding takes place"
          ],
          [
           "tiyaqmasi",
           "unmarried partners living together"
          ],
          [
           "tiyaramuy",
           "to sit down"
          ],
          [
           "tiyariy",
           "to sit down"
          ],
          [
           "tiyatina",
           "kind of medicinal plant of the Ecuadorian jungle"
          ],
          [
           "tiyatina p'anqa",
           "kind of medicinal plant of the Ecuadorian jungle"
          ],
          [
           "Tiyawanaku",
           "ancient civilization near Lake Titicaca"
          ],
          [
           "tiyaway",
           "to belong to me"
          ],
          [
           "tiyusmanti",
           "kind of tuber plant"
          ],
          [
           "tratuchay",
           "to make a covenant"
          ],
          [
           "trisiklu",
           "a three-wheeled, pedal-powered vehicle used to transport cargo and people in southern Peru"
          ],
          [
           "truynu ayawaska",
           "kind of medicinal plant of the jungle"
          ],
          [
           "tubi abiyu",
           "kind of medicinal plant of the Ecuadorian jungle"
          ],
          [
           "tukam q'ispi",
           "the loose dress is transparent"
          ],
          [
           "tukay",
           "to play an instrument"
          ],
          [
           "tukchi",
           "ridiculous person with bristly hairs like a pig"
          ],
          [
           "tukiy",
           "indulge in a vice"
          ],
          [
           "tukiy",
           "to support branches of a tree using pales or sticks"
          ],
          [
           "tukiyay",
           "to become beatiful"
          ],
          [
           "tuktu",
           "white, fatty feathers of birds"
          ],
          [
           "tuku",
           "kind of eatable worm living in decaying stems of palm trees"
          ],
          [
           "tukukuypi",
           "at the end of"
          ],
          [
           "tukunari",
           "kind of fish"
          ],
          [
           "tukusan",
           "terminal area of textile"
          ],
          [
           "tuku-tuku",
           "kind of mole"
          ],
          [
           "tukuy",
           "to be able to"
          ],
          [
           "tukuy imaymana",
           "all kinds of"
          ],
          [
           "tukuy kaqchika",
           "all the rest"
          ],
          [
           "tukuy kay allpa pachapi kawsaq uywakunap yurakunap chinkarikuynin",
           "loss of biodervisity"
          ],
          [
           "tukuy laya",
           "all kinds of"
          ],
          [
           "tukuy llamk'ayniyuq",
           "having the fully developed power of the body"
          ],
          [
           "tukuy munayniyuq",
           "having the fully developed power of the heart"
          ],
          [
           "tukuy munayniyuq",
           "complete realization of personal power"
          ],
          [
           "tukuypaq",
           "thing of everyone"
          ],
          [
           "tukuy p'unchaw",
           "the whole day"
          ],
          [
           "tukuy yachayniyuq",
           "having the fully developed power of the mind"
          ],
          [
           "tulpu",
           "kind of meal prepared with cornmeal diluted in water"
          ],
          [
           "tullpay",
           "to place the kitchen utensils above the stove"
          ],
          [
           "tullpuchakuy",
           "to dye and redye many times"
          ],
          [
           "tullpuna llimpikuna",
           "dye for cloth"
          ],
          [
           "tullpupayay",
           "to dye and redye many times"
          ],
          [
           "tullu machu",
           "emaciated old man"
          ],
          [
           "tullu malkachu",
           "type of potato"
          ],
          [
           "tullu siki",
           "thin like a nail"
          ],
          [
           "tulluyachiy",
           "to make someone lose weight"
          ],
          [
           "tulluyay",
           "to lose weight"
          ],
          [
           "tuma",
           "place for taking water"
          ],
          [
           "tumichika",
           "the three stones of a fireplace"
          ],
          [
           "tumiy",
           "to cut with a knife"
          ],
          [
           "tumpachikuy",
           "to have oneself accused unjustifiedly"
          ],
          [
           "tumpush",
           "kind of bumble bee"
          ],
          [
           "tunchi",
           "soul in pain whistling melancholically"
          ],
          [
           "tunqa",
           "cloth for collecting and carrying potatoes at harvest"
          ],
          [
           "tunqushyay",
           "to turn yellow"
          ],
          [
           "tunta",
           "white dried potato"
          ],
          [
           "tuntichiy",
           "to expose to the sun a long time until it is unusable"
          ],
          [
           "tuntisqa",
           "useless by weathering in the sun"
          ],
          [
           "tuntiy",
           "to be in the sun a long time"
          ],
          [
           "tupa",
           "kind of tree with soft and light fibres, its wood is used for rafts, its soft flowers are used for mattresses and pillows"
          ],
          [
           "tupa p'acha",
           "elegant men's dress"
          ],
          [
           "tupa quchur",
           "golden plate with enclosed precious stones to put the maskapaycha in, which all together formed the Inka crown"
          ],
          [
           "tuparisun",
           "we're going to meet again"
          ],
          [
           "tupariy",
           "to meet up with people"
          ],
          [
           "tupi",
           "kind of fish sausage"
          ],
          [
           "tupu",
           "leather bag used for honey"
          ],
          [
           "tupu kamaychi",
           "system of measures"
          ],
          [
           "tupullikuy",
           "to put on clothes with a fastening pin"
          ],
          [
           "tuqlu",
           "tool used for the roof"
          ],
          [
           "tuqsay",
           "to cough repeatedly"
          ],
          [
           "tuqu",
           "spirit of dead"
          ],
          [
           "tuquri",
           "kind of pudding made out of maize and sugar"
          ],
          [
           "tuqu-tuqu",
           "kind of toad"
          ],
          [
           "turikuy",
           "to resist physically"
          ],
          [
           "turtay",
           "to make a mud roof"
          ],
          [
           "turu",
           "wooden bowl used to drink corn beer"
          ],
          [
           "turu qara",
           "plant with rope-like bark"
          ],
          [
           "turuqsu",
           "dry corn stem"
          ],
          [
           "tusannay",
           "to remove props"
          ],
          [
           "tuspu",
           "certain fish dish"
          ],
          [
           "tusunayay",
           "to have the desire to dance"
          ],
          [
           "tutamantantin",
           "the whole morning"
          ],
          [
           "tuta pisqu manti",
           "kind of tuber plant"
          ],
          [
           "tutay",
           "to be night"
          ],
          [
           "tutayariy",
           "beginning of dusk"
          ],
          [
           "tutay warachi",
           "the whole night"
          ],
          [
           "tuti",
           "foreseen, lucky and decisive move"
          ],
          [
           "tutupa",
           "grunt, grumble, growl"
          ],
          [
           "tuwaq",
           "certain kind of bird"
          ],
          [
           "tuyuyay",
           "to begin storming"
          ],
          [
           "thak ñiy",
           "to calm down"
          ],
          [
           "thallachiy",
           "to let the children relax"
          ],
          [
           "thamay",
           "to go step by step"
          ],
          [
           "thamaykachay",
           "to go on all fours"
          ],
          [
           "thantay",
           "to become old and worn out"
          ],
          [
           "thañirpariy",
           "to calm from everything"
          ],
          [
           "thañi-thañi",
           "kind of wild flower"
          ],
          [
           "thañiy",
           "to stop laying eggs"
          ],
          [
           "thapachakuy",
           "to make a nest"
          ],
          [
           "thaqu",
           "American carob tree"
          ],
          [
           "thaqu",
           "tree in general"
          ],
          [
           "thaqu ruru",
           "pod from the spiny algorrobo tree that has a bitter sweet flavor"
          ],
          [
           "thaqu sach'a",
           "American carob tree"
          ],
          [
           "thaqya",
           "dung of sheep, llama or alpaca"
          ],
          [
           "thasay",
           "to fart without noise"
          ],
          [
           "thasaykukuy",
           "to fart without noise"
          ],
          [
           "thasnuchiy",
           "to make someone extinguish fire"
          ],
          [
           "thasnukapuy",
           "to calm down"
          ],
          [
           "thatachiy",
           "to make overeat or overdrink"
          ],
          [
           "thatkichiy",
           "to teach a child walk"
          ],
          [
           "thatki kutinchi",
           "multiple of meter"
          ],
          [
           "thawti",
           "who tells stupidities"
          ],
          [
           "thawtiy",
           "to say some stupidity"
          ],
          [
           "thisthapiy",
           "to pull in"
          ],
          [
           "thumana",
           "kind of shrub"
          ],
          [
           "thunku",
           "jump on one leg"
          ],
          [
           "thunkuchiy",
           "to make jump"
          ],
          [
           "thunkuthunku",
           "game where they jump on one leg"
          ],
          [
           "thunkuy",
           "to tie someone's hands"
          ],
          [
           "thunkuykachay",
           "to jump everywhere on one foot"
          ],
          [
           "thuqachiy",
           "to make someone spit"
          ],
          [
           "thuru kutu",
           "carrying a child on one's back"
          ],
          [
           "thutasqa",
           "infested by moths"
          ],
          [
           "thutay",
           "to infest by moths"
          ],
          [
           "thutayay",
           "to be infested by moths"
          ],
          [
           "t'akakuy",
           "to flow out"
          ],
          [
           "t'akikuy",
           "to sing devotedly"
          ],
          [
           "t'ankar kichka",
           "kind of shrub"
          ],
          [
           "t'antata munani",
           "I want bread!"
          ],
          [
           "t'antay",
           "to make bread"
          ],
          [
           "t'antay wallkachanay",
           "to be badly dressed who was once well dressed"
          ],
          [
           "t'aqachiy",
           "to make separate"
          ],
          [
           "t'aqsachikuy",
           "to have oneself washed"
          ],
          [
           "t'aqsachiy",
           "to make someone wash"
          ],
          [
           "t'aqsakuy",
           "to wash one's hairs"
          ],
          [
           "t'aqsamuy",
           "to go to wash laundry"
          ],
          [
           "t'aqsapuy",
           "to wash something for somebody"
          ],
          [
           "t'aqsaysiy",
           "to help to wash"
          ],
          [
           "t'ara",
           "two paired things"
          ],
          [
           "t'arañu",
           "person with six fingers or toes"
          ],
          [
           "t'asrakunap yapan / puchun",
           "sum / difference of squares"
          ],
          [
           "t'asta",
           "kind of tree"
          ],
          [
           "t'ikachiy",
           "to make bloom"
          ],
          [
           "t'ikallikuy",
           "to make up oneself with flowers or feathers"
          ],
          [
           "t'ikalliy",
           "to adorn with flowers or feathers"
          ],
          [
           "t'ikanchasqa",
           "decorated with flowers"
          ],
          [
           "t'ikanka",
           "the only tree of the puna"
          ],
          [
           "t'ikarichiy",
           "to make bloom"
          ],
          [
           "t'ikchay",
           "to give a flick"
          ],
          [
           "t'iki",
           "pounded cereal to feed chickens"
          ],
          [
           "t'ikichiy",
           "to pound cereal to feed chickens"
          ],
          [
           "t'ikraqta kutiman p'achallikunki",
           "vice versa you dressed yourself"
          ],
          [
           "t'ikrariy",
           "to turn around"
          ],
          [
           "t'impiy",
           "to carry something in one's skirt"
          ],
          [
           "t'impunayay",
           "to be at the point of boiling"
          ],
          [
           "t'inkachiy",
           "to offer a present to ask for an advantage"
          ],
          [
           "t'inkay",
           "to celebrate welcome"
          ],
          [
           "t'inki-t'inki p'acha",
           "whole piece of male or female clothing"
          ],
          [
           "t'inkusqa p'acha",
           "dress just fitting"
          ],
          [
           "t'ipachikuy",
           "to have one's clothes buttoned up"
          ],
          [
           "t'ipachiy",
           "to make button up"
          ],
          [
           "t'iparakuy",
           "seine Kleider aufknöpfen"
          ],
          [
           "t'ipi kunka",
           "person with a thin and long neck"
          ],
          [
           "t'ipimuy",
           "to go to fall something in the skirt"
          ],
          [
           "t'ipi sintura",
           "size of wasp"
          ],
          [
           "t'iqichiy",
           "to make someone fill something"
          ],
          [
           "t'iqinakuy",
           "to bump each other qith one's chest and elbow"
          ],
          [
           "t'iqiyay",
           "to feel uneasiness in the stomach"
          ],
          [
           "t'irachiy",
           "to make someone uproot plants"
          ],
          [
           "t'irakuy",
           "to pull out one's own hairs"
          ],
          [
           "t'isachiy",
           "to make someone comb wool"
          ],
          [
           "t'isana",
           "tool to comb wool"
          ],
          [
           "t'isikiri",
           "kind of cactus"
          ],
          [
           "t'itu",
           "obscure and difficult words"
          ],
          [
           "t'iwkay",
           "to run rapidly"
          ],
          [
           "t'iwkay",
           "to shoot an arrow"
          ],
          [
           "t'uksi",
           "with hard, spiny skin"
          ],
          [
           "t'uksichikuy",
           "to have oneself pierced"
          ],
          [
           "t'uksillu",
           "cheap home-distilled brandy"
          ],
          [
           "t'uksi p'anqa",
           "kind of medicinal plant of the Ecuadorian jungle"
          ],
          [
           "t'uktiy",
           "to mischievously look at or pick up something"
          ],
          [
           "t'ukuyay",
           "to swoon away"
          ],
          [
           "t'ula puni",
           "kind of herb"
          ],
          [
           "t'ullku",
           "tightly spun yarn"
          ],
          [
           "t'ullkuy",
           "to spin tightly"
          ],
          [
           "t'una papa",
           "very small potato"
          ],
          [
           "t'una uchu",
           "small green pepper"
          ],
          [
           "t'unay",
           "to crush into small pieces"
          ],
          [
           "t'uqluchikuy",
           "to have one's head shaved"
          ],
          [
           "t'uqluy",
           "to shave a head"
          ],
          [
           "t'uqpa",
           "group of people"
          ],
          [
           "t'uqula",
           "small, round hole made in the ground"
          ],
          [
           "t'uquna",
           "tool for making holes"
          ],
          [
           "t'uquyay",
           "to become hollow"
          ],
          [
           "t'uruchachiy",
           "to make someone make clay bricks"
          ],
          [
           "t'uruchakuy",
           "to soil oneself with mud"
          ],
          [
           "t'uru ch'illami",
           "big container of earth"
          ],
          [
           "t'urusapa",
           "full of mud"
          ],
          [
           "t'uru wasi",
           "a house made of clay"
          ],
          [
           "t'uruyay",
           "to change in mud"
          ],
          [
           "t'usti",
           "in great disorder"
          ],
          [
           "t'ususapa",
           "who has strong calves"
          ],
          [
           "uchan p'anqa",
           "kind of medicinal plant of the Ecuadorian jungle"
          ],
          [
           "uchkuy",
           "to dig a hole"
          ],
          [
           "uchpachay",
           "to cover with ashes"
          ],
          [
           "uchpa-uchpa",
           "kind of plant"
          ],
          [
           "uchpa wapa",
           "kind of medicinal plant of the Ecuadorian jungle"
          ],
          [
           "uchpa wasa sananku",
           "kind of medicinal plant of the Ecuadorian jungle"
          ],
          [
           "uchpayay",
           "to become ash"
          ],
          [
           "uchu chikta",
           "kind of medicinal plant of the Ecuadorian jungle"
          ],
          [
           "uchuchiray",
           "to be scented with chili"
          ],
          [
           "uchuggu",
           "kind of cormorant"
          ],
          [
           "uchuhillu kasqanki!",
           "You devoured the chillies!"
          ],
          [
           "uchukilla",
           "kind of white maize with small, brilliant grains"
          ],
          [
           "uchullaqwa",
           "hot chili sauce"
          ],
          [
           "uchumuruq'u",
           "round stone used to grind chili"
          ],
          [
           "uchu p'anqa",
           "kind of medicinal plant of the Ecuadorian jungle"
          ],
          [
           "uchuta mana munanichu",
           "I don't want chili"
          ],
          [
           "uchuy",
           "to eat grains crunching"
          ],
          [
           "uchuyllachiy",
           "to make small"
          ],
          [
           "uchuylla mati kara",
           "kind of medicinal plant of the Ecuadorian jungle"
          ],
          [
           "uchuylla p'anqa siya",
           "kind of medicinal plant of the Ecuadorian jungle"
          ],
          [
           "uchuylla sach'a allqu",
           "small forest dog"
          ],
          [
           "uchuy sunqu",
           "weak of character"
          ],
          [
           "uhu hap'iy",
           "to catch a cough"
          ],
          [
           "ukilla",
           "plant, root used to dye yellow"
          ],
          [
           "ukiy",
           "to get mouldy"
          ],
          [
           "ukli",
           "certain kind of cactus"
          ],
          [
           "ukuchariy",
           "to be gnawed away"
          ],
          [
           "ukumari",
           "mythical kidnapper who steals children"
          ],
          [
           "ukhu chaki",
           "sole of the foot"
          ],
          [
           "ukhunchay",
           "to put on underwear"
          ],
          [
           "ukhu wata",
           "most important years of one's life"
          ],
          [
           "ulandisa",
           "type of potato"
          ],
          [
           "ulsiryay",
           "to develop an ulcer"
          ],
          [
           "uluchi",
           "bug which transmits Chagas fever"
          ],
          [
           "uluwa",
           "kind of cactus"
          ],
          [
           "uluypiña",
           "kind of herb"
          ],
          [
           "ullanta",
           "kind of plant"
          ],
          [
           "ullantay",
           "kind of tree"
          ],
          [
           "ullawaysu",
           "kind of bird"
          ],
          [
           "ullinchu",
           "kind of very small pidgeon with lead-grey feathers"
          ],
          [
           "ullka",
           "wool from a ram attached to a staff for spinning"
          ],
          [
           "ullti llipt'a churana",
           "bag to carry condiment for coca"
          ],
          [
           "umachakiy",
           "to fall head first"
          ],
          [
           "umallina",
           "head scarf to hold the pitcher on the head"
          ],
          [
           "umalliy",
           "to give reasons for"
          ],
          [
           "umalliy",
           "to cover the head"
          ],
          [
           "umamanta puriy",
           "to go on one's hands"
          ],
          [
           "uman muyuqrusqa",
           "turned upside down"
          ],
          [
           "umapatay",
           "to carry on one's head"
          ],
          [
           "uma rutuy",
           "first hair clipping"
          ],
          [
           "umaruthuku",
           "celebration of a child's first hair clipping"
          ],
          [
           "umata kayman chayman kuyuchiy",
           "to shake one's head"
          ],
          [
           "umati",
           "part in the hair"
          ],
          [
           "uma tukuynin",
           "top of a hill"
          ],
          [
           "uminchay",
           "to enclose precious stones"
          ],
          [
           "umiñakunap yapan / puchun",
           "sum / difference of perfect cubes"
          ],
          [
           "umita",
           "kind of meal"
          ],
          [
           "umiti yura",
           "kind of medicinal plant of the Ecuadorian jungle"
          ],
          [
           "umiy",
           "to give a prolonged kiss"
          ],
          [
           "umruy",
           "to carry on one's sholder"
          ],
          [
           "umukuti",
           "kind of lizard"
          ],
          [
           "unayniyuq",
           "which last a long time"
          ],
          [
           "unaypi",
           "during a longer time"
          ],
          [
           "unayta",
           "for a long time"
          ],
          [
           "unaytam p'achay mawk'an",
           "my dress is worn out"
          ],
          [
           "unay watapiqa",
           "after a year"
          ],
          [
           "unchiku",
           "kind of bird"
          ],
          [
           "unchuykuy",
           "to contract one's legs"
          ],
          [
           "unka",
           "kind of tree whose very hard wood is used for tools"
          ],
          [
           "unkucha",
           "kind of tuber plant of the Araceae family"
          ],
          [
           "unkulu",
           "carrying a child on one's back"
          ],
          [
           "unkullikuy",
           "to dress oneself"
          ],
          [
           "unkup kunkan",
           "opening for the neck, of a shirt"
          ],
          [
           "unkurayay",
           "to be ill for a long time"
          ],
          [
           "unkusapa",
           "who has a large shirt"
          ],
          [
           "unkuy",
           "to carry at the handle"
          ],
          [
           "unquchiq",
           "what makes ill"
          ],
          [
           "unqurawa",
           "kind of palm tree of the primary rain forest"
          ],
          [
           "unquy",
           "to give birth"
          ],
          [
           "untiy",
           "to dig up soil with the snout"
          ],
          [
           "unu karpay",
           "integration of energy, transference of power by water"
          ],
          [
           "unuyachay",
           "to melt metals"
          ],
          [
           "upa añayllu",
           "small ant whose bite does not hurt"
          ],
          [
           "upallakuy",
           "to be silent"
          ],
          [
           "upa sunqu",
           "poor in spirit"
          ],
          [
           "upatuqusa",
           "who becomes the fool"
          ],
          [
           "upayay",
           "to become deaf"
          ],
          [
           "upi",
           "incompletely fermented corn beer"
          ],
          [
           "upraychukru",
           "kind of shrub"
          ],
          [
           "uputasa",
           "kind of fish of the Amazon"
          ],
          [
           "upyachiy",
           "to give something to drink"
          ],
          [
           "upyayqhatuq",
           "seller of drinks"
          ],
          [
           "upyayta quway",
           "give me something to drink"
          ],
          [
           "uphakuy",
           "to wash one's face"
          ],
          [
           "uphay",
           "to wash the face of another person"
          ],
          [
           "uqi pisqu",
           "kind of bird"
          ],
          [
           "uqi pisqu hatun",
           "kind of bird"
          ],
          [
           "uqi qura",
           "kind of herb"
          ],
          [
           "uqllachiy",
           "to make someone embrace"
          ],
          [
           "uqllamuy",
           "to go to embrace"
          ],
          [
           "uqllanakuy",
           "to embrace each other"
          ],
          [
           "uqllapuy",
           "to embrace someone in his favour"
          ],
          [
           "uqsay",
           "to mow straw"
          ],
          [
           "uquchiy",
           "to make devour"
          ],
          [
           "uquña",
           "kind of flute"
          ],
          [
           "uqu qura",
           "kind of herb"
          ],
          [
           "uqhururu",
           "kind of herb"
          ],
          [
           "uranchay",
           "to put down"
          ],
          [
           "ura qhaway",
           "to read the time"
          ],
          [
           "ura simpa",
           "lower loom bar"
          ],
          [
           "urayay",
           "to get cheaper"
          ],
          [
           "urayay",
           "to go down"
          ],
          [
           "uraykuchiy",
           "to take down"
          ],
          [
           "uraykumuy",
           "to come down"
          ],
          [
           "uray wichay",
           "from below upwards"
          ],
          [
           "urdinay",
           "to give an order"
          ],
          [
           "uritu wachansi",
           "kind of jungle tree, 11-16 m high"
          ],
          [
           "urkay",
           "to hang someone"
          ],
          [
           "urku tukuta",
           "kind of jungle tree, 17-30 m high"
          ],
          [
           "urmakuy",
           "to throw oneself down"
          ],
          [
           "urmamuy",
           "to fall hither"
          ],
          [
           "urmaqlla",
           "who falls easily"
          ],
          [
           "urmarparichiy",
           "to cut down a tree"
          ],
          [
           "urqu chiri k'aspi",
           "kind of medicinal plant of the Ecuadorian jungle"
          ],
          [
           "urqu chiri wayusa",
           "kind of medicinal plant of the Ecuadorian jungle"
          ],
          [
           "urqu kalistu",
           "tasmanian blue gum"
          ],
          [
           "urqu kisa",
           "kind of herb"
          ],
          [
           "urqu matu",
           "kind of tree with leaves smelling like camphor and with hardly tasty fruits"
          ],
          [
           "urqu mulli",
           "kind of tall tree, the tallest species in the Tukuman region"
          ],
          [
           "urqup sinqan",
           "what is between two gorges"
          ],
          [
           "urqu sibil",
           "kind of tree with thin, detachable bark"
          ],
          [
           "urqu sunkha",
           "plant that hangs from rocks like a beard"
          ],
          [
           "urquta qhaway!",
           "look at the hill"
          ],
          [
           "urqu-urqu",
           "from mountain to mountain"
          ],
          [
           "Uru",
           "people living in the region of Lake Titicaca with some communities still remaining today, and their language"
          ],
          [
           "uru",
           "tick of pigs and sheep"
          ],
          [
           "urwa",
           "stone erected by people"
          ],
          [
           "usachakuy",
           "to get lice"
          ],
          [
           "usachikuy",
           "to take advantage of"
          ],
          [
           "usachinalla",
           "easy to advance with"
          ],
          [
           "usakuy",
           "to be infested by lice"
          ],
          [
           "usakuy",
           "to delouse oneself"
          ],
          [
           "usakuy",
           "to be destroyed"
          ],
          [
           "usana kallwa",
           "narrow weaving sword"
          ],
          [
           "usa puka",
           "kind of aphid"
          ],
          [
           "usay",
           "to be able to"
          ],
          [
           "usaysapa kuskakuna",
           "places of power"
          ],
          [
           "usku",
           "stone erected by people"
          ],
          [
           "usñuy",
           "to breathe noisily through the nose"
          ],
          [
           "uspapakuy",
           "to come as an uninvited guest"
          ],
          [
           "ustuy",
           "to operate on"
          ],
          [
           "usuma",
           "kind of fruit tree"
          ],
          [
           "usuraqta",
           "stretched out lying"
          ],
          [
           "uswincha",
           "kind of cactus"
          ],
          [
           "utallaq'i",
           "kind of fruit-eating bird"
          ],
          [
           "utiqyay",
           "to get mad"
          ],
          [
           "uti-uti",
           "kind of beetle"
          ],
          [
           "utkay",
           "to close a bag sewing it"
          ],
          [
           "utkillu",
           "kind of diving bird"
          ],
          [
           "utkisiki",
           "kind of diving bird"
          ],
          [
           "utqamuy",
           "to come early"
          ],
          [
           "utu",
           "face to face"
          ],
          [
           "utu",
           "corn or haba stocks piled up in the field"
          ],
          [
           "utu kuru",
           "kind of insect larva living in young corn cobs"
          ],
          [
           "utusqa",
           "corn cob damaged by insect larvae"
          ],
          [
           "ututu",
           "kind of small lizard"
          ],
          [
           "uwiru maki",
           "who has whit spots on the hands"
          ],
          [
           "uyansa",
           "ceremony at the end of the harvest of corn or barley"
          ],
          [
           "uyapura",
           "face to face"
          ],
          [
           "uyariway",
           "listen to me"
          ],
          [
           "uyay",
           "to hear mass"
          ],
          [
           "uyaychasqa yupay",
           "date of publication"
          ],
          [
           "uyay illaq saqi(ri)y",
           "to become deaf"
          ],
          [
           "uyayta mana chariy",
           "to become deaf"
          ],
          [
           "uypus",
           "bird withput tail"
          ],
          [
           "uywakuy",
           "to take care of"
          ],
          [
           "uywanakuy",
           "to live together"
          ],
          [
           "uywaq",
           "who takes care of domestic animals"
          ],
          [
           "uywayuq",
           "herdsman, stockman, grazier, rancher, cattleman"
          ],
          [
           "wachakuq warmi",
           "woman giving birth"
          ],
          [
           "wachanapaq kimsa p'unlla illakpi",
           "three days before birth"
          ],
          [
           "wachanayay",
           "to be ready to give birth"
          ],
          [
           "wachanqa",
           "kind of shrub"
          ],
          [
           "wachapa",
           "kind of stork"
          ],
          [
           "wachapakuy",
           "to give birth unmarriedly"
          ],
          [
           "wachariy",
           "to be born"
          ],
          [
           "wacharu",
           "kind of fruit-eating bird"
          ],
          [
           "wachasqamanta kimsa p'unlla qhipa",
           "three days after giving birth"
          ],
          [
           "wachichiy",
           "to sow the seeds into the furrows"
          ],
          [
           "wachuma",
           "kind of wild plant"
          ],
          [
           "wachupuy",
           "to close a bag tying ist opening"
          ],
          [
           "wachu wachu",
           "watering-places for cattle"
          ],
          [
           "wach'isqa",
           "stung by insects"
          ],
          [
           "wach'uy",
           "to make furrows"
          ],
          [
           "wakachu",
           "podded fruit of the churki tree"
          ],
          [
           "wakakay",
           "to laugh without control over oneself"
          ],
          [
           "wakapinka",
           "very small hummingbird"
          ],
          [
           "waka qallu",
           "kind of plantain"
          ],
          [
           "waka sullu",
           "kind of herbaceous plant used for the birth of calves"
          ],
          [
           "waka-waka",
           "type of beetle"
          ],
          [
           "wakchacha",
           "dryness of the skin"
          ],
          [
           "wakcha chiqñiq",
           "hater of the poor"
          ],
          [
           "wakcha kay",
           "to be poor"
          ],
          [
           "wakcha paqariq",
           "who are born poor"
          ],
          [
           "wakcha pitiwikuq",
           "procurator for the poor in colonial times"
          ],
          [
           "wakcha rimapukuq",
           "procurator for the poor in colonial times"
          ],
          [
           "wakcha runa",
           "orphan without family"
          ],
          [
           "wakchillu",
           "kind of American carob tree"
          ],
          [
           "wak hina",
           "in a different way"
          ],
          [
           "wakichikapuy",
           "to prepare something for oneself"
          ],
          [
           "wakichikuy",
           "to prepare oneself"
          ],
          [
           "waklla",
           "bent down to the side"
          ],
          [
           "wakra chini",
           "kind of nettle, considered male"
          ],
          [
           "waktay",
           "to give as present"
          ],
          [
           "waktis",
           "bent down to the side"
          ],
          [
           "waku",
           "kind of medicinal plant of the rainforest"
          ],
          [
           "waku",
           "kind of chicken-like bird with tasty meat"
          ],
          [
           "wakuy",
           "type of pitcher"
          ],
          [
           "wak'aqayay",
           "sacrificed offered to any divinity"
          ],
          [
           "wak'arpaña",
           "young white llama used as sacrifice"
          ],
          [
           "wak'ay",
           "gifts or greetings to the wak'as and apachiqtas"
          ],
          [
           "wak'a yupaychana",
           "place of worship"
          ],
          [
           "wala puka",
           "honeycomb without honey of \"red karán\""
          ],
          [
           "wala puka",
           "kind of wasp"
          ],
          [
           "walay",
           "to run in a flock or herd"
          ],
          [
           "waltaku sara",
           "white corn with large grains"
          ],
          [
           "walthachikamuy",
           "to go to have a child wrapped up"
          ],
          [
           "walthachiy",
           "to have a child wrapped up"
          ],
          [
           "walthapuy",
           "to wrap up a baby for someone"
          ],
          [
           "walthay",
           "to wrap up a baby"
          ],
          [
           "Walla",
           "ancient people in th valley of Qosqo, conquered by Manqu Qhapaq"
          ],
          [
           "wallkallatapas",
           "You are welcome!"
          ],
          [
           "wallpa chaki",
           "kind of anemone"
          ],
          [
           "Wallparimachi",
           "well-known Inkan architect"
          ],
          [
           "wallpayay",
           "to get frightened like a hen"
          ],
          [
           "wallqakuy",
           "to hang something on one's neck"
          ],
          [
           "wallqarikuy",
           "to put on a collar"
          ],
          [
           "wallqaykuy",
           "to put on a collar"
          ],
          [
           "wallquy",
           "to leave unploughed"
          ],
          [
           "walluy",
           "to knock down"
          ],
          [
           "wamani",
           "province with 10000 inhabitants"
          ],
          [
           "wamanpinta",
           "plant, flowers used in red dye"
          ],
          [
           "Waman Puma",
           "well-known Peruvian chronicler"
          ],
          [
           "waman qiru",
           "kind of tree"
          ],
          [
           "wamanripa",
           "medical plant of the Andes"
          ],
          [
           "Wamanripa",
           "a mountain and apu in Q'ero"
          ],
          [
           "wamantullu",
           "front part of the shin"
          ],
          [
           "wamaq p'acha",
           "newly purchased dress"
          ],
          [
           "wamay",
           "to gather grain from the ground with the hands"
          ],
          [
           "wambisa chaqruna",
           "kind of medicinal plant of the jungle"
          ],
          [
           "waminra",
           "girl of 10 to 14 years"
          ],
          [
           "wampa",
           "kind of bird"
          ],
          [
           "wampula yura",
           "kind of medicinal plant of the Ecuadorian jungle"
          ],
          [
           "wamp'ar unku",
           "shirt with triangle design"
          ],
          [
           "wamracha",
           "child at school age"
          ],
          [
           "wanachay",
           "to punish hard"
          ],
          [
           "wanaku",
           "chestnut color of guanacos"
          ],
          [
           "wanay",
           "to amend one's way"
          ],
          [
           "wanay",
           "to punish hard"
          ],
          [
           "wanchaku",
           "kind of bird"
          ],
          [
           "wanka",
           "type of thorn"
          ],
          [
           "wankana palanta",
           "kind of banana"
          ],
          [
           "wankani",
           "music instrument similar to the pan flute"
          ],
          [
           "wankar tipa",
           "kind of tree"
          ],
          [
           "wankartipa",
           "kind of plant"
          ],
          [
           "wankiy",
           "to press together"
          ],
          [
           "wanqiru",
           "kind of bumble bee"
          ],
          [
           "wanunchasqa",
           "well fertilized soil"
          ],
          [
           "wanuray",
           "to remove manure"
          ],
          [
           "wanway",
           "to be uninhabited"
          ],
          [
           "wañuchichiy",
           "to make someone kill"
          ],
          [
           "wañuchimuy",
           "to go to kill"
          ],
          [
           "wañuchinkichikman karqa",
           "they had killed him"
          ],
          [
           "wañuchipuy",
           "to kill for somebody"
          ],
          [
           "wañuchiriy",
           "to commit suicide"
          ],
          [
           "wañu killa",
           "moon on the wane"
          ],
          [
           "wañukuy",
           "to be dying"
          ],
          [
           "wañunawan tiyay",
           "to be dying"
          ],
          [
           "wañunayaq killa",
           "moon on the wane"
          ],
          [
           "wañuqtukuy",
           "to swoon away"
          ],
          [
           "wañurpariy",
           "to die of violent death"
          ],
          [
           "wañuyta tariy",
           "to find death"
          ],
          [
           "wapiy",
           "to bend in the wind"
          ],
          [
           "wapsuy",
           "to eat with one's mouth full"
          ],
          [
           "waqachimpuy",
           "to go to make someone cry for somebody"
          ],
          [
           "waqachipuy",
           "to make someone cry for somebody"
          ],
          [
           "waqanchu",
           "kind of bird"
          ],
          [
           "waqaychachikuy",
           "to have something guarded by someone for oneself"
          ],
          [
           "waqaychachisqa",
           "which is given into custody"
          ],
          [
           "waqaychapuy",
           "to guard someone to his or her advantage"
          ],
          [
           "waqaychaq apu",
           "captain of sentry"
          ],
          [
           "waqay ñan",
           "hard and dangerous path"
          ],
          [
           "waqchukuy",
           "change of teeth"
          ],
          [
           "waqchuy",
           "change of teeth"
          ],
          [
           "waqch'ay",
           "to make propaganda"
          ],
          [
           "waqrasapa",
           "who has big horns"
          ],
          [
           "waqra-waqra",
           "dyed light yellow"
          ],
          [
           "waqrilla",
           "kind of herb"
          ],
          [
           "waqsu",
           "person with protruding teeth"
          ],
          [
           "waqtanakuy",
           "to beat each other"
          ],
          [
           "waqtapay",
           "to beat into pieces"
          ],
          [
           "waqtatikuy",
           "to beat onto the ground"
          ],
          [
           "waquru pampa",
           "the plain of the waqoro"
          ],
          [
           "waqwalli",
           "which ends fast"
          ],
          [
           "waqwallimaki",
           "who has not supplied all"
          ],
          [
           "waqyachipuy",
           "to have someone called"
          ],
          [
           "waqyachiy",
           "to make someone call"
          ],
          [
           "waqyapuy",
           "to call someone"
          ],
          [
           "waq'ayay",
           "to go crazy"
          ],
          [
           "warachikuy",
           "Inca ceremony in which elite young males were presented with first loincloth and initiated into knight-like status"
          ],
          [
           "warachikuy",
           "to dress young males with loincloth first time in the course of a ceremony"
          ],
          [
           "warallichiy",
           "to dress with loincloth"
          ],
          [
           "warallikuy",
           "to put on loincloth"
          ],
          [
           "warannaq",
           "who wears no trousers"
          ],
          [
           "waranqa sisa",
           "kind of jungle tree, 6-10 m high"
          ],
          [
           "waranqa wata",
           "thousand years old"
          ],
          [
           "waranqu",
           "kind of acacia"
          ],
          [
           "waranta awakuy",
           "to weave one's own trousers"
          ],
          [
           "waray",
           "to put on trousers"
          ],
          [
           "Warayna",
           "See you tomorrow!"
          ],
          [
           "warkumuy",
           "to go to hang"
          ],
          [
           "warkupuy",
           "to hang something for someone"
          ],
          [
           "warkuysiy",
           "to help to hang"
          ],
          [
           "warmilla",
           "good woman who takes care of her husband and children"
          ],
          [
           "warmi maqa",
           "man who beats his wife"
          ],
          [
           "warmi munachi",
           "kind of herb used to obtain a woman's love"
          ],
          [
           "warmi wamra",
           "girl, 4 to 6 years old"
          ],
          [
           "warmiwan puñuna",
           "to sleep with a woman"
          ],
          [
           "warmi-warmi",
           "kind of medicinal plant of the rainforest"
          ],
          [
           "warmiyay",
           "to become a woman"
          ],
          [
           "waruqu",
           "kind of spiny plant"
          ],
          [
           "waru-waru",
           "watering-places for cattle at the shores of lake Titicaca"
          ],
          [
           "wasaku",
           "animal with a round back"
          ],
          [
           "wasakuy",
           "to save oneself"
          ],
          [
           "wasa maki",
           "back of the hand"
          ],
          [
           "wasanchu",
           "with a round back"
          ],
          [
           "wasa rurun nanay",
           "pain in the kidneys"
          ],
          [
           "wasi aylluta kamaq",
           "head of a household"
          ],
          [
           "wasichakuq",
           "the one who builds his own house"
          ],
          [
           "wasichakuy",
           "to build one's house"
          ],
          [
           "wasichay",
           "to build a house"
          ],
          [
           "wasimanta iskay chunka mitru karullapi",
           "twenty metres from the house"
          ],
          [
           "wasin wasin",
           "from house to house"
          ],
          [
           "wasita pichay",
           "sweep the house"
          ],
          [
           "wasi-wasi",
           "many houses together"
          ],
          [
           "wasi watana",
           "pillar holding the roof"
          ],
          [
           "wasi watana",
           "kind of climbing plant"
          ],
          [
           "wasiypi",
           "at my home"
          ],
          [
           "waska kawchusqa",
           "thin rope of three threads twisted in the leg"
          ],
          [
           "waska raya",
           "kind of freshwater ray of the Amazon"
          ],
          [
           "waska siya",
           "kind of medicinal plant of the Ecuadorian jungle"
          ],
          [
           "waskata ruray",
           "to make rope"
          ],
          [
           "waskay",
           "to throw lasso"
          ],
          [
           "watachiy",
           "to make tie"
          ],
          [
           "watakama",
           "until the year"
          ],
          [
           "watakuna yallisqa qhipam",
           "after the years had passed"
          ],
          [
           "watakuy",
           "to tie oneself"
          ],
          [
           "watamuy",
           "to go to tie"
          ],
          [
           "watan",
           "loops connecting backstrap to loom"
          ],
          [
           "watantin",
           "one whole year"
          ],
          [
           "watap killan",
           "months of the year"
          ],
          [
           "watapuy",
           "to bind something for someone"
          ],
          [
           "wataraku muyu",
           "kind of medicinal plant of the Ecuadorian jungle"
          ],
          [
           "watayakriy",
           "to go to celebrate birthday"
          ],
          [
           "wataysiy",
           "to help to tie"
          ],
          [
           "watillu",
           "kind of medicinal plant, main uses: shamanism"
          ],
          [
           "watqay",
           "to spy on"
          ],
          [
           "watuchikuy",
           "consulting of oracle"
          ],
          [
           "watukuchkay",
           "to care for"
          ],
          [
           "watumpuy",
           "to go to query someone"
          ],
          [
           "watupuy",
           "to query someone"
          ],
          [
           "watuy",
           "oracle in coca done by the Andean shamans"
          ],
          [
           "watuykachay",
           "to conjecture, to guess"
          ],
          [
           "watyachiy",
           "to make someone bake potatoes"
          ],
          [
           "watyana",
           "small stove made out of clods"
          ],
          [
           "wat'a pili",
           "as high as three apples"
          ],
          [
           "wawachakuy",
           "to adopt a child"
          ],
          [
           "wawa kanchantin",
           "the whole group of kids"
          ],
          [
           "wawallikuy",
           "to be pregnant"
          ],
          [
           "wawani",
           "parent of an illegitimate child"
          ],
          [
           "wawa qullqi kamachiq",
           "simple interest rule"
          ],
          [
           "wawa simi",
           "person who speaks like a child"
          ],
          [
           "wayakan",
           "type of tree"
          ],
          [
           "waych'a",
           "kind of composite plant"
          ],
          [
           "waykay",
           "quick collective work"
          ],
          [
           "waykuru",
           "kind of wasp"
          ],
          [
           "waykuru",
           "kind of South American partridge"
          ],
          [
           "waykha",
           "aggression of more against one person"
          ],
          [
           "waykhay",
           "to rob as a group one person"
          ],
          [
           "wayk'uchiy",
           "to make cook"
          ],
          [
           "wayk'ukuy",
           "to cook for oneself"
          ],
          [
           "wayk'umuy",
           "to go to cook"
          ],
          [
           "wayk'upuy",
           "to cook for someone"
          ],
          [
           "waylla mut'iya",
           "type of plant"
          ],
          [
           "waylla pilli",
           "kind of herbaceous plant"
          ],
          [
           "waylla-waylla",
           "meadows altering with trees"
          ],
          [
           "wayllay",
           "to become hot"
          ],
          [
           "wayllunakuy",
           "to caress each other"
          ],
          [
           "waynakuy",
           "to fall in love"
          ],
          [
           "waynañan kachkanki wawqiy",
           "brother, you are already an adolescent"
          ],
          [
           "waynapikchu",
           "kind of herb of the upper jungle"
          ],
          [
           "waynapikchu",
           "kind of beetle living in wood"
          ],
          [
           "waynarikuy",
           "desire of love"
          ],
          [
           "waynayay",
           "to get young"
          ],
          [
           "wayñuy",
           "to dance the tripping dance"
          ],
          [
           "wayñuykuy",
           "to invite a woman to dance tripping dance"
          ],
          [
           "wayq'umanta lluqsimuy",
           "to come out from the gorge"
          ],
          [
           "wayq'uy",
           "to go down a gorge"
          ],
          [
           "wayra kawsay",
           "the living energy or spirit of the wind"
          ],
          [
           "wayrakuy",
           "to be windy"
          ],
          [
           "wayra mana alli",
           "kind of medicinal plant of the jungle used to treat herpes by applying the heated bark to infected areas, while the aromatic leaves are rubbed on the forehead and strongly aspirated to treat headache"
          ],
          [
           "wayrana",
           "building having just three walls"
          ],
          [
           "Wayrapata",
           "name of a town in Bolivia"
          ],
          [
           "wayra p'anqa",
           "kind of medicinal plant of the rainforest used in popular medicine against arthritis and cold, it is a powerful abortive"
          ],
          [
           "wayra runa",
           "kind of medicinal plant of the jungle"
          ],
          [
           "wayrasqa",
           "person sick of bad, illness-bearing air"
          ],
          [
           "wayra wañuy",
           "wind of death"
          ],
          [
           "wayra-wayra pichqamanta",
           "game in ancient Waruchiri played to predict rain"
          ],
          [
           "wayraykachay",
           "to go in all directions"
          ],
          [
           "wayruru",
           "black and red"
          ],
          [
           "wayruru",
           "kind of ornamental tree bearing red seeds with black patches"
          ],
          [
           "wayruru",
           "black widow spider"
          ],
          [
           "waysiy",
           "to be filled with enthusiasm"
          ],
          [
           "wayt'ampu",
           "larva of the chachacomo butterfly"
          ],
          [
           "wayuy",
           "to bear fruits abundantly"
          ],
          [
           "waywash",
           "long and thin"
          ],
          [
           "waywash rumi",
           "long and thin stone"
          ],
          [
           "wicharichimuy",
           "to go to ascend something"
          ],
          [
           "wicharichiy",
           "to make ascend"
          ],
          [
           "wichay uray",
           "above and below"
          ],
          [
           "wichillay",
           "to go up"
          ],
          [
           "wichi-wichi",
           "braided dance tassel"
          ],
          [
           "wichq'achiy",
           "to make lock up"
          ],
          [
           "wichq'amuy",
           "to go to lock up"
          ],
          [
           "wichq'apuy",
           "to imprison someone"
          ],
          [
           "wichq'arayay",
           "to lead a retired life"
          ],
          [
           "wichq'aykapuy",
           "to close again"
          ],
          [
           "wichq'ay kawpay",
           "policy towards prisoners"
          ],
          [
           "wikapa",
           "piece of wood thrown to get fruits down from a tree"
          ],
          [
           "wikch'una",
           "worth to be thrown away"
          ],
          [
           "wikch'uriy",
           "to lie down"
          ],
          [
           "wikch'urqatitu",
           "flat polished piece of wood used to propel woof on horizontal loom"
          ],
          [
           "wiksata nanachinkichikmi",
           "you will have a stomach-ache"
          ],
          [
           "wiksayay",
           "to become pregnant"
          ],
          [
           "wiksayuq tukuy",
           "to get pregnant"
          ],
          [
           "wikunku",
           "kind of palm tree of the jungle"
          ],
          [
           "wildu",
           "kind of bird"
          ],
          [
           "wili",
           "kind of 8-12 m high tree with fruits tasting like turpentine"
          ],
          [
           "wilka",
           "kind of tree"
          ],
          [
           "wil-wil",
           "kind of tree"
          ],
          [
           "wil-wil",
           "kind of bird"
          ],
          [
           "willakamuy",
           "to go to announce oneself"
          ],
          [
           "willakaykunata quy",
           "to deal out"
          ],
          [
           "willakuykuna kamachiq",
           "collector of tales"
          ],
          [
           "willamuy",
           "to go to announce"
          ],
          [
           "willapuy",
           "to announce someone"
          ],
          [
           "willay khillay",
           "means of communication"
          ],
          [
           "willayniq",
           "means of communication"
          ],
          [
           "willkaparu",
           "black corn of first quality"
          ],
          [
           "willk'u",
           "kind of bindweed"
          ],
          [
           "winay",
           "load of straw"
          ],
          [
           "winaykuy",
           "to put in a bag"
          ],
          [
           "winchuka",
           "blood-sucking poisonous bug of South America"
          ],
          [
           "winkusqamanta",
           "lying on the side"
          ],
          [
           "winsu",
           "youngest of all sons"
          ],
          [
           "wintisu",
           "set of suger cane, fermented twenty days"
          ],
          [
           "wintiy",
           "to jump around"
          ],
          [
           "wintuy",
           "to carry between two people"
          ],
          [
           "wiñakuy",
           "to grow spontaneously"
          ],
          [
           "wiñaq rumi",
           "growing rock, refers to the living energy and changing nature of rock"
          ],
          [
           "wiña-wiñaymanta",
           "since the beginning of time"
          ],
          [
           "wiñaywayna",
           "kind of orchid"
          ],
          [
           "wipachi",
           "plummet used by the bricklayer"
          ],
          [
           "wiptiy",
           "to be cut through"
          ],
          [
           "wipu",
           "kind of fish"
          ],
          [
           "wiqichay",
           "to make weep"
          ],
          [
           "wiqihunt'a",
           "full of tears"
          ],
          [
           "wiqi muyu",
           "kind of fruit"
          ],
          [
           "wiqi pacha",
           "vale of tears"
          ],
          [
           "wiquntuy",
           "kind of epiphytic shrub used against rheuma"
          ],
          [
           "wiquy",
           "acostarse de lado"
          ],
          [
           "wiq'a",
           "contents of the rumen and the intestine"
          ],
          [
           "wiq'achiy",
           "to make clean the contents of the rumen and the intestine"
          ],
          [
           "wiq'ay",
           "to clean the contents of the rumen and the intestine"
          ],
          [
           "wira malkachu",
           "type of potato"
          ],
          [
           "Wiraqucha Inka",
           "the eighth Inka ruler"
          ],
          [
           "Wiraquchapampa",
           "place close to the community of Q'ero where, according to the myths of Q'ero, a Spanish army was destroyed by some paqos from Q'ero, the last survivors of the Inkas and ancestors of the present Q'ero community"
          ],
          [
           "wiraq'uwa",
           "fat and certain herbs burnt to ban bad ghosts"
          ],
          [
           "wiriqinqi",
           "kind of big bird"
          ],
          [
           "wiririma",
           "kind of palm tree"
          ],
          [
           "wiririma",
           "kind of sea shell"
          ],
          [
           "wiru hanch'uy",
           "to suck juice out of corn stems"
          ],
          [
           "wiru millma",
           "twisted, long wool"
          ],
          [
           "wiruti",
           "small dart used with the blowpipe for hunting"
          ],
          [
           "wiruy",
           "to suck sugar cane"
          ],
          [
           "wisaqay",
           "to pour chicha into another container"
          ],
          [
           "wisimuy",
           "to go to draw liquid"
          ],
          [
           "wisipuy",
           "pouring of liquid into another container"
          ],
          [
           "wisiqay",
           "to draw a part of a liquid"
          ],
          [
           "wisllay",
           "to use a ladle"
          ],
          [
           "wispa",
           "with one's mouth twisted"
          ],
          [
           "wispillu",
           "kind of stalking bird"
          ],
          [
           "wistuyay",
           "to become twisted"
          ],
          [
           "wiswichay",
           "to grease, to lubricate"
          ],
          [
           "wisyay",
           "to have diarrhoea"
          ],
          [
           "wita",
           "kind of small fish"
          ],
          [
           "witalta",
           "kind of water bird"
          ],
          [
           "wituq",
           "kind of fig"
          ],
          [
           "Yachachiykunawan Tratukunawan",
           "Doctrine and Covenants"
          ],
          [
           "yachakapuy",
           "to be accustomed"
          ],
          [
           "yachakay",
           "to be accustomed"
          ],
          [
           "yachasqa uyay suwa",
           "publicly known thief"
          ],
          [
           "yachaykuy",
           "to take a practice"
          ],
          [
           "yachayllawan ruray",
           "to be crafty"
          ],
          [
           "yachaymiy",
           "to be certain"
          ],
          [
           "Yachayniyuq Palawra",
           "Word of Wisdom"
          ],
          [
           "yachaypi takyay",
           "to be convinced"
          ],
          [
           "yachayta taripana",
           "mastering of knowledge"
          ],
          [
           "yachayta willana",
           "imparting of knowledge"
          ],
          [
           "yachayta wiñachiy",
           "creation of knowledge"
          ],
          [
           "yakay",
           "to put into"
          ],
          [
           "yaki kikin",
           "almost the same"
          ],
          [
           "yakta kamachiwaychu",
           "Don't command me too much"
          ],
          [
           "yaku astaq",
           "who brings water"
          ],
          [
           "yakuchi",
           "celebration of baptism"
          ],
          [
           "yaku glubu",
           "bend with water"
          ],
          [
           "yaku hampiq ch'uyayachiq yachuchiq",
           "chlorination of water"
          ],
          [
           "yaku lubu",
           "giant river otter"
          ],
          [
           "yakunayawachkanmi",
           "I am thirsty"
          ],
          [
           "yakupa",
           "laze cord behind the lease stick"
          ],
          [
           "yakuqiru",
           "kind of tree"
          ],
          [
           "yaku q'uñita upyay",
           "to have breakfast"
          ],
          [
           "yaku runa",
           "bad mythical man living in the rivers"
          ],
          [
           "yaku suysuy",
           "decanting of water"
          ],
          [
           "yakuta wisiy",
           "to draw water"
          ],
          [
           "yaku tukuta",
           "kind of medicinal plant of the Ecuadorian jungle"
          ],
          [
           "yallachay",
           "to blacken with soot"
          ],
          [
           "yallimanya",
           "long leg of right triangle"
          ],
          [
           "yallimikuq",
           "who eats too much"
          ],
          [
           "yami p'anqa",
           "kind of medicinal plant of the Ecuadorian jungle"
          ],
          [
           "yana",
           "kind of bee"
          ],
          [
           "yana ayawaska",
           "kind of medicinal plant of the jungle"
          ],
          [
           "yanachakuy",
           "the andean ritual for joining together two different energy bubbles"
          ],
          [
           "yana ch'uspi",
           "black fly - i.e. aphids, associated with ants, cause leaf curl in peach trees"
          ],
          [
           "yana imilla",
           "type of potato"
          ],
          [
           "yana kisa",
           "nettle of blackish colour"
          ],
          [
           "yana llachu",
           "kind of water plant"
          ],
          [
           "yana muqu",
           "kind of tree, medicinal plant of the Ecuadorian jungle"
          ],
          [
           "yana muqu",
           "kind of jungle tree, 11-16 m high"
          ],
          [
           "yanantin, masintin, tawantin",
           "the relations of totality"
          ],
          [
           "yanapakuy",
           "to help oneself"
          ],
          [
           "yanapanakuy",
           "to help each other"
          ],
          [
           "yanapankichik",
           "you will help"
          ],
          [
           "yanapaq akllay",
           "selection and visualisation of one's three personal allies"
          ],
          [
           "yanapaq huñunakuy",
           "meeting of allies"
          ],
          [
           "yanapayay",
           "to show one's solidarity"
          ],
          [
           "yana puqu",
           "kind of shrub with nut-like fruits"
          ],
          [
           "yana runakunap hayñin",
           "black people's rights"
          ],
          [
           "yana waqta",
           "disgrace of the lazy"
          ],
          [
           "yanqallapas",
           "although it is in vain"
          ],
          [
           "yanqa quy",
           "to give as a present"
          ],
          [
           "yapaqullqi",
           "amount of money"
          ],
          [
           "yapa tantachisqa",
           "union of sets"
          ],
          [
           "yaqa kikin",
           "almost the same"
          ],
          [
           "yaqam wañuni",
           "I almost die"
          ],
          [
           "yaqullay",
           "to cover with a cape"
          ],
          [
           "yarawisqu",
           "kind of tree"
          ],
          [
           "yarita",
           "kind of herbaceous plant of the high mountain region"
          ],
          [
           "yarqachikuy",
           "to expose oneself to hunger"
          ],
          [
           "yarqanayawachkanmi",
           "I am hungry"
          ],
          [
           "yarqaryay",
           "to be always hungry"
          ],
          [
           "yarqawanmi",
           "I am hungry"
          ],
          [
           "yarqaymanta wañuykuy",
           "to starve to death"
          ],
          [
           "yasipi",
           "kind of medicinal plant of the Ecuadorian jungle"
          ],
          [
           "yatan",
           "on his/her side"
          ],
          [
           "Yaw! Khuchi hina asnaq ih!",
           "stinking like a pig!"
          ],
          [
           "yawar ankuta tupuy",
           "to take pulse"
          ],
          [
           "yawarchakuy",
           "to stain oneself with blood"
          ],
          [
           "yawarchay",
           "to stain with blood"
          ],
          [
           "yawar k'aspi",
           "kind of medicinal plant of the Ecuadorian jungle"
          ],
          [
           "yawar puriqta rikuq",
           "blood pressure meter"
          ],
          [
           "yawar p'anqa",
           "kind of medicinal plant of the Ecuadorian jungle"
          ],
          [
           "yawar wiqi",
           "kind of medicinal plant of the Ecuadorian jungle"
          ],
          [
           "yawaryay",
           "to be stained with blood"
          ],
          [
           "yayaqa?",
           "and your father?"
          ],
          [
           "yaykuq",
           "someone who goes in"
          ],
          [
           "yuksa",
           "duck of the puna"
          ],
          [
           "yulilla",
           "kind of eatable fish with very small scales"
          ],
          [
           "yumana munay",
           "desire for sexual relations"
          ],
          [
           "yunka suyu",
           "mountain rain forest region"
          ],
          [
           "yunka wasi",
           "house in the forest"
          ],
          [
           "yunta wataray ura",
           "approximately 4:00 pm"
          ],
          [
           "yunta watay ura",
           "approximately 8:00 am"
          ],
          [
           "yupachi",
           "count, reckoning, estimation, calculation"
          ],
          [
           "yupachiy",
           "to make count"
          ],
          [
           "yupakuy",
           "to count oneselves"
          ],
          [
           "yupay kamaychi yuyay",
           "logical mathematic thinking"
          ],
          [
           "yupay kamay khillaykuna",
           "didactic material for mathematics"
          ],
          [
           "yupay kuska",
           "sequence of numbers"
          ],
          [
           "yupayna",
           "young, about 15 years"
          ],
          [
           "yuraq bagri",
           "kind of catfish of the Amazon"
          ],
          [
           "yuraq wapa",
           "kind of jungle tree, 17-30 m high"
          ],
          [
           "yuraq wayta",
           "kind of bush whose branches used for spindle shafts"
          ],
          [
           "yuraq yukilla",
           "kind of climbing plant of the jungle whose roots are used in popular medicine against conjunctivitis"
          ],
          [
           "yurawañuqchi",
           "kind of medicinal plant of the Ecuadorian jungle"
          ],
          [
           "yuyanchasqa kay",
           "to be convinced"
          ],
          [
           "yuyapachay",
           "to think about"
          ],
          [
           "yuyaqyay",
           "to grow old"
          ],
          [
           "yuyarinapaq",
           "to take into account"
          ],
          [
           "yuyaychachiy",
           "to propose ideas"
          ],
          [
           "yuyaychanakuy",
           "to share ideas"
          ],
          [
           "yuyaychariy",
           "to propose ideas"
          ],
          [
           "yuyay chinkay",
           "to lose one's consciousness"
          ],
          [
           "yuyaykachay",
           "to conjecture, to guess"
          ],
          [
           "yuyaykusqa t'ikray",
           "to change one's mind"
          ],
          [
           "yuyaymanay",
           "to conjecture, to guess"
          ],
          [
           "yuyaysinakuy",
           "to share ideas"
          ],
          [
           "yuyayta chinkay",
           "to go crazy"
          ],
          [
           "yuyayta kutinhapiy",
           "to regain one's consciousness"
          ],
          [
           "yuyun",
           "kind of jungle tree whose height exceeds 35 m"
          ]
         ],
         "hovertemplate": "<b>%{hovertext}</b><br><br>Number of words=%{y}<br>Hanan Runasimi=%{customdata[0]}<br>English=%{customdata[1]}<extra></extra>",
         "hovertext": [
          "abahiñu",
          "abas kuta; abas hak'u",
          "achachay",
          "achakana",
          "achakita churay",
          "achakiy",
          "achay",
          "achay",
          "achikay",
          "Achil",
          "achipsa",
          "achita",
          "achiwa-achiwa",
          "achkayachiq",
          "achku",
          "achmiy",
          "achpaykachay",
          "achqay",
          "achuchiy",
          "achuma qhiwillu",
          "achuni sananku",
          "achuni ullu",
          "achuray",
          "achuy",
          "admirasqa kay",
          "adubi",
          "afanakuy",
          "ahiy",
          "ahumpay",
          "ahus chiru",
          "akakuy",
          "akapakuy",
          "akatuwawa",
          "akayta mikuy supiyta pitay",
          "akllachiy",
          "akllamuy",
          "akllapayay",
          "akllapuy",
          "aknupu ñañaka",
          "akñichiy",
          "aksullichiy",
          "aksullikuy",
          "akukutinchiq",
          "akulli",
          "akulliy",
          "akuy",
          "alabaduy",
          "alaw!",
          "alawniy",
          "alay",
          "alay",
          "alaymuska",
          "alchay",
          "aligriyay",
          "alimiski",
          "alistakuy",
          "alkatakuy",
          "alkuy",
          "almasay",
          "almilla",
          "almusay",
          "alqa",
          "alqamari",
          "Alqamayu",
          "alsa",
          "alsakuy",
          "altus",
          "alunsillu",
          "alwiris",
          "allachikuy",
          "allachiy",
          "allampasu",
          "allamuy",
          "allankachiy",
          "allankay",
          "allapuy",
          "allaq",
          "allarpachiy!",
          "allarpariy",
          "allaysiy",
          "allichu?",
          "alli kawsayta chariy",
          "allikuta ñiy",
          "allillachu kanchik?",
          "allillachu kanki?",
          "allinchiq churay",
          "allin hampiy ruraykuna",
          "allin kawsay hayñi",
          "allin kawsay tarikuq wasi",
          "Allinlla Musuq Wata!",
          "allinllata ñiy",
          "allinpiraq",
          "allin rikch'ay",
          "allin rikch'ay",
          "allin simita chariq",
          "allin tupay",
          "allin wasa tukuy",
          "allin yachay",
          "allipuy",
          "alli ruk'isqa p'acha",
          "alli wapa",
          "alliyay",
          "allmiy",
          "allpa amarun k'aspi",
          "allpachakuy",
          "allpachay",
          "allpampay",
          "allpañutuchiy",
          "allpapachapampa",
          "allpatiru",
          "allpayay",
          "allpayay",
          "allqa quwikuna",
          "allquchakuy",
          "allquchanakuy",
          "allqu p'anqa",
          "allquqa aychata achun",
          "allqu sirwisyu",
          "allquta yalliq qillapuniq",
          "allqu tuna",
          "allqu thaqu",
          "allqu uya",
          "allwi masi",
          "allwirayay",
          "allwirquy",
          "allwisqata aykaq illawa q'aytu",
          "allwitamuy",
          "ama allillamantachu!",
          "ama ch'ulla-ch'ulla kachunqa",
          "Ama hina!",
          "ama kirpa",
          "Ama llulla, ama qilla, ama suwa!",
          "amansibasqa",
          "amañay",
          "ama phiñakuspa!",
          "amaru",
          "amarun uchu",
          "amasanka",
          "ama tiklla tukuchunqa",
          "amawtata napaykuni",
          "amay",
          "Ami",
          "amichikuy",
          "amiy",
          "ampalaqwa",
          "amuqyay",
          "amurayay",
          "anakuy",
          "ana k'aspi",
          "anata",
          "anay",
          "anchapuni",
          "Anchata agradisiyki!",
          "anchay",
          "anchu",
          "anchurapa",
          "anchhuy",
          "ankallikuy",
          "ankallu",
          "ankallu p'achayuq",
          "anku pahu",
          "ankupayay",
          "anku sach'a",
          "ankhari",
          "anquchi",
          "ansaqiy",
          "ansa waycha",
          "anta",
          "antaku",
          "antanka",
          "antankap sapran",
          "anta qullqi",
          "antarka",
          "antawara",
          "antawaramuy",
          "antigal",
          "anti llaqtachakuq",
          "anti llaqtayuq",
          "anukchi",
          "añapa",
          "Añasi",
          "añawaya",
          "apa",
          "apachikuy",
          "apachimpuy",
          "apachiqta",
          "apakamuy",
          "apaku",
          "apaku",
          "apalli",
          "apapu suwapu",
          "apaqachiy",
          "apaqamuy",
          "apaqapuy",
          "apaqay",
          "apaqaysiy",
          "apariy kancha",
          "aparki",
          "aparquy",
          "apaysiy",
          "api wapa",
          "apiy",
          "apiyay",
          "aprikuy",
          "aptapiy",
          "aptirayay",
          "apumpu",
          "Apunchik kawsarispa wichay",
          "Apunchik manaraq hamuy wata",
          "apurayman yachay",
          "Apu Sinak'ara",
          "apuskachay",
          "apuy",
          "apuyay",
          "aphata",
          "aqarwitu",
          "aqchaqaray",
          "aqchi",
          "aqi",
          "aqnuy",
          "aqu",
          "aqhachiy",
          "aqha llanthu",
          "arakuku",
          "araq",
          "araray!",
          "arariwa",
          "arariwa apu",
          "arariway",
          "arayan",
          "ari, tiyanmi",
          "arisina",
          "arkayuyu",
          "arku",
          "armasqanilla",
          "arphayaykapuy",
          "arrimay",
          "arrindakuy",
          "arrusillu",
          "arwikakuy",
          "As!; Asá!",
          "asa kaskama",
          "asata kaskama",
          "asi",
          "asikita",
          "askama",
          "askama!",
          "askamalla",
          "as kikin",
          "aslla machariy",
          "asnakitu",
          "asna p'anqa",
          "asnaq pinchi",
          "aspiriy",
          "astachiy",
          "Asta kasqaman!",
          "astana",
          "astanakuy",
          "astana qallwa",
          "astapuy",
          "astiy",
          "asukar wayu",
          "asuriy",
          "asuykamuy",
          "aswakuy",
          "aswan-aswan",
          "aswan huk chhika",
          "aswap ñawin",
          "asway",
          "ashaka",
          "asharita",
          "atamiski",
          "atara",
          "atawqay",
          "atillcha purantin; atillcha matintin",
          "atindiy",
          "atipachiy",
          "atipamuy",
          "atiray",
          "atiy rikch'ay",
          "atuq waqachi",
          "awa",
          "awa amarun k'aspi",
          "awa aparina",
          "awachiy",
          "awaki kasana unku",
          "awaki unku",
          "awaku",
          "awa k'aspikuna",
          "awamuy",
          "awanakuna",
          "awana waska",
          "awapuy",
          "awarayay",
          "awariy",
          "awatamuy",
          "awaysiy",
          "awchay",
          "awispa bagri",
          "awiwa",
          "awki ruwal",
          "awqay chapcha",
          "awru iru",
          "awru muyu",
          "awru p'anqa",
          "ayapana",
          "aya p'achalliq",
          "Ayar awqa",
          "ayariy",
          "aya uma",
          "ayay",
          "ayay",
          "aycha kanka",
          "aychasapa",
          "Aychata manam mikhunichu!",
          "aychiy",
          "ayka",
          "aylampu",
          "ayllu apu",
          "ayllu chariy",
          "aylluchay",
          "ayllukunapaq hayñi",
          "ayllukuy",
          "ayllumanta rimasun",
          "ayllunakuy",
          "ayllu ñiqiyasqa",
          "Ayllupi Yachachiymanta Kunay",
          "ayllupura",
          "aylluyachiy",
          "aynikutichiy",
          "aynikuy",
          "ayni qupuy",
          "aynita kutichiy",
          "ayqichiy",
          "ayriwaki",
          "ayru-ayru",
          "aysakuy",
          "aysay",
          "aysay",
          "ayur sach'a",
          "ayusqa",
          "ayuy",
          "bagri k'aspi",
          "bankitu",
          "Bartulu",
          "batan raya",
          "bawtisakuy",
          "baya saqa",
          "bayuka",
          "billaku isanka",
          "billaku k'aspi",
          "briya",
          "bulanchaw",
          "bulita",
          "bumbulu",
          "bumbuna",
          "bunday",
          "burru k'allampa",
          "chachachinakuy",
          "chachachiy",
          "chachakuma",
          "chachanayay",
          "chakachiy",
          "chakakakay",
          "chakatarayay",
          "chakay",
          "chakin chakinta purikuy",
          "chakinllan",
          "chakinta q'iwikuy",
          "chaki pampa",
          "chaki p'allta",
          "chakisituyuqña",
          "chaki tawqay",
          "chakiyuqña wawa",
          "chakmay",
          "chakpa",
          "chakrachay",
          "chakray",
          "chakra yapuy",
          "chakuq",
          "chakwa",
          "chak'u",
          "chala",
          "chal-chal",
          "chalchaliru",
          "challakiru",
          "challamanta hamuni",
          "challchachiy",
          "challchay",
          "challi p'anqa",
          "Challkuchima",
          "challwa kanka",
          "chamañuway",
          "chamisal",
          "champa",
          "champira",
          "champirima",
          "chamqachiy",
          "chankanpayay",
          "chankay",
          "chankunakuy",
          "chañár",
          "Chapaku",
          "chapaq kamaypaqtachi pusaq",
          "chapay",
          "chapchay",
          "chapi",
          "chapi-chapi",
          "chapu-chapu[spa] rimay",
          "chaqakushqa",
          "chaqchay",
          "chaqlla",
          "chaqnachiy",
          "chaqnana",
          "chaqnaq",
          "chaqrukipay",
          "chaqruku",
          "chaqru p'anqa",
          "chaqu",
          "chaquruy",
          "chaquy",
          "charapa p'anqa",
          "charichiy",
          "charikuy",
          "charinqapaqmi",
          "charisqata qillqakamachiy",
          "chariykanakuy",
          "charki",
          "chaskiq hamuy!",
          "chaskiyay",
          "chaski yuyu",
          "chatasqa",
          "chawata",
          "chawata k'aspi",
          "chawayay",
          "chawchiyay",
          "chawchu",
          "chawk'a",
          "chawpi kuska",
          "chawpinasqa",
          "chawpinnay",
          "chawpirana",
          "chawpirkachiy",
          "chawpi wata",
          "chawpiy",
          "chawpiyaq chanikuna",
          "chawpiyay",
          "chawpi yunka",
          "chaya-chaya!",
          "chayachiy",
          "chayapu",
          "chayay",
          "chayay",
          "chayayninman simiyta chachichiy",
          "chay hina chay hina",
          "chay hina kachun",
          "chaykama!",
          "chaypitaq",
          "Chayqa allinmi!",
          "chay uramanta",
          "chichi",
          "chichilla",
          "chichiri",
          "chichuchiy",
          "chichukuy",
          "chichuña",
          "chichuriy",
          "chichuy",
          "chichuyachiy",
          "chichuyay",
          "chikama",
          "chikan rakiqniyuq p'aki yupaykuna",
          "chikanyay",
          "chiki",
          "chikiray",
          "chikllachiy",
          "chikllapuy",
          "chiklliy",
          "chikrun",
          "chikuru piri-piri",
          "chikuy",
          "chilalu",
          "chilpa",
          "chilpay",
          "chilqu",
          "chiltichiy",
          "chillaykuy",
          "chillkiy",
          "chillpi",
          "chillwar",
          "chimaychi",
          "chimillu",
          "chimpalu",
          "chimpapura",
          "chimpay",
          "chimpayk'uchukuna",
          "chimpiyuq",
          "Chimpu Uqllu",
          "chimsiy",
          "china hawaq'ullay",
          "china kalistu",
          "china mulli",
          "china t'ula",
          "Chincha",
          "chinchanku",
          "chinchi",
          "chinchi pallaq",
          "chinchi pila",
          "chinchi putu",
          "chinchirkuma",
          "chinchir wayta",
          "chini kuru",
          "chini kuru pahu p'anqa",
          "chinkariy",
          "chinkay",
          "chinkaypaq",
          "chinku",
          "chinruy",
          "chipaku",
          "chipchi",
          "chipka",
          "chipyay",
          "chiqachakuy",
          "chiqamanta llañu unuy",
          "chiqchay",
          "chiqchiy",
          "chiqyaq qara",
          "chiqyaq waqta",
          "chira",
          "chirapay",
          "chiraq",
          "chiraw timpu",
          "chiri",
          "chirichikuy",
          "chiri k'aspi chaqruku",
          "chirimulli",
          "chiri mulli",
          "chiripaw",
          "chiriwachkanmi",
          "chiriwanmi",
          "Chiriwanu",
          "chiri wayusa",
          "chirumpi",
          "chitkin",
          "chiwil",
          "chiwulsa",
          "chiyiq",
          "chiyiy",
          "chiyllutuyay",
          "chuba",
          "chucha",
          "chuchichiy",
          "chuchusapa",
          "chukcha ruthuy",
          "chukchay",
          "chukchuq p'anqa",
          "chukchuyay",
          "chukchuyuq",
          "chukisqa p'acha",
          "chukiy",
          "chukuchiy",
          "chukukuy",
          "chukuq",
          "chulaqyay",
          "chulilla",
          "chulunyay",
          "chullchuy",
          "chullchuykuy",
          "chullpi",
          "chullqarayay",
          "chullullulluy",
          "chulluy",
          "Chuma",
          "chumalichiy",
          "chumalulu",
          "chumay",
          "chumchiy",
          "chumpi away",
          "chumpi paqu",
          "chumpi qiru",
          "chumpiy",
          "chumpiy",
          "chumuku",
          "chunkachina",
          "chunka kamachiykuna",
          "chunkana",
          "chunkawaranqa hunu ch'iqta chayri",
          "chuntakuru pahu",
          "chunta k'aspi",
          "chunta paqpa",
          "chunta qiru",
          "chuntay k'aspi",
          "chunu",
          "chuña",
          "chupayay",
          "chupika qiwa",
          "chupilliy",
          "chupiy",
          "chuqana",
          "chuqarayay",
          "chuqi",
          "chuqi runa",
          "chuqniy",
          "chuqrutu",
          "chuqyaq",
          "churachiy",
          "churakuy",
          "churakuy",
          "churakuy",
          "churamuy",
          "churapuy",
          "churaykuy",
          "churaysiy",
          "churichaq",
          "churikuy",
          "churintin",
          "churiyuq",
          "churkachiy",
          "churkay",
          "churki",
          "churpuy",
          "churu",
          "churuyay",
          "chuskiyay",
          "chuskulayamantam",
          "chusu",
          "chusyay",
          "chuti",
          "chutu kaballu",
          "chutu kaballuhina puriy",
          "chutukuy unkuta",
          "chutuy",
          "chuwiy",
          "chuyllur",
          "chuyllur",
          "chhallachiy",
          "chhalla siki",
          "chhapu",
          "chhapu chhapitu",
          "chhika!",
          "chhika karuy",
          "chhikankamakuy",
          "chhilchiy",
          "chhilkiwa",
          "chhilltu chilltu",
          "chhullankay",
          "chhullchu",
          "chhulli hap'iy",
          "chhuqchuy",
          "chhustay",
          "chhusuchiy",
          "chhusuykukuy",
          "ch'ahayay",
          "ch'akataya",
          "ch'akayay",
          "ch'allana",
          "ch'allasqa",
          "ch'allay",
          "ch'allayta hump'iy",
          "ch'allchay",
          "ch'allpachiy",
          "ch'ampay",
          "ch'anchay",
          "ch'anqa",
          "ch'anyita",
          "ch'aqchu",
          "ch'aqchuy",
          "ch'aqra",
          "ch'aranyay",
          "ch'ataykuy",
          "ch'awana",
          "ch'awar",
          "ch'awar mullaypa",
          "ch'awar waska",
          "ch'ichichay",
          "ch'ili papa",
          "ch'ilqiy",
          "ch'illawi",
          "ch'illchimuy",
          "ch'illka",
          "ch'illka rikch'ayjun",
          "ch'illmiq",
          "ch'illpuy",
          "ch'inniq llaqta",
          "ch'iñi",
          "ch'iñichallwa",
          "ch'iñi papa",
          "ch'ipachiy",
          "ch'iqchi",
          "ch'iqmikuy",
          "ch'iru",
          "ch'isikilla",
          "ch'isipi",
          "ch'isita",
          "ch'isiy",
          "ch'isiyachiy",
          "ch'itiripuy",
          "ch'uchu",
          "ch'uhu hap'iy",
          "ch'ultichiy",
          "ch'ulla chaki",
          "ch'ulla chaki p'anqa",
          "ch'ullachisqa kutin-kutinchiqniyuq puchu",
          "ch'ullayachiy",
          "ch'ullaychay",
          "ch'ullpa",
          "ch'umakuy",
          "ch'umpi paqu",
          "ch'umpi sara",
          "Ch'unchulmayu",
          "ch'unchu wayta",
          "ch'unkuy",
          "ch'unkuykuy",
          "ch'unqa",
          "ch'unqa ch'unqa",
          "ch'unqaku",
          "ch'unqana",
          "ch'uñuchay",
          "ch'uñurpariy",
          "ch'uñu saruq",
          "ch'upuy",
          "ch'upuyay",
          "ch'uqñi ñawi",
          "ch'uqrikuy",
          "ch'uqriy",
          "ch'uqri yuyu",
          "ch'usaqta kachiq",
          "ch'usña",
          "ch'uspisqa",
          "ch'usuyachiy",
          "ch'usuyay",
          "ch'uta",
          "ch'utiy",
          "ch'utuy",
          "ch'uya-ch'uya",
          "ch'uya-ch'uyata away",
          "ch'uya p'acha",
          "ch'uyaqllachiy",
          "ch'uya sunqu",
          "ch'uyayay",
          "ch'uyllur",
          "dakuy",
          "daru",
          "dawa",
          "dirichuy",
          "diyantin",
          "dunduma",
          "dunduma",
          "durmi-durmi",
          "Dyuspi suyana",
          "Dyus yachan sinallatam yachanki",
          "fandankuy",
          "fiymanta willana",
          "fusfuru",
          "futu hurquy",
          "gallu waqay",
          "ganasniy tiyan",
          "gatyay",
          "Gindas Pampas",
          "glurya unquy",
          "Gringu simita rimankichu?",
          "hachay",
          "hach'a ch'illka",
          "hach'u simi",
          "haku kipiy",
          "Haku mikumusunchik!",
          "hakun illawasqa",
          "haku wallqa mich'akusqa",
          "haku wallqasqa",
          "Haku wasita!",
          "haku waska",
          "hakuy",
          "hakuy",
          "Hakuychik!",
          "hak'alawa",
          "hak'uchiy",
          "hak'uy",
          "halki",
          "hallk'akuy",
          "hallmukiru",
          "hallpa",
          "hallpay",
          "hallq'ay",
          "hamk'achiy",
          "hamk'akipay",
          "hamk'a k'analla",
          "hamk'amuy",
          "hamk'apuy",
          "hampiripaq",
          "hampuy",
          "hamullayki",
          "hamupasaq",
          "hamuq hamuriy",
          "hamuq punchawkuna",
          "hamuriy",
          "hanak'achi",
          "hanan pata",
          "hanaq kaq",
          "Hanaqpacha, Kaypacha, Ukhupacha",
          "hanay",
          "hanch'i",
          "hank'ay",
          "hañakuy",
          "hañasyay",
          "hapa-hapa",
          "hapaypa",
          "hapkay",
          "hapru",
          "hapuriy",
          "hap'ikuy",
          "hap'i ñunu",
          "haqay hina",
          "haqayñiqpi",
          "haqaysitullapi",
          "Hararay!",
          "harasyay",
          "harawiy",
          "hark'achiq",
          "hark'achiy",
          "hark'akuy",
          "hark'amuy",
          "hark'ana",
          "hark'apuy",
          "harwichiy",
          "harwimuy",
          "harwipuy",
          "hasi",
          "hatarichikuy",
          "hataykachay",
          "hatunchakuy",
          "hatun charapa",
          "hatun karpay",
          "Hatun Pachakamaq",
          "hatun palanta",
          "hatun puquy",
          "Hatun Q'iru",
          "hatun rimanakuy suyu",
          "hatun rimanakuy wasi",
          "hatun sach'a allqu",
          "hatun sisaq",
          "hatun sullu-sullu",
          "hat'alliy",
          "hat'upa",
          "hawaman hatun hatarikuna!",
          "hawanchay (qusanta, warminta)",
          "hawanpi churay",
          "hawarikuy simi",
          "hawas phasi",
          "hawayachiy",
          "hawchansu yura",
          "hawchay",
          "hawichiy",
          "hawikuy",
          "hawipuy",
          "hawka kawsay",
          "Hawkaypata",
          "hayachikuy",
          "hayaq ch'illka",
          "hayaqin allinta rimay",
          "hayaq willk'u",
          "hayaski",
          "hayk'akama?",
          "hayk'a kuti?",
          "hayk'apmanta?",
          "hayk'ataq watayki?",
          "hayllikuq",
          "hayt'ana",
          "hayt'anakuy",
          "haywachiy",
          "haywamuy",
          "haywaykachaq maki",
          "hichiy",
          "hik'iy",
          "hillpuy",
          "hillurina",
          "hilluy",
          "hina hinalla",
          "hina huk hukmi",
          "hina imallichiq",
          "hinam kanqa ñiy",
          "hinapacha kay",
          "hinaspa hinaspataq",
          "hinataq",
          "hink'iy",
          "hirgun sach'a",
          "huchalliy",
          "hucha mikhuy",
          "huchanayachiy",
          "huchanayay",
          "huchata kamata allwiykachay",
          "huchata kamayta yachaq",
          "huchata pampachay",
          "hucha yachaq",
          "huchayayta taripay",
          "huchayuqkunata wichq'ay",
          "huk hina qhawaykuypiqa - hukpitaq",
          "huk hukwan ima",
          "huk kaqnin",
          "huk kunkalla",
          "huklaw",
          "hukllap",
          "hukllata",
          "hukllay",
          "huk ñiqin qallari yachay",
          "hukpa kuchunpi churay",
          "hukpas-hukpas",
          "huk patay paqtachani",
          "huk pillchiwa chayta ñuñuta qatuway",
          "huk p'unchawkama",
          "hukqa hukqa",
          "huk ratumantaraq",
          "huk simita willachiway",
          "huktaq huktaq",
          "huktaqmi kan",
          "huk tinki p'acha",
          "huk thatkim wañuypaq kawsaypaq kan",
          "hukwan kachkaq",
          "hulq'i",
          "hullut'uma",
          "humi",
          "humi",
          "humi-hulli",
          "humint'ay",
          "humisa unsa",
          "humiwa",
          "hump'i ch'allayta",
          "hunaqpa",
          "hunt'a rimaypa t'aqankuna",
          "hunt'aykuy",
          "huñi rimaypa kaynin",
          "hupay",
          "huptasqa churi",
          "hupururu",
          "huphupyay",
          "huqarichiy",
          "huqarimpuy",
          "huqarimuy",
          "huqaripuy",
          "huq'arayay",
          "huq'ukuy",
          "huq'uri",
          "huq'uy",
          "huq'uyay",
          "hura",
          "hurquchikuy",
          "hurquchiy",
          "hurqumuy",
          "hurqupuy",
          "huruchi",
          "hutk'uchiy",
          "hutk'uñawi",
          "hutk'upuy",
          "hut'ukuy kamayuq",
          "huyra q'uwa",
          "ichinpay",
          "ichiy",
          "ichiy",
          "ichuy",
          "ichhu",
          "ichhu-ichhu",
          "idukakuy",
          "ikanchu; ikaku",
          "ikchuy",
          "ikuha",
          "ilikatu",
          "iluli",
          "illa",
          "illakuna",
          "illasqa",
          "Illa Tupa",
          "illawanka lumu",
          "illpuy",
          "illu",
          "illuy",
          "illuy",
          "imachá?",
          "ima chayri?",
          "imachus?",
          "ima hayk'a",
          "ima hina kriyisqata yachay",
          "Ima hinallataq kachkanki?",
          "ima hinalla tukuyllawan",
          "ima hinamanta",
          "ima hina ñuqa ñisqata ...",
          "ima hinapi?",
          "ima hinapitaq?",
          "ima hinatachus",
          "Ima hinataq kachkanki?",
          "ima hina wachasqamanta",
          "imalla?",
          "imallapi",
          "imaman?",
          "Imamanta!",
          "imamantapas karunchay",
          "ima munasqa tullputapas",
          "imanantaq?",
          "imanaymanta",
          "imanqanpaq",
          "ima ñinanmi?",
          "ima ñintaq?",
          "imañiy",
          "ima pacha mana waliq kasqata rikurayay",
          "ima pachapipas",
          "ima pachataq?",
          "imapas tiyanchu?",
          "imapunlla kaspapas",
          "ima sumaq ruray yachay",
          "ima suti",
          "imatas",
          "imatataq yuyanki pay apamusqata",
          "ima urapas",
          "imawampis yanapakuy",
          "imaymana rikch'aq",
          "imaysi",
          "impa",
          "inka",
          "inka muhu",
          "Inkap mich'usqan runa",
          "Inkap sapay churin",
          "inka p'acha",
          "inka raymi",
          "Inka Ruq'a",
          "inkiri",
          "Inlista parlankichu?",
          "Inlista rimankichu?",
          "insikiyay",
          "insira",
          "inta p'anqa",
          "inti",
          "inti anka",
          "inti chimpu",
          "inti k'aspi",
          "intimpa",
          "iñaka aksu",
          "iñakas lliklla",
          "iñichiy",
          "iñiriy",
          "iñu uchuylla suyukuna",
          "ipu",
          "iphalla",
          "iphi",
          "iphiña",
          "iraqnay",
          "irila",
          "irki p'anqa",
          "irqichakuy",
          "irqichay",
          "irqita munay",
          "irqiyay",
          "iru",
          "iru ichhu",
          "isañu",
          "ischil",
          "iskaqllay",
          "iskay chantayuq",
          "iskaychisqa kutin-kutinchiqniyuq yapa",
          "iskaychiy",
          "iskay kimsa patara",
          "iskaylayami tiyan",
          "iskayman astawan",
          "iskay mit'a",
          "iskaynillan",
          "iskayninchik",
          "iskay ñiqin qallari yachay",
          "iskay pachak waranqa",
          "iskay palawra",
          "iskay rikch'ayniyuq",
          "iskay simipi iskay kawsaypi yachay",
          "Iskay Simipi Kawsaypurapi Yachachiy",
          "iskay simipi runapanakuy yachachina",
          "iskiy",
          "iskuta chapuy",
          "ismanayay",
          "ismapakuy",
          "ismatiru",
          "ismaykukumuy",
          "isñiy",
          "ispachiy",
          "ispakuy",
          "ispalla",
          "ispana",
          "ispa nanay",
          "ispa nayay",
          "ispatiru",
          "ispay",
          "ispaykukuy",
          "ispi",
          "ispinku",
          "isqay",
          "isqun pachak waranqa",
          "isuti!",
          "isuy",
          "itu",
          "itu apu",
          "kachamuy",
          "kachan",
          "kachapuy",
          "kacharikuy",
          "kachaykamuy",
          "kachilu",
          "kachiy",
          "kachka",
          "kachkay",
          "kachu",
          "ka ka",
          "kaka",
          "kakay",
          "kakchi",
          "kakuy",
          "kala",
          "kalastu",
          "kaliptuy",
          "kalun",
          "kalla",
          "kallapu",
          "Kallawaya",
          "kallay",
          "kallpamanay",
          "kallpawañuy",
          "kallu",
          "kamachi paqtay, mañaqkuna",
          "kamachipayay",
          "kamalunka",
          "kamariy",
          "kamatala",
          "kamay",
          "kamaychay",
          "kamaykurina",
          "kampana ayawaska",
          "kampichana",
          "kampuchay",
          "kamuy",
          "kanay",
          "kanichikuy",
          "kanililla",
          "kaninanay",
          "kankakuy",
          "kantunqa",
          "kantuta",
          "kanuwa hamp'atu p'anqa",
          "kañakuy",
          "kañay",
          "kapin kay",
          "kapiyay",
          "kaptin; kaptu",
          "kapya",
          "kaq chhika",
          "kaqkakuy",
          "kara",
          "karan laya",
          "karchay",
          "karikuy",
          "kariy",
          "karpay ayni",
          "karqimpay",
          "kartas",
          "karuchakuy",
          "karuchay",
          "karu kay",
          "karullapi",
          "karuna",
          "karunchachiy",
          "karunchay",
          "karupi",
          "karupi tiyay",
          "kasachiy",
          "kasarakunqaña kay sipascha",
          "kasuyay",
          "kasha k'aspi",
          "kashapuwa",
          "kata",
          "kawallu qaracha",
          "kawka",
          "kawna",
          "kawpanka",
          "kawpuri",
          "kawpusqa",
          "kawpuy iskay pasqata, kimsa pasqata, tawa pasqata",
          "kawri",
          "kawsanata manchay",
          "kawsapankichu?",
          "kawsaq mallki",
          "kawsaymanta, hampimanta punta rikuspa willaykuna",
          "kawsay sach'a",
          "kawuchay",
          "kayakaman ñiy",
          "kaychu?",
          "kay hina p'unchawkama",
          "kay hina watakama",
          "kayllachiy",
          "kaypitaq haqaypitaq",
          "kaypuy",
          "kaytaqá",
          "kaywa",
          "kicharayay",
          "kicharichikuy",
          "kichkachikuy",
          "kichkarara",
          "kichkasapa",
          "kichkasqa",
          "kikillantaq",
          "kikin kasqata chaskiy, qichuy, tariy",
          "kikin lluqsisqa wasita allikachini",
          "kikin pachapi",
          "kikinpi kachkaq; kikin pachapi kachkaq",
          "kikin tuyllapi",
          "kikisitun",
          "kiku t'ika",
          "kilun-kilun",
          "killa chinkay",
          "killangu",
          "killapa ñiqi rakiri",
          "killa wañuy mit'a",
          "killay",
          "killi",
          "killkiña",
          "killu",
          "kimil",
          "kiminkuy",
          "kimiy",
          "kimpi",
          "kimsachisqapa tawa",
          "kimsa inchu",
          "kimsakamachimuq",
          "kimsakamachimuq",
          "kimsakamachiq",
          "kimsakamachiyaq",
          "kimsa k'uchu",
          "kimsaman patmay",
          "kimsamanta",
          "kimsa ñiqin qallariy yachay",
          "kimsa pachak waranqa",
          "kimsapim",
          "kimsa p'aki",
          "kimsa p'unlla wachasqa qhipa",
          "kimsa wakra yalli (kimsa wakrata yallispa)",
          "kinranchay",
          "kinray",
          "kinray",
          "kinrayñan",
          "kinrayta qhawani",
          "kintamanta",
          "kiñay",
          "kiñay",
          "kiñukuy",
          "kiptay",
          "kiri-kiri",
          "kirunkunata pichay",
          "kirunnay",
          "kirusapa",
          "kisa kuru",
          "Kiskis",
          "kiskis",
          "Kiswarkancha",
          "kitilipi",
          "kiwach",
          "kruschakuy",
          "krus k'aspi",
          "kuchara k'aspi",
          "kuchay",
          "kuchpachiy",
          "kuchuchu",
          "kuka hachu",
          "kukuna",
          "kukupin q'iwi",
          "kuliray",
          "kulirina",
          "kulis",
          "kulis yanu",
          "kullay",
          "kulli runa",
          "kulliyachiy",
          "kulliyay",
          "kumal muyu",
          "kumari",
          "kumba",
          "kumpa",
          "kumpakuy",
          "kumpari",
          "kumpasqa",
          "kumpaykukuy",
          "kumulgay",
          "Kunchukanu",
          "kunkachay",
          "kunka unku",
          "Kuntisuyu",
          "kuntisyun p'anqa",
          "kunuwa",
          "kupaywa",
          "kurarina",
          "kuraw papa",
          "kurikinka",
          "kurkuwallaqllay",
          "kuru",
          "kuru-kuru",
          "kuruy",
          "kusikawsay",
          "kusikus tiyay",
          "Kusipata",
          "kusiy",
          "kuska imallichiq",
          "kuskanchay",
          "kuskannay",
          "kuskita yapuy",
          "kuskiymit'a",
          "kuskiypacha",
          "kusu",
          "kusuru",
          "kutakipay",
          "kutay",
          "kuti",
          "kuti",
          "kuti",
          "kuti",
          "kutichikuy",
          "kutichimuy",
          "kutikuy",
          "kutikuy",
          "kutimpuy",
          "kutimunaykama",
          "Kutimuy atispaqa",
          "kutin qunuchiy",
          "kutin rikurisun",
          "kutin tuparisun",
          "kutipay",
          "kutiqta p'achallikunki",
          "kutirimpuy",
          "kutiriq taripay",
          "kuti t'ika",
          "kutulu",
          "kutun",
          "kutupalanta",
          "kututu",
          "kuwan apyu",
          "kuyayaykuy",
          "kuycha kay pachakuna",
          "kuychiy",
          "kuysu p'acha",
          "kuyuli",
          "kuyuy",
          "kwilu",
          "kwirpu",
          "khacha",
          "khachayay",
          "khachi",
          "khachuray",
          "khachuykachay",
          "khakuyapuy",
          "khallapacha p'acha (unku, yaqulla)",
          "khalla rinri",
          "khallkiy",
          "khallu",
          "khallunchay",
          "khallway",
          "khamuna",
          "khapakipay",
          "khapay",
          "khapaykachay",
          "khaqmay awata",
          "kharichikuy",
          "kharisiri",
          "khariy",
          "kharkachiy",
          "khayay",
          "khaychuykachay p'achata (p'achanwan)",
          "khichkillichiy",
          "khichkillikuy",
          "khipiy",
          "khipu kamayuq",
          "khipuy",
          "khipuy",
          "khituchikuy",
          "khiwila",
          "khiwiy",
          "khuchichakuy",
          "khuchichay",
          "khuchi-khuchi",
          "khuchi runtuchi",
          "khuchi yuyu",
          "khuchuchikuy",
          "khuchukuy",
          "khuchuy",
          "khullpi",
          "khuru",
          "khusku sara",
          "khusmu",
          "khutmu",
          "khuyakuy",
          "khuyana",
          "khuyanapaq ranti",
          "khuyanata yachay",
          "khuyapapay",
          "khuyapayaykuy",
          "khuya pillchi",
          "khuyaq kay",
          "khuya rumi",
          "khuyasqapaq ranti",
          "khuyaypaq",
          "k'acha qillqa",
          "k'achay",
          "k'akalli",
          "k'akilla wañuy",
          "k'allmachakuy",
          "k'allmay",
          "k'anchaykuriy",
          "k'anchilla",
          "k'antisqa",
          "k'antiy",
          "k'apacha kumuy",
          "k'apa runa",
          "k'apkiy",
          "k'arachi",
          "k'arachiq",
          "k'arachiy",
          "k'ara simi",
          "k'arkuchay",
          "k'arkuy",
          "k'arkuyay",
          "k'arpa",
          "k'aruy",
          "k'asa",
          "k'askaku",
          "k'askallikuy",
          "k'askaykuchikuy",
          "k'aspi kampi",
          "k'aspi kuchuq",
          "k'aspi muyu",
          "k'aspiyachikuy",
          "k'aspiyay",
          "k'asuy",
          "k'awchiy",
          "k'awka",
          "k'ichichikuy",
          "k'ichikuy",
          "k'ichinakuy",
          "k'ichkichikuy",
          "k'ichkichiy",
          "k'ichkitiru",
          "k'ichkiyachiy",
          "k'ichkiyay",
          "k'iku",
          "k'ikuchikuy",
          "k'ili wayta",
          "k'illi-k'illi",
          "k'illi-k'illi",
          "k'illi-k'illi p'acha",
          "k'illi-k'illiyuq",
          "k'illi wara; k'illa wara",
          "k'illiy",
          "k'intuy",
          "k'ipa papa",
          "k'irawchay",
          "k'irawkuy",
          "k'iri hampi",
          "k'irincha",
          "k'irinchasqa",
          "k'irinchay",
          "k'irusqa",
          "k'iruy",
          "k'isay",
          "k'isay",
          "k'isñiy",
          "k'ispiña",
          "k'ispiñay",
          "k'itilli apuq",
          "k'iti qhapachiq apuq",
          "k'uchi-k'uchi",
          "k'uchiykachay",
          "k'uchuchiy",
          "k'uchu inkhuña",
          "k'uchunchakuy",
          "k'uchurara",
          "k'uchusapa",
          "k'uchu unku",
          "k'ukiyay",
          "k'ullkuyay",
          "k'ulluyay",
          "k'umpinakuna",
          "k'umpi p'acha",
          "k'umpiq",
          "k'umpi qullqa",
          "k'umpiy",
          "k'umpiy kamayuq",
          "k'umukuy",
          "k'umurayay",
          "k'umurayay",
          "k'umuykuchiy",
          "k'unkuykuy",
          "k'unuy",
          "k'urpachay",
          "k'urpakuy",
          "k'urpa ñut'uchi",
          "k'usillu",
          "k'usillu kambiya",
          "k'usillukuy",
          "k'uskikuy",
          "k'utuchay",
          "k'utu chupa",
          "k'utu chupa",
          "k'utupakuy",
          "k'utuyachiy",
          "k'uyka kamay",
          "k'uyka p'anqa",
          "k'uyka unquy",
          "k'uyuna",
          "k'uyuna",
          "k'uyuq",
          "lachiwana misk'i",
          "lakawiti",
          "laklay",
          "lambriadu",
          "lancha",
          "lansanayay",
          "lan wiqi",
          "laqaya",
          "laqhay",
          "laqhiy",
          "laq'akuy",
          "lasti",
          "last'a",
          "latachiy",
          "lata machu",
          "latatay",
          "latiku",
          "lat'aqcha",
          "lat'aq wawa",
          "laway",
          "lawmay",
          "laya",
          "layu",
          "lima-lima",
          "liqi-liqi",
          "liqhupayay",
          "lisa nanya k'aspi",
          "lisinsiyaykimanta",
          "lubu chupa",
          "lubu sisu",
          "lukuyapuy",
          "luma ch'illka",
          "luqru",
          "luqyay",
          "luqhu siki",
          "luruy",
          "lusiru ayawaska",
          "lusiy",
          "luyu-luyu",
          "llachaqkuna kamay",
          "llachu",
          "llaka p'anqa",
          "llakichiq wallpariykuna",
          "llakipi kay",
          "llakun",
          "llama hina kunkasapa",
          "llamakunata ipuruway",
          "llama untu",
          "llami",
          "llamichiy",
          "llamipuy",
          "llamisu",
          "llamk'achipuy",
          "llamk'achisqakum",
          "llamk'akuy",
          "llamk'ampuy",
          "llamk'asunchik",
          "llamk'ayman qayay",
          "llamk'ay sayachi hayñi",
          "llamllay",
          "llampuq hana",
          "llamp'uy",
          "llamp'uyay",
          "llanch'iy",
          "llanqa",
          "llanqa pata",
          "llantiyas",
          "llantu",
          "llanthuchakuy",
          "llanthukuy",
          "llanthuyay",
          "llant'akuy",
          "llant'ay",
          "llanu haku",
          "llañu p'acha",
          "llapanchik",
          "llapankichik",
          "llapanku",
          "llapantin",
          "llaphin",
          "llaqa chuki",
          "llaqllakuy",
          "llaqpiy",
          "llaqta apu",
          "llaqtachakuy",
          "llaqtachasqa",
          "llaqtachay",
          "llaqtariy",
          "llaqta wasi",
          "llaqtay",
          "llaqtayuqkunata mits'aq",
          "llasachay",
          "llasachay",
          "llasaqta rimaq",
          "llasaykachiy",
          "llaslla",
          "Llata",
          "llat'anakuy",
          "llat'anakuy unkuta",
          "llat'anay",
          "llawachay",
          "llawch'iku",
          "llawch'iy",
          "llawlli",
          "llawsa pinchi",
          "llawsawaska",
          "llawt'i",
          "llawt'ullikuy",
          "llika-llika p'acha",
          "llika-llika p'acham",
          "llika-llikata away",
          "llikawaska",
          "llikllakuy",
          "llikllallichiy",
          "llikllallikuy",
          "llikllay",
          "llikt'a",
          "llik'i-llik'i",
          "llilliy",
          "llimphuyay",
          "llipipipiqkama (llipiyaqkama) puriq",
          "llip'iy",
          "lliwa",
          "lliwyay",
          "llucha",
          "lluchk'a",
          "lluchk'achiy",
          "lluchk'akuy",
          "lluchk'amuy",
          "lluhuy",
          "llukllapara",
          "llukuy",
          "llukhina urman",
          "lluk'uy",
          "llullakuy",
          "llullu mini",
          "llullu simi",
          "llulluyay",
          "llunchu",
          "lluqirikuq maki",
          "lluqsichiy",
          "lluqsimuy",
          "lluqhiy",
          "lluq'ana",
          "lluq'i",
          "lluq'iman q'isway",
          "lluq'iñiqman",
          "lluq'iñiqpi",
          "Lluq'i Yupanki",
          "lluq'u",
          "llusikuy",
          "llusp'ichi",
          "llusp'ichiy",
          "llusp'iy",
          "llustikuy unkuta",
          "llustinta",
          "llust'akuy",
          "llutki",
          "llutha; lluthu",
          "lluthu-lluthu",
          "llut'akuy",
          "llut'apuy",
          "llut'aykuy",
          "machakuy yuyu",
          "macharichiy",
          "machay",
          "machin anka",
          "machin palanta",
          "machitu",
          "machu minchha",
          "mach'aqway iru",
          "mach'aqway manti",
          "mahikuy",
          "mahu mansana",
          "maki kallapa",
          "makillina",
          "maki lluk'iy",
          "maki-maki",
          "makinkunata mayllakuy",
          "maki p'akichikuy",
          "maki qunakuy",
          "makmak",
          "mak'unku",
          "mak'unkura",
          "malugrapuy",
          "mallaqnay",
          "malli",
          "mallichiy",
          "mallipuy",
          "mallquchiy",
          "mamachakuy",
          "mama llaqtap apun",
          "maman chumpi",
          "maman muquq quyllur",
          "mamaqa?",
          "mama qullqi kamachi",
          "mama qunqachiy",
          "Mama Rawa Uqllu",
          "Mama Uqllu",
          "mamayay",
          "mamay papata akllapayachkan",
          "mamurq'u",
          "mamuy",
          "mana allin puriy",
          "manachay",
          "manachu ripunki?",
          "mana imamanta",
          "mana kawsariq",
          "mana llullaspa ñiy",
          "mana llullaspa willay",
          "mana maymantapas",
          "Manam hap'inichu",
          "mana millayta rimaq",
          "Manam intindinichu",
          "manam llamk'anchu",
          "Manam umapi hap'inichu",
          "mana paqta kasqanman",
          "manapas chaykamachu",
          "manaqaraku",
          "mana qichuy tukunchu",
          "mana samayniyuq",
          "mana uqutiyuq",
          "mana waliy",
          "mana warayuq",
          "mana yachanichu",
          "mana yalli",
          "mana yapa mancharinkuna",
          "mana yuyaspalla",
          "manchachispa aqchata sayachiy",
          "manchanayay nanawan",
          "manchay puytu",
          "Manchaypuytu",
          "Mandaq Tayta Dyus",
          "maninchu; maniki",
          "maniyay",
          "mankañawi",
          "manka p'aki",
          "manka p'aki",
          "mankay",
          "manku",
          "manthi",
          "mant'ariy",
          "manuchiy",
          "manukamuy",
          "manuyakuy",
          "manyachiy",
          "manyaman tankay",
          "manyay",
          "mañana hayñi",
          "mañaqachiy",
          "Mapas!",
          "map'achakuy",
          "map'achu",
          "map'ayakuy",
          "map'ayapuy",
          "map'ayay",
          "maqachikuy",
          "maqachiy",
          "maqanakunapaq qullqikunata hap'iy",
          "maqanakuspa kallpachiy",
          "Maqawis",
          "maqchikuy",
          "maqsiy",
          "maqt'ayay",
          "maran uña",
          "mariya p'anqa",
          "markhu",
          "marqu",
          "marqhu",
          "marq'achikuy",
          "marq'achiy",
          "marq'apuy",
          "masatu",
          "masay",
          "maskhachipuy",
          "maskhachiy",
          "maskhampuy",
          "maskhapaycha",
          "maskharispa puriq",
          "maskhay wayk'uqta",
          "maskhay yanuqta",
          "masmapakuy",
          "mastarayay",
          "mast'achipuy",
          "mast'achiy",
          "mast'akuy!",
          "mast'ampuy",
          "mast'ana",
          "mashan",
          "matara",
          "matarayay",
          "matiqllu",
          "matiri p'anqa",
          "matwastu",
          "mat'ichiy",
          "mat'inakuy",
          "mat'i ñawi",
          "mat'iqllu",
          "mat'isqa p'acha",
          "mat'iy awayta",
          "mat'u simiyuq",
          "mat'uy",
          "mawk'achikuy",
          "mawk'ayay",
          "maylawpi?",
          "mayllachiy",
          "mayllampuy",
          "mayllapuy",
          "Maymantaq rinki?",
          "Maymantataq hamunki?",
          "mayna",
          "mayqa",
          "mayqinninpas",
          "mayqinniykichik",
          "maytachus rinpas",
          "Mayta Qhapaq",
          "mayt'u-mayt'u",
          "mayu atuq",
          "mayu chulla",
          "mayu ch'illka",
          "mayway",
          "michi-michi",
          "Michitu",
          "michka",
          "michka chuqllu",
          "mich'ariy",
          "mikhuna puchu",
          "mikhunaranti",
          "mikhunata quway",
          "mikhuna wasiman yaykuy",
          "mikhunayay",
          "mikhupukuq, upyapukuq, kaypi chaypi",
          "mikhurayay",
          "mikhuykuna",
          "mik'ilu",
          "mik'iyay",
          "milqa",
          "millachikuy",
          "millayay",
          "millay kawsay",
          "millk'u",
          "millma ruthuy",
          "millmayuq",
          "millp'uchiy",
          "millqay",
          "millu",
          "millu",
          "millusqa apa",
          "millusqa waska",
          "milluy",
          "milluy",
          "millwiy",
          "minchantin",
          "mincha wata",
          "minita allinchay",
          "minkachi hayñi",
          "mink'a simita rimaq",
          "mink'aykunata ruray",
          "mink'ay tukuy",
          "mintal",
          "miñu akchunita",
          "miqllay",
          "miqllay",
          "mirari hayñi",
          "miriy",
          "mirqa-mirqa",
          "mirqa-mirqa p'acha",
          "misachikuy",
          "misapu p'anqa",
          "misa ruray",
          "misay",
          "misay",
          "Miskayani",
          "Miski",
          "miskuy",
          "misk'i mikhuy",
          "misk'ina",
          "misk'i p'anqa",
          "misk'i rimaq",
          "mismi",
          "mismi",
          "mismina",
          "Misminay",
          "mistul",
          "misu",
          "misuggu",
          "misuka; misiku",
          "misuma uchu",
          "mitay",
          "mitu",
          "mitu wasi",
          "miyu-miyu",
          "muchhana",
          "muchhu",
          "much'achiy",
          "much'akuy",
          "much'anakuy",
          "mudakuy",
          "mudapakuy",
          "muhu chinchi",
          "muhunchay",
          "muhu papa",
          "muhu rikch'ay",
          "muk'u",
          "mulla",
          "mullaka",
          "mullaypa waska",
          "mulli pispitu",
          "mulli sika",
          "mullquchay",
          "mullu khuya",
          "mumura k'aspi",
          "munakuy",
          "munami pahu",
          "munaspaqa",
          "munayay",
          "munay kawsay",
          "munti hamanq'ay",
          "munti kapuli",
          "muntilu muyu",
          "munti papaya",
          "muntira",
          "muqch'iy",
          "muqllu",
          "muquchinchi",
          "muquku",
          "muquy",
          "muquyay",
          "murana",
          "muriti turu",
          "murmuntu",
          "murmu papa",
          "murquwaska",
          "murq'uyapuy",
          "murtiñu",
          "muru hunt'a",
          "muru q'aytu",
          "mururiy",
          "murusyay",
          "muskaykunap chikun",
          "musk'a",
          "musquchay",
          "musul",
          "musuq chichu warmi",
          "musuq hamuy",
          "musuq ruray",
          "Musuq Watapi sumaq kawsay",
          "muta",
          "mutilun",
          "muti-muti",
          "muti-muti",
          "mutiya",
          "mutkhina",
          "muthuchay",
          "muthuyay",
          "mut'uy",
          "muwa-muwa",
          "muytiy",
          "muyu",
          "muyumupasunmi",
          "muyuntintupu",
          "muyuntin uchu",
          "muyuntin wasimuyuntin",
          "muyupayay",
          "muyuqta wiquchispa qhaquy",
          "muyurkachiy",
          "muyuykuy",
          "muyuynin",
          "muyuyta",
          "muyuyta wiquspa",
          "nakarqayasqa",
          "nanachiq",
          "nana pichana p'anqa",
          "nanasqa",
          "napaykachay",
          "napaykunakuy",
          "naru",
          "nasa",
          "nasapu p'anqa",
          "nasikuy",
          "nasiy",
          "natasyay",
          "nay",
          "nayay",
          "ni huk ni huk",
          "ni ima hinamanta",
          "ni ima hinata",
          "ni ima kaptin",
          "ni imamanta",
          "nina",
          "nina hap'iriq hina (hapirin hina)",
          "nina kuru pahu p'anqa",
          "nina kuru pahu p'anqa",
          "ni nipas huk ni huk",
          "numya",
          "nunkuli",
          "nuqi",
          "nuq'ay",
          "nu si",
          "nusphachiy",
          "nuwa",
          "nuwilap kaynin",
          "nuwilap ñiqichaynin",
          "ñachari",
          "ñachu?",
          "ñakurutu",
          "ñak'achikuy",
          "ñak'a-ñak'ayta",
          "ñak'arichiq",
          "ñak'ariq",
          "ñak'ayta chayamuni",
          "ña lluqsisqa pachamanta (pacha)",
          "ñam",
          "ñamuryay",
          "ñan arkaq",
          "ñankamu",
          "ñanmanta t'aqay",
          "ñannintinpi",
          "ñanniykita mañachiway",
          "ñanta pantachiy",
          "ñanta patachiy",
          "ñañucha",
          "ñañuchiy",
          "ñañuyay",
          "ñaqch'a kiru",
          "ñaqch'apayakuqlla qapchi-qapchilla",
          "ñaqch'a qiwa",
          "ñaqch'ita",
          "ñaqhachá",
          "ñaqhamantaña",
          "ñaqha ripurqa",
          "ñaqha unay",
          "ñaqha urmani",
          "ñati-ñati",
          "ñawi awapa",
          "ñawi kichay",
          "ñawita sipuchisqallapi",
          "ñawiyuq",
          "ñawpa",
          "Ñawpa Machu",
          "ñawpamuy",
          "ñawpa pacha",
          "ñawpapi",
          "ñawpariy",
          "ñawpa sunqup uyan",
          "ñawsayachiy",
          "ñin",
          "ñina p'acha",
          "ñiqta uyapasqani",
          "ñisqata hunt'ay",
          "ñisqay hinallataq (ñuqa ñisqa hinallataq)",
          "ñisunman",
          "ñisyu kachisapa",
          "ñiykachay",
          "ñuchuy",
          "ñukiy",
          "ñuk'uyay",
          "ñuñuña",
          "ñuñuqa",
          "ñuñuqachiy",
          "ñuñuqay",
          "ñuñuy wawa",
          "ñuqamanqa pay kinkinmi rikch'an",
          "ñuqa mikhuchun mikhuna",
          "Ñuqanchikqa huk simim kanchik",
          "ñuqapaq allinmi uyarin",
          "Ñuqapaqa ... sutiymi.",
          "ñuqap ... sutiymi",
          "ñuqaqa chunka watayuqmi kani",
          "Ñuqaqa ... mi kani.",
          "ñuqa qillqaqatisaq",
          "ñuqata ari ñiqpi pachaqa",
          "ñusñuy",
          "ñust'a",
          "ñusu",
          "ñut'u",
          "pacha",
          "pacha illariy",
          "pacha imallichiq",
          "pachaka",
          "Pachakamaq",
          "pachakchay",
          "pachakninchisqa",
          "pachakpi patmasqa",
          "pachakuti",
          "Pachakutiq Inka Yupanki",
          "pachalluq'i",
          "pachamamapi kutiriq kaq",
          "pachamamapi mana kutiriq kaq",
          "pachamara",
          "pachanachi",
          "pachapi kachkaq",
          "pacha puquy",
          "pacha qururumpa kaynin",
          "pachatupu",
          "pachay",
          "pachayachachi",
          "pachiy",
          "pachkachiy",
          "pachkaykachay",
          "pach'a hunt'ay",
          "pagay (pimanpas imatapas pagay)",
          "paka",
          "pakakuy",
          "pakapuy",
          "pakará",
          "pakarakuy",
          "pakaray",
          "pakawi",
          "pakaykukuy",
          "paki",
          "paku",
          "paku",
          "pakurma",
          "pala",
          "palanchu",
          "palán-palán",
          "Palawraykikunata manam hap'inichu",
          "pali papa",
          "palpunayay",
          "palta",
          "paltay-paltay",
          "palumita",
          "pallachiy",
          "pallaki",
          "pallakuy",
          "pallankyay",
          "pallapuy",
          "pallaq",
          "pallar",
          "pallariy",
          "pallki",
          "pallqa chaki",
          "pampa t'ika",
          "pamuku",
          "panaka",
          "pandilla",
          "pani turi",
          "panku",
          "panriy",
          "pantakuy",
          "panta-panta",
          "pantaykacha",
          "panta yuyay",
          "pañastay",
          "pañastay",
          "pañup qayllan",
          "papa allay",
          "papa awki",
          "papa hiwara",
          "papa lisa",
          "papanku",
          "papa phiña",
          "papa qaqa",
          "papuhu",
          "paqarichiq machu chawchu (hurutmi)",
          "paqarimuy",
          "paqarinnintin",
          "paqarisqa yachakuy kaq",
          "paqkachay",
          "paqtachanikuy",
          "paqtachichiy",
          "paqtamanya",
          "paqtan urmawaq",
          "paqta rakiqniyuq p'aki yupaykuna",
          "paqta rakiq yupay",
          "paqta rakiriq yupay",
          "paqta rakuy",
          "Paqtaraq rikunkiman!",
          "Paqu Tinka; Paqu Tink'a",
          "parachkan",
          "paramuy",
          "paraqay",
          "parawáy",
          "parichiy",
          "pariyay",
          "parluy",
          "parpanay",
          "parqa chaki",
          "paruyay",
          "parway",
          "pasakana",
          "pasay",
          "pasin",
          "paskana",
          "paskarikusqa p'acha",
          "paskariy",
          "paskasinqa",
          "paskasqa makiwan waqtay",
          "paspansu",
          "pasqay",
          "pasullu",
          "pasuyay",
          "pasu yura",
          "pasyay",
          "Pasyun Krus",
          "pashkil",
          "pata",
          "patalqayay",
          "pata patalla puñuy",
          "pataray",
          "patariq",
          "patas",
          "patay",
          "patayay",
          "patiy",
          "patpay",
          "pawa karunchi",
          "pawchi",
          "pawikuy",
          "pawka",
          "pawqarkuna",
          "pawqar unku",
          "pawqar waray",
          "pawsi anka",
          "pay rurakuktachari tapuna",
          "pichachiy",
          "pichampuy",
          "pichamuy",
          "pichana",
          "pichana rikch'ayuq",
          "pichanilla",
          "pichapuy",
          "picharana",
          "pichi",
          "pichqa",
          "pichqa minutu purina kaqpi",
          "pichqa runallapas",
          "pichunakuy",
          "pika",
          "pika",
          "pikaltultu",
          "pika-pika",
          "pikchay",
          "piki chaki",
          "pikichu",
          "piki hunt'a",
          "pikikunaman tikrasqas",
          "pikillín",
          "piki pichana",
          "piki-piki",
          "pikitiyay",
          "piki uchu",
          "pikiy",
          "piksa",
          "pikuwa",
          "pilastay",
          "pilin",
          "pillachay",
          "pillchi",
          "pillchi waska",
          "pillulu",
          "pillurikuy",
          "pilluy",
          "pillwis",
          "pimil",
          "pinchana qiwa",
          "pinchu",
          "pinqaku",
          "pintadillu",
          "pintuq raya",
          "piñayta anchuchiy",
          "pipatapas sunqun aysakuy",
          "pipiluchiy",
          "pipinu",
          "pipiti",
          "pipu",
          "pipuchay",
          "pipu-pipu awasqa",
          "pipu p'acha",
          "pipuy",
          "piqay",
          "piqtu",
          "piqtuchiy",
          "piqtukuy",
          "piqtumuy",
          "piqtuy",
          "piratay",
          "pirqachiy",
          "pirqakuy",
          "pirqamuy",
          "pirqapuy",
          "pirqasqa",
          "pirqa thuñiykamun",
          "pirqaysiy",
          "Piruw suyu qhawaq kamasqakuna",
          "pisada",
          "pisay",
          "pisilinga",
          "pisillam waska",
          "pisi ñawiyuq",
          "pisi-pisimanta",
          "pisi p'achayuq",
          "pisi rinriyuq",
          "pisiykachachiy",
          "pisiy-pisiy!",
          "pisk'ay",
          "pispita",
          "pisqiyay",
          "Pishtaq",
          "pitachiy",
          "pitahaya",
          "pitamuy",
          "pitapis imatapis tapuy",
          "pitapis iñiy",
          "pitay",
          "pitu",
          "pituchakuy",
          "pitumpa",
          "pituy",
          "piwichu",
          "plituy",
          "puchkay",
          "puchuqlu",
          "puka chari",
          "puka itana",
          "puka kampi",
          "puka lalu",
          "puka lupuna",
          "pukamakashka",
          "puka qiru",
          "pukara kamayuq",
          "Pukina",
          "pukllamuy",
          "pukllanayay",
          "pukllay",
          "puku-puku",
          "pukutarayay",
          "pukutayay",
          "pulu",
          "puluku",
          "pulla-pulla",
          "pullpullyay",
          "pumachu",
          "pumachuku",
          "puma raya",
          "puma sach'a",
          "puna ichhu",
          "puna runa",
          "punchuchiy",
          "punchukuy",
          "punki",
          "punkichiy",
          "punkimanay",
          "punki p'anqa",
          "punku",
          "punkuta wichq'ay",
          "punqu",
          "punquy",
          "puntapi",
          "punta runapaq chaskina",
          "punwa",
          "puñukapuy",
          "puñukuy",
          "puñumuy",
          "puñuna",
          "puñuna wasiman haykuy",
          "puñupakuy",
          "puñupayay",
          "puñuq hina ruray",
          "puñuqllaraq",
          "puñuray",
          "puñusay",
          "puñuy atiwan",
          "puñuy atiy",
          "puñuy aysay",
          "puñuykuy",
          "puñuy siki p'asña",
          "puñuyta atiy",
          "puñuyta ch'utuy",
          "pupa",
          "puqchiy",
          "puqipay",
          "puqriy",
          "Puquna",
          "puqunaqi yura",
          "puqutu",
          "puquy uku",
          "purapura",
          "purina",
          "purinapaq rantiqa",
          "puriysiy",
          "puruma",
          "purunku",
          "purun pakiy",
          "purun quwi",
          "puru-puru",
          "pururuka",
          "purus",
          "puruyay",
          "pusachimuy",
          "pusachiy",
          "pusakuy",
          "pusampuy",
          "pusanakuy",
          "pusapuy",
          "pusaqmanta huknin",
          "pusaysiy",
          "pusil pusil",
          "putaqllanku",
          "putiha",
          "pututu",
          "puylluchay",
          "puyllullichiy",
          "puylluy",
          "puyu",
          "puyuqrusqa",
          "phalay",
          "phalicha",
          "phallpayay",
          "phalluy",
          "phanka",
          "pharaqiy",
          "phasa",
          "phasakana",
          "phasiy",
          "phatasqa",
          "phatkiy",
          "phawachiy",
          "phawariy",
          "phawchi runa",
          "phawka",
          "philli",
          "phinkichiy",
          "phinkiykachaq",
          "phinkiykachay",
          "phiñanakuy",
          "phiñapayay",
          "phiñayakuy",
          "phiruy",
          "phisara",
          "phiskurana",
          "phuchu",
          "phukuchiy",
          "phukuchu",
          "phukuna wapa",
          "phukupuy",
          "phullpuy",
          "phuña",
          "phurmuy",
          "phurunakuy",
          "phuru-phuru",
          "phusayachiy",
          "phusmaykachay",
          "phuspu",
          "phutirayay",
          "phutunku",
          "phutuy",
          "phuyuchakuy",
          "phuyuhunt'ariy",
          "phuyunay",
          "phuyunayay",
          "phuyuray",
          "phuyurquy",
          "phuyuy",
          "phuyuykuy",
          "p'achannaq",
          "p'achata huñuykukuy",
          "p'akichiy",
          "p'akimpuy",
          "p'akipuy",
          "p'aktiy",
          "p'allchay",
          "p'alltanmanta",
          "p'ampachiy",
          "p'ampampuy",
          "p'anqa hunt'a",
          "p'anqaray",
          "p'anqa silkillu",
          "p'apichay",
          "p'apichay",
          "p'aqrayay",
          "p'arqa maki",
          "p'atachiy",
          "p'atachu",
          "p'ata kichka",
          "p'ata kiru",
          "p'ichuk",
          "p'inqachikuy",
          "p'inquyllu",
          "p'intuykukuy p'achata",
          "p'isaq",
          "p'isqi",
          "p'istu",
          "p'istukuy",
          "p'itachiy",
          "p'itakuy",
          "p'itapuy",
          "p'itipuy",
          "p'iti-p'iti",
          "p'iti-p'iti waska",
          "p'itiqallu",
          "p'uchqu api",
          "p'uchquchiy",
          "p'ukruyay",
          "p'uktuy",
          "p'ulltiy",
          "p'unchawnintin",
          "p'unchawpi pichqa kutin",
          "p'unchaw p'unchaw tukukunchik",
          "p'uqachiy",
          "p'ururawqa",
          "p'utupapa",
          "p'uytukun",
          "qachil",
          "qachuyay",
          "qala",
          "qalalu",
          "qalankata",
          "qalaphari",
          "qalaphurka",
          "qalwinchu",
          "qallananchikmanta",
          "qallaqchi",
          "qallaqchiy",
          "qallarichiy",
          "qallarimuy",
          "qallari pacha",
          "qallaripuy",
          "qallariymanta",
          "qallariyniyuq",
          "qallcha",
          "qallchachiq",
          "qallchapuy",
          "qallchay",
          "qallchaypacha",
          "qallmachay",
          "qallpa",
          "qallpachakra",
          "qallpay",
          "qallupayay",
          "qalluyuq",
          "qallwachiy",
          "qallwamuy",
          "qallwana",
          "qallwapuy",
          "qallwaraq",
          "qallway",
          "qamamamaq",
          "qamamamay",
          "qamayay",
          "qamkuna ruraq hina (ruranhina)",
          "qam llullaypas ñuqam ari amataq",
          "qamñataq",
          "qampaq ñawpapi",
          "Qampaqpas!",
          "Qampas hinallataq!",
          "qampuru",
          "qam rurasqa hinallataq",
          "qamuchuy",
          "qanchischay",
          "qanchis mitruta yallispam; qanchis mitru yalli",
          "qanchis ñawi",
          "qanchis pachak waranqa",
          "qanqa",
          "qañawa",
          "qapari",
          "qaparichiq",
          "qaparichiy",
          "qaparimpuy",
          "qaparipuy",
          "qaptakuy",
          "qapuy",
          "qapya",
          "qaqa pata",
          "qaqapay",
          "qaqi",
          "qaqinqura",
          "qaracha",
          "qarachay",
          "qaraku",
          "qarakuq",
          "qarakuy",
          "qara lluch'uy",
          "qaramuy",
          "qaranakuy",
          "qaranam kanchik",
          "qarantin papa",
          "qarapanki",
          "Qararay!",
          "qara simi",
          "qara sip'u",
          "qaratu",
          "qaraway",
          "qaray",
          "qarayapuy",
          "qarayay",
          "qarpachiy",
          "qarpamuy",
          "qarpapuy",
          "qarpaysiy",
          "qarpuy",
          "qarqacha",
          "qarqanchu",
          "qarqupuy",
          "qarwa",
          "qarwayllu",
          "qasa phuyu",
          "qasay",
          "qasi p'unchaw",
          "qasiyay",
          "qashay",
          "qatachiy",
          "qatakuy",
          "qatallikuy",
          "qata masi",
          "Qatam sumaqcha!",
          "qatamuy",
          "qatapuy",
          "qataykukuy",
          "qataykuy",
          "qatay masi",
          "qatichiy",
          "qatimuy",
          "qatintin yupaykuna",
          "qatipuy",
          "qati-qatilla",
          "qatiqay",
          "qatisun",
          "qatisuyu rikuchiq iñu",
          "qawa",
          "qaway",
          "qawi",
          "qawi",
          "qawichiy",
          "qawisqa",
          "qawiy",
          "qawni",
          "qayamuy",
          "qayara",
          "qaykuy",
          "qayllanchay",
          "qayllapuy",
          "qayllayachiy",
          "qayninpas",
          "qaywimuy",
          "qaywina",
          "qaywipuy",
          "qaywiysiy",
          "qichalita",
          "qichqan",
          "qichuchikuy",
          "qichuchiy",
          "qichumuy",
          "qichunakuy",
          "qichupuy",
          "qichuqay",
          "qilla",
          "qillita",
          "qillmu",
          "qillpuy",
          "qillqachiy",
          "qillqamuy",
          "qillqanara",
          "qillqapuy",
          "qillqa unancha",
          "qillqayta munani",
          "qillqayuq",
          "qinturi",
          "qinthu",
          "qiñalu",
          "qiqañu",
          "qiqi",
          "qiri",
          "qischay",
          "qisñachay",
          "qispichikuy",
          "qispipuy",
          "qishyarayay",
          "qitupí",
          "qityachay",
          "qiwakuy",
          "qiwayllu",
          "qiwikachay",
          "qiwisu",
          "Quchapampa",
          "qucha pulla",
          "qucha turu",
          "quchayay",
          "qulliy",
          "qullpachiy",
          "qullpa-qullpa",
          "qullqichay; qullqichakuy",
          "qullqi huñuy",
          "qullqi k'aha",
          "qullqi mama",
          "qullqi papa",
          "qullqi pata",
          "qullqi q'aytuwan",
          "qullqirayku hatun tantanakuy",
          "qullqita mirachiy",
          "qullqi unku",
          "qulluchiy",
          "qullupuy",
          "qumay",
          "qumuy",
          "qunqachipuy",
          "qunqachiq",
          "qunqarpariy",
          "qunqay",
          "qunquraray",
          "qunqurayay",
          "qunqurchaki",
          "qunqurchakimanta",
          "qunqurmanta ismupuy",
          "qunuchikuy",
          "qupanakuy",
          "qupa p'anqa",
          "qupa yura; qupa p'anqa",
          "quqaray",
          "ququ",
          "ququ",
          "ququ",
          "ququtuwa",
          "qurasqa",
          "qurichay",
          "quri kiru",
          "quri q'inti",
          "quri runa",
          "quri unku",
          "quriwan chipiyaq chipipipiq p'acha",
          "qurukuy",
          "qusila",
          "qusilu",
          "qusi ñawi",
          "Qusqu hatun llaqta napaykuykim!",
          "Qusqupi kasqay kanmi",
          "Qusqu qhapaqpaq churaqllay yanapaway maypim kanki!",
          "qustal",
          "qutu kiswar",
          "qutu qara k'aspi",
          "quwi lulun papa",
          "quya raymi",
          "quyllu papa",
          "quysuy",
          "qhachina",
          "qhachiriy",
          "qhachqachiy",
          "qhakaykukuy",
          "qhakuy",
          "qhakyawiri",
          "qhallalla",
          "qhallallaq wayna",
          "qhallay",
          "qhanqayachiy",
          "qhanrachakuy",
          "qhanra kawsay",
          "qhapaq inti raymi",
          "Qhapaq Yupanki",
          "qhaparqachaq",
          "qhaphtuy",
          "qhaquchiy",
          "qhaqukuy",
          "qhaqumuy",
          "qhaqupuy",
          "qhaqya sara",
          "Qharachipampa",
          "qhari-qhari purikuqta rikusunchik",
          "qhari warmi",
          "qhariyaruy",
          "qharmin",
          "qhasurqayasqa",
          "qhasuykuy",
          "qhatay",
          "qhatqiy",
          "qhatuway",
          "qhawachikuy",
          "qhawachiq",
          "qhawapay",
          "qhawapuy",
          "qhawarikuy",
          "qhayqasqa",
          "qhichinchay",
          "qhilliyapuy",
          "qhinchachakuy",
          "qhipakana",
          "qhipakunapi",
          "qhipanchay",
          "qhiparayay",
          "qhipu",
          "qhiri",
          "qhisi",
          "qhitiy",
          "qhiwallu",
          "qhuchpakuq",
          "qhuchpay",
          "qhuchukuy",
          "qhuchullay",
          "qhuchu qhuchulla",
          "qhullulluy",
          "qhulluqayayqhun",
          "qhunachiy",
          "qhunamuy",
          "qhunapuy",
          "qhuñay",
          "qhuru qallu",
          "qhusqu kunka",
          "qhusqulli",
          "Qhut'apata",
          "qhuysu",
          "q'achan",
          "q'achuy",
          "q'ahachiy",
          "q'allpichiy",
          "q'allpikuy",
          "q'allpipuy",
          "q'allpiy",
          "q'alltiy",
          "q'allukuy",
          "q'apchi",
          "q'apinakuy",
          "q'apiriy",
          "q'apñuy",
          "q'aqalu",
          "q'aqcha",
          "q'aqchu",
          "q'ara llant'a",
          "q'ara simi",
          "q'asampa",
          "q'asana",
          "q'asana unku",
          "q'aspachiy",
          "q'ayakama",
          "q'aymay",
          "q'ayru",
          "q'aytuncha",
          "q'ichwakuy",
          "q'ila",
          "q'illinchu",
          "q'illiy",
          "q'illu ch'uru",
          "q'illu kampi",
          "q'illu pisqu",
          "q'illu sisa",
          "q'illuyachiy",
          "q'imichiy",
          "q'imirisqa yuyay",
          "q'imiy",
          "q'intisu",
          "q'intisu",
          "q'ipichay",
          "q'ipiri",
          "q'ipiriy",
          "q'iririnka",
          "q'isachay",
          "q'isipra aktuy, phukuy",
          "q'isqintu",
          "q'iswa",
          "q'iwakuy",
          "q'iwirayay",
          "q'iwirkayay",
          "q'iwiwiy",
          "q'iwiykamayuq",
          "q'iyanayay",
          "q'iyay",
          "q'uchu",
          "q'ullurikuy",
          "q'ulluriy",
          "q'umirihu",
          "q'uñi",
          "q'upayay",
          "q'urpa",
          "q'usñichi",
          "q'usñiyay",
          "q'usu",
          "q'utu chupa",
          "q'utuyay",
          "q'utuyuq",
          "q'uway",
          "q'uyu",
          "q'uyuyachiy",
          "rabiyay",
          "rakap hatun wirp'an",
          "rakap huch'uy wirp'an",
          "rakchikuy",
          "rakchipakuy",
          "raki",
          "raki-raki",
          "rakiyawasqa kaq",
          "rakwa",
          "rakhu kunka",
          "rakhu khallwa",
          "rakhu purutu",
          "rakhuta away",
          "ranqhachiy",
          "ranqhakuy",
          "ranra",
          "rantikuy",
          "rantikuy",
          "rantina",
          "rantipuy",
          "rantisakuna p'acha",
          "rantisay; rantisakuy",
          "rapchiy",
          "rapray",
          "raptay",
          "raqacha",
          "raqrayay",
          "raqu ayawaska",
          "rarqay",
          "rasgay",
          "rasmiy",
          "rasmiy",
          "rata-rata",
          "ratitumanta",
          "Ratukama!",
          "ratukuy",
          "ratulla",
          "rawiy",
          "rawrachiy",
          "rawraq siki",
          "Rayan Pampa",
          "rayu",
          "richkay",
          "rigalay",
          "rikachakachiy",
          "rikch'akuy",
          "rikch'aqlla",
          "rikch'arichiy",
          "rikch'ariy",
          "rikch'ay",
          "rikch'ayay",
          "riki?",
          "rikrakuy",
          "rikukuy",
          "rikunakunqakama (kawsaspaqa)",
          "rikunakuy",
          "rikunki",
          "rikurisun",
          "rikuriyay",
          "rikusqamanta (rikusqarayku)",
          "rikuy",
          "rikuymanta",
          "rikuy tukuy",
          "Rimaqmayu",
          "rimarichiy",
          "rimi",
          "rimu k'aspi",
          "rinrichay",
          "rinri t'uqu",
          "Ripusaq!",
          "riqsikuy",
          "riqsinachiy",
          "riqsinakuy",
          "riqsiriy",
          "rirpukuy",
          "risaq!",
          "risqinakuy",
          "risunchik",
          "rit'ihina",
          "rit'i pisqu",
          "riwakuy",
          "riway",
          "riyman rinapi",
          "ruki p'anqa",
          "rukma",
          "rukupakuy",
          "rukutu uchu",
          "ruk'inka",
          "ruk'i p'acha",
          "ruk'isqa p'acha",
          "ruk'iy",
          "ruk'uyay",
          "rumi kaspi",
          "rumikushma",
          "rumi wasi",
          "rumu paqu",
          "runachakuy",
          "runachay",
          "runakunap hayñinta wakilichiy",
          "runa llaqtakunap hayñin",
          "runaman k'askay",
          "runa pacha",
          "runa rikuchiq k'askaq",
          "runayay pacha yuyay",
          "runaykachay",
          "runtuchu",
          "runtukuy",
          "runtu pisqu",
          "runtu-runtu",
          "Runtuta bindikuway!",
          "ruphachikuy",
          "ruphapakuy",
          "ruphariy",
          "ruqu",
          "ruqupay",
          "ruq'a",
          "rurachiq",
          "ruramuy",
          "ruranay tiyan",
          "rurankichu ñispa tapuna",
          "rurapuy",
          "ruraysiy",
          "rurupakuy",
          "rurusapa",
          "rusu",
          "rusuy",
          "rutucha",
          "rutuna",
          "ruwa",
          "ruwal",
          "sach'a chuki",
          "sach'a mama",
          "sach'aman",
          "sach'a quwi",
          "sach'a q'ira",
          "sach'a rumu",
          "sach'a runa",
          "sach'aruna",
          "sach'a sapallu p'anqa",
          "sach'a sinti qara",
          "sach'a sunkha",
          "sach'a t'ula",
          "sach'a uchan p'anqa",
          "saka",
          "sakapa",
          "sakllu",
          "sakta",
          "salchiy",
          "salinakuy",
          "saliy",
          "salta qillqa",
          "saltaq ñawi",
          "saltun bagri",
          "sallallallay",
          "sallallay",
          "sallqa papa",
          "samachiy",
          "samana wasi",
          "samarikuy mit'a",
          "samariy mit'a",
          "samarquy",
          "samaykuy",
          "samayta hap'iy",
          "samayta suyuyachiy",
          "samiruka",
          "samk'a wasi",
          "samp'ata away",
          "sanchi",
          "sanchu",
          "sankatima",
          "sankay; sakay",
          "sankurachi",
          "sankhuy",
          "santilika",
          "sañiyay",
          "sapalla rikch'a kutiriq",
          "sapallu kaspi",
          "sapay",
          "sapa yanachakuy, sapa masichakuy",
          "sapay awki",
          "sapaychakuy",
          "sapta kakuy",
          "sapumpa",
          "Saphi",
          "saphi rikch'ay",
          "saqikuy",
          "saqiripani",
          "saqmana",
          "saqra",
          "saqra kawsaywan",
          "saqrakuy",
          "saqsa",
          "saq'ampaya",
          "saramama",
          "sara mut'i",
          "sara muyu",
          "sara phiña",
          "sara qiwa",
          "sara tipiy",
          "sara t'ika",
          "sarku",
          "saruchiy",
          "sarun hamurqa",
          "sarun kaq",
          "saruykachay",
          "saruysiy",
          "sasachakuy",
          "sasachay",
          "sasachu?",
          "sasa rurana",
          "sasay",
          "sasayachiy",
          "sasayay",
          "sat'i",
          "sat'ikuy",
          "sawachiy",
          "saway",
          "sawka-sawka hawarikuykuna",
          "sayachikuy",
          "sayachinakuy",
          "saysi",
          "sayt'u",
          "sayway",
          "sibil",
          "sicha",
          "sich'u",
          "sidrun",
          "sikitay phukuy",
          "siki wayllay",
          "sikrakuy",
          "sikrana",
          "sikuwaka",
          "sikyay",
          "sik'ichiy",
          "silakuy",
          "silkillu apa",
          "silu ayawaska",
          "sillay",
          "sillkuy",
          "sillk'uchikuy",
          "sillpiy",
          "silluchikuy",
          "sillwi kuru",
          "sillwi p'acha",
          "simbul",
          "simichaqpa t'ikrapayaynin",
          "siminakuy",
          "simita mayllay",
          "simi t'uqyachiy",
          "Simiykikunata manam hap'inichu",
          "simiykita kichay",
          "simiyuqña wawa",
          "simpi muyu",
          "simp'akuy",
          "simp'aq",
          "Sinak'ara",
          "sinalla",
          "sinchichakuy",
          "Sinchi Ruq'a",
          "sinchiyakusqa",
          "sinkachiy",
          "sinkakuy",
          "sinkay",
          "sinkay",
          "sinki",
          "sinkra p'anqa",
          "sinkriy",
          "sinkhan",
          "sinqata phukuchina; sinqata pichay",
          "sinqay",
          "sinrulla qhipanta",
          "sintachay",
          "sinti yura",
          "sintuq",
          "sipasña",
          "sipasyay",
          "sipi",
          "sipichiy",
          "sipina k'aspipi warkuy",
          "sipita",
          "sipit'ika",
          "sipriyay",
          "sipuy",
          "siqachiy",
          "siqay",
          "siqiy",
          "siqsichiy",
          "siquy kutamata",
          "siq'i",
          "siq'illa",
          "siq'i-siq'i",
          "siq'ita yapay",
          "sirachikuy",
          "sirachiy",
          "sira-sira",
          "sirikaypi",
          "sirikuy",
          "siriq punchaw",
          "sirk'achikuy",
          "sirp'a",
          "sisin",
          "sispachay",
          "sispa ñaña",
          "sispa pani",
          "sispa turi",
          "sispa wawqi",
          "sitakay",
          "sitanqay",
          "sitari mama",
          "sitki",
          "situli p'anqa",
          "situwa",
          "siwa",
          "siwichi",
          "siwka witu",
          "siwna",
          "siwñay",
          "siwulla k'ipay",
          "suchkay",
          "suchuchiy",
          "suchuriy",
          "suchuy",
          "suchuyay",
          "suchuykachay",
          "suchuykuy",
          "suka qullu",
          "sukcha",
          "suk-suk",
          "sukuba",
          "sukupakuy",
          "sukha",
          "suk'a",
          "suk'umpay",
          "sulay",
          "sulumpi",
          "sulliy",
          "sulluchiy",
          "sullu-sullu",
          "sumaq allpa",
          "sumaqchakuy",
          "sumaq kawsay",
          "Sumaq Pirla",
          "sumaq rikch'ayniyuq",
          "sumaq uqi",
          "sumaqyachiq rimay",
          "sumaychasqa kay",
          "sumpay",
          "sumpuña",
          "sumpuy",
          "sump'u-sump'ulla unku",
          "suni tupuna",
          "sunkaru",
          "sunku",
          "sunk'ayay",
          "sunquchakuy",
          "sunquchiq",
          "sunqu nanay",
          "sunqunchay",
          "sunqu pharariy",
          "sunquta harpuy",
          "sunqu t'ikrachiy",
          "sunqu t'ikranahina ruray",
          "sunqu t'urpuy",
          "sunquy",
          "sunquyakuy",
          "sunsira",
          "sunt'ichiy",
          "sunt'iy",
          "suñay",
          "suñiki",
          "supayay",
          "supay kasha k'aspi",
          "Supaysupawa",
          "supay t'ika",
          "supisiki",
          "supitulu",
          "supiykukuy",
          "suqsuy",
          "suqta",
          "suqta watatallapasmi charina kan",
          "suqupuru",
          "suquyay",
          "suq'a paya",
          "suq'uyta quway",
          "suruchiy",
          "suruqchay",
          "suskhuy",
          "susuy",
          "Sutikuni ...",
          "sutiy",
          "sutiyachiy",
          "Sutiymi ....",
          "Sutiyqa ....",
          "sutkuy",
          "sutuma",
          "sut'ipi kay",
          "sut'ita rimay",
          "suwachikuy",
          "suwa kaskaquq maki",
          "suwakusqa wawa",
          "suwanakuy",
          "suway",
          "suyachikuy",
          "suya-suyata away",
          "suyru",
          "suyru taksa p'acha",
          "suyruy; suyruykachay",
          "suyt'u rumi",
          "suyu",
          "suyu apu",
          "Suyup Yachachiy Kunay",
          "suyu-suyu",
          "suyu-suyu p'acha",
          "suyuta hurquchiy",
          "shakay",
          "shapaka",
          "shaqyay",
          "shiwawaku",
          "shukshuta hunt'achiy",
          "shukuchiy",
          "shukukuy",
          "shuntukay",
          "shuqyay",
          "tachikuy",
          "tachu",
          "takachikuy",
          "takachiy",
          "takachiy",
          "takachu",
          "takakuy",
          "takakuy",
          "takamuy",
          "takichiy",
          "takiña",
          "takisa",
          "taki yachaq wakanki",
          "taksachay",
          "takta",
          "taku",
          "tala",
          "talak-talak",
          "talankira",
          "tala pispa",
          "talu",
          "tallpachiy",
          "tamisi",
          "tampa",
          "tampiy",
          "tampu",
          "tamsi",
          "tamyanapaq kimsa p'unchaw illaqpi",
          "tamyasqamanta kimsa p'unchaw qhipa (tukuqpi)",
          "tanka ch'uru",
          "tankarana",
          "tanla",
          "tanlinyay",
          "tanqachikuy",
          "tanqachiy",
          "tanqamuy",
          "tanqanakuy",
          "tantachisqakunapa sami",
          "tantachisqakunap kutinchin",
          "tantachisqakunap rakin",
          "tantachisqamanta anchuchi",
          "tantachisqap yapaynin",
          "tantamuy",
          "tantari yachaypa yupaynin",
          "tapa",
          "taplay",
          "taplay",
          "tapuchikuy",
          "tapuchiy",
          "tapumuy",
          "tapuraq",
          "tapurinakuy",
          "taqanqa",
          "taqllay",
          "taqsu",
          "taqtay",
          "taquru",
          "tara",
          "taraña",
          "taraputu",
          "taraqchi",
          "tarichiy",
          "tarikapuy",
          "tarikaya",
          "tarikuy",
          "taripachikuy",
          "tariypaq",
          "tarpuchiq",
          "tarpuchiy",
          "tarpukuy",
          "tarpuyninkumanhina",
          "tarqa",
          "tarqu",
          "tartay",
          "taruka k'aspi",
          "taruka rinri",
          "tasay",
          "tasi",
          "tashnuy",
          "tawa chakilla puriy",
          "tawa chakimanta thamaykachay",
          "tawaku p'anqa",
          "tawantin",
          "tawa pachata",
          "tawari",
          "tawa rikch'ayniyuq",
          "tawa-tawa",
          "tawa uya",
          "tawnay",
          "tawnay",
          "tawqa rikch'a kutiriq",
          "tawqa-tawqa",
          "tawriqaray",
          "tawsu",
          "taya",
          "tayanku",
          "tayriyay",
          "taytitu!",
          "tayu",
          "tihu",
          "tihun",
          "tika kachi",
          "tikira",
          "tiklla",
          "tiklla inkhuña",
          "tikllay",
          "tiksa",
          "tiksi muyu pacha",
          "tiksin kay",
          "timuq",
          "tinaha",
          "tinka",
          "tinka",
          "tinkay",
          "tinkukuy",
          "tinkunachiy",
          "Tinkuypacha chayamun!",
          "tipa",
          "tipi",
          "tipil",
          "tipina",
          "tipiq",
          "tiplli",
          "tiri",
          "tisay",
          "tisi",
          "tisi",
          "tisña",
          "tis-tis",
          "tiwti",
          "tiyakuy",
          "tiyanapi tiyay",
          "tiyanchu illanchu",
          "tiyaq",
          "tiyaqmasi",
          "tiyaramuy",
          "tiyariy",
          "tiyatina",
          "tiyatina p'anqa",
          "Tiyawanaku",
          "tiyaway",
          "tiyusmanti",
          "tratuchay",
          "trisiklu",
          "truynu ayawaska",
          "tubi abiyu",
          "tukam q'ispi",
          "tukay",
          "tukchi",
          "tukiy",
          "tukiy",
          "tukiyay",
          "tuktu",
          "tuku",
          "tukukuypi",
          "tukunari",
          "tukusan",
          "tuku-tuku",
          "tukuy",
          "tukuy imaymana",
          "tukuy kaqchika",
          "tukuy kay allpa pachapi kawsaq uywakunap yurakunap chinkarikuynin",
          "tukuy laya",
          "tukuy llamk'ayniyuq",
          "tukuy munayniyuq",
          "tukuy munayniyuq",
          "tukuypaq",
          "tukuy p'unchaw",
          "tukuy yachayniyuq",
          "tulpu",
          "tullpay",
          "tullpuchakuy",
          "tullpuna llimpikuna",
          "tullpupayay",
          "tullu machu",
          "tullu malkachu",
          "tullu siki",
          "tulluyachiy",
          "tulluyay",
          "tuma",
          "tumichika",
          "tumiy",
          "tumpachikuy",
          "tumpush",
          "tunchi",
          "tunqa",
          "tunqushyay",
          "tunta",
          "tuntichiy",
          "tuntisqa",
          "tuntiy",
          "tupa",
          "tupa p'acha",
          "tupa quchur",
          "tuparisun",
          "tupariy",
          "tupi",
          "tupu",
          "tupu kamaychi",
          "tupullikuy",
          "tuqlu",
          "tuqsay",
          "tuqu",
          "tuquri",
          "tuqu-tuqu",
          "turikuy",
          "turtay",
          "turu",
          "turu qara",
          "turuqsu",
          "tusannay",
          "tuspu",
          "tusunayay",
          "tutamantantin",
          "tuta pisqu manti",
          "tutay",
          "tutayariy",
          "tutay warachi",
          "tuti",
          "tutupa",
          "tuwaq",
          "tuyuyay",
          "thak ñiy",
          "thallachiy",
          "thamay",
          "thamaykachay",
          "thantay",
          "thañirpariy",
          "thañi-thañi",
          "thañiy",
          "thapachakuy",
          "thaqu",
          "thaqu",
          "thaqu ruru",
          "thaqu sach'a",
          "thaqya",
          "thasay",
          "thasaykukuy",
          "thasnuchiy",
          "thasnukapuy",
          "thatachiy",
          "thatkichiy",
          "thatki kutinchi",
          "thawti",
          "thawtiy",
          "thisthapiy",
          "thumana",
          "thunku",
          "thunkuchiy",
          "thunkuthunku",
          "thunkuy",
          "thunkuykachay",
          "thuqachiy",
          "thuru kutu",
          "thutasqa",
          "thutay",
          "thutayay",
          "t'akakuy",
          "t'akikuy",
          "t'ankar kichka",
          "t'antata munani",
          "t'antay",
          "t'antay wallkachanay",
          "t'aqachiy",
          "t'aqsachikuy",
          "t'aqsachiy",
          "t'aqsakuy",
          "t'aqsamuy",
          "t'aqsapuy",
          "t'aqsaysiy",
          "t'ara",
          "t'arañu",
          "t'asrakunap yapan / puchun",
          "t'asta",
          "t'ikachiy",
          "t'ikallikuy",
          "t'ikalliy",
          "t'ikanchasqa",
          "t'ikanka",
          "t'ikarichiy",
          "t'ikchay",
          "t'iki",
          "t'ikichiy",
          "t'ikraqta kutiman p'achallikunki",
          "t'ikrariy",
          "t'impiy",
          "t'impunayay",
          "t'inkachiy",
          "t'inkay",
          "t'inki-t'inki p'acha",
          "t'inkusqa p'acha",
          "t'ipachikuy",
          "t'ipachiy",
          "t'iparakuy",
          "t'ipi kunka",
          "t'ipimuy",
          "t'ipi sintura",
          "t'iqichiy",
          "t'iqinakuy",
          "t'iqiyay",
          "t'irachiy",
          "t'irakuy",
          "t'isachiy",
          "t'isana",
          "t'isikiri",
          "t'itu",
          "t'iwkay",
          "t'iwkay",
          "t'uksi",
          "t'uksichikuy",
          "t'uksillu",
          "t'uksi p'anqa",
          "t'uktiy",
          "t'ukuyay",
          "t'ula puni",
          "t'ullku",
          "t'ullkuy",
          "t'una papa",
          "t'una uchu",
          "t'unay",
          "t'uqluchikuy",
          "t'uqluy",
          "t'uqpa",
          "t'uqula",
          "t'uquna",
          "t'uquyay",
          "t'uruchachiy",
          "t'uruchakuy",
          "t'uru ch'illami",
          "t'urusapa",
          "t'uru wasi",
          "t'uruyay",
          "t'usti",
          "t'ususapa",
          "uchan p'anqa",
          "uchkuy",
          "uchpachay",
          "uchpa-uchpa",
          "uchpa wapa",
          "uchpa wasa sananku",
          "uchpayay",
          "uchu chikta",
          "uchuchiray",
          "uchuggu",
          "uchuhillu kasqanki!",
          "uchukilla",
          "uchullaqwa",
          "uchumuruq'u",
          "uchu p'anqa",
          "uchuta mana munanichu",
          "uchuy",
          "uchuyllachiy",
          "uchuylla mati kara",
          "uchuylla p'anqa siya",
          "uchuylla sach'a allqu",
          "uchuy sunqu",
          "uhu hap'iy",
          "ukilla",
          "ukiy",
          "ukli",
          "ukuchariy",
          "ukumari",
          "ukhu chaki",
          "ukhunchay",
          "ukhu wata",
          "ulandisa",
          "ulsiryay",
          "uluchi",
          "uluwa",
          "uluypiña",
          "ullanta",
          "ullantay",
          "ullawaysu",
          "ullinchu",
          "ullka",
          "ullti llipt'a churana",
          "umachakiy",
          "umallina",
          "umalliy",
          "umalliy",
          "umamanta puriy",
          "uman muyuqrusqa",
          "umapatay",
          "uma rutuy",
          "umaruthuku",
          "umata kayman chayman kuyuchiy",
          "umati",
          "uma tukuynin",
          "uminchay",
          "umiñakunap yapan / puchun",
          "umita",
          "umiti yura",
          "umiy",
          "umruy",
          "umukuti",
          "unayniyuq",
          "unaypi",
          "unayta",
          "unaytam p'achay mawk'an",
          "unay watapiqa",
          "unchiku",
          "unchuykuy",
          "unka",
          "unkucha",
          "unkulu",
          "unkullikuy",
          "unkup kunkan",
          "unkurayay",
          "unkusapa",
          "unkuy",
          "unquchiq",
          "unqurawa",
          "unquy",
          "untiy",
          "unu karpay",
          "unuyachay",
          "upa añayllu",
          "upallakuy",
          "upa sunqu",
          "upatuqusa",
          "upayay",
          "upi",
          "upraychukru",
          "uputasa",
          "upyachiy",
          "upyayqhatuq",
          "upyayta quway",
          "uphakuy",
          "uphay",
          "uqi pisqu",
          "uqi pisqu hatun",
          "uqi qura",
          "uqllachiy",
          "uqllamuy",
          "uqllanakuy",
          "uqllapuy",
          "uqsay",
          "uquchiy",
          "uquña",
          "uqu qura",
          "uqhururu",
          "uranchay",
          "ura qhaway",
          "ura simpa",
          "urayay",
          "urayay",
          "uraykuchiy",
          "uraykumuy",
          "uray wichay",
          "urdinay",
          "uritu wachansi",
          "urkay",
          "urku tukuta",
          "urmakuy",
          "urmamuy",
          "urmaqlla",
          "urmarparichiy",
          "urqu chiri k'aspi",
          "urqu chiri wayusa",
          "urqu kalistu",
          "urqu kisa",
          "urqu matu",
          "urqu mulli",
          "urqup sinqan",
          "urqu sibil",
          "urqu sunkha",
          "urquta qhaway!",
          "urqu-urqu",
          "Uru",
          "uru",
          "urwa",
          "usachakuy",
          "usachikuy",
          "usachinalla",
          "usakuy",
          "usakuy",
          "usakuy",
          "usana kallwa",
          "usa puka",
          "usay",
          "usaysapa kuskakuna",
          "usku",
          "usñuy",
          "uspapakuy",
          "ustuy",
          "usuma",
          "usuraqta",
          "uswincha",
          "utallaq'i",
          "utiqyay",
          "uti-uti",
          "utkay",
          "utkillu",
          "utkisiki",
          "utqamuy",
          "utu",
          "utu",
          "utu kuru",
          "utusqa",
          "ututu",
          "uwiru maki",
          "uyansa",
          "uyapura",
          "uyariway",
          "uyay",
          "uyaychasqa yupay",
          "uyay illaq saqi(ri)y",
          "uyayta mana chariy",
          "uypus",
          "uywakuy",
          "uywanakuy",
          "uywaq",
          "uywayuq",
          "wachakuq warmi",
          "wachanapaq kimsa p'unlla illakpi",
          "wachanayay",
          "wachanqa",
          "wachapa",
          "wachapakuy",
          "wachariy",
          "wacharu",
          "wachasqamanta kimsa p'unlla qhipa",
          "wachichiy",
          "wachuma",
          "wachupuy",
          "wachu wachu",
          "wach'isqa",
          "wach'uy",
          "wakachu",
          "wakakay",
          "wakapinka",
          "waka qallu",
          "waka sullu",
          "waka-waka",
          "wakchacha",
          "wakcha chiqñiq",
          "wakcha kay",
          "wakcha paqariq",
          "wakcha pitiwikuq",
          "wakcha rimapukuq",
          "wakcha runa",
          "wakchillu",
          "wak hina",
          "wakichikapuy",
          "wakichikuy",
          "waklla",
          "wakra chini",
          "waktay",
          "waktis",
          "waku",
          "waku",
          "wakuy",
          "wak'aqayay",
          "wak'arpaña",
          "wak'ay",
          "wak'a yupaychana",
          "wala puka",
          "wala puka",
          "walay",
          "waltaku sara",
          "walthachikamuy",
          "walthachiy",
          "walthapuy",
          "walthay",
          "Walla",
          "wallkallatapas",
          "wallpa chaki",
          "Wallparimachi",
          "wallpayay",
          "wallqakuy",
          "wallqarikuy",
          "wallqaykuy",
          "wallquy",
          "walluy",
          "wamani",
          "wamanpinta",
          "Waman Puma",
          "waman qiru",
          "wamanripa",
          "Wamanripa",
          "wamantullu",
          "wamaq p'acha",
          "wamay",
          "wambisa chaqruna",
          "waminra",
          "wampa",
          "wampula yura",
          "wamp'ar unku",
          "wamracha",
          "wanachay",
          "wanaku",
          "wanay",
          "wanay",
          "wanchaku",
          "wanka",
          "wankana palanta",
          "wankani",
          "wankar tipa",
          "wankartipa",
          "wankiy",
          "wanqiru",
          "wanunchasqa",
          "wanuray",
          "wanway",
          "wañuchichiy",
          "wañuchimuy",
          "wañuchinkichikman karqa",
          "wañuchipuy",
          "wañuchiriy",
          "wañu killa",
          "wañukuy",
          "wañunawan tiyay",
          "wañunayaq killa",
          "wañuqtukuy",
          "wañurpariy",
          "wañuyta tariy",
          "wapiy",
          "wapsuy",
          "waqachimpuy",
          "waqachipuy",
          "waqanchu",
          "waqaychachikuy",
          "waqaychachisqa",
          "waqaychapuy",
          "waqaychaq apu",
          "waqay ñan",
          "waqchukuy",
          "waqchuy",
          "waqch'ay",
          "waqrasapa",
          "waqra-waqra",
          "waqrilla",
          "waqsu",
          "waqtanakuy",
          "waqtapay",
          "waqtatikuy",
          "waquru pampa",
          "waqwalli",
          "waqwallimaki",
          "waqyachipuy",
          "waqyachiy",
          "waqyapuy",
          "waq'ayay",
          "warachikuy",
          "warachikuy",
          "warallichiy",
          "warallikuy",
          "warannaq",
          "waranqa sisa",
          "waranqa wata",
          "waranqu",
          "waranta awakuy",
          "waray",
          "Warayna",
          "warkumuy",
          "warkupuy",
          "warkuysiy",
          "warmilla",
          "warmi maqa",
          "warmi munachi",
          "warmi wamra",
          "warmiwan puñuna",
          "warmi-warmi",
          "warmiyay",
          "waruqu",
          "waru-waru",
          "wasaku",
          "wasakuy",
          "wasa maki",
          "wasanchu",
          "wasa rurun nanay",
          "wasi aylluta kamaq",
          "wasichakuq",
          "wasichakuy",
          "wasichay",
          "wasimanta iskay chunka mitru karullapi",
          "wasin wasin",
          "wasita pichay",
          "wasi-wasi",
          "wasi watana",
          "wasi watana",
          "wasiypi",
          "waska kawchusqa",
          "waska raya",
          "waska siya",
          "waskata ruray",
          "waskay",
          "watachiy",
          "watakama",
          "watakuna yallisqa qhipam",
          "watakuy",
          "watamuy",
          "watan",
          "watantin",
          "watap killan",
          "watapuy",
          "wataraku muyu",
          "watayakriy",
          "wataysiy",
          "watillu",
          "watqay",
          "watuchikuy",
          "watukuchkay",
          "watumpuy",
          "watupuy",
          "watuy",
          "watuykachay",
          "watyachiy",
          "watyana",
          "wat'a pili",
          "wawachakuy",
          "wawa kanchantin",
          "wawallikuy",
          "wawani",
          "wawa qullqi kamachiq",
          "wawa simi",
          "wayakan",
          "waych'a",
          "waykay",
          "waykuru",
          "waykuru",
          "waykha",
          "waykhay",
          "wayk'uchiy",
          "wayk'ukuy",
          "wayk'umuy",
          "wayk'upuy",
          "waylla mut'iya",
          "waylla pilli",
          "waylla-waylla",
          "wayllay",
          "wayllunakuy",
          "waynakuy",
          "waynañan kachkanki wawqiy",
          "waynapikchu",
          "waynapikchu",
          "waynarikuy",
          "waynayay",
          "wayñuy",
          "wayñuykuy",
          "wayq'umanta lluqsimuy",
          "wayq'uy",
          "wayra kawsay",
          "wayrakuy",
          "wayra mana alli",
          "wayrana",
          "Wayrapata",
          "wayra p'anqa",
          "wayra runa",
          "wayrasqa",
          "wayra wañuy",
          "wayra-wayra pichqamanta",
          "wayraykachay",
          "wayruru",
          "wayruru",
          "wayruru",
          "waysiy",
          "wayt'ampu",
          "wayuy",
          "waywash",
          "waywash rumi",
          "wicharichimuy",
          "wicharichiy",
          "wichay uray",
          "wichillay",
          "wichi-wichi",
          "wichq'achiy",
          "wichq'amuy",
          "wichq'apuy",
          "wichq'arayay",
          "wichq'aykapuy",
          "wichq'ay kawpay",
          "wikapa",
          "wikch'una",
          "wikch'uriy",
          "wikch'urqatitu",
          "wiksata nanachinkichikmi",
          "wiksayay",
          "wiksayuq tukuy",
          "wikunku",
          "wildu",
          "wili",
          "wilka",
          "wil-wil",
          "wil-wil",
          "willakamuy",
          "willakaykunata quy",
          "willakuykuna kamachiq",
          "willamuy",
          "willapuy",
          "willay khillay",
          "willayniq",
          "willkaparu",
          "willk'u",
          "winay",
          "winaykuy",
          "winchuka",
          "winkusqamanta",
          "winsu",
          "wintisu",
          "wintiy",
          "wintuy",
          "wiñakuy",
          "wiñaq rumi",
          "wiña-wiñaymanta",
          "wiñaywayna",
          "wipachi",
          "wiptiy",
          "wipu",
          "wiqichay",
          "wiqihunt'a",
          "wiqi muyu",
          "wiqi pacha",
          "wiquntuy",
          "wiquy",
          "wiq'a",
          "wiq'achiy",
          "wiq'ay",
          "wira malkachu",
          "Wiraqucha Inka",
          "Wiraquchapampa",
          "wiraq'uwa",
          "wiriqinqi",
          "wiririma",
          "wiririma",
          "wiru hanch'uy",
          "wiru millma",
          "wiruti",
          "wiruy",
          "wisaqay",
          "wisimuy",
          "wisipuy",
          "wisiqay",
          "wisllay",
          "wispa",
          "wispillu",
          "wistuyay",
          "wiswichay",
          "wisyay",
          "wita",
          "witalta",
          "wituq",
          "Yachachiykunawan Tratukunawan",
          "yachakapuy",
          "yachakay",
          "yachasqa uyay suwa",
          "yachaykuy",
          "yachayllawan ruray",
          "yachaymiy",
          "Yachayniyuq Palawra",
          "yachaypi takyay",
          "yachayta taripana",
          "yachayta willana",
          "yachayta wiñachiy",
          "yakay",
          "yaki kikin",
          "yakta kamachiwaychu",
          "yaku astaq",
          "yakuchi",
          "yaku glubu",
          "yaku hampiq ch'uyayachiq yachuchiq",
          "yaku lubu",
          "yakunayawachkanmi",
          "yakupa",
          "yakuqiru",
          "yaku q'uñita upyay",
          "yaku runa",
          "yaku suysuy",
          "yakuta wisiy",
          "yaku tukuta",
          "yallachay",
          "yallimanya",
          "yallimikuq",
          "yami p'anqa",
          "yana",
          "yana ayawaska",
          "yanachakuy",
          "yana ch'uspi",
          "yana imilla",
          "yana kisa",
          "yana llachu",
          "yana muqu",
          "yana muqu",
          "yanantin, masintin, tawantin",
          "yanapakuy",
          "yanapanakuy",
          "yanapankichik",
          "yanapaq akllay",
          "yanapaq huñunakuy",
          "yanapayay",
          "yana puqu",
          "yana runakunap hayñin",
          "yana waqta",
          "yanqallapas",
          "yanqa quy",
          "yapaqullqi",
          "yapa tantachisqa",
          "yaqa kikin",
          "yaqam wañuni",
          "yaqullay",
          "yarawisqu",
          "yarita",
          "yarqachikuy",
          "yarqanayawachkanmi",
          "yarqaryay",
          "yarqawanmi",
          "yarqaymanta wañuykuy",
          "yasipi",
          "yatan",
          "Yaw! Khuchi hina asnaq ih!",
          "yawar ankuta tupuy",
          "yawarchakuy",
          "yawarchay",
          "yawar k'aspi",
          "yawar puriqta rikuq",
          "yawar p'anqa",
          "yawar wiqi",
          "yawaryay",
          "yayaqa?",
          "yaykuq",
          "yuksa",
          "yulilla",
          "yumana munay",
          "yunka suyu",
          "yunka wasi",
          "yunta wataray ura",
          "yunta watay ura",
          "yupachi",
          "yupachiy",
          "yupakuy",
          "yupay kamaychi yuyay",
          "yupay kamay khillaykuna",
          "yupay kuska",
          "yupayna",
          "yuraq bagri",
          "yuraq wapa",
          "yuraq wayta",
          "yuraq yukilla",
          "yurawañuqchi",
          "yuyanchasqa kay",
          "yuyapachay",
          "yuyaqyay",
          "yuyarinapaq",
          "yuyaychachiy",
          "yuyaychanakuy",
          "yuyaychariy",
          "yuyay chinkay",
          "yuyaykachay",
          "yuyaykusqa t'ikray",
          "yuyaymanay",
          "yuyaysinakuy",
          "yuyayta chinkay",
          "yuyayta kutinhapiy",
          "yuyun"
         ],
         "legendgroup": "",
         "marker": {
          "color": "#636efa"
         },
         "name": "",
         "notched": false,
         "offsetgroup": "",
         "orientation": "v",
         "showlegend": false,
         "type": "box",
         "x0": " ",
         "xaxis": "x",
         "y": [
          3,
          4,
          3,
          3,
          4,
          8,
          3,
          4,
          3,
          4,
          6,
          7,
          10,
          3,
          3,
          7,
          3,
          7,
          8,
          4,
          7,
          9,
          3,
          5,
          3,
          6,
          3,
          3,
          6,
          7,
          3,
          3,
          7,
          7,
          3,
          4,
          3,
          4,
          3,
          7,
          3,
          3,
          3,
          5,
          3,
          3,
          4,
          3,
          3,
          3,
          3,
          9,
          8,
          3,
          3,
          3,
          4,
          3,
          4,
          5,
          3,
          4,
          3,
          6,
          9,
          10,
          5,
          6,
          7,
          4,
          3,
          8,
          4,
          5,
          6,
          4,
          14,
          3,
          4,
          4,
          3,
          5,
          3,
          3,
          3,
          4,
          3,
          3,
          4,
          3,
          3,
          4,
          3,
          3,
          6,
          8,
          3,
          3,
          3,
          3,
          8,
          3,
          7,
          8,
          3,
          4,
          4,
          5,
          4,
          4,
          3,
          3,
          3,
          5,
          6,
          8,
          7,
          10,
          4,
          6,
          5,
          4,
          8,
          3,
          3,
          5,
          3,
          3,
          6,
          4,
          5,
          7,
          3,
          3,
          3,
          8,
          8,
          9,
          7,
          4,
          3,
          13,
          3,
          4,
          3,
          3,
          5,
          5,
          7,
          3,
          3,
          4,
          4,
          4,
          3,
          6,
          3,
          3,
          7,
          5,
          8,
          3,
          7,
          5,
          3,
          3,
          3,
          6,
          5,
          8,
          6,
          5,
          4,
          7,
          4,
          7,
          4,
          4,
          6,
          10,
          13,
          7,
          3,
          3,
          7,
          23,
          3,
          9,
          5,
          4,
          7,
          4,
          5,
          6,
          3,
          5,
          3,
          8,
          3,
          4,
          8,
          3,
          4,
          5,
          5,
          5,
          8,
          3,
          3,
          3,
          8,
          4,
          5,
          4,
          8,
          3,
          7,
          3,
          5,
          3,
          4,
          5,
          5,
          4,
          5,
          3,
          5,
          4,
          6,
          3,
          3,
          4,
          4,
          7,
          3,
          3,
          3,
          4,
          3,
          3,
          3,
          3,
          3,
          3,
          12,
          3,
          3,
          3,
          3,
          3,
          5,
          7,
          7,
          3,
          5,
          3,
          5,
          6,
          3,
          5,
          3,
          7,
          3,
          3,
          3,
          3,
          3,
          6,
          3,
          4,
          5,
          3,
          8,
          10,
          3,
          4,
          3,
          4,
          7,
          5,
          8,
          19,
          8,
          4,
          3,
          7,
          10,
          3,
          9,
          4,
          4,
          5,
          4,
          5,
          3,
          6,
          4,
          6,
          6,
          10,
          9,
          3,
          8,
          8,
          8,
          9,
          4,
          6,
          3,
          5,
          4,
          6,
          3,
          3,
          4,
          6,
          8,
          7,
          21,
          3,
          5,
          3,
          3,
          5,
          3,
          3,
          3,
          5,
          5,
          3,
          4,
          3,
          3,
          3,
          3,
          4,
          6,
          5,
          5,
          11,
          3,
          3,
          8,
          9,
          4,
          7,
          3,
          11,
          9,
          10,
          7,
          9,
          14,
          8,
          3,
          3,
          3,
          4,
          5,
          3,
          11,
          5,
          3,
          5,
          3,
          5,
          4,
          3,
          4,
          4,
          4,
          6,
          4,
          7,
          4,
          5,
          6,
          8,
          3,
          5,
          3,
          4,
          5,
          10,
          7,
          3,
          5,
          3,
          3,
          8,
          9,
          3,
          5,
          15,
          6,
          7,
          6,
          3,
          3,
          5,
          3,
          8,
          3,
          3,
          4,
          4,
          8,
          3,
          5,
          3,
          3,
          7,
          3,
          4,
          3,
          3,
          20,
          7,
          5,
          3,
          8,
          8,
          4,
          3,
          3,
          3,
          7,
          6,
          3,
          3,
          7,
          7,
          7,
          7,
          3,
          7,
          3,
          25,
          3,
          3,
          3,
          5,
          5,
          3,
          4,
          5,
          6,
          7,
          4,
          3,
          3,
          3,
          4,
          9,
          3,
          5,
          3,
          3,
          3,
          3,
          6,
          6,
          3,
          3,
          3,
          4,
          3,
          3,
          3,
          3,
          3,
          4,
          3,
          4,
          7,
          3,
          5,
          5,
          5,
          8,
          3,
          3,
          4,
          7,
          3,
          3,
          3,
          3,
          3,
          6,
          4,
          3,
          3,
          5,
          3,
          5,
          8,
          6,
          4,
          13,
          3,
          4,
          3,
          6,
          6,
          3,
          9,
          4,
          4,
          7,
          16,
          4,
          21,
          3,
          3,
          4,
          7,
          3,
          4,
          3,
          6,
          3,
          3,
          6,
          3,
          3,
          12,
          6,
          6,
          4,
          4,
          3,
          19,
          4,
          20,
          7,
          9,
          3,
          3,
          3,
          4,
          20,
          4,
          3,
          3,
          7,
          4,
          3,
          3,
          3,
          3,
          5,
          3,
          3,
          4,
          8,
          5,
          3,
          3,
          8,
          4,
          5,
          6,
          3,
          3,
          3,
          3,
          4,
          3,
          6,
          7,
          5,
          5,
          4,
          3,
          3,
          4,
          6,
          24,
          5,
          6,
          4,
          4,
          5,
          3,
          3,
          3,
          8,
          8,
          11,
          7,
          7,
          3,
          8,
          5,
          15,
          5,
          16,
          3,
          5,
          3,
          10,
          5,
          12,
          3,
          3,
          3,
          3,
          4,
          5,
          3,
          3,
          4,
          4,
          4,
          3,
          5,
          3,
          13,
          5,
          7,
          10,
          4,
          3,
          3,
          5,
          4,
          6,
          3,
          7,
          5,
          3,
          4,
          3,
          3,
          3,
          4,
          4,
          5,
          5,
          3,
          3,
          3,
          3,
          4,
          3,
          4,
          4,
          3,
          3,
          3,
          3,
          3,
          4,
          3,
          3,
          3,
          3,
          3,
          3,
          3,
          3,
          3,
          4,
          11,
          6,
          3,
          6,
          3,
          4,
          5,
          7,
          7,
          6,
          3,
          6,
          5,
          8,
          5,
          5,
          8,
          4,
          11,
          4,
          3,
          3,
          4,
          3,
          6,
          3,
          3,
          3,
          3,
          3,
          3,
          6,
          3,
          26,
          4,
          5,
          23,
          8,
          4,
          3,
          3,
          3,
          3,
          4,
          4,
          6,
          8,
          3,
          3,
          4,
          5,
          4,
          4,
          4,
          8,
          4,
          3,
          4,
          4,
          3,
          3,
          8,
          7,
          5,
          4,
          3,
          3,
          4,
          7,
          4,
          3,
          6,
          5,
          3,
          4,
          3,
          3,
          4,
          8,
          4,
          9,
          3,
          8,
          8,
          3,
          3,
          6,
          3,
          3,
          6,
          3,
          3,
          4,
          13,
          8,
          13,
          4,
          5,
          6,
          3,
          38,
          4,
          26,
          25,
          14,
          5,
          16,
          3,
          3,
          3,
          5,
          7,
          6,
          4,
          3,
          6,
          10,
          3,
          5,
          4,
          3,
          5,
          5,
          5,
          4,
          3,
          5,
          4,
          3,
          3,
          3,
          5,
          5,
          3,
          3,
          4,
          4,
          3,
          3,
          3,
          3,
          3,
          5,
          4,
          4,
          3,
          17,
          3,
          3,
          3,
          4,
          3,
          4,
          3,
          3,
          3,
          4,
          5,
          5,
          4,
          5,
          6,
          3,
          5,
          5,
          4,
          7,
          7,
          3,
          3,
          5,
          16,
          6,
          6,
          3,
          8,
          3,
          7,
          6,
          5,
          3,
          3,
          4,
          5,
          3,
          8,
          4,
          4,
          3,
          5,
          4,
          10,
          6,
          6,
          4,
          11,
          3,
          4,
          3,
          3,
          4,
          10,
          9,
          4,
          3,
          4,
          4,
          3,
          4,
          4,
          4,
          6,
          3,
          4,
          3,
          3,
          3,
          3,
          4,
          4,
          11,
          6,
          20,
          4,
          5,
          6,
          4,
          3,
          4,
          4,
          4,
          7,
          4,
          3,
          3,
          3,
          3,
          3,
          3,
          5,
          5,
          4,
          3,
          6,
          4,
          5,
          3,
          5,
          5,
          4,
          8,
          8,
          3,
          6,
          7,
          3,
          3,
          3,
          3,
          8,
          5,
          4,
          3,
          3,
          4,
          3,
          4,
          5,
          10,
          3,
          3,
          8,
          4,
          6,
          3,
          3,
          4,
          3,
          3,
          5,
          4,
          4,
          5,
          7,
          4,
          3,
          4,
          5,
          4,
          9,
          4,
          4,
          3,
          5,
          3,
          5,
          3,
          8,
          4,
          12,
          8,
          5,
          18,
          21,
          3,
          9,
          8,
          5,
          3,
          4,
          3,
          3,
          3,
          4,
          3,
          4,
          3,
          3,
          3,
          3,
          3,
          3,
          4,
          3,
          5,
          3,
          3,
          3,
          3,
          3,
          3,
          4,
          3,
          3,
          5,
          4,
          3,
          6,
          3,
          4,
          4,
          3,
          3,
          8,
          3,
          6,
          3,
          5,
          3,
          3,
          3,
          4,
          3,
          5,
          4,
          3,
          4,
          4,
          3,
          4,
          4,
          4,
          7,
          8,
          10,
          3,
          4,
          7,
          4,
          4,
          4,
          3,
          4,
          5,
          4,
          4,
          7,
          7,
          3,
          3,
          8,
          4,
          4,
          4,
          3,
          5,
          3,
          3,
          3,
          4,
          3,
          6,
          3,
          4,
          7,
          3,
          3,
          5,
          4,
          5,
          3,
          3,
          3,
          3,
          3,
          3,
          4,
          3,
          6,
          3,
          4,
          4,
          4,
          3,
          3,
          18,
          5,
          3,
          6,
          4,
          8,
          3,
          6,
          8,
          5,
          3,
          4,
          7,
          4,
          37,
          3,
          6,
          4,
          3,
          3,
          5,
          4,
          3,
          3,
          5,
          3,
          4,
          9,
          5,
          4,
          3,
          3,
          3,
          5,
          4,
          14,
          5,
          3,
          3,
          3,
          4,
          4,
          8,
          7,
          4,
          3,
          6,
          4,
          3,
          7,
          6,
          4,
          8,
          3,
          4,
          7,
          4,
          3,
          3,
          15,
          8,
          3,
          4,
          11,
          5,
          3,
          3,
          5,
          3,
          6,
          3,
          8,
          6,
          3,
          4,
          4,
          3,
          4,
          4,
          3,
          3,
          7,
          4,
          3,
          3,
          3,
          7,
          9,
          3,
          7,
          4,
          4,
          4,
          8,
          4,
          16,
          7,
          10,
          12,
          5,
          5,
          3,
          4,
          3,
          4,
          7,
          3,
          3,
          6,
          6,
          3,
          3,
          6,
          5,
          3,
          3,
          4,
          5,
          3,
          3,
          3,
          4,
          3,
          8,
          4,
          3,
          4,
          3,
          5,
          8,
          4,
          3,
          4,
          4,
          10,
          8,
          4,
          7,
          10,
          7,
          4,
          3,
          3,
          5,
          4,
          4,
          3,
          4,
          6,
          4,
          8,
          5,
          3,
          3,
          9,
          5,
          4,
          4,
          5,
          4,
          4,
          4,
          3,
          4,
          3,
          5,
          7,
          6,
          4,
          3,
          3,
          4,
          9,
          9,
          5,
          4,
          4,
          7,
          8,
          7,
          4,
          3,
          11,
          3,
          22,
          7,
          3,
          12,
          5,
          5,
          4,
          4,
          3,
          3,
          8,
          4,
          3,
          5,
          3,
          4,
          3,
          3,
          5,
          3,
          6,
          8,
          5,
          8,
          8,
          13,
          8,
          4,
          3,
          10,
          3,
          7,
          5,
          4,
          3,
          12,
          3,
          3,
          3,
          3,
          4,
          4,
          4,
          17,
          7,
          5,
          5,
          4,
          17,
          7,
          4,
          5,
          7,
          3,
          6,
          3,
          6,
          5,
          4,
          3,
          3,
          4,
          5,
          4,
          5,
          10,
          9,
          5,
          3,
          3,
          7,
          3,
          4,
          3,
          4,
          4,
          3,
          3,
          6,
          3,
          3,
          4,
          4,
          5,
          4,
          4,
          6,
          3,
          8,
          3,
          7,
          3,
          6,
          5,
          5,
          4,
          4,
          12,
          3,
          3,
          4,
          4,
          3,
          3,
          4,
          4,
          4,
          3,
          4,
          6,
          5,
          6,
          3,
          3,
          11,
          7,
          4,
          3,
          3,
          3,
          3,
          4,
          5,
          4,
          3,
          5,
          3,
          5,
          6,
          3,
          8,
          5,
          6,
          4,
          4,
          3,
          4,
          3,
          4,
          3,
          3,
          3,
          3,
          8,
          4,
          7,
          4,
          4,
          8,
          3,
          3,
          4,
          3,
          3,
          3,
          6,
          4,
          5,
          6,
          3,
          3,
          3,
          3,
          8,
          5,
          5,
          4,
          3,
          5,
          4,
          3,
          4,
          3,
          3,
          3,
          3,
          3,
          6,
          7,
          3,
          3,
          4,
          5,
          5,
          4,
          3,
          8,
          8,
          4,
          7,
          4,
          3,
          3,
          5,
          4,
          20,
          5,
          10,
          3,
          8,
          7,
          4,
          4,
          10,
          3,
          5,
          12,
          6,
          3,
          3,
          3,
          4,
          3,
          5,
          7,
          4,
          4,
          17,
          4,
          4,
          4,
          3,
          4,
          4,
          3,
          5,
          5,
          3,
          3,
          3,
          8,
          3,
          5,
          3,
          4,
          3,
          3,
          3,
          3,
          8,
          5,
          4,
          10,
          3,
          4,
          3,
          7,
          3,
          7,
          6,
          8,
          4,
          5,
          4,
          6,
          3,
          3,
          3,
          3,
          4,
          5,
          4,
          4,
          4,
          5,
          3,
          15,
          3,
          6,
          8,
          8,
          3,
          7,
          3,
          3,
          3,
          7,
          3,
          5,
          8,
          7,
          3,
          5,
          3,
          4,
          8,
          3,
          4,
          6,
          4,
          4,
          6,
          3,
          5,
          5,
          3,
          7,
          4,
          4,
          7,
          3,
          3,
          3,
          4,
          6,
          5,
          3,
          9,
          9,
          7,
          8,
          8,
          3,
          5,
          3,
          3,
          4,
          3,
          5,
          3,
          3,
          3,
          3,
          6,
          4,
          3,
          3,
          14,
          3,
          6,
          4,
          3,
          4,
          4,
          4,
          3,
          3,
          6,
          3,
          3,
          13,
          4,
          5,
          4,
          3,
          10,
          10,
          9,
          7,
          7,
          3,
          5,
          6,
          5,
          6,
          8,
          5,
          7,
          5,
          5,
          8,
          4,
          6,
          3,
          12,
          5,
          3,
          3,
          8,
          3,
          3,
          3,
          4,
          3,
          3,
          10,
          4,
          6,
          3,
          6,
          5,
          3,
          3,
          4,
          3,
          3,
          4,
          5,
          3,
          3,
          3,
          4,
          4,
          10,
          6,
          4,
          3,
          6,
          5,
          8,
          3,
          7,
          3,
          4,
          5,
          6,
          3,
          8,
          5,
          3,
          3,
          3,
          3,
          4,
          8,
          8,
          3,
          3,
          4,
          4,
          4,
          6,
          4,
          4,
          4,
          7,
          7,
          7,
          3,
          3,
          4,
          3,
          5,
          4,
          6,
          4,
          10,
          13,
          3,
          3,
          5,
          8,
          10,
          3,
          5,
          7,
          7,
          3,
          4,
          3,
          3,
          3,
          4,
          4,
          3,
          4,
          6,
          4,
          3,
          4,
          5,
          4,
          7,
          5,
          3,
          7,
          3,
          4,
          3,
          3,
          6,
          3,
          3,
          4,
          8,
          18,
          3,
          6,
          7,
          4,
          3,
          3,
          3,
          6,
          5,
          5,
          4,
          5,
          3,
          4,
          4,
          7,
          3,
          3,
          3,
          3,
          4,
          3,
          3,
          3,
          4,
          4,
          3,
          4,
          10,
          3,
          3,
          3,
          5,
          8,
          3,
          13,
          3,
          3,
          3,
          9,
          12,
          10,
          4,
          3,
          7,
          3,
          7,
          4,
          4,
          6,
          3,
          6,
          3,
          4,
          8,
          11,
          7,
          3,
          3,
          3,
          8,
          3,
          3,
          4,
          4,
          3,
          3,
          3,
          3,
          3,
          5,
          3,
          3,
          4,
          7,
          5,
          4,
          5,
          3,
          4,
          3,
          3,
          5,
          4,
          3,
          8,
          4,
          6,
          5,
          7,
          4,
          5,
          3,
          4,
          4,
          3,
          5,
          4,
          3,
          14,
          3,
          3,
          6,
          3,
          11,
          4,
          3,
          5,
          3,
          3,
          5,
          5,
          6,
          20,
          10,
          7,
          7,
          8,
          8,
          4,
          4,
          3,
          13,
          3,
          10,
          4,
          4,
          8,
          5,
          6,
          5,
          3,
          5,
          4,
          4,
          4,
          8,
          3,
          4,
          5,
          24,
          8,
          5,
          4,
          4,
          7,
          7,
          3,
          8,
          3,
          13,
          7,
          5,
          4,
          9,
          3,
          3,
          3,
          5,
          8,
          8,
          4,
          3,
          4,
          4,
          3,
          4,
          3,
          6,
          4,
          3,
          9,
          3,
          5,
          8,
          5,
          6,
          4,
          25,
          6,
          3,
          8,
          3,
          5,
          5,
          3,
          3,
          16,
          4,
          10,
          6,
          4,
          7,
          4,
          3,
          3,
          6,
          13,
          8,
          6,
          7,
          3,
          4,
          3,
          3,
          7,
          3,
          3,
          8,
          6,
          3,
          3,
          5,
          5,
          3,
          6,
          4,
          3,
          3,
          5,
          3,
          3,
          3,
          3,
          4,
          6,
          8,
          3,
          3,
          5,
          3,
          4,
          4,
          6,
          4,
          3,
          4,
          4,
          3,
          3,
          34,
          3,
          3,
          4,
          4,
          4,
          8,
          3,
          3,
          3,
          3,
          3,
          5,
          3,
          3,
          3,
          3,
          3,
          3,
          8,
          8,
          5,
          3,
          9,
          3,
          3,
          3,
          3,
          3,
          3,
          3,
          4,
          3,
          3,
          4,
          3,
          5,
          3,
          4,
          3,
          4,
          4,
          3,
          3,
          3,
          3,
          6,
          3,
          3,
          3,
          3,
          3,
          4,
          5,
          6,
          4,
          4,
          4,
          5,
          3,
          4,
          7,
          5,
          8,
          3,
          5,
          3,
          7,
          3,
          3,
          3,
          3,
          4,
          3,
          3,
          6,
          4,
          4,
          3,
          3,
          4,
          4,
          4,
          3,
          4,
          5,
          3,
          7,
          3,
          3,
          5,
          6,
          4,
          4,
          4,
          4,
          5,
          3,
          3,
          5,
          3,
          6,
          4,
          17,
          5,
          3,
          3,
          5,
          11,
          5,
          3,
          4,
          7,
          18,
          5,
          3,
          3,
          5,
          7,
          4,
          5,
          4,
          3,
          3,
          4,
          7,
          3,
          3,
          4,
          4,
          4,
          3,
          5,
          11,
          3,
          3,
          4,
          3,
          5,
          5,
          4,
          3,
          5,
          4,
          4,
          9,
          3,
          5,
          9,
          3,
          6,
          3,
          7,
          5,
          4,
          5,
          4,
          3,
          3,
          10,
          6,
          10,
          9,
          30,
          9,
          3,
          8,
          3,
          3,
          9,
          3,
          3,
          8,
          3,
          3,
          3,
          3,
          3,
          3,
          8,
          8,
          6,
          11,
          3,
          3,
          3,
          3,
          3,
          3,
          3,
          5,
          4,
          5,
          3,
          3,
          3,
          4,
          15,
          3,
          3,
          4,
          3,
          3,
          3,
          4,
          3,
          4,
          6,
          3,
          3,
          3,
          6,
          5,
          4,
          3,
          5,
          5,
          4,
          5,
          3,
          4,
          8,
          5,
          4,
          7,
          3,
          3,
          6,
          3,
          4,
          3,
          5,
          4,
          5,
          4,
          4,
          3,
          3,
          3,
          7,
          4,
          6,
          3,
          4,
          3,
          7,
          4,
          4,
          14,
          7,
          5,
          18,
          4,
          11,
          3,
          4,
          4,
          6,
          4,
          3,
          6,
          3,
          7,
          7,
          3,
          6,
          4,
          3,
          12,
          4,
          5,
          5,
          3,
          4,
          5,
          6,
          3,
          8,
          8,
          4,
          3,
          6,
          3,
          4,
          8,
          11,
          4,
          6,
          7,
          3,
          4,
          4,
          9,
          16,
          4,
          3,
          3,
          3,
          3,
          3,
          7,
          5,
          3,
          4,
          3,
          5,
          6,
          6,
          6,
          5,
          4,
          4,
          6,
          5,
          3,
          3,
          3,
          5,
          5,
          3,
          4,
          3,
          3,
          3,
          3,
          3,
          4,
          8,
          3,
          3,
          4,
          3,
          4,
          5,
          4,
          5,
          7,
          3,
          6,
          3,
          9,
          3,
          7,
          3,
          3,
          8,
          7,
          8,
          7,
          3,
          13,
          4,
          3,
          9,
          9,
          3,
          3,
          6,
          5,
          12,
          3,
          6,
          3,
          7,
          7,
          5,
          5,
          6,
          5,
          3,
          3,
          3,
          8,
          4,
          3,
          5,
          7,
          3,
          3,
          7,
          3,
          3,
          4,
          19,
          4,
          6,
          3,
          4,
          5,
          3,
          6,
          3,
          3,
          4,
          3,
          3,
          5,
          4,
          5,
          6,
          4,
          3,
          8,
          8,
          3,
          7,
          6,
          9,
          3,
          3,
          5,
          7,
          4,
          3,
          3,
          10,
          3,
          3,
          4,
          4,
          5,
          3,
          4,
          7,
          4,
          4,
          5,
          4,
          3,
          3,
          4,
          4,
          7,
          4,
          3,
          5,
          5,
          4,
          5,
          3,
          4,
          3,
          5,
          3,
          4,
          8,
          3,
          4,
          10,
          5,
          4,
          3,
          6,
          5,
          5,
          5,
          3,
          3,
          4,
          28,
          6,
          4,
          10,
          17,
          4,
          3,
          6,
          7,
          3,
          5,
          3,
          3,
          3,
          3,
          4,
          12,
          3,
          3,
          3,
          4,
          3,
          4,
          3,
          3,
          4,
          5,
          5,
          7,
          5,
          5,
          7,
          3,
          3,
          9,
          3,
          8,
          7,
          3,
          4,
          3,
          6,
          4,
          3,
          3,
          3,
          7,
          3,
          3,
          5,
          3,
          3,
          16,
          3,
          3,
          4,
          4,
          5,
          5,
          6,
          4,
          3,
          3,
          3,
          7,
          5,
          3,
          3,
          7,
          3,
          7,
          8,
          3,
          3,
          3,
          3,
          7,
          4,
          8,
          8,
          13,
          3,
          6,
          6,
          3,
          4,
          3,
          5,
          3,
          4,
          7,
          4,
          5,
          3,
          3,
          4,
          5,
          5,
          3,
          7,
          4,
          9,
          10,
          17,
          11,
          8,
          8,
          3,
          4,
          3,
          4,
          6,
          3,
          4,
          4,
          4,
          4,
          4,
          3,
          4,
          4,
          9,
          3,
          3,
          5,
          3,
          3,
          3,
          6,
          4,
          5,
          3,
          3,
          4,
          3,
          3,
          12,
          4,
          3,
          10,
          5,
          3,
          4,
          5,
          3,
          5,
          3,
          6,
          4,
          3,
          4,
          5,
          4,
          14,
          3,
          3,
          3,
          4,
          5,
          4,
          3,
          3,
          5,
          5,
          6,
          8,
          5,
          3,
          3,
          3,
          5,
          3,
          3,
          4,
          10,
          4,
          4,
          6,
          3,
          3,
          10,
          3,
          8,
          3,
          8,
          4,
          6,
          3,
          5,
          4,
          7,
          4,
          5,
          9,
          4,
          6,
          5,
          5,
          5,
          6,
          3,
          8,
          3,
          3,
          4,
          5,
          4,
          4,
          3,
          3,
          7,
          4,
          6,
          7,
          6,
          3,
          4,
          3,
          3,
          4,
          3,
          4,
          3,
          5,
          4,
          4,
          4,
          11,
          5,
          4,
          3,
          3,
          5,
          3,
          4,
          3,
          7,
          7,
          11,
          4,
          4,
          12,
          4,
          6,
          4,
          5,
          4,
          4,
          11,
          5,
          4,
          3,
          3,
          6,
          4,
          7,
          9,
          3,
          3,
          3,
          4,
          3,
          3,
          5,
          4,
          9,
          3,
          3,
          3,
          4,
          4,
          3,
          3,
          3,
          3,
          8,
          17,
          8,
          3,
          4,
          5,
          4,
          4,
          3,
          4,
          4,
          4,
          10,
          4,
          3,
          3,
          5,
          4,
          4,
          6,
          5,
          13,
          6,
          3,
          7,
          3,
          7,
          5,
          3,
          9,
          5,
          3,
          3,
          8,
          6,
          3,
          5,
          4,
          3,
          3,
          5,
          5,
          4,
          4,
          6,
          3,
          3,
          4,
          5,
          5,
          11,
          6,
          3,
          3,
          6,
          3,
          5,
          3,
          3,
          3,
          3,
          3,
          3,
          5,
          3,
          6,
          4,
          3,
          3,
          6,
          3,
          3,
          3,
          3,
          3,
          3,
          5,
          4,
          5,
          5,
          6,
          4,
          5,
          3,
          4,
          3,
          4,
          5,
          3,
          6,
          5,
          5,
          9,
          8,
          6,
          3,
          3,
          4,
          4,
          6,
          5,
          7,
          3,
          3,
          3,
          3,
          3,
          4,
          4,
          5,
          5,
          9,
          3,
          10,
          4,
          3,
          3,
          6,
          3,
          7,
          4,
          7,
          3,
          4,
          6,
          7,
          3,
          5,
          3,
          3,
          4,
          3,
          3,
          6,
          4,
          6,
          5,
          4,
          4,
          9,
          3,
          4,
          3,
          3,
          5,
          3,
          6,
          4,
          4,
          36,
          5,
          5,
          3,
          19,
          3,
          3,
          6,
          4,
          6,
          13,
          4,
          4,
          7,
          8,
          4,
          3,
          5,
          5,
          3,
          4,
          4,
          9,
          6,
          5,
          3,
          3,
          3,
          4,
          3,
          3,
          4,
          3,
          5,
          3,
          5,
          6,
          4,
          6,
          3,
          5,
          3,
          3,
          7,
          4,
          3,
          4,
          3,
          3,
          3,
          3,
          4,
          3,
          4,
          3,
          4,
          5,
          13,
          3,
          5,
          3,
          3,
          4,
          7,
          3,
          3,
          6,
          3,
          5,
          3,
          9,
          4,
          3,
          3,
          4,
          4,
          4,
          3,
          3,
          3,
          3,
          5,
          7,
          4,
          6,
          3,
          3,
          9,
          4,
          3,
          6,
          3,
          4,
          3,
          3,
          14,
          3,
          3,
          3,
          8,
          4,
          3,
          3,
          12,
          3,
          3,
          8,
          3,
          5,
          5,
          5,
          14,
          4,
          5,
          4,
          3,
          3,
          5,
          3,
          3,
          3,
          3,
          3,
          13,
          3,
          4,
          3,
          3,
          3,
          3,
          3,
          3,
          4,
          5,
          4,
          4,
          5,
          4,
          3,
          3,
          7,
          8,
          6,
          3,
          4,
          6,
          4,
          54,
          3,
          3,
          3,
          6,
          7,
          4,
          8,
          8,
          6,
          3,
          8,
          6,
          10,
          6,
          11,
          6,
          3,
          4,
          3,
          3,
          6,
          7,
          5,
          3,
          4,
          3,
          3,
          3,
          5,
          5,
          5,
          3,
          15,
          19,
          6,
          4,
          13,
          6,
          9,
          5,
          3,
          4,
          3,
          3,
          6,
          6,
          5,
          4,
          4,
          3,
          6,
          3,
          3,
          7,
          3,
          5,
          5,
          3,
          3,
          5,
          3,
          4,
          3,
          7,
          8,
          7,
          3,
          7,
          3,
          3,
          4,
          3,
          3,
          5,
          3,
          3,
          3,
          3,
          4,
          3,
          3,
          5,
          4,
          3,
          8,
          3,
          3,
          4,
          4,
          4,
          3,
          6,
          4,
          4,
          4,
          3,
          4,
          4,
          6,
          4,
          5,
          3,
          3,
          7,
          7,
          5,
          5,
          4,
          6,
          4,
          4,
          5,
          3,
          3,
          4,
          4,
          3,
          9,
          3,
          7,
          9,
          4,
          3,
          9,
          3,
          4,
          4,
          4,
          3,
          3,
          3,
          6,
          4,
          8,
          5,
          4,
          4,
          5,
          3,
          5,
          8,
          3,
          3,
          5,
          4,
          5,
          6,
          3,
          4,
          4,
          3,
          3,
          4,
          6,
          3,
          7,
          4,
          5,
          3,
          4,
          4,
          3,
          3,
          7,
          3,
          3,
          4,
          3,
          7,
          3,
          4,
          4,
          4,
          4,
          7,
          7,
          8,
          3,
          8,
          3,
          3,
          3,
          14,
          8,
          3,
          3,
          6,
          4,
          3,
          3,
          3,
          4,
          4,
          3,
          10,
          3,
          8,
          4,
          3,
          4,
          4,
          3,
          3,
          3,
          3,
          3,
          5,
          3,
          7,
          4,
          3,
          3,
          3,
          3,
          7,
          4,
          3,
          3,
          3,
          8,
          6,
          4,
          3,
          4,
          3,
          4,
          5,
          8,
          3,
          4,
          4,
          3,
          3,
          3,
          6,
          5,
          4,
          5,
          3,
          7,
          9,
          7,
          6,
          3,
          4,
          3,
          15,
          7,
          4,
          3,
          12,
          5,
          3,
          5,
          4,
          5,
          4,
          3,
          3,
          4,
          4,
          4,
          8,
          3,
          4,
          5,
          4,
          6,
          5,
          3,
          6,
          6,
          7,
          3,
          4,
          4,
          8,
          18,
          3,
          4,
          3,
          4,
          6,
          7,
          3,
          7,
          4,
          5,
          4,
          3,
          3,
          5,
          5,
          4,
          3,
          4,
          10,
          3,
          5,
          7,
          4,
          4,
          4,
          6,
          3,
          6,
          4,
          10,
          27,
          9,
          3,
          3,
          9,
          10,
          3,
          6,
          8,
          8,
          4,
          4,
          5,
          21,
          6,
          3,
          4,
          3,
          4,
          4,
          3,
          3,
          3,
          3,
          3,
          4,
          4,
          9,
          3,
          6,
          6,
          4,
          4,
          5,
          4,
          5,
          3,
          3,
          6,
          3,
          5,
          6,
          8,
          10,
          3,
          4,
          7,
          3,
          4,
          4,
          3,
          3,
          7,
          6,
          3,
          6,
          3,
          7,
          3,
          4,
          3,
          5,
          5,
          5,
          8,
          9,
          3,
          7,
          3,
          7,
          3,
          6,
          3,
          3,
          8,
          3,
          3,
          5,
          3,
          3,
          3,
          6,
          6,
          3,
          3,
          4,
          4,
          9,
          3,
          6,
          4,
          11,
          3,
          3,
          3,
          4,
          4,
          3,
          4,
          3,
          12,
          3,
          4,
          4,
          8,
          3,
          7,
          5,
          6,
          5,
          3,
          3,
          4,
          3,
          3,
          4,
          20,
          4,
          3,
          3,
          8,
          8,
          5,
          4,
          4,
          4,
          13,
          7,
          8,
          5,
          4,
          8,
          4,
          10,
          3,
          5,
          11,
          4,
          3,
          4,
          3,
          4,
          3,
          3,
          3,
          3,
          8,
          8,
          5,
          3,
          3,
          8,
          9,
          8,
          6,
          3,
          6,
          3,
          3,
          4,
          5,
          3,
          4,
          6,
          5,
          5,
          4,
          5,
          8,
          3,
          3,
          12,
          6,
          8,
          23,
          3,
          18,
          5,
          5,
          4,
          5,
          3,
          8,
          5,
          3,
          3,
          9,
          3,
          3,
          5,
          7,
          4,
          3,
          3,
          3,
          6,
          3,
          4,
          3,
          3,
          3,
          5,
          3,
          4,
          3,
          3,
          5,
          5,
          5,
          6,
          4,
          4,
          4,
          4,
          3,
          3,
          12,
          3,
          6,
          4,
          4,
          5,
          3,
          5,
          5,
          3,
          3,
          4,
          3,
          3,
          4,
          3,
          7,
          4,
          6,
          4,
          6,
          3,
          4,
          5,
          3,
          3,
          3,
          3,
          3,
          9,
          3,
          4,
          4,
          4,
          5,
          5,
          4,
          3,
          6,
          5,
          3,
          3,
          8,
          6,
          3,
          6,
          3,
          4,
          5,
          6,
          5,
          3,
          6,
          7,
          9,
          3,
          7,
          3,
          6,
          4,
          3,
          7,
          8,
          3,
          5,
          9,
          6,
          5,
          6,
          5,
          4,
          3,
          4,
          3,
          4,
          4,
          4,
          3,
          8,
          8,
          3,
          3,
          3,
          3,
          3,
          3,
          5,
          5,
          4,
          3,
          7,
          4,
          3,
          6,
          5,
          4,
          3,
          5,
          4,
          3,
          4,
          8,
          4,
          4,
          3,
          8,
          8,
          3,
          8,
          5,
          3,
          4,
          8,
          3,
          6,
          8,
          4,
          4,
          3,
          8,
          8,
          3,
          3,
          4,
          6,
          3,
          4,
          4,
          5,
          4,
          4,
          6,
          3,
          4,
          5,
          3,
          3,
          3,
          3,
          3,
          8,
          10,
          6,
          4,
          9,
          4,
          4,
          5,
          3,
          5,
          3,
          7,
          4,
          4,
          4,
          4,
          6,
          3,
          8,
          5,
          5,
          3,
          5,
          4,
          4,
          5,
          3,
          3,
          4,
          11,
          8,
          6,
          3,
          7,
          7,
          5,
          5,
          3,
          9,
          3,
          7,
          8,
          3,
          7,
          3,
          3,
          4,
          3,
          4,
          3,
          6,
          5,
          3,
          5,
          4,
          7,
          3,
          3,
          3,
          4,
          4,
          4,
          6,
          3,
          3,
          3,
          3,
          3,
          3,
          4,
          3,
          3,
          3,
          3,
          3,
          3,
          4,
          7,
          3,
          7,
          4,
          3,
          3,
          5,
          8,
          8,
          3,
          3,
          13,
          11,
          5,
          7,
          8,
          4,
          4,
          17,
          5,
          4,
          3,
          4,
          4,
          5,
          3,
          3,
          3,
          3,
          4,
          3,
          4,
          6,
          6,
          3,
          4,
          3,
          3,
          4,
          3,
          3,
          6,
          4,
          4,
          3,
          3,
          9,
          9,
          6,
          4,
          7,
          11,
          3,
          3,
          3,
          3,
          3,
          3,
          3,
          4,
          3,
          6,
          5,
          3,
          4,
          6,
          3,
          3,
          4,
          3,
          4,
          5,
          7,
          4,
          7,
          3,
          3,
          3,
          6,
          6,
          3,
          3,
          10,
          3,
          4,
          4,
          3,
          4,
          7,
          7,
          3,
          5,
          4,
          5,
          3,
          5,
          5,
          4,
          5,
          7,
          7,
          3,
          5,
          6,
          8,
          3,
          6,
          3,
          7,
          5,
          8,
          6,
          7,
          5,
          11,
          3,
          3,
          3,
          6,
          6,
          5,
          5,
          3,
          3,
          4,
          6,
          3,
          3,
          5,
          6,
          5,
          3,
          9,
          7,
          6,
          3,
          8,
          4,
          4,
          3,
          4,
          4,
          3,
          3,
          3,
          3,
          7,
          3,
          3,
          3,
          4,
          3,
          3,
          3,
          4,
          4,
          4,
          4,
          3,
          4,
          3,
          3,
          4,
          3,
          5,
          3,
          5,
          6,
          8,
          6,
          3,
          8,
          5,
          8,
          3,
          4,
          3,
          3,
          3,
          4,
          3,
          3,
          4,
          4,
          4,
          5,
          5,
          3,
          5,
          4,
          4,
          3,
          3,
          17,
          14,
          4,
          4,
          4,
          7,
          3,
          3,
          5,
          4,
          3,
          4,
          5,
          4,
          10,
          5,
          9,
          6,
          5,
          7,
          4,
          4,
          9,
          5,
          3,
          4,
          4,
          4,
          4,
          7,
          4,
          4,
          5,
          4,
          3,
          3,
          4,
          4,
          3,
          9,
          7,
          8,
          3,
          3,
          3,
          3,
          5,
          3,
          4,
          5,
          3,
          4,
          5,
          8,
          5,
          4,
          7,
          3,
          3,
          3,
          5,
          3,
          8,
          4,
          5,
          6,
          5,
          4,
          5,
          3,
          5,
          3,
          6,
          3,
          4,
          3,
          3,
          5,
          6,
          7,
          3,
          4,
          4,
          4,
          3,
          4,
          4,
          3,
          4,
          4,
          6,
          7,
          6,
          3,
          3,
          5,
          8,
          6,
          5,
          8,
          3,
          34,
          5,
          6,
          20,
          7,
          6,
          3,
          8,
          5,
          3,
          10,
          3,
          5,
          5,
          4,
          3,
          4,
          5,
          3,
          3,
          3,
          3,
          4,
          5,
          3,
          5,
          3,
          3,
          11,
          5,
          3,
          12,
          5,
          3,
          3,
          7,
          3,
          11,
          3,
          3,
          3,
          5,
          3,
          3,
          4,
          3,
          3,
          3,
          5,
          3,
          3,
          5,
          6,
          4,
          4,
          7,
          3,
          5,
          3,
          12,
          5,
          3,
          5,
          4,
          3,
          3,
          3,
          3,
          3,
          7,
          3,
          7,
          11,
          10,
          3,
          4,
          37,
          9,
          4,
          4,
          4,
          7,
          3,
          8,
          4,
          6,
          5,
          6,
          7,
          4,
          4,
          4,
          3,
          4,
          3,
          4,
          4,
          3,
          3,
          3,
          3,
          3,
          4,
          3,
          3,
          3,
          3,
          3,
          3,
          3,
          3,
          3,
          5,
          3,
          3,
          3,
          3,
          3,
          3,
          6,
          3,
          3,
          7,
          3,
          3,
          8,
          4,
          5,
          4,
          8,
          3,
          7,
          10,
          14,
          3,
          4,
          4,
          9,
          7,
          4,
          3,
          4,
          3,
          8,
          3,
          4,
          6,
          3,
          4,
          5,
          5,
          3,
          3,
          3,
          3,
          5,
          3,
          9,
          5,
          3,
          4,
          3,
          4,
          8,
          3,
          4,
          3,
          5,
          4,
          8,
          3,
          8,
          8,
          5,
          3,
          4,
          4,
          8,
          4,
          4,
          4,
          3,
          3,
          4,
          3,
          3,
          3,
          4,
          3,
          4,
          6,
          7,
          9,
          16,
          8,
          3,
          3,
          3,
          4,
          3,
          3,
          3,
          4,
          4,
          4,
          4,
          3,
          3,
          4,
          9
         ],
         "y0": " ",
         "yaxis": "y"
        }
       ],
       "layout": {
        "boxmode": "group",
        "height": 1400,
        "legend": {
         "tracegroupgap": 0
        },
        "margin": {
         "t": 60
        },
        "template": {
         "data": {
          "bar": [
           {
            "error_x": {
             "color": "#2a3f5f"
            },
            "error_y": {
             "color": "#2a3f5f"
            },
            "marker": {
             "line": {
              "color": "#E5ECF6",
              "width": 0.5
             },
             "pattern": {
              "fillmode": "overlay",
              "size": 10,
              "solidity": 0.2
             }
            },
            "type": "bar"
           }
          ],
          "barpolar": [
           {
            "marker": {
             "line": {
              "color": "#E5ECF6",
              "width": 0.5
             },
             "pattern": {
              "fillmode": "overlay",
              "size": 10,
              "solidity": 0.2
             }
            },
            "type": "barpolar"
           }
          ],
          "carpet": [
           {
            "aaxis": {
             "endlinecolor": "#2a3f5f",
             "gridcolor": "white",
             "linecolor": "white",
             "minorgridcolor": "white",
             "startlinecolor": "#2a3f5f"
            },
            "baxis": {
             "endlinecolor": "#2a3f5f",
             "gridcolor": "white",
             "linecolor": "white",
             "minorgridcolor": "white",
             "startlinecolor": "#2a3f5f"
            },
            "type": "carpet"
           }
          ],
          "choropleth": [
           {
            "colorbar": {
             "outlinewidth": 0,
             "ticks": ""
            },
            "type": "choropleth"
           }
          ],
          "contour": [
           {
            "colorbar": {
             "outlinewidth": 0,
             "ticks": ""
            },
            "colorscale": [
             [
              0,
              "#0d0887"
             ],
             [
              0.1111111111111111,
              "#46039f"
             ],
             [
              0.2222222222222222,
              "#7201a8"
             ],
             [
              0.3333333333333333,
              "#9c179e"
             ],
             [
              0.4444444444444444,
              "#bd3786"
             ],
             [
              0.5555555555555556,
              "#d8576b"
             ],
             [
              0.6666666666666666,
              "#ed7953"
             ],
             [
              0.7777777777777778,
              "#fb9f3a"
             ],
             [
              0.8888888888888888,
              "#fdca26"
             ],
             [
              1,
              "#f0f921"
             ]
            ],
            "type": "contour"
           }
          ],
          "contourcarpet": [
           {
            "colorbar": {
             "outlinewidth": 0,
             "ticks": ""
            },
            "type": "contourcarpet"
           }
          ],
          "heatmap": [
           {
            "colorbar": {
             "outlinewidth": 0,
             "ticks": ""
            },
            "colorscale": [
             [
              0,
              "#0d0887"
             ],
             [
              0.1111111111111111,
              "#46039f"
             ],
             [
              0.2222222222222222,
              "#7201a8"
             ],
             [
              0.3333333333333333,
              "#9c179e"
             ],
             [
              0.4444444444444444,
              "#bd3786"
             ],
             [
              0.5555555555555556,
              "#d8576b"
             ],
             [
              0.6666666666666666,
              "#ed7953"
             ],
             [
              0.7777777777777778,
              "#fb9f3a"
             ],
             [
              0.8888888888888888,
              "#fdca26"
             ],
             [
              1,
              "#f0f921"
             ]
            ],
            "type": "heatmap"
           }
          ],
          "heatmapgl": [
           {
            "colorbar": {
             "outlinewidth": 0,
             "ticks": ""
            },
            "colorscale": [
             [
              0,
              "#0d0887"
             ],
             [
              0.1111111111111111,
              "#46039f"
             ],
             [
              0.2222222222222222,
              "#7201a8"
             ],
             [
              0.3333333333333333,
              "#9c179e"
             ],
             [
              0.4444444444444444,
              "#bd3786"
             ],
             [
              0.5555555555555556,
              "#d8576b"
             ],
             [
              0.6666666666666666,
              "#ed7953"
             ],
             [
              0.7777777777777778,
              "#fb9f3a"
             ],
             [
              0.8888888888888888,
              "#fdca26"
             ],
             [
              1,
              "#f0f921"
             ]
            ],
            "type": "heatmapgl"
           }
          ],
          "histogram": [
           {
            "marker": {
             "pattern": {
              "fillmode": "overlay",
              "size": 10,
              "solidity": 0.2
             }
            },
            "type": "histogram"
           }
          ],
          "histogram2d": [
           {
            "colorbar": {
             "outlinewidth": 0,
             "ticks": ""
            },
            "colorscale": [
             [
              0,
              "#0d0887"
             ],
             [
              0.1111111111111111,
              "#46039f"
             ],
             [
              0.2222222222222222,
              "#7201a8"
             ],
             [
              0.3333333333333333,
              "#9c179e"
             ],
             [
              0.4444444444444444,
              "#bd3786"
             ],
             [
              0.5555555555555556,
              "#d8576b"
             ],
             [
              0.6666666666666666,
              "#ed7953"
             ],
             [
              0.7777777777777778,
              "#fb9f3a"
             ],
             [
              0.8888888888888888,
              "#fdca26"
             ],
             [
              1,
              "#f0f921"
             ]
            ],
            "type": "histogram2d"
           }
          ],
          "histogram2dcontour": [
           {
            "colorbar": {
             "outlinewidth": 0,
             "ticks": ""
            },
            "colorscale": [
             [
              0,
              "#0d0887"
             ],
             [
              0.1111111111111111,
              "#46039f"
             ],
             [
              0.2222222222222222,
              "#7201a8"
             ],
             [
              0.3333333333333333,
              "#9c179e"
             ],
             [
              0.4444444444444444,
              "#bd3786"
             ],
             [
              0.5555555555555556,
              "#d8576b"
             ],
             [
              0.6666666666666666,
              "#ed7953"
             ],
             [
              0.7777777777777778,
              "#fb9f3a"
             ],
             [
              0.8888888888888888,
              "#fdca26"
             ],
             [
              1,
              "#f0f921"
             ]
            ],
            "type": "histogram2dcontour"
           }
          ],
          "mesh3d": [
           {
            "colorbar": {
             "outlinewidth": 0,
             "ticks": ""
            },
            "type": "mesh3d"
           }
          ],
          "parcoords": [
           {
            "line": {
             "colorbar": {
              "outlinewidth": 0,
              "ticks": ""
             }
            },
            "type": "parcoords"
           }
          ],
          "pie": [
           {
            "automargin": true,
            "type": "pie"
           }
          ],
          "scatter": [
           {
            "fillpattern": {
             "fillmode": "overlay",
             "size": 10,
             "solidity": 0.2
            },
            "type": "scatter"
           }
          ],
          "scatter3d": [
           {
            "line": {
             "colorbar": {
              "outlinewidth": 0,
              "ticks": ""
             }
            },
            "marker": {
             "colorbar": {
              "outlinewidth": 0,
              "ticks": ""
             }
            },
            "type": "scatter3d"
           }
          ],
          "scattercarpet": [
           {
            "marker": {
             "colorbar": {
              "outlinewidth": 0,
              "ticks": ""
             }
            },
            "type": "scattercarpet"
           }
          ],
          "scattergeo": [
           {
            "marker": {
             "colorbar": {
              "outlinewidth": 0,
              "ticks": ""
             }
            },
            "type": "scattergeo"
           }
          ],
          "scattergl": [
           {
            "marker": {
             "colorbar": {
              "outlinewidth": 0,
              "ticks": ""
             }
            },
            "type": "scattergl"
           }
          ],
          "scattermapbox": [
           {
            "marker": {
             "colorbar": {
              "outlinewidth": 0,
              "ticks": ""
             }
            },
            "type": "scattermapbox"
           }
          ],
          "scatterpolar": [
           {
            "marker": {
             "colorbar": {
              "outlinewidth": 0,
              "ticks": ""
             }
            },
            "type": "scatterpolar"
           }
          ],
          "scatterpolargl": [
           {
            "marker": {
             "colorbar": {
              "outlinewidth": 0,
              "ticks": ""
             }
            },
            "type": "scatterpolargl"
           }
          ],
          "scatterternary": [
           {
            "marker": {
             "colorbar": {
              "outlinewidth": 0,
              "ticks": ""
             }
            },
            "type": "scatterternary"
           }
          ],
          "surface": [
           {
            "colorbar": {
             "outlinewidth": 0,
             "ticks": ""
            },
            "colorscale": [
             [
              0,
              "#0d0887"
             ],
             [
              0.1111111111111111,
              "#46039f"
             ],
             [
              0.2222222222222222,
              "#7201a8"
             ],
             [
              0.3333333333333333,
              "#9c179e"
             ],
             [
              0.4444444444444444,
              "#bd3786"
             ],
             [
              0.5555555555555556,
              "#d8576b"
             ],
             [
              0.6666666666666666,
              "#ed7953"
             ],
             [
              0.7777777777777778,
              "#fb9f3a"
             ],
             [
              0.8888888888888888,
              "#fdca26"
             ],
             [
              1,
              "#f0f921"
             ]
            ],
            "type": "surface"
           }
          ],
          "table": [
           {
            "cells": {
             "fill": {
              "color": "#EBF0F8"
             },
             "line": {
              "color": "white"
             }
            },
            "header": {
             "fill": {
              "color": "#C8D4E3"
             },
             "line": {
              "color": "white"
             }
            },
            "type": "table"
           }
          ]
         },
         "layout": {
          "annotationdefaults": {
           "arrowcolor": "#2a3f5f",
           "arrowhead": 0,
           "arrowwidth": 1
          },
          "autotypenumbers": "strict",
          "coloraxis": {
           "colorbar": {
            "outlinewidth": 0,
            "ticks": ""
           }
          },
          "colorscale": {
           "diverging": [
            [
             0,
             "#8e0152"
            ],
            [
             0.1,
             "#c51b7d"
            ],
            [
             0.2,
             "#de77ae"
            ],
            [
             0.3,
             "#f1b6da"
            ],
            [
             0.4,
             "#fde0ef"
            ],
            [
             0.5,
             "#f7f7f7"
            ],
            [
             0.6,
             "#e6f5d0"
            ],
            [
             0.7,
             "#b8e186"
            ],
            [
             0.8,
             "#7fbc41"
            ],
            [
             0.9,
             "#4d9221"
            ],
            [
             1,
             "#276419"
            ]
           ],
           "sequential": [
            [
             0,
             "#0d0887"
            ],
            [
             0.1111111111111111,
             "#46039f"
            ],
            [
             0.2222222222222222,
             "#7201a8"
            ],
            [
             0.3333333333333333,
             "#9c179e"
            ],
            [
             0.4444444444444444,
             "#bd3786"
            ],
            [
             0.5555555555555556,
             "#d8576b"
            ],
            [
             0.6666666666666666,
             "#ed7953"
            ],
            [
             0.7777777777777778,
             "#fb9f3a"
            ],
            [
             0.8888888888888888,
             "#fdca26"
            ],
            [
             1,
             "#f0f921"
            ]
           ],
           "sequentialminus": [
            [
             0,
             "#0d0887"
            ],
            [
             0.1111111111111111,
             "#46039f"
            ],
            [
             0.2222222222222222,
             "#7201a8"
            ],
            [
             0.3333333333333333,
             "#9c179e"
            ],
            [
             0.4444444444444444,
             "#bd3786"
            ],
            [
             0.5555555555555556,
             "#d8576b"
            ],
            [
             0.6666666666666666,
             "#ed7953"
            ],
            [
             0.7777777777777778,
             "#fb9f3a"
            ],
            [
             0.8888888888888888,
             "#fdca26"
            ],
            [
             1,
             "#f0f921"
            ]
           ]
          },
          "colorway": [
           "#636efa",
           "#EF553B",
           "#00cc96",
           "#ab63fa",
           "#FFA15A",
           "#19d3f3",
           "#FF6692",
           "#B6E880",
           "#FF97FF",
           "#FECB52"
          ],
          "font": {
           "color": "#2a3f5f"
          },
          "geo": {
           "bgcolor": "white",
           "lakecolor": "white",
           "landcolor": "#E5ECF6",
           "showlakes": true,
           "showland": true,
           "subunitcolor": "white"
          },
          "hoverlabel": {
           "align": "left"
          },
          "hovermode": "closest",
          "mapbox": {
           "style": "light"
          },
          "paper_bgcolor": "white",
          "plot_bgcolor": "#E5ECF6",
          "polar": {
           "angularaxis": {
            "gridcolor": "white",
            "linecolor": "white",
            "ticks": ""
           },
           "bgcolor": "#E5ECF6",
           "radialaxis": {
            "gridcolor": "white",
            "linecolor": "white",
            "ticks": ""
           }
          },
          "scene": {
           "xaxis": {
            "backgroundcolor": "#E5ECF6",
            "gridcolor": "white",
            "gridwidth": 2,
            "linecolor": "white",
            "showbackground": true,
            "ticks": "",
            "zerolinecolor": "white"
           },
           "yaxis": {
            "backgroundcolor": "#E5ECF6",
            "gridcolor": "white",
            "gridwidth": 2,
            "linecolor": "white",
            "showbackground": true,
            "ticks": "",
            "zerolinecolor": "white"
           },
           "zaxis": {
            "backgroundcolor": "#E5ECF6",
            "gridcolor": "white",
            "gridwidth": 2,
            "linecolor": "white",
            "showbackground": true,
            "ticks": "",
            "zerolinecolor": "white"
           }
          },
          "shapedefaults": {
           "line": {
            "color": "#2a3f5f"
           }
          },
          "ternary": {
           "aaxis": {
            "gridcolor": "white",
            "linecolor": "white",
            "ticks": ""
           },
           "baxis": {
            "gridcolor": "white",
            "linecolor": "white",
            "ticks": ""
           },
           "bgcolor": "#E5ECF6",
           "caxis": {
            "gridcolor": "white",
            "linecolor": "white",
            "ticks": ""
           }
          },
          "title": {
           "x": 0.05
          },
          "xaxis": {
           "automargin": true,
           "gridcolor": "white",
           "linecolor": "white",
           "ticks": "",
           "title": {
            "standoff": 15
           },
           "zerolinecolor": "white",
           "zerolinewidth": 2
          },
          "yaxis": {
           "automargin": true,
           "gridcolor": "white",
           "linecolor": "white",
           "ticks": "",
           "title": {
            "standoff": 15
           },
           "zerolinecolor": "white",
           "zerolinewidth": 2
          }
         }
        },
        "width": 1200,
        "xaxis": {
         "anchor": "y",
         "domain": [
          0,
          1
         ]
        },
        "yaxis": {
         "anchor": "x",
         "domain": [
          0,
          1
         ],
         "title": {
          "text": "Number of words"
         }
        }
       }
      }
     },
     "metadata": {},
     "output_type": "display_data"
    }
   ],
   "source": [
    "import plotly.express as px\n",
    "df = px.data.tips()\n",
    "\n",
    "only_explained_translations[\"Number of words\"] =only_explained_translations[\"English\"].str.split(pat=\" \").apply(len)\n",
    "\n",
    "fig = px.box(only_explained_translations, y=\"Number of words\", \n",
    "                hover_name=\"Hanan Runasimi\", hover_data=[\"Hanan Runasimi\", \"English\"], points=\"all\", width=1200, height=1400)\n",
    "fig.show()\n",
    "\n"
   ]
  },
  {
   "cell_type": "code",
   "execution_count": 7,
   "metadata": {},
   "outputs": [
    {
     "data": {
      "image/png": "[encoded data removed]",
      "text/plain": [
       "<Figure size 432x288 with 1 Axes>"
      ]
     },
     "metadata": {
      "needs_background": "light"
     },
     "output_type": "display_data"
    }
   ],
   "source": [
    "import matplotlib.pyplot as plt\n",
    "from wordcloud import WordCloud\n",
    "import re\n",
    "\n",
    "\n",
    "def cleanhtml(raw_html):\n",
    "    #CLEANR = re.compile('<.*?>|&([a-z0-9]+|#[0-9]{1,6}|#x[0-9a-f]{1,6});')\n",
    "    CLEANR = re.compile('\\|*\\n') \n",
    "\n",
    "    cleantext = re.sub(CLEANR, '', raw_html)\n",
    "    return cleantext\n",
    "\n",
    "corpus= \"\"\n",
    "for text in texts:\n",
    "    corpus+= \" {}\".format(text)\n",
    "\n",
    "corpus= cleanhtml(corpus)\n",
    "\n",
    "word_cloud = WordCloud(collocations = False, background_color = 'white').generate(corpus)\n",
    "\n",
    "plt.imshow(word_cloud, interpolation='bilinear')\n",
    "plt.axis(\"off\")\n",
    "plt.show()"
   ]
  },
  {
   "cell_type": "code",
   "execution_count": 36,
   "metadata": {},
   "outputs": [
    {
     "name": "stdout",
     "output_type": "stream",
     "text": [
      "(40, 51)\n"
     ]
    }
   ],
   "source": [
    "\n",
    "comma_words= original_data[original_data['Hanan Runasimi'].str.contains(',')]\n",
    "semicolom_words= original_data[original_data['Hanan Runasimi'].str.contains(';')]\n",
    "braquets_words= original_data[original_data['Hanan Runasimi'].str.contains('\\(')]\n"
   ]
  }
 ],
 "metadata": {
  "interpreter": {
   "hash": "fd577a60188b899a18a110c9e124551d3029876616ba59f9815838e302c1d181"
  },
  "kernelspec": {
   "display_name": "Python 3.10.4 ('.venv': venv)",
   "language": "python",
   "name": "python3"
  },
  "language_info": {
   "codemirror_mode": {
    "name": "ipython",
    "version": 3
   },
   "file_extension": ".py",
   "mimetype": "text/x-python",
   "name": "python",
   "nbconvert_exporter": "python",
   "pygments_lexer": "ipython3",
   "version": "3.10.4"
  },
  "orig_nbformat": 4
 },
 "nbformat": 4,
 "nbformat_minor": 2
}
